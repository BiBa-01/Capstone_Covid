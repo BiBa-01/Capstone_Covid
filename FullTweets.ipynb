{
 "cells": [
  {
   "cell_type": "markdown",
   "id": "private-consumption",
   "metadata": {},
   "source": [
    "# Vaccination Tweets: EDA, Sentiment Analyis\n",
    "\n",
    "Agenda:\n",
    "+ Frequency\n",
    "    + most frequent words in tweets\n",
    "    + look at most popular hashtags (in 'text' and in 'hashtags')\n",
    "    + what is the most tweeted-about vaccine?\n",
    "+ Time\n",
    "    + Which vaccine \"trends\" in tweets? (time series)\n",
    "    + Do different vaccines trend at different times as tweet subjects?\n",
    "\n",
    "+ Sentiment\n",
    "    + vaccine most closely connected to negative/positive sentiment\n",
    "    + most influential sources who tweet positive/negative/neutral about vaccines in general\n",
    "    + locations (uncleared) with the most positive, negative, neutral tweets\n",
    "    + Positive, negative, neutral: which gets more retweets / are liked more?\n",
    "\n",
    "(Measuring general attitude via tweets: how many people tweet by population, how many by population tweet about vaccines, how well are vaccinations monitored)"
   ]
  },
  {
   "cell_type": "markdown",
   "id": "corresponding-phase",
   "metadata": {},
   "source": [
    "+ id:\n",
    "+ user_name:\n",
    "+ user_location: entered by user\n",
    "+ user_description: entered by user\n",
    "+ user_created: date of when the account was opened\n",
    "+ user_followers: number of users which follow a specified user\n",
    "+ user_friends: number of users which a specified user follows\n",
    "+ user_favourites: \n",
    "+ user_verified: accounts of officially recognized organizations, users with many followers\n",
    "+ date: date of tweet\n",
    "+ text: text of the tweet\n",
    "+ hashtags: hashtags user in the tweet\n",
    "+ source: \n",
    "+ retweets: number of retweets\n",
    "+ favorites:\n",
    "+ is_retweet: whether the tweets is a retweet or not\n",
    "\n",
    "Added:\n",
    "+ day: "
   ]
  },
  {
   "cell_type": "code",
   "execution_count": 782,
   "id": "featured-brain",
   "metadata": {},
   "outputs": [],
   "source": [
    "# Main data packages. \n",
    "import numpy as np\n",
    "import pandas as pd\n",
    "from datetime import datetime\n",
    "\n",
    "import pickle\n",
    "\n",
    "#text processing, NLP modules\n",
    "import re\n",
    "import string\n",
    "import nltk\n",
    "from nltk.corpus import stopwords\n",
    "from nltk.stem.porter import *\n",
    "from nltk.stem import WordNetLemmatizer\n",
    "from nltk.tokenize import word_tokenize\n",
    "\n",
    "#sentiment analysis\n",
    "from nltk.sentiment import SentimentIntensityAnalyzer\n",
    "from sklearn.feature_extraction.text import CountVectorizer\n",
    "#plotting\n",
    "import seaborn as sns\n",
    "import matplotlib.pyplot as plt\n",
    "\n",
    "import plotly.express as px\n",
    "\n",
    "import warnings\n",
    "warnings.filterwarnings('ignore')"
   ]
  },
  {
   "cell_type": "code",
   "execution_count": 783,
   "id": "offensive-puzzle",
   "metadata": {},
   "outputs": [],
   "source": [
    "#nltk.download('punkt')\n",
    "#nltk.download('wordnet')"
   ]
  },
  {
   "cell_type": "code",
   "execution_count": 784,
   "id": "fatty-burke",
   "metadata": {},
   "outputs": [],
   "source": [
    "df = pd.read_csv(\"Data/vaccination_tweets.csv\")"
   ]
  },
  {
   "cell_type": "code",
   "execution_count": 786,
   "id": "intensive-determination",
   "metadata": {},
   "outputs": [],
   "source": [
    "df_tweety = df.copy()"
   ]
  },
  {
   "cell_type": "code",
   "execution_count": 787,
   "id": "smoking-permit",
   "metadata": {
    "jupyter": {
     "source_hidden": true
    },
    "tags": []
   },
   "outputs": [
    {
     "name": "stdout",
     "output_type": "stream",
     "text": [
      "The unmodified vaccination tweets dataset contains 16 columns and 38547 rows.\n"
     ]
    }
   ],
   "source": [
    "shape = df_tweety.shape\n",
    "print('The unmodified vaccination tweets dataset contains {} columns and {} rows.'.format(shape[1], shape[0]))"
   ]
  },
  {
   "cell_type": "code",
   "execution_count": 773,
   "id": "minimal-offering",
   "metadata": {},
   "outputs": [
    {
     "name": "stdout",
     "output_type": "stream",
     "text": [
      "<class 'pandas.core.frame.DataFrame'>\n",
      "RangeIndex: 38547 entries, 0 to 38546\n",
      "Data columns (total 16 columns):\n",
      " #   Column            Non-Null Count  Dtype \n",
      "---  ------            --------------  ----- \n",
      " 0   id                38547 non-null  int64 \n",
      " 1   user_name         38547 non-null  object\n",
      " 2   user_location     29767 non-null  object\n",
      " 3   user_description  35940 non-null  object\n",
      " 4   user_created      38547 non-null  object\n",
      " 5   user_followers    38547 non-null  int64 \n",
      " 6   user_friends      38547 non-null  int64 \n",
      " 7   user_favourites   38547 non-null  int64 \n",
      " 8   user_verified     38547 non-null  bool  \n",
      " 9   date              38547 non-null  object\n",
      " 10  text              38547 non-null  object\n",
      " 11  hashtags          30330 non-null  object\n",
      " 12  source            38514 non-null  object\n",
      " 13  retweets          38547 non-null  int64 \n",
      " 14  favorites         38547 non-null  int64 \n",
      " 15  is_retweet        38547 non-null  bool  \n",
      "dtypes: bool(2), int64(6), object(8)\n",
      "memory usage: 4.2+ MB\n"
     ]
    }
   ],
   "source": [
    "df_tweety.info()"
   ]
  },
  {
   "cell_type": "code",
   "execution_count": 774,
   "id": "white-switzerland",
   "metadata": {},
   "outputs": [],
   "source": [
    "#Insert column 'day' to map the vaccination progress data set\n",
    "df_tweety['day'] = pd.to_datetime(df_tweety.date).dt.date"
   ]
  },
  {
   "cell_type": "code",
   "execution_count": 775,
   "id": "electronic-resolution",
   "metadata": {},
   "outputs": [
    {
     "data": {
      "text/plain": [
       "id                   int64\n",
       "user_name           object\n",
       "user_location       object\n",
       "user_description    object\n",
       "user_created        object\n",
       "user_followers       int64\n",
       "user_friends         int64\n",
       "user_favourites      int64\n",
       "user_verified         bool\n",
       "date                object\n",
       "text                object\n",
       "hashtags            object\n",
       "source              object\n",
       "retweets             int64\n",
       "favorites            int64\n",
       "is_retweet            bool\n",
       "day                 object\n",
       "dtype: object"
      ]
     },
     "execution_count": 775,
     "metadata": {},
     "output_type": "execute_result"
    }
   ],
   "source": [
    "df_tweety.dtypes"
   ]
  },
  {
   "cell_type": "markdown",
   "id": "greenhouse-posting",
   "metadata": {},
   "source": [
    "## Dropping stuff(?)"
   ]
  },
  {
   "cell_type": "markdown",
   "id": "juvenile-cisco",
   "metadata": {},
   "source": [
    "'user_location' is filled by users in an unsystematic way"
   ]
  },
  {
   "cell_type": "code",
   "execution_count": 788,
   "id": "ordered-dominican",
   "metadata": {},
   "outputs": [
    {
     "data": {
      "text/plain": [
       "8098"
      ]
     },
     "execution_count": 788,
     "metadata": {},
     "output_type": "execute_result"
    }
   ],
   "source": [
    "df_tweety.user_location.nunique()"
   ]
  },
  {
   "cell_type": "code",
   "execution_count": 778,
   "id": "naked-jaguar",
   "metadata": {
    "tags": []
   },
   "outputs": [
    {
     "data": {
      "text/html": [
       "<div>\n",
       "<style scoped>\n",
       "    .dataframe tbody tr th:only-of-type {\n",
       "        vertical-align: middle;\n",
       "    }\n",
       "\n",
       "    .dataframe tbody tr th {\n",
       "        vertical-align: top;\n",
       "    }\n",
       "\n",
       "    .dataframe thead th {\n",
       "        text-align: right;\n",
       "    }\n",
       "</style>\n",
       "<table border=\"1\" class=\"dataframe\">\n",
       "  <thead>\n",
       "    <tr style=\"text-align: right;\">\n",
       "      <th></th>\n",
       "      <th>user_name</th>\n",
       "      <th>user_followers</th>\n",
       "      <th>user_friends</th>\n",
       "      <th>user_favourites</th>\n",
       "      <th>user_verified</th>\n",
       "      <th>date</th>\n",
       "      <th>text</th>\n",
       "      <th>hashtags</th>\n",
       "      <th>retweets</th>\n",
       "      <th>favorites</th>\n",
       "      <th>day</th>\n",
       "    </tr>\n",
       "  </thead>\n",
       "  <tbody>\n",
       "    <tr>\n",
       "      <th>0</th>\n",
       "      <td>Rachel Roh</td>\n",
       "      <td>405</td>\n",
       "      <td>1692</td>\n",
       "      <td>3247</td>\n",
       "      <td>False</td>\n",
       "      <td>2020-12-20 06:06:44</td>\n",
       "      <td>Same folks said daikon paste could treat a cyt...</td>\n",
       "      <td>['PfizerBioNTech']</td>\n",
       "      <td>0</td>\n",
       "      <td>0</td>\n",
       "      <td>2020-12-20</td>\n",
       "    </tr>\n",
       "    <tr>\n",
       "      <th>1</th>\n",
       "      <td>Albert Fong</td>\n",
       "      <td>834</td>\n",
       "      <td>666</td>\n",
       "      <td>178</td>\n",
       "      <td>False</td>\n",
       "      <td>2020-12-13 16:27:13</td>\n",
       "      <td>While the world has been on the wrong side of ...</td>\n",
       "      <td>NaN</td>\n",
       "      <td>1</td>\n",
       "      <td>1</td>\n",
       "      <td>2020-12-13</td>\n",
       "    </tr>\n",
       "    <tr>\n",
       "      <th>2</th>\n",
       "      <td>eli🇱🇹🇪🇺👌</td>\n",
       "      <td>10</td>\n",
       "      <td>88</td>\n",
       "      <td>155</td>\n",
       "      <td>False</td>\n",
       "      <td>2020-12-12 20:33:45</td>\n",
       "      <td>#coronavirus #SputnikV #AstraZeneca #PfizerBio...</td>\n",
       "      <td>['coronavirus', 'SputnikV', 'AstraZeneca', 'Pf...</td>\n",
       "      <td>0</td>\n",
       "      <td>0</td>\n",
       "      <td>2020-12-12</td>\n",
       "    </tr>\n",
       "    <tr>\n",
       "      <th>3</th>\n",
       "      <td>Charles Adler</td>\n",
       "      <td>49165</td>\n",
       "      <td>3933</td>\n",
       "      <td>21853</td>\n",
       "      <td>True</td>\n",
       "      <td>2020-12-12 20:23:59</td>\n",
       "      <td>Facts are immutable, Senator, even when you're...</td>\n",
       "      <td>NaN</td>\n",
       "      <td>446</td>\n",
       "      <td>2129</td>\n",
       "      <td>2020-12-12</td>\n",
       "    </tr>\n",
       "    <tr>\n",
       "      <th>4</th>\n",
       "      <td>Citizen News Channel</td>\n",
       "      <td>152</td>\n",
       "      <td>580</td>\n",
       "      <td>1473</td>\n",
       "      <td>False</td>\n",
       "      <td>2020-12-12 20:17:19</td>\n",
       "      <td>Explain to me again why we need a vaccine @Bor...</td>\n",
       "      <td>['whereareallthesickpeople', 'PfizerBioNTech']</td>\n",
       "      <td>0</td>\n",
       "      <td>0</td>\n",
       "      <td>2020-12-12</td>\n",
       "    </tr>\n",
       "    <tr>\n",
       "      <th>...</th>\n",
       "      <td>...</td>\n",
       "      <td>...</td>\n",
       "      <td>...</td>\n",
       "      <td>...</td>\n",
       "      <td>...</td>\n",
       "      <td>...</td>\n",
       "      <td>...</td>\n",
       "      <td>...</td>\n",
       "      <td>...</td>\n",
       "      <td>...</td>\n",
       "      <td>...</td>\n",
       "    </tr>\n",
       "    <tr>\n",
       "      <th>38542</th>\n",
       "      <td>Rising Bharat</td>\n",
       "      <td>625</td>\n",
       "      <td>0</td>\n",
       "      <td>0</td>\n",
       "      <td>False</td>\n",
       "      <td>2021-03-18 06:22:41</td>\n",
       "      <td>The Sputnik V is under review for emergency us...</td>\n",
       "      <td>NaN</td>\n",
       "      <td>1</td>\n",
       "      <td>7</td>\n",
       "      <td>2021-03-18</td>\n",
       "    </tr>\n",
       "    <tr>\n",
       "      <th>38543</th>\n",
       "      <td>Bright Uzbekistan</td>\n",
       "      <td>18</td>\n",
       "      <td>182</td>\n",
       "      <td>59</td>\n",
       "      <td>False</td>\n",
       "      <td>2021-03-18 06:13:08</td>\n",
       "      <td>IT IS PLANNED TO START MASS VACCINATION IN UZB...</td>\n",
       "      <td>NaN</td>\n",
       "      <td>0</td>\n",
       "      <td>0</td>\n",
       "      <td>2021-03-18</td>\n",
       "    </tr>\n",
       "    <tr>\n",
       "      <th>38544</th>\n",
       "      <td>Sputnik V</td>\n",
       "      <td>223700</td>\n",
       "      <td>142</td>\n",
       "      <td>678</td>\n",
       "      <td>True</td>\n",
       "      <td>2021-03-18 06:01:50</td>\n",
       "      <td>Austrian Chancellor Sebastian Kurz: Concerning...</td>\n",
       "      <td>['SputnikV']</td>\n",
       "      <td>83</td>\n",
       "      <td>226</td>\n",
       "      <td>2021-03-18</td>\n",
       "    </tr>\n",
       "    <tr>\n",
       "      <th>38545</th>\n",
       "      <td>Sputnik</td>\n",
       "      <td>322326</td>\n",
       "      <td>306</td>\n",
       "      <td>24</td>\n",
       "      <td>True</td>\n",
       "      <td>2021-03-18 05:30:00</td>\n",
       "      <td>Norwegian politicians calling to cut #SputnikV...</td>\n",
       "      <td>['SputnikV']</td>\n",
       "      <td>6</td>\n",
       "      <td>16</td>\n",
       "      <td>2021-03-18</td>\n",
       "    </tr>\n",
       "    <tr>\n",
       "      <th>38546</th>\n",
       "      <td>Nisarg Soni</td>\n",
       "      <td>93</td>\n",
       "      <td>1</td>\n",
       "      <td>5187</td>\n",
       "      <td>False</td>\n",
       "      <td>2021-03-18 05:20:44</td>\n",
       "      <td>#COVID19 :\\n\\n*#India emerges global manufactu...</td>\n",
       "      <td>['COVID19', 'India']</td>\n",
       "      <td>1</td>\n",
       "      <td>1</td>\n",
       "      <td>2021-03-18</td>\n",
       "    </tr>\n",
       "  </tbody>\n",
       "</table>\n",
       "<p>38547 rows × 11 columns</p>\n",
       "</div>"
      ],
      "text/plain": [
       "                  user_name  user_followers  user_friends  user_favourites  \\\n",
       "0                Rachel Roh             405          1692             3247   \n",
       "1               Albert Fong             834           666              178   \n",
       "2                  eli🇱🇹🇪🇺👌              10            88              155   \n",
       "3             Charles Adler           49165          3933            21853   \n",
       "4      Citizen News Channel             152           580             1473   \n",
       "...                     ...             ...           ...              ...   \n",
       "38542         Rising Bharat             625             0                0   \n",
       "38543     Bright Uzbekistan              18           182               59   \n",
       "38544             Sputnik V          223700           142              678   \n",
       "38545               Sputnik          322326           306               24   \n",
       "38546           Nisarg Soni              93             1             5187   \n",
       "\n",
       "       user_verified                 date  \\\n",
       "0              False  2020-12-20 06:06:44   \n",
       "1              False  2020-12-13 16:27:13   \n",
       "2              False  2020-12-12 20:33:45   \n",
       "3               True  2020-12-12 20:23:59   \n",
       "4              False  2020-12-12 20:17:19   \n",
       "...              ...                  ...   \n",
       "38542          False  2021-03-18 06:22:41   \n",
       "38543          False  2021-03-18 06:13:08   \n",
       "38544           True  2021-03-18 06:01:50   \n",
       "38545           True  2021-03-18 05:30:00   \n",
       "38546          False  2021-03-18 05:20:44   \n",
       "\n",
       "                                                    text  \\\n",
       "0      Same folks said daikon paste could treat a cyt...   \n",
       "1      While the world has been on the wrong side of ...   \n",
       "2      #coronavirus #SputnikV #AstraZeneca #PfizerBio...   \n",
       "3      Facts are immutable, Senator, even when you're...   \n",
       "4      Explain to me again why we need a vaccine @Bor...   \n",
       "...                                                  ...   \n",
       "38542  The Sputnik V is under review for emergency us...   \n",
       "38543  IT IS PLANNED TO START MASS VACCINATION IN UZB...   \n",
       "38544  Austrian Chancellor Sebastian Kurz: Concerning...   \n",
       "38545  Norwegian politicians calling to cut #SputnikV...   \n",
       "38546  #COVID19 :\\n\\n*#India emerges global manufactu...   \n",
       "\n",
       "                                                hashtags  retweets  favorites  \\\n",
       "0                                     ['PfizerBioNTech']         0          0   \n",
       "1                                                    NaN         1          1   \n",
       "2      ['coronavirus', 'SputnikV', 'AstraZeneca', 'Pf...         0          0   \n",
       "3                                                    NaN       446       2129   \n",
       "4         ['whereareallthesickpeople', 'PfizerBioNTech']         0          0   \n",
       "...                                                  ...       ...        ...   \n",
       "38542                                                NaN         1          7   \n",
       "38543                                                NaN         0          0   \n",
       "38544                                       ['SputnikV']        83        226   \n",
       "38545                                       ['SputnikV']         6         16   \n",
       "38546                               ['COVID19', 'India']         1          1   \n",
       "\n",
       "              day  \n",
       "0      2020-12-20  \n",
       "1      2020-12-13  \n",
       "2      2020-12-12  \n",
       "3      2020-12-12  \n",
       "4      2020-12-12  \n",
       "...           ...  \n",
       "38542  2021-03-18  \n",
       "38543  2021-03-18  \n",
       "38544  2021-03-18  \n",
       "38545  2021-03-18  \n",
       "38546  2021-03-18  \n",
       "\n",
       "[38547 rows x 11 columns]"
      ]
     },
     "execution_count": 778,
     "metadata": {},
     "output_type": "execute_result"
    }
   ],
   "source": [
    "#The below mentioned columns should be dropped\n",
    "df_tweety.drop(['id', 'user_description', 'user_created', 'user_location', 'is_retweet', 'source'], axis=1)"
   ]
  },
  {
   "cell_type": "code",
   "execution_count": 779,
   "id": "going-layer",
   "metadata": {
    "tags": []
   },
   "outputs": [],
   "source": [
    "#There are duplicates in the text section, however, they ... check if source identical, there are no retweets, maybe duplicates should be removed in order to prevent imbalance\n",
    "#df_tweety[(df_tweety.duplicated(subset=['text', 'user_name'], keep=False))]"
   ]
  },
  {
   "cell_type": "markdown",
   "id": "forward-guidance",
   "metadata": {},
   "source": [
    "## Reshape the data set"
   ]
  },
  {
   "cell_type": "markdown",
   "id": "arbitrary-northeast",
   "metadata": {},
   "source": [
    "Tweets in 'text' are typically cut off (max 140 characters). The cut-off-pattern is '...', followed by an empty space and a link to the tweet. Using this pattern to reduce the dataset we receive a considerably shorter set of certainly complete tweets to analyze."
   ]
  },
  {
   "cell_type": "code",
   "execution_count": 789,
   "id": "cathedral-qatar",
   "metadata": {
    "tags": []
   },
   "outputs": [],
   "source": [
    "df_tweety = df_tweety[~(df_tweety['text'].str.contains('... http'))].reset_index()"
   ]
  },
  {
   "cell_type": "code",
   "execution_count": 790,
   "id": "tender-audit",
   "metadata": {},
   "outputs": [
    {
     "data": {
      "text/plain": [
       "(5621, 17)"
      ]
     },
     "execution_count": 790,
     "metadata": {},
     "output_type": "execute_result"
    }
   ],
   "source": [
    "df_tweety.shape"
   ]
  },
  {
   "cell_type": "code",
   "execution_count": 792,
   "id": "alpine-technical",
   "metadata": {},
   "outputs": [],
   "source": [
    "df_tweety.to_csv('fulltweets.csv')"
   ]
  },
  {
   "cell_type": "markdown",
   "id": "satisfied-brooklyn",
   "metadata": {},
   "source": [
    "While few tweet the same text more often, more than a fifth of users in the dataset tweet more than once. Assuming that repetitiveness is not linked towards particular sentiments, we leave all tweets in the dataset."
   ]
  },
  {
   "cell_type": "code",
   "execution_count": 791,
   "id": "excited-rapid",
   "metadata": {},
   "outputs": [
    {
     "data": {
      "text/plain": [
       "0.2284291051414339"
      ]
     },
     "execution_count": 791,
     "metadata": {},
     "output_type": "execute_result"
    }
   ],
   "source": [
    "(len(df_tweety) - df_tweety.user_name.nunique())/len(df_tweety)"
   ]
  },
  {
   "cell_type": "code",
   "execution_count": 692,
   "id": "cleared-april",
   "metadata": {},
   "outputs": [
    {
     "data": {
      "image/png": "[encoded data removed]",
      "text/plain": [
       "<Figure size 720x864 with 1 Axes>"
      ]
     },
     "metadata": {
      "needs_background": "light"
     },
     "output_type": "display_data"
    }
   ],
   "source": [
    "#user_location columns is very diverse\n",
    "plt.figure(figsize=(10,12))\n",
    "sns.barplot(df_tweety[\"user_location\"].value_counts().values[0:20],\n",
    "            df_tweety[\"user_location\"].value_counts().index[0:20]);\n",
    "plt.title(\"Tweets from Location\",fontsize=14)\n",
    "plt.xlabel(\"Number of tweets\",fontsize=14)\n",
    "plt.ylabel(\"Location\",fontsize=14)\n",
    "plt.show()"
   ]
  },
  {
   "cell_type": "markdown",
   "id": "ruled-participant",
   "metadata": {},
   "source": [
    "### Most frequent hashtags in 'hashtags'"
   ]
  },
  {
   "cell_type": "markdown",
   "id": "hundred-reference",
   "metadata": {},
   "source": [
    "Lists in 'hashtags' are stored as strings"
   ]
  },
  {
   "cell_type": "code",
   "execution_count": 695,
   "id": "large-promise",
   "metadata": {},
   "outputs": [],
   "source": [
    "#for i, l in enumerate(df_tweety['hashtags']):\n",
    "    #print(\"list\",i,\"is\",type(l))"
   ]
  },
  {
   "cell_type": "markdown",
   "id": "rapid-television",
   "metadata": {},
   "source": [
    "lst_ = \"['erst', 'zweit', 'dritt']\""
   ]
  },
  {
   "cell_type": "markdown",
   "id": "alive-border",
   "metadata": {},
   "source": [
    "def clean_hashtag(name):\n",
    "    name = name.replace(\"[\", \"\")\n",
    "    name = name.replace(\"]\", \"\")\n",
    "    name = name.replace(\"'\", \"\")\n",
    "    name_lst = name.split(\",\")\n",
    "    hash_lst = list()\n",
    "    for item in name_lst:\n",
    "        item = item.strip()\n",
    "        hash_lst.append(item)\n",
    "    return hash_lst"
   ]
  },
  {
   "cell_type": "code",
   "execution_count": 698,
   "id": "leading-oxygen",
   "metadata": {},
   "outputs": [],
   "source": [
    "df_tweety['hashtags'] = df_tweety['hashtags'].apply(eval)"
   ]
  },
  {
   "cell_type": "code",
   "execution_count": 699,
   "id": "ultimate-supervisor",
   "metadata": {},
   "outputs": [
    {
     "data": {
      "text/html": [
       "<div>\n",
       "<style scoped>\n",
       "    .dataframe tbody tr th:only-of-type {\n",
       "        vertical-align: middle;\n",
       "    }\n",
       "\n",
       "    .dataframe tbody tr th {\n",
       "        vertical-align: top;\n",
       "    }\n",
       "\n",
       "    .dataframe thead th {\n",
       "        text-align: right;\n",
       "    }\n",
       "</style>\n",
       "<table border=\"1\" class=\"dataframe\">\n",
       "  <thead>\n",
       "    <tr style=\"text-align: right;\">\n",
       "      <th></th>\n",
       "      <th>hasht_freq</th>\n",
       "      <th>count</th>\n",
       "    </tr>\n",
       "  </thead>\n",
       "  <tbody>\n",
       "    <tr>\n",
       "      <th>0</th>\n",
       "      <td>moderna</td>\n",
       "      <td>1935</td>\n",
       "    </tr>\n",
       "    <tr>\n",
       "      <th>1</th>\n",
       "      <td>covaxin</td>\n",
       "      <td>1356</td>\n",
       "    </tr>\n",
       "    <tr>\n",
       "      <th>2</th>\n",
       "      <td>pfizerbiontech</td>\n",
       "      <td>709</td>\n",
       "    </tr>\n",
       "    <tr>\n",
       "      <th>3</th>\n",
       "      <td>sputnikv</td>\n",
       "      <td>694</td>\n",
       "    </tr>\n",
       "    <tr>\n",
       "      <th>4</th>\n",
       "      <td>vaccine</td>\n",
       "      <td>543</td>\n",
       "    </tr>\n",
       "    <tr>\n",
       "      <th>5</th>\n",
       "      <td>covid19</td>\n",
       "      <td>525</td>\n",
       "    </tr>\n",
       "    <tr>\n",
       "      <th>6</th>\n",
       "      <td>oxfordastrazeneca</td>\n",
       "      <td>491</td>\n",
       "    </tr>\n",
       "    <tr>\n",
       "      <th>7</th>\n",
       "      <td>covidvaccine</td>\n",
       "      <td>354</td>\n",
       "    </tr>\n",
       "    <tr>\n",
       "      <th>8</th>\n",
       "      <td>pfizer</td>\n",
       "      <td>299</td>\n",
       "    </tr>\n",
       "    <tr>\n",
       "      <th>9</th>\n",
       "      <td>sinovac</td>\n",
       "      <td>252</td>\n",
       "    </tr>\n",
       "    <tr>\n",
       "      <th>10</th>\n",
       "      <td>sinopharm</td>\n",
       "      <td>243</td>\n",
       "    </tr>\n",
       "    <tr>\n",
       "      <th>11</th>\n",
       "      <td>covid19vaccine</td>\n",
       "      <td>229</td>\n",
       "    </tr>\n",
       "    <tr>\n",
       "      <th>12</th>\n",
       "      <td>astrazeneca</td>\n",
       "      <td>153</td>\n",
       "    </tr>\n",
       "    <tr>\n",
       "      <th>13</th>\n",
       "      <td>vaccinated</td>\n",
       "      <td>118</td>\n",
       "    </tr>\n",
       "    <tr>\n",
       "      <th>14</th>\n",
       "      <td>covid</td>\n",
       "      <td>113</td>\n",
       "    </tr>\n",
       "    <tr>\n",
       "      <th>15</th>\n",
       "      <td>covishield</td>\n",
       "      <td>109</td>\n",
       "    </tr>\n",
       "    <tr>\n",
       "      <th>16</th>\n",
       "      <td>russia</td>\n",
       "      <td>94</td>\n",
       "    </tr>\n",
       "    <tr>\n",
       "      <th>17</th>\n",
       "      <td>coronavirus</td>\n",
       "      <td>92</td>\n",
       "    </tr>\n",
       "    <tr>\n",
       "      <th>18</th>\n",
       "      <td>pfizervaccine</td>\n",
       "      <td>76</td>\n",
       "    </tr>\n",
       "    <tr>\n",
       "      <th>19</th>\n",
       "      <td>vaccination</td>\n",
       "      <td>72</td>\n",
       "    </tr>\n",
       "    <tr>\n",
       "      <th>20</th>\n",
       "      <td>covid19vaccination</td>\n",
       "      <td>70</td>\n",
       "    </tr>\n",
       "    <tr>\n",
       "      <th>21</th>\n",
       "      <td>bharatbiotech</td>\n",
       "      <td>69</td>\n",
       "    </tr>\n",
       "    <tr>\n",
       "      <th>22</th>\n",
       "      <td>ocgn</td>\n",
       "      <td>68</td>\n",
       "    </tr>\n",
       "    <tr>\n",
       "      <th>23</th>\n",
       "      <td>getvaccinated</td>\n",
       "      <td>64</td>\n",
       "    </tr>\n",
       "    <tr>\n",
       "      <th>24</th>\n",
       "      <td>vaccines</td>\n",
       "      <td>59</td>\n",
       "    </tr>\n",
       "    <tr>\n",
       "      <th>25</th>\n",
       "      <td>ocugen</td>\n",
       "      <td>55</td>\n",
       "    </tr>\n",
       "    <tr>\n",
       "      <th>26</th>\n",
       "      <td>eu</td>\n",
       "      <td>52</td>\n",
       "    </tr>\n",
       "    <tr>\n",
       "      <th>27</th>\n",
       "      <td>covidvaccination</td>\n",
       "      <td>52</td>\n",
       "    </tr>\n",
       "    <tr>\n",
       "      <th>28</th>\n",
       "      <td>covid_19</td>\n",
       "      <td>50</td>\n",
       "    </tr>\n",
       "    <tr>\n",
       "      <th>29</th>\n",
       "      <td>sastabhikargarbhi</td>\n",
       "      <td>46</td>\n",
       "    </tr>\n",
       "  </tbody>\n",
       "</table>\n",
       "</div>"
      ],
      "text/plain": [
       "            hasht_freq  count\n",
       "0              moderna   1935\n",
       "1              covaxin   1356\n",
       "2       pfizerbiontech    709\n",
       "3             sputnikv    694\n",
       "4              vaccine    543\n",
       "5              covid19    525\n",
       "6    oxfordastrazeneca    491\n",
       "7         covidvaccine    354\n",
       "8               pfizer    299\n",
       "9              sinovac    252\n",
       "10           sinopharm    243\n",
       "11      covid19vaccine    229\n",
       "12         astrazeneca    153\n",
       "13          vaccinated    118\n",
       "14               covid    113\n",
       "15          covishield    109\n",
       "16              russia     94\n",
       "17         coronavirus     92\n",
       "18       pfizervaccine     76\n",
       "19         vaccination     72\n",
       "20  covid19vaccination     70\n",
       "21       bharatbiotech     69\n",
       "22                ocgn     68\n",
       "23       getvaccinated     64\n",
       "24            vaccines     59\n",
       "25              ocugen     55\n",
       "26                  eu     52\n",
       "27    covidvaccination     52\n",
       "28            covid_19     50\n",
       "29   sastabhikargarbhi     46"
      ]
     },
     "execution_count": 699,
     "metadata": {},
     "output_type": "execute_result"
    }
   ],
   "source": [
    "df_tweety['hashtags'] = df_tweety['hashtags'].fillna('[]')\n",
    "\n",
    "def to_1D(Series):\n",
    "    return pd.Series([x.lower() for lst in Series for x in lst])\n",
    "\n",
    "hasht_freq = to_1D(df_tweety['hashtags']).value_counts()[:30].rename_axis('hasht_freq').reset_index(name='count')\n",
    "hasht_freq"
   ]
  },
  {
   "cell_type": "code",
   "execution_count": 700,
   "id": "guided-bachelor",
   "metadata": {},
   "outputs": [
    {
     "data": {
      "text/plain": [
       "<seaborn.axisgrid.FacetGrid at 0x165444970>"
      ]
     },
     "execution_count": 700,
     "metadata": {},
     "output_type": "execute_result"
    },
    {
     "data": {
      "image/png": "[encoded data removed]",
      "text/plain": [
       "<Figure size 720x720 with 1 Axes>"
      ]
     },
     "metadata": {
      "needs_background": "light"
     },
     "output_type": "display_data"
    }
   ],
   "source": [
    "#f, ax = plt.subplots(figsize=(7, 5))\n",
    "\n",
    "g = sns.catplot(\n",
    "    data=hasht_freq, kind=\"bar\",\n",
    "    x=\"hasht_freq\", y=\"count\",# hue=\"sex\",\n",
    "    ci=\"sd\", palette=\"dark\", height=10, alpha=.6\n",
    ")\n",
    "#g.despine(left=True)\n",
    "g.set_axis_labels(\"hastags (used)\", \"frequency\")\n",
    "g.set_xticklabels(rotation=40, ha=\"right\")\n",
    "#g.legend.set_title(\"\")"
   ]
  },
  {
   "cell_type": "markdown",
   "id": "palestinian-therapy",
   "metadata": {},
   "source": [
    "In contrast, particular vaccines or the vaccination topic play the dominant role in the category of used hashtags. Politicians or institutions do not figure prominently in this category."
   ]
  },
  {
   "cell_type": "markdown",
   "id": "wired-teaching",
   "metadata": {},
   "source": [
    "## Rank #s, append hashtag columns to dataframe"
   ]
  },
  {
   "cell_type": "markdown",
   "id": "numerical-dutch",
   "metadata": {},
   "source": [
    "Idea: create df with vaccines in hashtags as columns and append it to df_tweety"
   ]
  },
  {
   "cell_type": "code",
   "execution_count": 701,
   "id": "likely-clearing",
   "metadata": {},
   "outputs": [],
   "source": [
    "def to_1D(Series):\n",
    "    return pd.Series([x.lower() for lst in Series for x in lst])\n",
    "\n",
    "unique_hasht = to_1D(df_tweety['hashtags']).value_counts()[:30]"
   ]
  },
  {
   "cell_type": "code",
   "execution_count": 702,
   "id": "certified-printer",
   "metadata": {},
   "outputs": [],
   "source": [
    "def boolean_df(item_lists, unique_items):\n",
    "\n",
    "    # Create empty dict\n",
    "    bool_dict = {}\n",
    "    \n",
    "    # Loop through all the tags\n",
    "    for i, item in enumerate(unique_items):\n",
    "        \n",
    "        # Apply boolean mask that returns a True-False list of whether a tag is in a taglist\n",
    "        bool_dict[item] = item_lists.apply(lambda x: item in x)\n",
    "            \n",
    "    # Return the results as a dataframe\n",
    "    return pd.DataFrame(bool_dict)"
   ]
  },
  {
   "cell_type": "code",
   "execution_count": 703,
   "id": "stuck-convert",
   "metadata": {},
   "outputs": [],
   "source": [
    "hasht_bool = boolean_df(df_tweety['hashtags'], unique_hasht.keys())\n",
    "#Drop non-vaccine related columns\n",
    "#hasht_bool.drop(['covid19', 'covid', 'china', 'russia', 'bharatbiotech', 'eu', 'india', 'covid_19', 'coronavirus'], axis=1)"
   ]
  },
  {
   "cell_type": "markdown",
   "id": "subsequent-memory",
   "metadata": {},
   "source": [
    "## Rank mentioned @s, append columns to data frame"
   ]
  },
  {
   "cell_type": "code",
   "execution_count": 533,
   "id": "accurate-bread",
   "metadata": {},
   "outputs": [
    {
     "data": {
      "text/html": [
       "<div>\n",
       "<style scoped>\n",
       "    .dataframe tbody tr th:only-of-type {\n",
       "        vertical-align: middle;\n",
       "    }\n",
       "\n",
       "    .dataframe tbody tr th {\n",
       "        vertical-align: top;\n",
       "    }\n",
       "\n",
       "    .dataframe thead th {\n",
       "        text-align: right;\n",
       "    }\n",
       "</style>\n",
       "<table border=\"1\" class=\"dataframe\">\n",
       "  <thead>\n",
       "    <tr style=\"text-align: right;\">\n",
       "      <th></th>\n",
       "      <th>accounts</th>\n",
       "      <th>count</th>\n",
       "    </tr>\n",
       "  </thead>\n",
       "  <tbody>\n",
       "    <tr>\n",
       "      <th>0</th>\n",
       "      <td></td>\n",
       "      <td>3483</td>\n",
       "    </tr>\n",
       "    <tr>\n",
       "      <th>1</th>\n",
       "      <td>@narendramodi</td>\n",
       "      <td>115</td>\n",
       "    </tr>\n",
       "    <tr>\n",
       "      <th>2</th>\n",
       "      <td>@sputnikvaccine</td>\n",
       "      <td>93</td>\n",
       "    </tr>\n",
       "    <tr>\n",
       "      <th>3</th>\n",
       "      <td>@BharatBiotech</td>\n",
       "      <td>82</td>\n",
       "    </tr>\n",
       "    <tr>\n",
       "      <th>4</th>\n",
       "      <td>@POTUS</td>\n",
       "      <td>61</td>\n",
       "    </tr>\n",
       "    <tr>\n",
       "      <th>...</th>\n",
       "      <td>...</td>\n",
       "      <td>...</td>\n",
       "    </tr>\n",
       "    <tr>\n",
       "      <th>1845</th>\n",
       "      <td>@ChrisCBS4</td>\n",
       "      <td>1</td>\n",
       "    </tr>\n",
       "    <tr>\n",
       "      <th>1846</th>\n",
       "      <td>@ryanstruyk</td>\n",
       "      <td>1</td>\n",
       "    </tr>\n",
       "    <tr>\n",
       "      <th>1847</th>\n",
       "      <td>@LeoVaradkar</td>\n",
       "      <td>1</td>\n",
       "    </tr>\n",
       "    <tr>\n",
       "      <th>1848</th>\n",
       "      <td>@retail_recruit</td>\n",
       "      <td>1</td>\n",
       "    </tr>\n",
       "    <tr>\n",
       "      <th>1849</th>\n",
       "      <td>@CNBCMakeIt</td>\n",
       "      <td>1</td>\n",
       "    </tr>\n",
       "  </tbody>\n",
       "</table>\n",
       "<p>1850 rows × 2 columns</p>\n",
       "</div>"
      ],
      "text/plain": [
       "             accounts  count\n",
       "0                       3483\n",
       "1       @narendramodi    115\n",
       "2     @sputnikvaccine     93\n",
       "3      @BharatBiotech     82\n",
       "4              @POTUS     61\n",
       "...               ...    ...\n",
       "1845       @ChrisCBS4      1\n",
       "1846      @ryanstruyk      1\n",
       "1847     @LeoVaradkar      1\n",
       "1848  @retail_recruit      1\n",
       "1849      @CNBCMakeIt      1\n",
       "\n",
       "[1850 rows x 2 columns]"
      ]
     },
     "execution_count": 533,
     "metadata": {},
     "output_type": "execute_result"
    }
   ],
   "source": [
    "twitter_accounts = []\n",
    "for tweet in df_tweety['text']:\n",
    "    if '@' not in tweet:\n",
    "        twitter_accounts.append('')\n",
    "    words = tweet.split()\n",
    "    for word in words:\n",
    "        if re.search('@[^\\s]+', word):\n",
    "            twitter_accounts.append(word)\n",
    "mentioned_accounts=pd.Series(np.array(twitter_accounts))\n",
    "accounts = mentioned_accounts.value_counts().rename_axis('accounts').reset_index(name='count')\n",
    "accounts"
   ]
  },
  {
   "cell_type": "code",
   "execution_count": 534,
   "id": "threatened-diagnosis",
   "metadata": {},
   "outputs": [
    {
     "data": {
      "text/plain": [
       "                    3483\n",
       "@narendramodi        115\n",
       "@sputnikvaccine       93\n",
       "@BharatBiotech        82\n",
       "@POTUS                61\n",
       "@Ocugen               50\n",
       "@ANI                  29\n",
       "@WHO                  27\n",
       "@pfizer               26\n",
       "@globaltimesnews      22\n",
       "@VP                   20\n",
       "@PMOIndia             19\n",
       "@DollyParton          18\n",
       "@Russia               17\n",
       "@drharshvardhan       16\n",
       "@moderna_tx           15\n",
       "@JoeBiden             14\n",
       "@MoHFW_INDIA          14\n",
       "@Reuters              14\n",
       "@BorisJohnson         13\n",
       "@DrTedros             13\n",
       "@labyrinthweaver      13\n",
       "@ImranKhanPTI         12\n",
       "@FaheemYounus         11\n",
       "@vonderleyen          11\n",
       "@JustinTrudeau        10\n",
       "@SkyNews              10\n",
       "@chamath               9\n",
       "@visshnumittal         9\n",
       "@elonmusk              8\n",
       "dtype: int64"
      ]
     },
     "execution_count": 534,
     "metadata": {},
     "output_type": "execute_result"
    }
   ],
   "source": [
    "def to_1D(Series):\n",
    "    return pd.Series([x for x in Series])\n",
    "\n",
    "unique_handle = to_1D(mentioned_accounts).value_counts()[:30]\n",
    "unique_handle"
   ]
  },
  {
   "cell_type": "code",
   "execution_count": 535,
   "id": "packed-second",
   "metadata": {},
   "outputs": [],
   "source": [
    "def handle_df(item_lists, unique_items):\n",
    "\n",
    "    # Create empty dict\n",
    "    bool_dict = {}\n",
    "    \n",
    "    # Loop through all the tags\n",
    "    for i, item in enumerate(unique_items):\n",
    "        \n",
    "        # Apply boolean mask that returns a True-False list of whether a tag is in a taglist\n",
    "        bool_dict[item] = item_lists.apply(lambda x: item in x)\n",
    "            \n",
    "    # Return the results as a dataframe\n",
    "    return pd.DataFrame(bool_dict)"
   ]
  },
  {
   "cell_type": "code",
   "execution_count": 536,
   "id": "formed-personality",
   "metadata": {},
   "outputs": [
    {
     "data": {
      "text/html": [
       "<div>\n",
       "<style scoped>\n",
       "    .dataframe tbody tr th:only-of-type {\n",
       "        vertical-align: middle;\n",
       "    }\n",
       "\n",
       "    .dataframe tbody tr th {\n",
       "        vertical-align: top;\n",
       "    }\n",
       "\n",
       "    .dataframe thead th {\n",
       "        text-align: right;\n",
       "    }\n",
       "</style>\n",
       "<table border=\"1\" class=\"dataframe\">\n",
       "  <thead>\n",
       "    <tr style=\"text-align: right;\">\n",
       "      <th></th>\n",
       "      <th></th>\n",
       "      <th>@narendramodi</th>\n",
       "      <th>@sputnikvaccine</th>\n",
       "      <th>@BharatBiotech</th>\n",
       "      <th>@POTUS</th>\n",
       "      <th>@Ocugen</th>\n",
       "      <th>@ANI</th>\n",
       "      <th>@WHO</th>\n",
       "      <th>@pfizer</th>\n",
       "      <th>@globaltimesnews</th>\n",
       "      <th>...</th>\n",
       "      <th>@DrTedros</th>\n",
       "      <th>@labyrinthweaver</th>\n",
       "      <th>@ImranKhanPTI</th>\n",
       "      <th>@FaheemYounus</th>\n",
       "      <th>@vonderleyen</th>\n",
       "      <th>@JustinTrudeau</th>\n",
       "      <th>@SkyNews</th>\n",
       "      <th>@chamath</th>\n",
       "      <th>@visshnumittal</th>\n",
       "      <th>@elonmusk</th>\n",
       "    </tr>\n",
       "  </thead>\n",
       "  <tbody>\n",
       "    <tr>\n",
       "      <th>0</th>\n",
       "      <td>True</td>\n",
       "      <td>False</td>\n",
       "      <td>False</td>\n",
       "      <td>False</td>\n",
       "      <td>False</td>\n",
       "      <td>False</td>\n",
       "      <td>False</td>\n",
       "      <td>False</td>\n",
       "      <td>False</td>\n",
       "      <td>False</td>\n",
       "      <td>...</td>\n",
       "      <td>False</td>\n",
       "      <td>False</td>\n",
       "      <td>False</td>\n",
       "      <td>False</td>\n",
       "      <td>False</td>\n",
       "      <td>False</td>\n",
       "      <td>False</td>\n",
       "      <td>False</td>\n",
       "      <td>False</td>\n",
       "      <td>False</td>\n",
       "    </tr>\n",
       "    <tr>\n",
       "      <th>1</th>\n",
       "      <td>True</td>\n",
       "      <td>False</td>\n",
       "      <td>False</td>\n",
       "      <td>False</td>\n",
       "      <td>False</td>\n",
       "      <td>False</td>\n",
       "      <td>False</td>\n",
       "      <td>False</td>\n",
       "      <td>False</td>\n",
       "      <td>False</td>\n",
       "      <td>...</td>\n",
       "      <td>False</td>\n",
       "      <td>False</td>\n",
       "      <td>False</td>\n",
       "      <td>False</td>\n",
       "      <td>False</td>\n",
       "      <td>False</td>\n",
       "      <td>False</td>\n",
       "      <td>False</td>\n",
       "      <td>False</td>\n",
       "      <td>False</td>\n",
       "    </tr>\n",
       "    <tr>\n",
       "      <th>2</th>\n",
       "      <td>True</td>\n",
       "      <td>False</td>\n",
       "      <td>False</td>\n",
       "      <td>False</td>\n",
       "      <td>False</td>\n",
       "      <td>False</td>\n",
       "      <td>False</td>\n",
       "      <td>False</td>\n",
       "      <td>False</td>\n",
       "      <td>False</td>\n",
       "      <td>...</td>\n",
       "      <td>False</td>\n",
       "      <td>False</td>\n",
       "      <td>False</td>\n",
       "      <td>False</td>\n",
       "      <td>False</td>\n",
       "      <td>False</td>\n",
       "      <td>False</td>\n",
       "      <td>False</td>\n",
       "      <td>False</td>\n",
       "      <td>False</td>\n",
       "    </tr>\n",
       "    <tr>\n",
       "      <th>3</th>\n",
       "      <td>True</td>\n",
       "      <td>False</td>\n",
       "      <td>False</td>\n",
       "      <td>False</td>\n",
       "      <td>False</td>\n",
       "      <td>False</td>\n",
       "      <td>False</td>\n",
       "      <td>False</td>\n",
       "      <td>False</td>\n",
       "      <td>False</td>\n",
       "      <td>...</td>\n",
       "      <td>False</td>\n",
       "      <td>False</td>\n",
       "      <td>False</td>\n",
       "      <td>False</td>\n",
       "      <td>False</td>\n",
       "      <td>False</td>\n",
       "      <td>False</td>\n",
       "      <td>False</td>\n",
       "      <td>False</td>\n",
       "      <td>False</td>\n",
       "    </tr>\n",
       "    <tr>\n",
       "      <th>4</th>\n",
       "      <td>True</td>\n",
       "      <td>False</td>\n",
       "      <td>False</td>\n",
       "      <td>False</td>\n",
       "      <td>False</td>\n",
       "      <td>False</td>\n",
       "      <td>False</td>\n",
       "      <td>False</td>\n",
       "      <td>False</td>\n",
       "      <td>False</td>\n",
       "      <td>...</td>\n",
       "      <td>False</td>\n",
       "      <td>False</td>\n",
       "      <td>False</td>\n",
       "      <td>False</td>\n",
       "      <td>False</td>\n",
       "      <td>False</td>\n",
       "      <td>False</td>\n",
       "      <td>False</td>\n",
       "      <td>False</td>\n",
       "      <td>False</td>\n",
       "    </tr>\n",
       "    <tr>\n",
       "      <th>...</th>\n",
       "      <td>...</td>\n",
       "      <td>...</td>\n",
       "      <td>...</td>\n",
       "      <td>...</td>\n",
       "      <td>...</td>\n",
       "      <td>...</td>\n",
       "      <td>...</td>\n",
       "      <td>...</td>\n",
       "      <td>...</td>\n",
       "      <td>...</td>\n",
       "      <td>...</td>\n",
       "      <td>...</td>\n",
       "      <td>...</td>\n",
       "      <td>...</td>\n",
       "      <td>...</td>\n",
       "      <td>...</td>\n",
       "      <td>...</td>\n",
       "      <td>...</td>\n",
       "      <td>...</td>\n",
       "      <td>...</td>\n",
       "      <td>...</td>\n",
       "    </tr>\n",
       "    <tr>\n",
       "      <th>6566</th>\n",
       "      <td>True</td>\n",
       "      <td>False</td>\n",
       "      <td>False</td>\n",
       "      <td>False</td>\n",
       "      <td>False</td>\n",
       "      <td>False</td>\n",
       "      <td>False</td>\n",
       "      <td>False</td>\n",
       "      <td>False</td>\n",
       "      <td>False</td>\n",
       "      <td>...</td>\n",
       "      <td>False</td>\n",
       "      <td>False</td>\n",
       "      <td>False</td>\n",
       "      <td>False</td>\n",
       "      <td>False</td>\n",
       "      <td>False</td>\n",
       "      <td>False</td>\n",
       "      <td>False</td>\n",
       "      <td>False</td>\n",
       "      <td>False</td>\n",
       "    </tr>\n",
       "    <tr>\n",
       "      <th>6567</th>\n",
       "      <td>True</td>\n",
       "      <td>False</td>\n",
       "      <td>False</td>\n",
       "      <td>False</td>\n",
       "      <td>False</td>\n",
       "      <td>False</td>\n",
       "      <td>False</td>\n",
       "      <td>False</td>\n",
       "      <td>False</td>\n",
       "      <td>False</td>\n",
       "      <td>...</td>\n",
       "      <td>False</td>\n",
       "      <td>False</td>\n",
       "      <td>False</td>\n",
       "      <td>False</td>\n",
       "      <td>False</td>\n",
       "      <td>False</td>\n",
       "      <td>False</td>\n",
       "      <td>False</td>\n",
       "      <td>False</td>\n",
       "      <td>False</td>\n",
       "    </tr>\n",
       "    <tr>\n",
       "      <th>6568</th>\n",
       "      <td>True</td>\n",
       "      <td>False</td>\n",
       "      <td>False</td>\n",
       "      <td>False</td>\n",
       "      <td>False</td>\n",
       "      <td>False</td>\n",
       "      <td>False</td>\n",
       "      <td>False</td>\n",
       "      <td>False</td>\n",
       "      <td>False</td>\n",
       "      <td>...</td>\n",
       "      <td>False</td>\n",
       "      <td>False</td>\n",
       "      <td>False</td>\n",
       "      <td>False</td>\n",
       "      <td>False</td>\n",
       "      <td>False</td>\n",
       "      <td>False</td>\n",
       "      <td>False</td>\n",
       "      <td>False</td>\n",
       "      <td>False</td>\n",
       "    </tr>\n",
       "    <tr>\n",
       "      <th>6569</th>\n",
       "      <td>True</td>\n",
       "      <td>False</td>\n",
       "      <td>True</td>\n",
       "      <td>False</td>\n",
       "      <td>False</td>\n",
       "      <td>False</td>\n",
       "      <td>False</td>\n",
       "      <td>False</td>\n",
       "      <td>False</td>\n",
       "      <td>False</td>\n",
       "      <td>...</td>\n",
       "      <td>False</td>\n",
       "      <td>False</td>\n",
       "      <td>False</td>\n",
       "      <td>False</td>\n",
       "      <td>False</td>\n",
       "      <td>False</td>\n",
       "      <td>False</td>\n",
       "      <td>False</td>\n",
       "      <td>False</td>\n",
       "      <td>False</td>\n",
       "    </tr>\n",
       "    <tr>\n",
       "      <th>6570</th>\n",
       "      <td>True</td>\n",
       "      <td>False</td>\n",
       "      <td>False</td>\n",
       "      <td>False</td>\n",
       "      <td>False</td>\n",
       "      <td>False</td>\n",
       "      <td>False</td>\n",
       "      <td>False</td>\n",
       "      <td>False</td>\n",
       "      <td>False</td>\n",
       "      <td>...</td>\n",
       "      <td>False</td>\n",
       "      <td>False</td>\n",
       "      <td>False</td>\n",
       "      <td>False</td>\n",
       "      <td>False</td>\n",
       "      <td>False</td>\n",
       "      <td>False</td>\n",
       "      <td>False</td>\n",
       "      <td>False</td>\n",
       "      <td>False</td>\n",
       "    </tr>\n",
       "  </tbody>\n",
       "</table>\n",
       "<p>6571 rows × 30 columns</p>\n",
       "</div>"
      ],
      "text/plain": [
       "            @narendramodi  @sputnikvaccine  @BharatBiotech  @POTUS  @Ocugen  \\\n",
       "0     True          False            False           False   False    False   \n",
       "1     True          False            False           False   False    False   \n",
       "2     True          False            False           False   False    False   \n",
       "3     True          False            False           False   False    False   \n",
       "4     True          False            False           False   False    False   \n",
       "...    ...            ...              ...             ...     ...      ...   \n",
       "6566  True          False            False           False   False    False   \n",
       "6567  True          False            False           False   False    False   \n",
       "6568  True          False            False           False   False    False   \n",
       "6569  True          False             True           False   False    False   \n",
       "6570  True          False            False           False   False    False   \n",
       "\n",
       "       @ANI   @WHO  @pfizer  @globaltimesnews  ...  @DrTedros  \\\n",
       "0     False  False    False             False  ...      False   \n",
       "1     False  False    False             False  ...      False   \n",
       "2     False  False    False             False  ...      False   \n",
       "3     False  False    False             False  ...      False   \n",
       "4     False  False    False             False  ...      False   \n",
       "...     ...    ...      ...               ...  ...        ...   \n",
       "6566  False  False    False             False  ...      False   \n",
       "6567  False  False    False             False  ...      False   \n",
       "6568  False  False    False             False  ...      False   \n",
       "6569  False  False    False             False  ...      False   \n",
       "6570  False  False    False             False  ...      False   \n",
       "\n",
       "      @labyrinthweaver  @ImranKhanPTI  @FaheemYounus  @vonderleyen  \\\n",
       "0                False          False          False         False   \n",
       "1                False          False          False         False   \n",
       "2                False          False          False         False   \n",
       "3                False          False          False         False   \n",
       "4                False          False          False         False   \n",
       "...                ...            ...            ...           ...   \n",
       "6566             False          False          False         False   \n",
       "6567             False          False          False         False   \n",
       "6568             False          False          False         False   \n",
       "6569             False          False          False         False   \n",
       "6570             False          False          False         False   \n",
       "\n",
       "      @JustinTrudeau  @SkyNews  @chamath  @visshnumittal  @elonmusk  \n",
       "0              False     False     False           False      False  \n",
       "1              False     False     False           False      False  \n",
       "2              False     False     False           False      False  \n",
       "3              False     False     False           False      False  \n",
       "4              False     False     False           False      False  \n",
       "...              ...       ...       ...             ...        ...  \n",
       "6566           False     False     False           False      False  \n",
       "6567           False     False     False           False      False  \n",
       "6568           False     False     False           False      False  \n",
       "6569           False     False     False           False      False  \n",
       "6570           False     False     False           False      False  \n",
       "\n",
       "[6571 rows x 30 columns]"
      ]
     },
     "execution_count": 536,
     "metadata": {},
     "output_type": "execute_result"
    }
   ],
   "source": [
    "handle_bool = handle_df(mentioned_accounts, unique_handle.keys())\n",
    "handle_bool"
   ]
  },
  {
   "cell_type": "code",
   "execution_count": 757,
   "id": "mighty-oakland",
   "metadata": {},
   "outputs": [],
   "source": [
    "df_tweety_vaccs = pd.concat([df_tweety, hasht_bool], axis=1)\n",
    "df_tweety_vaccs = df_tweety_vaccs.drop(['id', 'user_location', 'user_description', 'user_created',\n",
    "       'user_followers', 'user_friends', 'user_favourites', 'hashtags', 'user_verified', 'source', 'is_retweet',\n",
    "       'date'], axis=1)"
   ]
  },
  {
   "cell_type": "markdown",
   "id": "congressional-maple",
   "metadata": {},
   "source": [
    "# Cleaning 'text' (round 1)"
   ]
  },
  {
   "cell_type": "markdown",
   "id": "accredited-beach",
   "metadata": {},
   "source": [
    "### Various removals, lowercase()"
   ]
  },
  {
   "cell_type": "markdown",
   "id": "ignored-fruit",
   "metadata": {},
   "source": [
    "def CleanTweet(x):\n",
    "    #remove twitter handlers\n",
    "    x = re.sub('@[^\\s]+','',x)\n",
    "    #remove hashtags\n",
    "    x = re.sub(r'\\B#\\S+','',x)\n",
    "    #remove urls\n",
    "    x = re.sub(r'https?:\\/\\/[A-Za-z0-9\\.\\/]+', '', x)\n",
    "    #remove special characters\n",
    "    x = re.findall(r'\\w+', x)\n",
    "    #remove single characters\n",
    "    x = re.sub(r'\\s+[a-zA-Z]\\s+', '', x)\n",
    "    #substitute multiple spaces with single space\n",
    "    x = re.sub(r'\\s+', ' ', x, flags=re.I)\n",
    "    return x"
   ]
  },
  {
   "cell_type": "code",
   "execution_count": 705,
   "id": "exposed-elements",
   "metadata": {},
   "outputs": [],
   "source": [
    "#df_tweety.text = df_tweety.text.apply(CleanTweet)"
   ]
  },
  {
   "cell_type": "code",
   "execution_count": 706,
   "id": "opposed-anthropology",
   "metadata": {},
   "outputs": [],
   "source": [
    "#remove twitter handlers\n",
    "df_tweety.text = df_tweety.text.apply(lambda x:re.sub('@[^\\s]+','',x))\n",
    "\n",
    "#remove hashtags\n",
    "df_tweety.text = df_tweety.text.apply(lambda x:re.sub(r'\\#[^\\s]+','',x))\n",
    "\n",
    "#remove URLs\n",
    "df_tweety.text = df_tweety.text.apply(lambda x:re.sub(r'https?:\\/\\/[A-Za-z0-9\\.\\/]+', '', x))\n",
    "\n",
    "#remove punctuation\n",
    "df_tweety.text = df_tweety.text.apply(lambda x:x.replace('[^\\w\\s]',''))\n",
    "\n",
    "#remove special characters\n",
    "#df_tweety.text = df_tweety.text.apply(lambda x:re.sub('[^A-Za-z0-9]+', '', x))\n",
    "\n",
    "#remove single characters\n",
    "df_tweety.text = df_tweety.text.apply(lambda x:re.sub(r'\\s+[a-zA-Z]\\s+', '', x))\n",
    "\n",
    "#substitute multiple spaces with single space\n",
    "df_tweety.text = df_tweety.text.apply(lambda x:re.sub(r'\\s+', ' ', x, flags=re.I))\n",
    "\n",
    "#lowercase\n",
    "#df_tweety.text = df_tweety.text.apply(lambda x: ' '.join([word.lower() for word in x.split()]))\n",
    "\n",
    "#remove numbers from words\n",
    "#df_tweety.text = df_tweety.text.apply(lambda x: re.sub('\\w*\\d\\w*', '', x))\n",
    "\n",
    "#remove linebreaks\n",
    "df_tweety.text = df_tweety.text.apply(lambda x: re.sub('\\n', '', x))\n",
    "\n",
    "#remove characters\n",
    "#df_tweety.text = df_tweety.text.apply(lambda x: re.sub('[''\"\"_/]', '', x))"
   ]
  },
  {
   "cell_type": "markdown",
   "id": "second-center",
   "metadata": {},
   "source": [
    "#remove twitter handlers\n",
    "df_tweety.text = df_tweety.text.apply(lambda x:re.sub('@[^\\s]+','',x))\n",
    "\n",
    "#remove hashtags\n",
    "df_tweety.text = df_tweety.text.apply(lambda x:re.sub(r'\\B#\\S+','',x))\n",
    "\n",
    "#remove URLs\n",
    "df_tweety.text = df_tweety.text.apply(lambda x:re.sub(r'https?:\\/\\/[A-Za-z0-9\\.\\/]+', '', x))\n",
    "\n",
    "#remove punctuation\n",
    "#df_tweety.text = df_tweety.text.apply(lambda x:x.replace('[^\\w\\s]',''))\n",
    "\n",
    "#remove special characters\n",
    "#df_tweety.text = df_tweety.text.apply(lambda x:' '.join(re.findall(r'\\w+', x))) #re.sub('[^A-Za-z0-9]+', '', x)\n",
    "\n",
    "#remove single characters\n",
    "df_tweety.text = df_tweety.text.apply(lambda x:re.sub(r'\\s+[a-zA-Z]\\s+', '', x))\n",
    "\n",
    "#substitute multiple spaces with single space\n",
    "df_tweety.text = df_tweety.text.apply(lambda x:re.sub(r'\\s+', ' ', x, flags=re.I))\n",
    "\n",
    "#lowercase\n",
    "#df_tweety.text = df_tweety.text.apply(lambda x: ' '.join([word.lower() for word in x.split()]))\n",
    "\n",
    "#remove numbers from words\n",
    "df_tweety.text = df_tweety.text.apply(lambda x: re.sub('\\w*\\d\\w*', '', x))\n",
    "\n",
    "#remove linebreaks\n",
    "df_tweety.text = df_tweety.text.apply(lambda x: re.sub('\\n', '', x))\n",
    "\n",
    "#remove characters\n",
    "#df_tweety.text = df_tweety.text.apply(lambda x: re.sub('[''\"\"_/]', '', x))"
   ]
  },
  {
   "cell_type": "markdown",
   "id": "spread-donna",
   "metadata": {},
   "source": [
    "# Feature engineering 'text'"
   ]
  },
  {
   "cell_type": "markdown",
   "id": "weighted-factory",
   "metadata": {},
   "source": [
    "### stopwords, stemming, lemmatizing"
   ]
  },
  {
   "cell_type": "code",
   "execution_count": 707,
   "id": "productive-blogger",
   "metadata": {},
   "outputs": [],
   "source": [
    "#remove stopwords\n",
    "stopwords = nltk.corpus.stopwords.words('english')\n",
    "df_tweety.text = df_tweety.text.apply(lambda x:' '.join([word for word in x.split() if word not in stopwords]))"
   ]
  },
  {
   "cell_type": "code",
   "execution_count": 541,
   "id": "improving-rider",
   "metadata": {},
   "outputs": [],
   "source": [
    "#tokenize\n",
    "#df_tweety.text = df_tweety.text.apply(lambda x: ' '.join([word_tokenize(word) for word in x.split() ]))"
   ]
  },
  {
   "cell_type": "code",
   "execution_count": 342,
   "id": "possible-clause",
   "metadata": {},
   "outputs": [],
   "source": [
    "# stemming \n",
    "stemmer = PorterStemmer()\n",
    "#df_tweety.text = df_tweety.text.apply(lambda x: ' '.join([stemmer.stem(word) for word in x.split() ]))"
   ]
  },
  {
   "cell_type": "code",
   "execution_count": 343,
   "id": "dimensional-luxembourg",
   "metadata": {},
   "outputs": [],
   "source": [
    "# lemmazation\n",
    "lemmatizer = WordNetLemmatizer()\n",
    "df_tweety.text = df_tweety.text.apply(lambda x: ' '.join([lemmatizer.lemmatize(word) for word in x.split() ]))"
   ]
  },
  {
   "cell_type": "markdown",
   "id": "nominated-trade",
   "metadata": {},
   "source": [
    "Try to turn abbreviations into regular strings"
   ]
  },
  {
   "cell_type": "markdown",
   "id": "controlling-threat",
   "metadata": {},
   "source": [
    "# First sentiment analysis (VADER)"
   ]
  },
  {
   "cell_type": "code",
   "execution_count": 344,
   "id": "neural-creature",
   "metadata": {},
   "outputs": [],
   "source": [
    "#!pip install vaderSentiment"
   ]
  },
  {
   "cell_type": "code",
   "execution_count": 611,
   "id": "rapid-vegetarian",
   "metadata": {},
   "outputs": [],
   "source": [
    "from vaderSentiment.vaderSentiment import SentimentIntensityAnalyzer"
   ]
  },
  {
   "cell_type": "code",
   "execution_count": 708,
   "id": "hydraulic-recorder",
   "metadata": {},
   "outputs": [],
   "source": [
    "analyser = SentimentIntensityAnalyzer()\n",
    "\n",
    "scores=[]\n",
    "for i in range(len(df_tweety['text'])):\n",
    "    \n",
    "    score = analyser.polarity_scores(df_tweety['text'][i])\n",
    "    score=score['compound']\n",
    "    scores.append(score)\n",
    "    \n",
    "sentiment=[]\n",
    "for i in scores:\n",
    "    if i>=0.06:\n",
    "        sentiment.append('positive')\n",
    "    elif i<=(-0.06):\n",
    "        sentiment.append('negative')\n",
    "    else:\n",
    "        sentiment.append('neutral')\n",
    "\n",
    "df_tweety['sentiment']=pd.Series(np.array(sentiment))\n",
    "df_tweety_vaccs['sentiment']=pd.Series(np.array(sentiment))"
   ]
  },
  {
   "cell_type": "code",
   "execution_count": 709,
   "id": "enormous-orleans",
   "metadata": {},
   "outputs": [],
   "source": [
    "scores = pd.Series(np.array(scores))"
   ]
  },
  {
   "cell_type": "code",
   "execution_count": 710,
   "id": "committed-label",
   "metadata": {},
   "outputs": [
    {
     "data": {
      "text/plain": [
       "Index(['index', 'sentiment'], dtype='object')"
      ]
     },
     "execution_count": 710,
     "metadata": {},
     "output_type": "execute_result"
    }
   ],
   "source": [
    "df_scores = pd.DataFrame(scores).reset_index()\n",
    "df_scores2 = df_scores.rename(columns={0: 'sentiment'})\n",
    "df_scores2.columns"
   ]
  },
  {
   "cell_type": "code",
   "execution_count": 711,
   "id": "seasonal-knight",
   "metadata": {},
   "outputs": [
    {
     "data": {
      "text/plain": [
       "<AxesSubplot:xlabel='index', ylabel='sentiment'>"
      ]
     },
     "execution_count": 711,
     "metadata": {},
     "output_type": "execute_result"
    },
    {
     "data": {
      "image/png": "[encoded data removed]",
      "text/plain": [
       "<Figure size 432x288 with 1 Axes>"
      ]
     },
     "metadata": {
      "needs_background": "light"
     },
     "output_type": "display_data"
    }
   ],
   "source": [
    "df_scores2.plot.scatter(x='index', y='sentiment', alpha=0.5)"
   ]
  },
  {
   "cell_type": "markdown",
   "id": "norman-arctic",
   "metadata": {},
   "source": [
    "## Sentiment Plotting"
   ]
  },
  {
   "cell_type": "markdown",
   "id": "equal-search",
   "metadata": {},
   "source": [
    "### General"
   ]
  },
  {
   "cell_type": "code",
   "execution_count": 712,
   "id": "unusual-radar",
   "metadata": {},
   "outputs": [
    {
     "data": {
      "image/png": "[encoded data removed]",
      "text/plain": [
       "<Figure size 1440x576 with 2 Axes>"
      ]
     },
     "metadata": {
      "needs_background": "light"
     },
     "output_type": "display_data"
    }
   ],
   "source": [
    "order_list = ['positive', 'negative', 'neutral']\n",
    "plt.figure(figsize = (20, 8))\n",
    "plt.subplot(1, 2, 1)\n",
    "sns.countplot(x='sentiment',data=df_tweety[df_tweety['user_verified']==True], order = order_list)\n",
    "ax.set(xlabel='', ylabel='count', title='Sentiment users (verified)')\n",
    "plt.subplot(1, 2, 2)\n",
    "ax = sns.countplot(x='sentiment',data=df_tweety, order = order_list)\n",
    "ax.set(xlabel='', ylabel='count', title='Sentiment users (general)')\n",
    "plt.show()"
   ]
  },
  {
   "cell_type": "markdown",
   "id": "another-windsor",
   "metadata": {},
   "source": [
    "### Vaccines"
   ]
  },
  {
   "cell_type": "code",
   "execution_count": 713,
   "id": "acoustic-drunk",
   "metadata": {},
   "outputs": [],
   "source": [
    "#Create subframes for plotting based on hashtag-bools\n",
    "df_moderna = df_tweety_vaccs[(df_tweety_vaccs['moderna']==True)]\n",
    "df_moderna = df_moderna[['moderna', 'sentiment']]\n",
    "\n",
    "df_vacc = df_tweety_vaccs[(df_tweety_vaccs['vaccine']==True) | \n",
    "                          (df_tweety_vaccs['vaccinated']==True) |\n",
    "                          (df_tweety_vaccs['vaccines']==True) |\n",
    "                          (df_tweety_vaccs['covidvaccination']==True)|\n",
    "                          #(df_tweety_vaccs['coronavaccine']==True)|\n",
    "                          (df_tweety_vaccs['covid19vaccination']==True)]\n",
    "#df_vacc = df_vacc['sentiment']\n",
    "\n",
    "df_sinovac = df_tweety_vaccs[(df_tweety_vaccs['sinovac']==True)]\n",
    "df_sinovac = df_sinovac[['sinovac', 'sentiment']]\n",
    "\n",
    "df_sinopharm = df_tweety_vaccs[(df_tweety_vaccs['sinopharm']==True)]\n",
    "df_sinopharm = df_sinopharm[['sinopharm', 'sentiment']]\n",
    "\n",
    "df_biontech = df_tweety_vaccs[(df_tweety_vaccs['pfizerbiontech']==True)|\n",
    "                              (df_tweety_vaccs['pfizer']==True)|\n",
    "                              (df_tweety_vaccs['pfizervaccine']==True)]\n",
    "df_biontech = df_biontech[['sentiment']]\n",
    "\n",
    "df_astrazeneca = df_tweety_vaccs[(df_tweety_vaccs['astrazeneca']==True)|\n",
    "                                (df_tweety_vaccs['oxfordastrazeneca']==True)|\n",
    "                                (df_tweety_vaccs['moderna']==True)]\n",
    "\n",
    "df_astrazeneca = df_astrazeneca[['sentiment']]\n",
    "\n",
    "df_sputnik = df_tweety_vaccs[(df_tweety_vaccs['sputnikv']==True)]\n",
    "df_sputnik = df_sputnik[['sputnikv', 'sentiment']]\n",
    "\n",
    "#df_mrna = df_tweety_vaccs[(df_tweety_vaccs['mrna']==True)]\n",
    "#df_mrna = df_mrna[['mrna', 'sentiment']]"
   ]
  },
  {
   "cell_type": "code",
   "execution_count": 714,
   "id": "exciting-canadian",
   "metadata": {},
   "outputs": [
    {
     "data": {
      "text/plain": [
       "[Text(0.5, 0, ''), Text(0, 0.5, 'count'), Text(0.5, 1.0, 'Sputnik V')]"
      ]
     },
     "execution_count": 714,
     "metadata": {},
     "output_type": "execute_result"
    },
    {
     "data": {
      "image/png": "[encoded data removed]",
      "text/plain": [
       "<Figure size 1440x1152 with 7 Axes>"
      ]
     },
     "metadata": {
      "needs_background": "light"
     },
     "output_type": "display_data"
    }
   ],
   "source": [
    "order_list = ['positive', 'negative', 'neutral']\n",
    "\n",
    "plt.figure(figsize = (20, 16))\n",
    "\n",
    "plt.subplot(3, 3, 1)\n",
    "ax = sns.countplot(x='sentiment',data=df_vacc, order = order_list)\n",
    "ax.set(xlabel='', ylabel='count', title='Vaccine')\n",
    "plt.subplot(3, 3, 2)\n",
    "sns.countplot(x='sentiment',data=df_moderna, order = order_list)\n",
    "ax.set(xlabel='', ylabel='count', title='Moderna')\n",
    "plt.subplot(3, 3, 3)\n",
    "ax = sns.countplot(x='sentiment',data=df_sinovac, order = order_list)\n",
    "ax.set(xlabel='', ylabel='count', title='Sinovac')\n",
    "\n",
    "plt.subplot(3, 3, 4)\n",
    "ax = sns.countplot(x='sentiment',data=df_sinopharm, order = order_list)\n",
    "ax.set(xlabel='', ylabel='count', title='Sinopharm')\n",
    "plt.subplot(3, 3, 5)\n",
    "ax = sns.countplot(x='sentiment',data=df_biontech, order = order_list)\n",
    "ax.set(xlabel='', ylabel='count', title='Biontech')\n",
    "plt.subplot(3, 3, 6)\n",
    "ax = sns.countplot(x='sentiment',data=df_astrazeneca, order = order_list)\n",
    "ax.set(xlabel='', ylabel='count', title='AstraZeneca')\n",
    "\n",
    "plt.subplot(3, 3, 7)\n",
    "ax = sns.countplot(x='sentiment',data=df_sputnik, order = order_list)\n",
    "ax.set(xlabel='', ylabel='count', title='Sputnik V')\n",
    "#plt.subplot(3, 3, 8)\n",
    "#ax = sns.countplot(x='sentiment',data=df_mrna, order = order_list)\n",
    "#ax.set(xlabel='', ylabel='count', title='mrna')\n"
   ]
  },
  {
   "cell_type": "markdown",
   "id": "accessible-possible",
   "metadata": {},
   "source": [
    "## Influential\n",
    "\n",
    "Identify whether the most popular users tweet predominantly positively, negatively or neutrally. Is it possible to see, how their followers tweet? Is there a mutual influence?\n",
    "\n",
    "Create a measure of influence"
   ]
  },
  {
   "cell_type": "code",
   "execution_count": 715,
   "id": "amino-manual",
   "metadata": {},
   "outputs": [],
   "source": [
    "twinfluence1 = df_tweety.sort_values(\"user_followers\", ascending=False)"
   ]
  },
  {
   "cell_type": "markdown",
   "id": "challenging-feature",
   "metadata": {},
   "source": [
    "### by 'user_follower'"
   ]
  },
  {
   "cell_type": "code",
   "execution_count": 716,
   "id": "integrated-excellence",
   "metadata": {},
   "outputs": [
    {
     "data": {
      "text/plain": [
       "<AxesSubplot:xlabel='user_followers', ylabel='user_name'>"
      ]
     },
     "execution_count": 716,
     "metadata": {},
     "output_type": "execute_result"
    },
    {
     "data": {
      "image/png": "[encoded data removed]",
      "text/plain": [
       "<Figure size 1080x1440 with 1 Axes>"
      ]
     },
     "metadata": {
      "needs_background": "light"
     },
     "output_type": "display_data"
    }
   ],
   "source": [
    "f, ax = plt.subplots(figsize=(15, 20))\n",
    "sns.barplot(x='user_followers', y='user_name', orient='h', data=twinfluence1[['user_name', 'user_followers']][:100])"
   ]
  },
  {
   "cell_type": "code",
   "execution_count": 717,
   "id": "robust-vision",
   "metadata": {},
   "outputs": [
    {
     "data": {
      "text/plain": [
       "<AxesSubplot:xlabel='user_followers', ylabel='user_name'>"
      ]
     },
     "execution_count": 717,
     "metadata": {},
     "output_type": "execute_result"
    },
    {
     "data": {
      "image/png": "[encoded data removed]",
      "text/plain": [
       "<Figure size 1080x1440 with 1 Axes>"
      ]
     },
     "metadata": {
      "needs_background": "light"
     },
     "output_type": "display_data"
    }
   ],
   "source": [
    "order_list = ['positive', 'negative', 'neutral']\n",
    "f, ax = plt.subplots(figsize=(15, 20))\n",
    "sns.barplot(x='user_followers', y='user_name', hue='sentiment', orient='h', data=twinfluence1[['user_name', 'user_followers', 'sentiment']][:100])"
   ]
  },
  {
   "cell_type": "code",
   "execution_count": 718,
   "id": "through-architecture",
   "metadata": {},
   "outputs": [],
   "source": [
    "# delete multiples for certain purposes! Written"
   ]
  },
  {
   "cell_type": "markdown",
   "id": "unsigned-talent",
   "metadata": {},
   "source": [
    "### retweeted"
   ]
  },
  {
   "cell_type": "code",
   "execution_count": 719,
   "id": "blond-physiology",
   "metadata": {},
   "outputs": [
    {
     "data": {
      "text/plain": [
       "<AxesSubplot:xlabel='retweets', ylabel='user_name'>"
      ]
     },
     "execution_count": 719,
     "metadata": {},
     "output_type": "execute_result"
    },
    {
     "data": {
      "image/png": "[encoded data removed]",
      "text/plain": [
       "<Figure size 1080x576 with 1 Axes>"
      ]
     },
     "metadata": {
      "needs_background": "light"
     },
     "output_type": "display_data"
    }
   ],
   "source": [
    "twinfluence2 = df_tweety.sort_values(\"retweets\", ascending=False)\n",
    "\n",
    "f, ax = plt.subplots(figsize=(15, 8))\n",
    "sns.barplot(x='retweets', y='user_name', orient='h', hue='sentiment', data=twinfluence2[['retweets', 'user_name', 'sentiment']][:10])"
   ]
  },
  {
   "cell_type": "markdown",
   "id": "awful-mandate",
   "metadata": {},
   "source": [
    "### 'user_favourites'"
   ]
  },
  {
   "cell_type": "code",
   "execution_count": 720,
   "id": "solved-collective",
   "metadata": {},
   "outputs": [
    {
     "data": {
      "text/plain": [
       "<AxesSubplot:xlabel='favorites', ylabel='user_name'>"
      ]
     },
     "execution_count": 720,
     "metadata": {},
     "output_type": "execute_result"
    },
    {
     "data": {
      "image/png": "[encoded data removed]",
      "text/plain": [
       "<Figure size 1080x576 with 1 Axes>"
      ]
     },
     "metadata": {
      "needs_background": "light"
     },
     "output_type": "display_data"
    }
   ],
   "source": [
    "twinfluence3 = df_tweety.sort_values(\"user_favourites\", ascending=False)\n",
    "\n",
    "f, ax = plt.subplots(figsize=(15, 8))\n",
    "sns.barplot(x='favorites', y='user_name',  hue='sentiment', orient='h', data=twinfluence3[['user_name', 'favorites', 'sentiment']][:20])"
   ]
  },
  {
   "cell_type": "code",
   "execution_count": 721,
   "id": "unusual-tuesday",
   "metadata": {},
   "outputs": [
    {
     "data": {
      "image/png": "[encoded data removed]",
      "text/plain": [
       "<Figure size 1440x576 with 2 Axes>"
      ]
     },
     "metadata": {
      "needs_background": "light"
     },
     "output_type": "display_data"
    }
   ],
   "source": [
    "order_list = ['positive', 'negative', 'neutral']\n",
    "plt.figure(figsize = (20, 8))\n",
    "plt.subplot(1, 2, 1)\n",
    "sns.countplot(x='sentiment',data=df_tweety[df_tweety['user_verified']==True], order = order_list)\n",
    "ax.set(xlabel='', ylabel='count', title='Sentiment users (verified)')\n",
    "plt.subplot(1, 2, 2)\n",
    "ax = sns.countplot(x='sentiment',data=df_tweety, order = order_list)\n",
    "ax.set(xlabel='', ylabel='count', title='Sentiment users (general)')\n",
    "plt.show()"
   ]
  },
  {
   "cell_type": "code",
   "execution_count": 722,
   "id": "attended-birmingham",
   "metadata": {},
   "outputs": [],
   "source": [
    "#df_tweety = pd.concat([df_tweety, pd.get_dummies(df_tweety['sentiment'], drop_first=False, prefix='v')], axis=1)"
   ]
  },
  {
   "cell_type": "markdown",
   "id": "antique-water",
   "metadata": {},
   "source": [
    "### Number of tweets over time"
   ]
  },
  {
   "cell_type": "code",
   "execution_count": 723,
   "id": "lesbian-strike",
   "metadata": {},
   "outputs": [],
   "source": [
    "over_days = df_tweety.groupby(['day'])['id'].count().reset_index()\n",
    "over_days.columns = ['day', 'count']"
   ]
  },
  {
   "cell_type": "code",
   "execution_count": 724,
   "id": "precious-atmosphere",
   "metadata": {},
   "outputs": [
    {
     "data": {
      "text/plain": [
       "(array([18611., 18628., 18642., 18659., 18673., 18687., 18701.]),\n",
       " [Text(0, 0, ''),\n",
       "  Text(0, 0, ''),\n",
       "  Text(0, 0, ''),\n",
       "  Text(0, 0, ''),\n",
       "  Text(0, 0, ''),\n",
       "  Text(0, 0, ''),\n",
       "  Text(0, 0, '')])"
      ]
     },
     "execution_count": 724,
     "metadata": {},
     "output_type": "execute_result"
    },
    {
     "data": {
      "image/png": "[encoded data removed]",
      "text/plain": [
       "<Figure size 720x720 with 1 Axes>"
      ]
     },
     "metadata": {
      "needs_background": "light"
     },
     "output_type": "display_data"
    }
   ],
   "source": [
    "\n",
    "f, ax = plt.subplots(1,1, figsize=(10, 10))\n",
    "sns.lineplot(x=\"day\", y=\"count\",\n",
    "             data=over_days)\n",
    "plt.xticks(rotation=30)"
   ]
  },
  {
   "cell_type": "markdown",
   "id": "champion-sellers",
   "metadata": {},
   "source": [
    "What happened on the first of march, in mid-february and in mid-march?"
   ]
  },
  {
   "cell_type": "markdown",
   "id": "intensive-bryan",
   "metadata": {},
   "source": [
    "### Create dataframe for vaccination progress and sentiments over time"
   ]
  },
  {
   "cell_type": "code",
   "execution_count": 725,
   "id": "latin-surveillance",
   "metadata": {
    "tags": []
   },
   "outputs": [],
   "source": [
    "tweety_wide = pd.pivot_table(df_tweety, index='day', columns='sentiment', values='user_created', aggfunc=pd.Series.nunique)"
   ]
  },
  {
   "cell_type": "code",
   "execution_count": 726,
   "id": "computational-investigator",
   "metadata": {},
   "outputs": [],
   "source": [
    "tweety_flat = pd.DataFrame(tweety_wide.to_records()).drop([0, 102, 103]).reset_index()"
   ]
  },
  {
   "cell_type": "code",
   "execution_count": 727,
   "id": "thousand-peeing",
   "metadata": {},
   "outputs": [],
   "source": [
    "global_vacc = pd.read_csv('Data/df_global.csv')"
   ]
  },
  {
   "cell_type": "code",
   "execution_count": 728,
   "id": "optimum-latin",
   "metadata": {},
   "outputs": [],
   "source": [
    "global_vacc_senti = global_vacc.drop([12]).reset_index(drop=True)"
   ]
  },
  {
   "cell_type": "code",
   "execution_count": 729,
   "id": "endangered-slovakia",
   "metadata": {},
   "outputs": [],
   "source": [
    "global_vacc_senti[['negative', 'neutral', 'positive']] = tweety_flat[['negative', 'neutral', 'positive']]"
   ]
  },
  {
   "cell_type": "code",
   "execution_count": 730,
   "id": "minute-biology",
   "metadata": {},
   "outputs": [],
   "source": [
    "global_vacc_senti.to_csv('Data/global_vacc_senti.csv')"
   ]
  },
  {
   "cell_type": "code",
   "execution_count": 731,
   "id": "accessory-captain",
   "metadata": {},
   "outputs": [],
   "source": [
    "#create dataframes for subcategories\n",
    "#df = df_tweety[(df_tweety[\"user_followers\"]>=10)]# & (df_tweety[\"user_verified\"]==True)] (df_tweety[\"user_followers\"]>=10)"
   ]
  },
  {
   "cell_type": "code",
   "execution_count": 732,
   "id": "eligible-liberia",
   "metadata": {},
   "outputs": [
    {
     "data": {
      "text/plain": [
       "<AxesSubplot:xlabel='day'>"
      ]
     },
     "execution_count": 732,
     "metadata": {},
     "output_type": "execute_result"
    },
    {
     "data": {
      "image/png": "[encoded data removed]",
      "text/plain": [
       "<Figure size 720x720 with 1 Axes>"
      ]
     },
     "metadata": {
      "needs_background": "light"
     },
     "output_type": "display_data"
    }
   ],
   "source": [
    "f, ax = plt.subplots(figsize=(10, 10))\n",
    "sns.lineplot(data=tweety_wide)"
   ]
  },
  {
   "cell_type": "markdown",
   "id": "center-england",
   "metadata": {},
   "source": [
    "# Import labelled tweets and evaluate VADER"
   ]
  },
  {
   "cell_type": "code",
   "execution_count": 733,
   "id": "muslim-performance",
   "metadata": {},
   "outputs": [],
   "source": [
    "from sklearn import metrics\n",
    "from sklearn.metrics import confusion_matrix\n",
    "from sklearn.metrics import jaccard_score"
   ]
  },
  {
   "cell_type": "code",
   "execution_count": 734,
   "id": "broke-former",
   "metadata": {},
   "outputs": [],
   "source": [
    "#!pip install pandas_ml"
   ]
  },
  {
   "cell_type": "code",
   "execution_count": 735,
   "id": "minor-bosnia",
   "metadata": {},
   "outputs": [],
   "source": [
    "df_full_label = pd.read_csv('Data/fulltweets_labels2.csv', sep=';')\n",
    "\n",
    "df_labels = df_full_label.copy()"
   ]
  },
  {
   "cell_type": "code",
   "execution_count": 737,
   "id": "present-cookbook",
   "metadata": {},
   "outputs": [],
   "source": [
    "df_tweety['label'] = df_labels['sentiment']"
   ]
  },
  {
   "cell_type": "code",
   "execution_count": 740,
   "id": "compound-cincinnati",
   "metadata": {},
   "outputs": [],
   "source": [
    "df_test = df_tweety[0:1000]"
   ]
  },
  {
   "cell_type": "code",
   "execution_count": 741,
   "id": "literary-volunteer",
   "metadata": {
    "tags": []
   },
   "outputs": [],
   "source": [
    "#change values from strings to numbers\n",
    "booleans = {'negative': 0, 'positive': 1, 'neutral': 2}\n",
    "\n",
    "df_test['label'] = df_test['label'].map(booleans)\n",
    "df_test['sentiment'] = df_test['sentiment'].map(booleans)"
   ]
  },
  {
   "cell_type": "code",
   "execution_count": 805,
   "id": "graduate-manhattan",
   "metadata": {},
   "outputs": [],
   "source": [
    "#change series to arrays for evaluation\n",
    "y_test = np.array(df_test['label'])\n",
    "y_pred = np.array(df_test['sentiment'])\n",
    "y_test = y_test.astype(float)\n",
    "pd.options.display.float_format = '{:,.0f}'.format"
   ]
  },
  {
   "cell_type": "code",
   "execution_count": 806,
   "id": "moved-charity",
   "metadata": {},
   "outputs": [
    {
     "name": "stdout",
     "output_type": "stream",
     "text": [
      "Confusion Matrix\n",
      "\n",
      "[[ 56  23  34]\n",
      " [ 25 211 134]\n",
      " [ 83 136 298]]\n",
      "\n",
      "Accuracy: 0.56\n",
      "\n",
      "Micro Precision: 0.56\n",
      "Micro Recall: 0.56\n",
      "Micro F1-score: 0.56\n",
      "\n",
      "Macro Precision: 0.52\n",
      "Macro Recall: 0.55\n",
      "Macro F1-score: 0.53\n",
      "\n",
      "Weighted Precision: 0.58\n",
      "Weighted Recall: 0.56\n",
      "Weighted F1-score: 0.57\n",
      "\n",
      "Classification Report\n",
      "\n",
      "              precision    recall  f1-score   support\n",
      "\n",
      "     Class 1       0.34      0.50      0.40       113\n",
      "     Class 2       0.57      0.57      0.57       370\n",
      "     Class 3       0.64      0.58      0.61       517\n",
      "\n",
      "    accuracy                           0.56      1000\n",
      "   macro avg       0.52      0.55      0.53      1000\n",
      "weighted avg       0.58      0.56      0.57      1000\n",
      "\n"
     ]
    }
   ],
   "source": [
    "confusion = confusion_matrix(y_test, y_pred)\n",
    "print('Confusion Matrix\\n')\n",
    "print(confusion)\n",
    "\n",
    "#importing accuracy_score, precision_score, recall_score, f1_score\n",
    "from sklearn.metrics import accuracy_score, precision_score, recall_score, f1_score\n",
    "print('\\nAccuracy: {:.2f}\\n'.format(accuracy_score(y_test, y_pred)))\n",
    "\n",
    "print('Micro Precision: {:.2f}'.format(precision_score(y_test, y_pred, average='micro')))\n",
    "print('Micro Recall: {:.2f}'.format(recall_score(y_test, y_pred, average='micro')))\n",
    "print('Micro F1-score: {:.2f}\\n'.format(f1_score(y_test, y_pred, average='micro')))\n",
    "\n",
    "print('Macro Precision: {:.2f}'.format(precision_score(y_test, y_pred, average='macro')))\n",
    "print('Macro Recall: {:.2f}'.format(recall_score(y_test, y_pred, average='macro')))\n",
    "print('Macro F1-score: {:.2f}\\n'.format(f1_score(y_test, y_pred, average='macro')))\n",
    "\n",
    "print('Weighted Precision: {:.2f}'.format(precision_score(y_test, y_pred, average='weighted')))\n",
    "print('Weighted Recall: {:.2f}'.format(recall_score(y_test, y_pred, average='weighted')))\n",
    "print('Weighted F1-score: {:.2f}'.format(f1_score(y_test, y_pred, average='weighted')))\n",
    "\n",
    "from sklearn.metrics import classification_report\n",
    "print('\\nClassification Report\\n')\n",
    "print(classification_report(y_test, y_pred, target_names=['Class 1', 'Class 2', 'Class 3']))"
   ]
  },
  {
   "cell_type": "code",
   "execution_count": 274,
   "id": "introductory-pierre",
   "metadata": {},
   "outputs": [
    {
     "name": "stdout",
     "output_type": "stream",
     "text": [
      "Confusion Matrix\n",
      "\n",
      "[[ 58  22  32]\n",
      " [ 27 214 129]\n",
      " [ 82 143 292]]\n",
      "\n",
      "Accuracy: 0.56\n",
      "\n",
      "Micro Precision: 0.56\n",
      "Micro Recall: 0.56\n",
      "Micro F1-score: 0.56\n",
      "\n",
      "Macro Precision: 0.52\n",
      "Macro Recall: 0.55\n",
      "Macro F1-score: 0.53\n",
      "\n",
      "Weighted Precision: 0.58\n",
      "Weighted Recall: 0.56\n",
      "Weighted F1-score: 0.57\n",
      "\n",
      "Classification Report\n",
      "\n",
      "              precision    recall  f1-score   support\n",
      "\n",
      "     Class 1       0.35      0.52      0.42       112\n",
      "     Class 2       0.56      0.58      0.57       370\n",
      "     Class 3       0.64      0.56      0.60       517\n",
      "\n",
      "    accuracy                           0.56       999\n",
      "   macro avg       0.52      0.55      0.53       999\n",
      "weighted avg       0.58      0.56      0.57       999\n",
      "\n"
     ]
    }
   ],
   "source": [
    "confusion = confusion_matrix(y_test, y_pred)\n",
    "print('Confusion Matrix\\n')\n",
    "print(confusion)\n",
    "\n",
    "#importing accuracy_score, precision_score, recall_score, f1_score\n",
    "from sklearn.metrics import accuracy_score, precision_score, recall_score, f1_score\n",
    "print('\\nAccuracy: {:.2f}\\n'.format(accuracy_score(y_test, y_pred)))\n",
    "\n",
    "print('Micro Precision: {:.2f}'.format(precision_score(y_test, y_pred, average='micro')))\n",
    "print('Micro Recall: {:.2f}'.format(recall_score(y_test, y_pred, average='micro')))\n",
    "print('Micro F1-score: {:.2f}\\n'.format(f1_score(y_test, y_pred, average='micro')))\n",
    "\n",
    "print('Macro Precision: {:.2f}'.format(precision_score(y_test, y_pred, average='macro')))\n",
    "print('Macro Recall: {:.2f}'.format(recall_score(y_test, y_pred, average='macro')))\n",
    "print('Macro F1-score: {:.2f}\\n'.format(f1_score(y_test, y_pred, average='macro')))\n",
    "\n",
    "print('Weighted Precision: {:.2f}'.format(precision_score(y_test, y_pred, average='weighted')))\n",
    "print('Weighted Recall: {:.2f}'.format(recall_score(y_test, y_pred, average='weighted')))\n",
    "print('Weighted F1-score: {:.2f}'.format(f1_score(y_test, y_pred, average='weighted')))\n",
    "\n",
    "from sklearn.metrics import classification_report\n",
    "print('\\nClassification Report\\n')\n",
    "print(classification_report(y_test, y_pred, target_names=['Class 1', 'Class 2', 'Class 3']))"
   ]
  },
  {
   "cell_type": "code",
   "execution_count": 743,
   "id": "bizarre-consistency",
   "metadata": {
    "jupyter": {
     "source_hidden": true
    },
    "tags": []
   },
   "outputs": [
    {
     "name": "stdout",
     "output_type": "stream",
     "text": [
      "Confusion Matrix\n",
      "\n",
      "[[ 56  23  34]\n",
      " [ 25 211 134]\n",
      " [ 83 136 298]]\n",
      "\n",
      "Accuracy: 0.56\n",
      "\n",
      "Micro Precision: 0.56\n",
      "Micro Recall: 0.56\n",
      "Micro F1-score: 0.56\n",
      "\n",
      "Macro Precision: 0.52\n",
      "Macro Recall: 0.55\n",
      "Macro F1-score: 0.53\n",
      "\n",
      "Weighted Precision: 0.58\n",
      "Weighted Recall: 0.56\n",
      "Weighted F1-score: 0.57\n",
      "\n",
      "Classification Report\n",
      "\n",
      "              precision    recall  f1-score   support\n",
      "\n",
      "     Class 1       0.34      0.50      0.40       113\n",
      "     Class 2       0.57      0.57      0.57       370\n",
      "     Class 3       0.64      0.58      0.61       517\n",
      "\n",
      "    accuracy                           0.56      1000\n",
      "   macro avg       0.52      0.55      0.53      1000\n",
      "weighted avg       0.58      0.56      0.57      1000\n",
      "\n"
     ]
    }
   ],
   "source": [
    "confusion = confusion_matrix(y_test, y_pred)\n",
    "print('Confusion Matrix\\n')\n",
    "print(confusion)\n",
    "\n",
    "#importing accuracy_score, precision_score, recall_score, f1_score\n",
    "from sklearn.metrics import accuracy_score, precision_score, recall_score, f1_score\n",
    "print('\\nAccuracy: {:.2f}\\n'.format(accuracy_score(y_test, y_pred)))\n",
    "\n",
    "print('Micro Precision: {:.2f}'.format(precision_score(y_test, y_pred, average='micro')))\n",
    "print('Micro Recall: {:.2f}'.format(recall_score(y_test, y_pred, average='micro')))\n",
    "print('Micro F1-score: {:.2f}\\n'.format(f1_score(y_test, y_pred, average='micro')))\n",
    "\n",
    "print('Macro Precision: {:.2f}'.format(precision_score(y_test, y_pred, average='macro')))\n",
    "print('Macro Recall: {:.2f}'.format(recall_score(y_test, y_pred, average='macro')))\n",
    "print('Macro F1-score: {:.2f}\\n'.format(f1_score(y_test, y_pred, average='macro')))\n",
    "\n",
    "print('Weighted Precision: {:.2f}'.format(precision_score(y_test, y_pred, average='weighted')))\n",
    "print('Weighted Recall: {:.2f}'.format(recall_score(y_test, y_pred, average='weighted')))\n",
    "print('Weighted F1-score: {:.2f}'.format(f1_score(y_test, y_pred, average='weighted')))\n",
    "\n",
    "from sklearn.metrics import classification_report\n",
    "print('\\nClassification Report\\n')\n",
    "print(classification_report(y_test, y_pred, target_names=['Class 1', 'Class 2', 'Class 3']))"
   ]
  },
  {
   "cell_type": "code",
   "execution_count": 746,
   "id": "intelligent-wedding",
   "metadata": {},
   "outputs": [],
   "source": [
    "%matplotlib inline\n",
    "import matplotlib.pyplot as plt"
   ]
  },
  {
   "cell_type": "code",
   "execution_count": 749,
   "id": "orange-night",
   "metadata": {},
   "outputs": [
    {
     "ename": "AttributeError",
     "evalue": "'numpy.ndarray' object has no attribute 'plot'",
     "output_type": "error",
     "traceback": [
      "\u001b[0;31m---------------------------------------------------------------------------\u001b[0m",
      "\u001b[0;31mAttributeError\u001b[0m                            Traceback (most recent call last)",
      "\u001b[0;32m<ipython-input-749-70b999601bc7>\u001b[0m in \u001b[0;36m<module>\u001b[0;34m\u001b[0m\n\u001b[0;32m----> 1\u001b[0;31m \u001b[0mconfusion\u001b[0m\u001b[0;34m.\u001b[0m\u001b[0mplot\u001b[0m\u001b[0;34m(\u001b[0m\u001b[0;34m)\u001b[0m\u001b[0;34m\u001b[0m\u001b[0;34m\u001b[0m\u001b[0m\n\u001b[0m",
      "\u001b[0;31mAttributeError\u001b[0m: 'numpy.ndarray' object has no attribute 'plot'"
     ]
    }
   ],
   "source": [
    "confusion.plot()"
   ]
  },
  {
   "cell_type": "code",
   "execution_count": null,
   "id": "further-pulse",
   "metadata": {},
   "outputs": [],
   "source": []
  },
  {
   "cell_type": "code",
   "execution_count": null,
   "id": "electrical-january",
   "metadata": {},
   "outputs": [],
   "source": []
  },
  {
   "cell_type": "markdown",
   "id": "quick-absence",
   "metadata": {},
   "source": [
    "# Second sentiment analysis (BLOB)"
   ]
  },
  {
   "cell_type": "code",
   "execution_count": 750,
   "id": "convenient-desire",
   "metadata": {},
   "outputs": [],
   "source": [
    "# TextBlob - Python library for processing textual data\n",
    "from textblob import TextBlob\n",
    "\n",
    "# Matplotlib - plotting library to create graphs and charts\n",
    "import matplotlib.pyplot as plt\n",
    "\n",
    "# Settings for Matplotlib graphs and charts\n",
    "from pylab import rcParams\n",
    "rcParams['figure.figsize'] = 12, 8"
   ]
  },
  {
   "cell_type": "code",
   "execution_count": 751,
   "id": "quick-hamburg",
   "metadata": {},
   "outputs": [],
   "source": [
    "#!pip install textblob"
   ]
  },
  {
   "cell_type": "code",
   "execution_count": 793,
   "id": "reduced-arkansas",
   "metadata": {},
   "outputs": [],
   "source": [
    "df = pd.read_csv('fulltweets.csv')\n",
    "df_tweety2 = df.copy()"
   ]
  },
  {
   "cell_type": "code",
   "execution_count": 795,
   "id": "vulnerable-steal",
   "metadata": {},
   "outputs": [],
   "source": [
    "df_tweety_vaccs2 = pd.concat([df_tweety2, hasht_bool], axis=1)\n",
    "df_tweety_vaccs2 = df_tweety_vaccs2.drop(['id', 'user_location', 'user_description', 'user_created',\n",
    "       'user_followers', 'user_friends', 'user_favourites', 'hashtags', 'user_verified', 'source', 'is_retweet',\n",
    "       'date'], axis=1)"
   ]
  },
  {
   "cell_type": "code",
   "execution_count": 796,
   "id": "tight-parks",
   "metadata": {},
   "outputs": [],
   "source": [
    "def getTextSubjectivity(txt):\n",
    "    return TextBlob(txt).sentiment.subjectivity\n",
    "\n",
    "def getTextPolarity(txt):\n",
    "    return TextBlob(txt).sentiment.polarity"
   ]
  },
  {
   "cell_type": "code",
   "execution_count": 797,
   "id": "surprised-salon",
   "metadata": {},
   "outputs": [],
   "source": [
    "df_tweety_vaccs2['subjectivity'] = df_tweety_vaccs2['text'].apply(getTextSubjectivity)\n",
    "df_tweety_vaccs2['sentiment'] = df_tweety_vaccs2['text'].apply(getTextPolarity)\n",
    "\n",
    "df_tweety2['subjectivity'] = df_tweety2['text'].apply(getTextSubjectivity)\n",
    "df_tweety2['sentiment'] = df_tweety2['text'].apply(getTextPolarity)"
   ]
  },
  {
   "cell_type": "code",
   "execution_count": 759,
   "id": "metallic-bachelor",
   "metadata": {},
   "outputs": [],
   "source": [
    "# negative, nautral, positive analysis\n",
    "def getTextAnalysis(tweet):\n",
    "    if tweet >= 0.05:\n",
    "        return \"positive\"\n",
    "    elif tweet <= (-0.05):\n",
    "        return \"negative\"\n",
    "    else:\n",
    "        return \"neutral\""
   ]
  },
  {
   "cell_type": "code",
   "execution_count": 798,
   "id": "nutritional-vietnamese",
   "metadata": {},
   "outputs": [],
   "source": [
    "df_tweety_vaccs2['sentiment'] = df_tweety_vaccs2['sentiment'].apply(getTextAnalysis)\n",
    "df_tweety2['sentiment'] = df_tweety2['sentiment'].apply(getTextAnalysis)"
   ]
  },
  {
   "cell_type": "code",
   "execution_count": 800,
   "id": "straight-butterfly",
   "metadata": {},
   "outputs": [],
   "source": [
    "df_tweety2['label'] = df_labels['sentiment']"
   ]
  },
  {
   "cell_type": "code",
   "execution_count": 807,
   "id": "fabulous-session",
   "metadata": {},
   "outputs": [],
   "source": [
    "df_blobtest = df_tweety2[0:1000]"
   ]
  },
  {
   "cell_type": "code",
   "execution_count": 810,
   "id": "technical-chuck",
   "metadata": {
    "tags": []
   },
   "outputs": [],
   "source": [
    "booleans = {'negative': 0, 'positive': 1, 'neutral': 2}\n",
    "\n",
    "df_blobtest['label'] = df_blobtest['label'].map(booleans)\n",
    "df_blobtest['sentiment'] = df_blobtest['sentiment'].map(booleans)"
   ]
  },
  {
   "cell_type": "code",
   "execution_count": 811,
   "id": "smaller-carbon",
   "metadata": {},
   "outputs": [],
   "source": [
    "y_test = np.array(df_blobtest['label'])\n",
    "y_pred = np.array(df_blobtest['sentiment'])\n",
    "y_test = y_blobtest.astype(float)\n",
    "pd.options.display.float_format = '{:,.0f}'.format"
   ]
  },
  {
   "cell_type": "code",
   "execution_count": 812,
   "id": "square-bones",
   "metadata": {},
   "outputs": [
    {
     "name": "stdout",
     "output_type": "stream",
     "text": [
      "Confusion Matrix\n",
      "\n",
      "[[ 20  29  64]\n",
      " [ 19 183 168]\n",
      " [ 44 138 335]]\n",
      "\n",
      "Accuracy: 0.54\n",
      "\n",
      "Micro Precision: 0.54\n",
      "Micro Recall: 0.54\n",
      "Micro F1-score: 0.54\n",
      "\n",
      "Macro Precision: 0.45\n",
      "Macro Recall: 0.44\n",
      "Macro F1-score: 0.44\n",
      "\n",
      "Weighted Precision: 0.53\n",
      "Weighted Recall: 0.54\n",
      "Weighted F1-score: 0.53\n",
      "\n",
      "Classification Report\n",
      "\n",
      "              precision    recall  f1-score   support\n",
      "\n",
      "     Class 1       0.24      0.18      0.20       113\n",
      "     Class 2       0.52      0.49      0.51       370\n",
      "     Class 3       0.59      0.65      0.62       517\n",
      "\n",
      "    accuracy                           0.54      1000\n",
      "   macro avg       0.45      0.44      0.44      1000\n",
      "weighted avg       0.53      0.54      0.53      1000\n",
      "\n"
     ]
    }
   ],
   "source": [
    "confusion = confusion_matrix(y_test, y_pred)\n",
    "print('Confusion Matrix\\n')\n",
    "print(confusion)\n",
    "\n",
    "#importing accuracy_score, precision_score, recall_score, f1_score\n",
    "from sklearn.metrics import accuracy_score, precision_score, recall_score, f1_score\n",
    "print('\\nAccuracy: {:.2f}\\n'.format(accuracy_score(y_test, y_pred)))\n",
    "\n",
    "print('Micro Precision: {:.2f}'.format(precision_score(y_test, y_pred, average='micro')))\n",
    "print('Micro Recall: {:.2f}'.format(recall_score(y_test, y_pred, average='micro')))\n",
    "print('Micro F1-score: {:.2f}\\n'.format(f1_score(y_test, y_pred, average='micro')))\n",
    "\n",
    "print('Macro Precision: {:.2f}'.format(precision_score(y_test, y_pred, average='macro')))\n",
    "print('Macro Recall: {:.2f}'.format(recall_score(y_test, y_pred, average='macro')))\n",
    "print('Macro F1-score: {:.2f}\\n'.format(f1_score(y_test, y_pred, average='macro')))\n",
    "\n",
    "print('Weighted Precision: {:.2f}'.format(precision_score(y_test, y_pred, average='weighted')))\n",
    "print('Weighted Recall: {:.2f}'.format(recall_score(y_test, y_pred, average='weighted')))\n",
    "print('Weighted F1-score: {:.2f}'.format(f1_score(y_test, y_pred, average='weighted')))\n",
    "\n",
    "from sklearn.metrics import classification_report\n",
    "print('\\nClassification Report\\n')\n",
    "print(classification_report(y_test, y_pred, target_names=['Class 1', 'Class 2', 'Class 3']))"
   ]
  },
  {
   "cell_type": "code",
   "execution_count": 815,
   "id": "native-triple",
   "metadata": {},
   "outputs": [
    {
     "ename": "AttributeError",
     "evalue": "'numpy.ndarray' object has no attribute 'plot'",
     "output_type": "error",
     "traceback": [
      "\u001b[0;31m---------------------------------------------------------------------------\u001b[0m",
      "\u001b[0;31mAttributeError\u001b[0m                            Traceback (most recent call last)",
      "\u001b[0;32m<ipython-input-815-70b999601bc7>\u001b[0m in \u001b[0;36m<module>\u001b[0;34m\u001b[0m\n\u001b[0;32m----> 1\u001b[0;31m \u001b[0mconfusion\u001b[0m\u001b[0;34m.\u001b[0m\u001b[0mplot\u001b[0m\u001b[0;34m(\u001b[0m\u001b[0;34m)\u001b[0m\u001b[0;34m\u001b[0m\u001b[0;34m\u001b[0m\u001b[0m\n\u001b[0m",
      "\u001b[0;31mAttributeError\u001b[0m: 'numpy.ndarray' object has no attribute 'plot'"
     ]
    }
   ],
   "source": [
    "confusion.plot()"
   ]
  },
  {
   "cell_type": "code",
   "execution_count": null,
   "id": "configured-thirty",
   "metadata": {},
   "outputs": [],
   "source": []
  }
 ],
 "metadata": {
  "kernelspec": {
   "display_name": "Python 3",
   "language": "python",
   "name": "python3"
  },
  "language_info": {
   "codemirror_mode": {
    "name": "ipython",
    "version": 3
   },
   "file_extension": ".py",
   "mimetype": "text/x-python",
   "name": "python",
   "nbconvert_exporter": "python",
   "pygments_lexer": "ipython3",
   "version": "3.8.5"
  }
 },
 "nbformat": 4,
 "nbformat_minor": 5
}
