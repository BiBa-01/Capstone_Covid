{
 "cells": [
  {
   "cell_type": "markdown",
   "id": "three-battery",
   "metadata": {},
   "source": [
    "![](images/vaccine-6116391_1920_pixabay.jpg)"
   ]
  },
  {
   "cell_type": "markdown",
   "id": "genuine-detective",
   "metadata": {},
   "source": [
    "# **COVID-19 Vaccination Progress - Exploratory Data Analysis**"
   ]
  },
  {
   "cell_type": "markdown",
   "id": "bearing-system",
   "metadata": {},
   "source": [
    "## INTRODUCTION\n",
    "\n",
    "***\n",
    "\n",
    "### COVID-19 pandemic\n",
    "\n",
    "The coronavirus disease (COVID-19) is an infectious disease which is caused by a new coronavirus and was first detected in Q4 2019. As the disease spread around the world it was declared a pandemic early in 2020. Now, a year later (March 2021), the effects of the global pandemic continues to affect and change the lives of each and everyone across the world. Whereas most people who contract the disease will experience mild to moderate respiratory illness and recover without requiring special treatment, especially the elderly, and those with underlying medical problems are more likely to develop very serious conditions. The way forward in fighting the disease is to vaccinate the world population. In our EDA we will investigate the progress of this process from the last 3 months.\n",
    "A complete overview of the COVID-19 pandemic by the [WHO](https://www.who.int/health-topics/coronavirus#tab=tab_1).\n",
    "\n",
    "***\n",
    "\n",
    "### COVID-19 vaccines\n",
    "\n",
    "The speed at which the first COVID-19 vaccines were developed as a response to the pandemic was extraordinary. Overall it took less than a year to successfully develop and approve several vaccines, a timeframe significantly shorter than usually observed for the development of new vaccines. It is important that development of further vaccines continues, as it does, as a very large share of the world population will need to receive a COVID-19 vaccine in order to become immune to the virus, so that we can successfully combat the pandemic. In addition, the appearance of more and more mutated versions of the SARS-CoV-2 virus calls for the development of additional vaccines to offer a wide bandwidth of starting points to also sucessfully combat these mutants. As such, one of the key challenges is to vaccinate people around the world. ['OurWorldinData'](https://ourworldindata.org/covid-vaccinations) create and make available a daily updated dataset on international COVID-19 vaccinations to track these efforts.\n",
    "\n",
    "There are different types of vaccines developed to target SARS-CoV-2, RNA based vaccines and cell based vaccines (recombinant and inactivated) and protein subunit based vaccines. An overview of the different types can be found [here](https://covid19.trackvaccines.org/how-do-vaccines-work/#types).\n",
    "\n",
    "mRNA VACCINES: mRNA vaccines contain mRNA with instructions for making the spike protein. This protein is expressed the surface of the SARS-CoV-2 virus and required to enter cells. Upon vaccination the spike protein is produced and will be recognised by the immune system as foreign. This results in the production of antibodies and activated T cells (white blood cells) which will attack it. This information is stored by the immune system so that if it encounters the SARS-CoV-2 virus again it can act fast to eliminate it.\n",
    "\n",
    "RECOMBINANT VACCINES: Recombinant vaccines are made up of another virus (which cannot reproduce and cause disease) that has been modified to contain the gene for making the SARS-CoV-2 spike protein. This protein is expressed the surface of the SARS-CoV-2 virus and required to enter cells. Upon vaccination the spike protein is produced and will be recognised by the immune system as foreign. This results in the production of antibodies and activated T cells (white blood cells) which will attack it. This information is stored by the immune system so that if it encounters the SARS-CoV-2 virus again it can act fast to eliminate it.\n",
    "\n",
    "Several institutions maintain websites on which they list COVID-19 candidate vaccines that are currently being developed. The [WHO Vaccine Tracker](https://www.who.int/publications/m/item/draft-landscape-of-covid-19-candidate-vaccines) is one of them and provides a concise overview. Additional information on COVID-19 vaccines by the WHO can be found [here](https://www.who.int/emergencies/diseases/novel-coronavirus-2019/covid-19-vaccines).\n",
    "\n",
    "\n",
    "At this point an overview of the approved vaccines will be given for selected countries only (USA, EU, China, India, Israel, Russia) [status: 31st March 2021].\n",
    "\n",
    "General overview of the current (31st March 2021) top 4 vaccines with respect to the number of countries in which they received authorisation:\n",
    "\n",
    "| VACCINE | Approved in | type of vaccine |\n",
    "|----|----|----|\n",
    "| Oxford/AstraZeneca | 82 countries | RECOMBINANT (non-replicating viral vector) |\n",
    "| Pfizer/BioNTech | 79 countries | messenger RNA (mRNA) (nucleoside-modified) |\n",
    "| Johnson & Johnson (Janssen) | 37 countries | RECOMBINANT (non-replicating viral vector) |\n",
    "| Covishield (Serum Inst. of India) | 31 countries | RECOMBINANT (non-replicating viral vector) |\n",
    "\n",
    "\n",
    "#### USA\n",
    "\n",
    "+ [FDA vaccine overview](https://www.fda.gov/emergency-preparedness-and-response/coronavirus-disease-2019-covid-19/covid-19-vaccines)\n",
    "\n",
    "| VACCINE | status | type of vaccine | administration |\n",
    "|----|----|----|----|\n",
    "| Pfizer/BioNTech | authorised for emergency use (11/12/2020) | RECOMBINANT (non-replicating viral vector) | 2 intramuscular injections, 4-12 weeks apart |\n",
    "| Moderna | authorised for emergency use (18/12/2020) | messenger RNA (mRNA) (nucleoside-modified) | 2 intramuscular injections, 28 days apart |\n",
    "| Johnson & Johnson (Janssen) | authorised for emergency use (27/02/2021) | RECOMBINANT (non-replicating viral vector) |\n",
    "\n",
    "\n",
    "#### European Union\n",
    "\n",
    "NOTE: The following summary reflects the approved vaccines in the EU, not Europe. In Switzerland the Oxford/AstraZeneca vaccine is not approved, and in the UK not Johnson & Johnson is not approved.\n",
    "\n",
    "+ [EMA vaccine overview](https://www.ema.europa.eu/en/human-regulatory/overview/public-health-threats/coronavirus-disease-covid-19/treatments-vaccines/vaccines-covid-19/covid-19-vaccines-key-facts)\n",
    "\n",
    "+ [Authorised vaccine overview - European medicines agency - EMA](https://www.ema.europa.eu/en/human-regulatory/overview/public-health-threats/coronavirus-disease-covid-19/treatments-vaccines/vaccines-covid-19/covid-19-vaccines-authorised)\n",
    "\n",
    "| VACCINE | status | type of vaccine | administration |\n",
    "|----|----|----|----|\n",
    "| Pfizer/BioNTech (Corminaty) | conditional marketing authorisation granted (21/12/2020) | messenger RNA (mRNA) (nucleoside-modified) | 2 intramuscular injections, 3 weeks apart |\n",
    "| Johnson & Johnson (Janssen) | conditional marketing authorisation granted (11/03/2021) | RECOMBINANT (non-replicating viral vector) |\n",
    "| Moderna | conditional marketing authorisation granted (06/01/2021) | messenger RNA (mRNA) (nucleoside-modified) | 2 intramuscular injections, 28 days apart |\n",
    "| AstraZeneca (Vaxzevria) | conditional marketing authorisation granted (29/01/2021) | RECOMBINANT (non-replicating viral vector) | 2 intramuscular injections, 4-12 weeks apart |\n",
    "\n",
    "\n",
    "#### China, India, Israel and Russia\n",
    "\n",
    "| VACCINE | type of vaccine | country |\n",
    "|----|----|----|\n",
    "| Sinopharm Wuhan | INACTIVATED virus | China |\n",
    "| Sinopharm Beijing | INACTIVATED virus | China |\n",
    "| Covaxin (Bharat Biotech) | INACTIVATED virus | China, India |\n",
    "| CanSino | RECOMBINANT (non-replicating viral vector) | China |\n",
    "| Anhui Zhifei Longcom (RBD-Dimer) | Protein subunit | China |\n",
    "| Oxford/AstraZeneca | RECOMBINANT (non-replicating viral vector) | India |\n",
    "| Covishield (Serum Inst. of India) | RECOMBINANT (non-replicating viral vector) | India |\n",
    "| Pfizer/BioNTech | messenger RNA (mRNA) (nucleoside-modified) | Israel |\n",
    "| Moderna | messenger RNA (mRNA) (nucleoside-modified) | Israel |\n",
    "| Sputnik V | RECOMBINANT (non-replicating viral vector) | Russia |\n",
    "| EpiVacCorona | Protein subunit | Russia |\n",
    "\n",
    "An overview of clinical trials and vaccine authorisations by country can be found [here](https://covid19.trackvaccines.org/trials-vaccines-by-country/).\n",
    "\n",
    "An overview of the different types of vaccines can be found [here](https://www.who.int/news-room/feature-stories/detail/the-race-for-a-covid-19-vaccine-explained).\n",
    "\n",
    "In summary it can be noted that out of the total 12 vaccines listed above to date only 10 appear in the dataset, i.e. Covaxin, EpiVacCorona, Johnson & Johnson, Moderna, Oxford/AstraZeneca, Pfizer/BioNTech, Sinopharm Beijing, Sinopharm Wuhan, Sinovac, Sputnik V. Two chinese vaccines CanSino and Anhui Zhifei Longcom are not currently covered by the dataset. It can also be noted that some vaccines are approved accross numerous countries, whereas others are predominantly appoved in only a limited number of countries. The above overview of vaccines is not exhaustive and there may be some approved vaccines that are not included. And, of course, the approval of new vaccines is a dynamic progress, so the overview only reflects the status as of 31st March 2021.\n",
    "\n",
    "IMPORTANT NOTE! Different vaccines are approved for use in different countries and thus influence which vaccines and how many are available in each country. In addition the available is strongly influenced by the production capacity of each vaccine.\n",
    "\n",
    "***\n",
    "\n",
    "### Key objectives\n",
    "\n",
    "- Which country is the fastest with vaccinating its people?\n",
    "- Which country vaccinated the most (absolute)?\n",
    "- Which vaccines are used more often (information not available by quantity only as combination with all used vaccines per country?# noch offen\n",
    "- How looks the vaccination progress by region?\n",
    "\n",
    "***\n",
    "\n",
    "### Dataset overview\n",
    "\n",
    "The dataset used in this capstone project is COVID-19 World Vaccination Progress (version 81) created by Gabriel Preda and [available on Kaggle](https://www.kaggle.com/gpreda/covid-world-vaccination-progress). It is a compilation of COVID-19 vaccination data provided by [OurWordinData](https://ourworldindata.org/covid-vaccinations). The 'OurWorldinData' website contains a plethory of information regarding the global vaccination progress, including visualisations of the progress as well as an overview of approved vaccines worldwide. \n",
    "\n",
    "**The dataset contains 8079 observations for 15 features.**\n",
    "\n",
    "| FEATURE | description | comment |\n",
    "|----|----|----|\n",
    "| **country** | 147 countries | 4 duplicates, UN recognises 197 countries (193 are members) |\n",
    "| **iso_code** | country code by ISO norm | -|\n",
    "| **date** | data entry (13th December 2020 to 24th March 2021) | - |\n",
    "| **vaccines** | name/company | - |\n",
    "| **daily_vaccinations** | no. of vaccination for that date/country | some days only daily vaccinations, some days only the (cummulative) total |\n",
    "| **daily_vaccinations_raw** | daily vaccinations as CHANGE COMPARED TO PREVIOUS DAY (cross-check purposes) | calculation: total_vaccinations (day) - total_vaccination (previous day) |\n",
    "| **daily_vaccinations_per_million** | ratio (in ppm) between vaccination number and total population for the current date in the country | - |\n",
    "| **total_vaccinations** | absolute number of immunisations (jabs) in the country | some days only daily vaccinations, some days only the (cummulative) total |\n",
    "| **total_vaccinations_per_hundred** | ratio (in percent) between vaccination number and total population up to the date in the country | - |\n",
    "| **people_vaccinated** | total no. of people with immunisation (partial and full) | - |\n",
    "| **people_vaccinated_per_hundred** | ratio (in percent) between population immunized (partial and full) and total population | - |\n",
    "| **people_fully_vaccinated** | total no. of people with full immunisation (typically 2) | - |\n",
    "| **people_fully_vaccinated_per_hundred** | ratio (in percent) between population fully immunized and total population | - |\n",
    "| **source_name** | national authority, international organization, local organization etc. | - |\n",
    "| **source_website** | website link to source | - |\n",
    "\n",
    "***\n",
    "***"
   ]
  },
  {
   "cell_type": "code",
   "execution_count": 1,
   "id": "creative-naples",
   "metadata": {},
   "outputs": [],
   "source": [
    "#common imports:\n",
    "import numpy as np\n",
    "import pandas as pd\n",
    "from datetime import datetime as dt\n",
    "import os\n",
    "\n",
    "import matplotlib.dates as md\n",
    "\n",
    "#import for visualization\n",
    "from matplotlib.ticker import FuncFormatter\n",
    "import matplotlib.pyplot as plt\n",
    "%matplotlib inline\n",
    "import matplotlib.colors\n",
    "import seaborn as sns\n",
    "import plotly.graph_objects as go\n",
    "import plotly.express as px\n",
    "from bokeh.plotting import figure \n",
    "from bokeh.io import output_notebook, show\n",
    "#for Worldmap\n",
    "#import shapefile as shp\n",
    "\n",
    "\n",
    "#for timeseries:\n",
    "import statsmodels.formula.api as smf\n",
    "from statsmodels.tsa.seasonal import seasonal_decompose\n",
    "from scipy.ndimage import gaussian_filter\n",
    "\n",
    "\n",
    "#from wordcloud import WordCloud\n",
    "from pandas_profiling import ProfileReport\n",
    "\n",
    "sns.set(rc={'figure.figsize':(10,8)})\n",
    "\n",
    "\n",
    "#suppress pandas future warnings:\n",
    "import warnings\n",
    "warnings.simplefilter(action='ignore', category=FutureWarning)\n",
    "\n",
    "# Where to save the figures\n",
    "PROJECT_ROOT_DIR = \".\"\n",
    "CHAPTER_ID = \"end_to_end_project\"\n",
    "IMAGES_PATH = os.path.join(PROJECT_ROOT_DIR, \"images\", CHAPTER_ID)\n",
    "os.makedirs(IMAGES_PATH, exist_ok=True)\n",
    "\n",
    "def save_fig(fig_id, tight_layout=True, fig_extension=\"png\", resolution=300):\n",
    "    path = os.path.join(IMAGES_PATH, fig_id + \".\" + fig_extension)\n",
    "    print(\"Saving figure\", fig_id)\n",
    "    if tight_layout:\n",
    "        plt.tight_layout()\n",
    "    plt.savefig(path, format=fig_extension, dpi=resolution)\n",
    "\n",
    "    "
   ]
  },
  {
   "cell_type": "code",
   "execution_count": 2,
   "id": "going-punch",
   "metadata": {},
   "outputs": [
    {
     "data": {
      "text/html": [
       "\n",
       "    <div class=\"bk-root\">\n",
       "        <a href=\"https://bokeh.org\" target=\"_blank\" class=\"bk-logo bk-logo-small bk-logo-notebook\"></a>\n",
       "        <span id=\"1002\">Loading BokehJS ...</span>\n",
       "    </div>"
      ]
     },
     "metadata": {},
     "output_type": "display_data"
    },
    {
     "data": {
      "application/javascript": [
       "\n",
       "(function(root) {\n",
       "  function now() {\n",
       "    return new Date();\n",
       "  }\n",
       "\n",
       "  var force = true;\n",
       "\n",
       "  if (typeof root._bokeh_onload_callbacks === \"undefined\" || force === true) {\n",
       "    root._bokeh_onload_callbacks = [];\n",
       "    root._bokeh_is_loading = undefined;\n",
       "  }\n",
       "\n",
       "  var JS_MIME_TYPE = 'application/javascript';\n",
       "  var HTML_MIME_TYPE = 'text/html';\n",
       "  var EXEC_MIME_TYPE = 'application/vnd.bokehjs_exec.v0+json';\n",
       "  var CLASS_NAME = 'output_bokeh rendered_html';\n",
       "\n",
       "  /**\n",
       "   * Render data to the DOM node\n",
       "   */\n",
       "  function render(props, node) {\n",
       "    var script = document.createElement(\"script\");\n",
       "    node.appendChild(script);\n",
       "  }\n",
       "\n",
       "  /**\n",
       "   * Handle when an output is cleared or removed\n",
       "   */\n",
       "  function handleClearOutput(event, handle) {\n",
       "    var cell = handle.cell;\n",
       "\n",
       "    var id = cell.output_area._bokeh_element_id;\n",
       "    var server_id = cell.output_area._bokeh_server_id;\n",
       "    // Clean up Bokeh references\n",
       "    if (id != null && id in Bokeh.index) {\n",
       "      Bokeh.index[id].model.document.clear();\n",
       "      delete Bokeh.index[id];\n",
       "    }\n",
       "\n",
       "    if (server_id !== undefined) {\n",
       "      // Clean up Bokeh references\n",
       "      var cmd = \"from bokeh.io.state import curstate; print(curstate().uuid_to_server['\" + server_id + \"'].get_sessions()[0].document.roots[0]._id)\";\n",
       "      cell.notebook.kernel.execute(cmd, {\n",
       "        iopub: {\n",
       "          output: function(msg) {\n",
       "            var id = msg.content.text.trim();\n",
       "            if (id in Bokeh.index) {\n",
       "              Bokeh.index[id].model.document.clear();\n",
       "              delete Bokeh.index[id];\n",
       "            }\n",
       "          }\n",
       "        }\n",
       "      });\n",
       "      // Destroy server and session\n",
       "      var cmd = \"import bokeh.io.notebook as ion; ion.destroy_server('\" + server_id + \"')\";\n",
       "      cell.notebook.kernel.execute(cmd);\n",
       "    }\n",
       "  }\n",
       "\n",
       "  /**\n",
       "   * Handle when a new output is added\n",
       "   */\n",
       "  function handleAddOutput(event, handle) {\n",
       "    var output_area = handle.output_area;\n",
       "    var output = handle.output;\n",
       "\n",
       "    // limit handleAddOutput to display_data with EXEC_MIME_TYPE content only\n",
       "    if ((output.output_type != \"display_data\") || (!Object.prototype.hasOwnProperty.call(output.data, EXEC_MIME_TYPE))) {\n",
       "      return\n",
       "    }\n",
       "\n",
       "    var toinsert = output_area.element.find(\".\" + CLASS_NAME.split(' ')[0]);\n",
       "\n",
       "    if (output.metadata[EXEC_MIME_TYPE][\"id\"] !== undefined) {\n",
       "      toinsert[toinsert.length - 1].firstChild.textContent = output.data[JS_MIME_TYPE];\n",
       "      // store reference to embed id on output_area\n",
       "      output_area._bokeh_element_id = output.metadata[EXEC_MIME_TYPE][\"id\"];\n",
       "    }\n",
       "    if (output.metadata[EXEC_MIME_TYPE][\"server_id\"] !== undefined) {\n",
       "      var bk_div = document.createElement(\"div\");\n",
       "      bk_div.innerHTML = output.data[HTML_MIME_TYPE];\n",
       "      var script_attrs = bk_div.children[0].attributes;\n",
       "      for (var i = 0; i < script_attrs.length; i++) {\n",
       "        toinsert[toinsert.length - 1].firstChild.setAttribute(script_attrs[i].name, script_attrs[i].value);\n",
       "        toinsert[toinsert.length - 1].firstChild.textContent = bk_div.children[0].textContent\n",
       "      }\n",
       "      // store reference to server id on output_area\n",
       "      output_area._bokeh_server_id = output.metadata[EXEC_MIME_TYPE][\"server_id\"];\n",
       "    }\n",
       "  }\n",
       "\n",
       "  function register_renderer(events, OutputArea) {\n",
       "\n",
       "    function append_mime(data, metadata, element) {\n",
       "      // create a DOM node to render to\n",
       "      var toinsert = this.create_output_subarea(\n",
       "        metadata,\n",
       "        CLASS_NAME,\n",
       "        EXEC_MIME_TYPE\n",
       "      );\n",
       "      this.keyboard_manager.register_events(toinsert);\n",
       "      // Render to node\n",
       "      var props = {data: data, metadata: metadata[EXEC_MIME_TYPE]};\n",
       "      render(props, toinsert[toinsert.length - 1]);\n",
       "      element.append(toinsert);\n",
       "      return toinsert\n",
       "    }\n",
       "\n",
       "    /* Handle when an output is cleared or removed */\n",
       "    events.on('clear_output.CodeCell', handleClearOutput);\n",
       "    events.on('delete.Cell', handleClearOutput);\n",
       "\n",
       "    /* Handle when a new output is added */\n",
       "    events.on('output_added.OutputArea', handleAddOutput);\n",
       "\n",
       "    /**\n",
       "     * Register the mime type and append_mime function with output_area\n",
       "     */\n",
       "    OutputArea.prototype.register_mime_type(EXEC_MIME_TYPE, append_mime, {\n",
       "      /* Is output safe? */\n",
       "      safe: true,\n",
       "      /* Index of renderer in `output_area.display_order` */\n",
       "      index: 0\n",
       "    });\n",
       "  }\n",
       "\n",
       "  // register the mime type if in Jupyter Notebook environment and previously unregistered\n",
       "  if (root.Jupyter !== undefined) {\n",
       "    var events = require('base/js/events');\n",
       "    var OutputArea = require('notebook/js/outputarea').OutputArea;\n",
       "\n",
       "    if (OutputArea.prototype.mime_types().indexOf(EXEC_MIME_TYPE) == -1) {\n",
       "      register_renderer(events, OutputArea);\n",
       "    }\n",
       "  }\n",
       "\n",
       "  \n",
       "  if (typeof (root._bokeh_timeout) === \"undefined\" || force === true) {\n",
       "    root._bokeh_timeout = Date.now() + 5000;\n",
       "    root._bokeh_failed_load = false;\n",
       "  }\n",
       "\n",
       "  var NB_LOAD_WARNING = {'data': {'text/html':\n",
       "     \"<div style='background-color: #fdd'>\\n\"+\n",
       "     \"<p>\\n\"+\n",
       "     \"BokehJS does not appear to have successfully loaded. If loading BokehJS from CDN, this \\n\"+\n",
       "     \"may be due to a slow or bad network connection. Possible fixes:\\n\"+\n",
       "     \"</p>\\n\"+\n",
       "     \"<ul>\\n\"+\n",
       "     \"<li>re-rerun `output_notebook()` to attempt to load from CDN again, or</li>\\n\"+\n",
       "     \"<li>use INLINE resources instead, as so:</li>\\n\"+\n",
       "     \"</ul>\\n\"+\n",
       "     \"<code>\\n\"+\n",
       "     \"from bokeh.resources import INLINE\\n\"+\n",
       "     \"output_notebook(resources=INLINE)\\n\"+\n",
       "     \"</code>\\n\"+\n",
       "     \"</div>\"}};\n",
       "\n",
       "  function display_loaded() {\n",
       "    var el = document.getElementById(\"1002\");\n",
       "    if (el != null) {\n",
       "      el.textContent = \"BokehJS is loading...\";\n",
       "    }\n",
       "    if (root.Bokeh !== undefined) {\n",
       "      if (el != null) {\n",
       "        el.textContent = \"BokehJS \" + root.Bokeh.version + \" successfully loaded.\";\n",
       "      }\n",
       "    } else if (Date.now() < root._bokeh_timeout) {\n",
       "      setTimeout(display_loaded, 100)\n",
       "    }\n",
       "  }\n",
       "\n",
       "\n",
       "  function run_callbacks() {\n",
       "    try {\n",
       "      root._bokeh_onload_callbacks.forEach(function(callback) {\n",
       "        if (callback != null)\n",
       "          callback();\n",
       "      });\n",
       "    } finally {\n",
       "      delete root._bokeh_onload_callbacks\n",
       "    }\n",
       "    console.debug(\"Bokeh: all callbacks have finished\");\n",
       "  }\n",
       "\n",
       "  function load_libs(css_urls, js_urls, callback) {\n",
       "    if (css_urls == null) css_urls = [];\n",
       "    if (js_urls == null) js_urls = [];\n",
       "\n",
       "    root._bokeh_onload_callbacks.push(callback);\n",
       "    if (root._bokeh_is_loading > 0) {\n",
       "      console.debug(\"Bokeh: BokehJS is being loaded, scheduling callback at\", now());\n",
       "      return null;\n",
       "    }\n",
       "    if (js_urls == null || js_urls.length === 0) {\n",
       "      run_callbacks();\n",
       "      return null;\n",
       "    }\n",
       "    console.debug(\"Bokeh: BokehJS not loaded, scheduling load and callback at\", now());\n",
       "    root._bokeh_is_loading = css_urls.length + js_urls.length;\n",
       "\n",
       "    function on_load() {\n",
       "      root._bokeh_is_loading--;\n",
       "      if (root._bokeh_is_loading === 0) {\n",
       "        console.debug(\"Bokeh: all BokehJS libraries/stylesheets loaded\");\n",
       "        run_callbacks()\n",
       "      }\n",
       "    }\n",
       "\n",
       "    function on_error(url) {\n",
       "      console.error(\"failed to load \" + url);\n",
       "    }\n",
       "\n",
       "    for (let i = 0; i < css_urls.length; i++) {\n",
       "      const url = css_urls[i];\n",
       "      const element = document.createElement(\"link\");\n",
       "      element.onload = on_load;\n",
       "      element.onerror = on_error.bind(null, url);\n",
       "      element.rel = \"stylesheet\";\n",
       "      element.type = \"text/css\";\n",
       "      element.href = url;\n",
       "      console.debug(\"Bokeh: injecting link tag for BokehJS stylesheet: \", url);\n",
       "      document.body.appendChild(element);\n",
       "    }\n",
       "\n",
       "    const hashes = {\"https://cdn.bokeh.org/bokeh/release/bokeh-2.3.0.min.js\": \"HjagQp6T0/7bxYTAXbLotF1MLAGWmhkY5siA1Gc/pcEgvgRPtMsRn0gQtMwGKiw1\", \"https://cdn.bokeh.org/bokeh/release/bokeh-widgets-2.3.0.min.js\": \"ZEPPTjL+mdyqgIq+/pl9KTwzji8Kow2NnI3zWY8+sFinWP/SYJ80BnfeJsa45iYj\", \"https://cdn.bokeh.org/bokeh/release/bokeh-tables-2.3.0.min.js\": \"exLqv2ACDRIaV7ZK1iL8aGzGYQvKVuT3U2CT7FsQREBxRah6JrkVCoFy0koY1YqV\"};\n",
       "\n",
       "    for (let i = 0; i < js_urls.length; i++) {\n",
       "      const url = js_urls[i];\n",
       "      const element = document.createElement('script');\n",
       "      element.onload = on_load;\n",
       "      element.onerror = on_error.bind(null, url);\n",
       "      element.async = false;\n",
       "      element.src = url;\n",
       "      if (url in hashes) {\n",
       "        element.crossOrigin = \"anonymous\";\n",
       "        element.integrity = \"sha384-\" + hashes[url];\n",
       "      }\n",
       "      console.debug(\"Bokeh: injecting script tag for BokehJS library: \", url);\n",
       "      document.head.appendChild(element);\n",
       "    }\n",
       "  };\n",
       "\n",
       "  function inject_raw_css(css) {\n",
       "    const element = document.createElement(\"style\");\n",
       "    element.appendChild(document.createTextNode(css));\n",
       "    document.body.appendChild(element);\n",
       "  }\n",
       "\n",
       "  \n",
       "  var js_urls = [\"https://cdn.bokeh.org/bokeh/release/bokeh-2.3.0.min.js\", \"https://cdn.bokeh.org/bokeh/release/bokeh-widgets-2.3.0.min.js\", \"https://cdn.bokeh.org/bokeh/release/bokeh-tables-2.3.0.min.js\"];\n",
       "  var css_urls = [];\n",
       "  \n",
       "\n",
       "  var inline_js = [\n",
       "    function(Bokeh) {\n",
       "      Bokeh.set_log_level(\"info\");\n",
       "    },\n",
       "    function(Bokeh) {\n",
       "    \n",
       "    \n",
       "    }\n",
       "  ];\n",
       "\n",
       "  function run_inline_js() {\n",
       "    \n",
       "    if (root.Bokeh !== undefined || force === true) {\n",
       "      \n",
       "    for (var i = 0; i < inline_js.length; i++) {\n",
       "      inline_js[i].call(root, root.Bokeh);\n",
       "    }\n",
       "    if (force === true) {\n",
       "        display_loaded();\n",
       "      }} else if (Date.now() < root._bokeh_timeout) {\n",
       "      setTimeout(run_inline_js, 100);\n",
       "    } else if (!root._bokeh_failed_load) {\n",
       "      console.log(\"Bokeh: BokehJS failed to load within specified timeout.\");\n",
       "      root._bokeh_failed_load = true;\n",
       "    } else if (force !== true) {\n",
       "      var cell = $(document.getElementById(\"1002\")).parents('.cell').data().cell;\n",
       "      cell.output_area.append_execute_result(NB_LOAD_WARNING)\n",
       "    }\n",
       "\n",
       "  }\n",
       "\n",
       "  if (root._bokeh_is_loading === 0) {\n",
       "    console.debug(\"Bokeh: BokehJS loaded, going straight to plotting\");\n",
       "    run_inline_js();\n",
       "  } else {\n",
       "    load_libs(css_urls, js_urls, function() {\n",
       "      console.debug(\"Bokeh: BokehJS plotting callback run at\", now());\n",
       "      run_inline_js();\n",
       "    });\n",
       "  }\n",
       "}(window));"
      ],
      "application/vnd.bokehjs_load.v0+json": "\n(function(root) {\n  function now() {\n    return new Date();\n  }\n\n  var force = true;\n\n  if (typeof root._bokeh_onload_callbacks === \"undefined\" || force === true) {\n    root._bokeh_onload_callbacks = [];\n    root._bokeh_is_loading = undefined;\n  }\n\n  \n\n  \n  if (typeof (root._bokeh_timeout) === \"undefined\" || force === true) {\n    root._bokeh_timeout = Date.now() + 5000;\n    root._bokeh_failed_load = false;\n  }\n\n  var NB_LOAD_WARNING = {'data': {'text/html':\n     \"<div style='background-color: #fdd'>\\n\"+\n     \"<p>\\n\"+\n     \"BokehJS does not appear to have successfully loaded. If loading BokehJS from CDN, this \\n\"+\n     \"may be due to a slow or bad network connection. Possible fixes:\\n\"+\n     \"</p>\\n\"+\n     \"<ul>\\n\"+\n     \"<li>re-rerun `output_notebook()` to attempt to load from CDN again, or</li>\\n\"+\n     \"<li>use INLINE resources instead, as so:</li>\\n\"+\n     \"</ul>\\n\"+\n     \"<code>\\n\"+\n     \"from bokeh.resources import INLINE\\n\"+\n     \"output_notebook(resources=INLINE)\\n\"+\n     \"</code>\\n\"+\n     \"</div>\"}};\n\n  function display_loaded() {\n    var el = document.getElementById(\"1002\");\n    if (el != null) {\n      el.textContent = \"BokehJS is loading...\";\n    }\n    if (root.Bokeh !== undefined) {\n      if (el != null) {\n        el.textContent = \"BokehJS \" + root.Bokeh.version + \" successfully loaded.\";\n      }\n    } else if (Date.now() < root._bokeh_timeout) {\n      setTimeout(display_loaded, 100)\n    }\n  }\n\n\n  function run_callbacks() {\n    try {\n      root._bokeh_onload_callbacks.forEach(function(callback) {\n        if (callback != null)\n          callback();\n      });\n    } finally {\n      delete root._bokeh_onload_callbacks\n    }\n    console.debug(\"Bokeh: all callbacks have finished\");\n  }\n\n  function load_libs(css_urls, js_urls, callback) {\n    if (css_urls == null) css_urls = [];\n    if (js_urls == null) js_urls = [];\n\n    root._bokeh_onload_callbacks.push(callback);\n    if (root._bokeh_is_loading > 0) {\n      console.debug(\"Bokeh: BokehJS is being loaded, scheduling callback at\", now());\n      return null;\n    }\n    if (js_urls == null || js_urls.length === 0) {\n      run_callbacks();\n      return null;\n    }\n    console.debug(\"Bokeh: BokehJS not loaded, scheduling load and callback at\", now());\n    root._bokeh_is_loading = css_urls.length + js_urls.length;\n\n    function on_load() {\n      root._bokeh_is_loading--;\n      if (root._bokeh_is_loading === 0) {\n        console.debug(\"Bokeh: all BokehJS libraries/stylesheets loaded\");\n        run_callbacks()\n      }\n    }\n\n    function on_error(url) {\n      console.error(\"failed to load \" + url);\n    }\n\n    for (let i = 0; i < css_urls.length; i++) {\n      const url = css_urls[i];\n      const element = document.createElement(\"link\");\n      element.onload = on_load;\n      element.onerror = on_error.bind(null, url);\n      element.rel = \"stylesheet\";\n      element.type = \"text/css\";\n      element.href = url;\n      console.debug(\"Bokeh: injecting link tag for BokehJS stylesheet: \", url);\n      document.body.appendChild(element);\n    }\n\n    const hashes = {\"https://cdn.bokeh.org/bokeh/release/bokeh-2.3.0.min.js\": \"HjagQp6T0/7bxYTAXbLotF1MLAGWmhkY5siA1Gc/pcEgvgRPtMsRn0gQtMwGKiw1\", \"https://cdn.bokeh.org/bokeh/release/bokeh-widgets-2.3.0.min.js\": \"ZEPPTjL+mdyqgIq+/pl9KTwzji8Kow2NnI3zWY8+sFinWP/SYJ80BnfeJsa45iYj\", \"https://cdn.bokeh.org/bokeh/release/bokeh-tables-2.3.0.min.js\": \"exLqv2ACDRIaV7ZK1iL8aGzGYQvKVuT3U2CT7FsQREBxRah6JrkVCoFy0koY1YqV\"};\n\n    for (let i = 0; i < js_urls.length; i++) {\n      const url = js_urls[i];\n      const element = document.createElement('script');\n      element.onload = on_load;\n      element.onerror = on_error.bind(null, url);\n      element.async = false;\n      element.src = url;\n      if (url in hashes) {\n        element.crossOrigin = \"anonymous\";\n        element.integrity = \"sha384-\" + hashes[url];\n      }\n      console.debug(\"Bokeh: injecting script tag for BokehJS library: \", url);\n      document.head.appendChild(element);\n    }\n  };\n\n  function inject_raw_css(css) {\n    const element = document.createElement(\"style\");\n    element.appendChild(document.createTextNode(css));\n    document.body.appendChild(element);\n  }\n\n  \n  var js_urls = [\"https://cdn.bokeh.org/bokeh/release/bokeh-2.3.0.min.js\", \"https://cdn.bokeh.org/bokeh/release/bokeh-widgets-2.3.0.min.js\", \"https://cdn.bokeh.org/bokeh/release/bokeh-tables-2.3.0.min.js\"];\n  var css_urls = [];\n  \n\n  var inline_js = [\n    function(Bokeh) {\n      Bokeh.set_log_level(\"info\");\n    },\n    function(Bokeh) {\n    \n    \n    }\n  ];\n\n  function run_inline_js() {\n    \n    if (root.Bokeh !== undefined || force === true) {\n      \n    for (var i = 0; i < inline_js.length; i++) {\n      inline_js[i].call(root, root.Bokeh);\n    }\n    if (force === true) {\n        display_loaded();\n      }} else if (Date.now() < root._bokeh_timeout) {\n      setTimeout(run_inline_js, 100);\n    } else if (!root._bokeh_failed_load) {\n      console.log(\"Bokeh: BokehJS failed to load within specified timeout.\");\n      root._bokeh_failed_load = true;\n    } else if (force !== true) {\n      var cell = $(document.getElementById(\"1002\")).parents('.cell').data().cell;\n      cell.output_area.append_execute_result(NB_LOAD_WARNING)\n    }\n\n  }\n\n  if (root._bokeh_is_loading === 0) {\n    console.debug(\"Bokeh: BokehJS loaded, going straight to plotting\");\n    run_inline_js();\n  } else {\n    load_libs(css_urls, js_urls, function() {\n      console.debug(\"Bokeh: BokehJS plotting callback run at\", now());\n      run_inline_js();\n    });\n  }\n}(window));"
     },
     "metadata": {},
     "output_type": "display_data"
    }
   ],
   "source": [
    "output_notebook()"
   ]
  },
  {
   "cell_type": "code",
   "execution_count": 3,
   "id": "broad-presentation",
   "metadata": {},
   "outputs": [],
   "source": [
    "#Loading cleaned dataframe from Data_Cleaning Notebook:\n",
    "df2 = pd.read_csv('df2.csv')\n",
    "df3 = pd.read_csv('df3.csv')\n",
    "df4 = pd.read_csv('df4.csv')\n",
    "df5 = pd.read_csv('df5.csv')\n",
    "#df6 = pd.read_csv('df6.csv')"
   ]
  },
  {
   "cell_type": "code",
   "execution_count": 4,
   "id": "established-audit",
   "metadata": {},
   "outputs": [
    {
     "name": "stdout",
     "output_type": "stream",
     "text": [
      "144 countries are included in the Covid-19 vaccination progress dataset.\n"
     ]
    }
   ],
   "source": [
    "#Number of countries included in dataset:\n",
    "df6 = df5.copy()\n",
    "#df6 = df6.set_index(['date'])\n",
    "ncountry = df6['country'].nunique()\n",
    "print(F'{ncountry} countries are included in the Covid-19 vaccination progress dataset.')"
   ]
  },
  {
   "cell_type": "code",
   "execution_count": 5,
   "id": "blank-registration",
   "metadata": {},
   "outputs": [],
   "source": [
    "#Create list with countries per region, create new column in df6 and map region to country:\n",
    "Africa = ('Algeria','Angola','Chad', \"Cote d'Ivoire\",'Egypt','Equatorial Guinea','Ghana','Guinea','Kenya','Malawi','Maldives','Mali','Mauritius','Morocco','Mozambique','Namibia','Niger','Nigeria','Rwanda','Sao Tome and Principe', 'Senegal','Seychelles','Sierra Leone','Somalia','South Africa','South Sudan','Sudan','Swaziland','Tanzania','Togo','Tunisia','Uganda','Western Sahara', 'Zambia','Zimbabwe')\n",
    "\n",
    "Asia = ('Afghanistan','Azerbaijan','Bangladesh','Bhutan','Brunei','Cambodia','China','East Timor','Hong Kong','India','Indonesia','Japan','Kazakhstan','Kyrgyzstan','Laos','Macao','Malaysia','Maldives','Mongolia','Myanmar','Nepal','North Korea','Pakistan','Philippines','Russia','Singapore','South Korea','Sri Lanka','Taiwan','Tajikistan','Thailand','Turkmenistan','Uzbekistan','Vietnam')\n",
    "    \n",
    "Middle_East = ('Bahrain','Iran','Iraq','Israel','Jordan','Kuwait','Lebanon','Oman','Qatar','Saudi Arabia','Syria','Turkey','United Arab Emirates','Yemen')\n",
    "   \n",
    "Europe = ('Albania','Andorra','Armenia','Austria','Belarus','Belgium','Bosnia and Herzegovina','Bulgaria','Croatia','Cyprus','Czechia','Denmark','Estonia','Faeroe Islands','Finland','France','Georgia','Germany','Greece','Greenland','Hungary','Iceland','Ireland','Italy','Latvia','Liechtenstein','Lithuania','Luxembourg','Macedonia','Malta','Moldova','Monaco','Montenegro','Netherlands','North Macedonia','Northern Cyprus','Norway','Poland','Portugal','Romania','San Marino','Serbia','Slovakia','Slovenia','Spain','Sweden','Switzerland','Ukraine','Vatican City')\n",
    "\n",
    "UK_BritishOversea= ('United Kingdom','Anguilla','Antigua and Barbuda','Bermuda','Cayman Islands','Falkland Islands','Gibraltar','Guernsey','Isle of Man','Jersey', 'Montserrat', 'Saint Helena', 'Turks and Caicos Islands')\n",
    "\n",
    "North_America = ('Canada','United States')\n",
    "Central_America_Caribic = ('Antigua and Barbuda','Bahamas','Barbados','Belize','Costa Rica','Cuba','Dominica','Dominican Republic','El Salvador','Grenada','Guatemala','Haiti','Honduras','Jamaica','Mexico','Nicaragua','Panama','Saint Kitts and Nevis','Saint Lucia','Saint Vincent and the Grenadines','Trinidad and Tobago')\n",
    "South_America = ('Argentina','Bolivia','Brazil','Chile','Colombia','Ecuador','Guyana','Paraguay','Peru','Suriname','Uruguay','Venezuela')\n",
    "Australia_Oceania = ('Australia','Fiji','Kiribati','Marshall Islands','Micronesia','Nauru','New Zealand','Palau','Papua New Guinea','Samoa','Solomon Islands','Tonga','Tuvalu','Vanuatu')\n",
    "\n",
    "\n",
    "continents = {country: 'Asia' for country in Asia}\n",
    "continents.update({country: 'Europe' for country in Europe})\n",
    "continents.update({country: 'Africa' for country in Africa})\n",
    "continents.update({country: 'Middle_East' for country in Middle_East})\n",
    "continents.update({country: 'UK_BritishOversea' for country in UK_BritishOversea})\n",
    "continents.update({country: 'North_America' for country in North_America})\n",
    "continents.update({country: 'Central_America_Caribic' for country in Central_America_Caribic})\n",
    "continents.update({country: 'South_America' for country in South_America})\n",
    "continents.update({country: 'Australia_Oceania' for country in Australia_Oceania})\n",
    "\n",
    "df6['cgrouped'] = df6['country'].map(continents)\n",
    "\n"
   ]
  },
  {
   "cell_type": "markdown",
   "id": "variable-painting",
   "metadata": {},
   "source": [
    "## Groupby Countries & Regions"
   ]
  },
  {
   "cell_type": "markdown",
   "id": "devoted-combination",
   "metadata": {},
   "source": [
    "### Which country is the fastest with fully vaccinating its people?"
   ]
  },
  {
   "cell_type": "code",
   "execution_count": 6,
   "id": "athletic-backup",
   "metadata": {
    "tags": []
   },
   "outputs": [
    {
     "data": {
      "image/png": "[encoded data removed]",
      "text/plain": [
       "<Figure size 720x576 with 1 Axes>"
      ]
     },
     "metadata": {},
     "output_type": "display_data"
    }
   ],
   "source": [
    "col_vacc = ['country', 'vaccines','people_fully_vaccinated_per_hundred']\n",
    "vacc_am_bycountry = df2[col_vacc].groupby('country').max().sort_values('people_fully_vaccinated_per_hundred', ascending=False).dropna(subset=['people_fully_vaccinated_per_hundred'])\n",
    "vacc_am_bycountry = vacc_am_bycountry.iloc[:20]\n",
    "\n",
    "vacc_am_bycountry = vacc_am_bycountry.sort_values('people_fully_vaccinated_per_hundred', ascending=False)\n",
    "\n",
    "#plt.figure(figsize=(8, 8))\n",
    "vacc_p_c = sns.barplot(vacc_am_bycountry.index, vacc_am_bycountry.people_fully_vaccinated_per_hundred)\n",
    "\n",
    "plt.title('Number of fully vaccinated people per hundred per country')\n",
    "plt.ylabel('Number of fully vaccinated people per hundred')\n",
    "plt.xlabel('Countries')\n",
    "plt.xticks(rotation=90)\n",
    "#fig.savefig('images/vacc_people_hundred_country.jpg')\n",
    "plt.show();\n",
    "\n",
    "#(farbe und Grid)"
   ]
  },
  {
   "cell_type": "markdown",
   "id": "dirty-internship",
   "metadata": {},
   "source": [
    "Until 24.03.2021 Gibraltar is clearly leading in vaccinating its citizens. Followed by Israel and Seychelles. Gibraltar is part of British Overseas Territory and the UK vaccination program also includes procurement of vaccines for British Overseas Territories and Crown Dependencies. \n",
    "\n",
    "Let's have a look at the population and GDP per country:\n",
    "\n",
    "Gibraltar: 33691 citizens (UK: 502 billion USD in 2020, citizen: 67 millions plus 272 000 citizens British Oversea)\n",
    "\n",
    "Israel: 8.7 million citizens and a GDP of 334 billions USD  in 2020\n",
    "\n",
    "Seychelles: 98000 citizens and a GDP of 1.4 billion USD in 2020.\n",
    "\n",
    "It is obvious that smaller countries are leading and when we have a look at the next plots, we see how much more effort larger countries have to do.\n"
   ]
  },
  {
   "cell_type": "markdown",
   "id": "continent-venezuela",
   "metadata": {},
   "source": [
    "### Which country vaccinated the most (absolute)?"
   ]
  },
  {
   "cell_type": "code",
   "execution_count": 7,
   "id": "formal-static",
   "metadata": {
    "tags": []
   },
   "outputs": [
    {
     "data": {
      "image/png": "[encoded data removed]",
      "text/plain": [
       "<Figure size 720x576 with 1 Axes>"
      ]
     },
     "metadata": {},
     "output_type": "display_data"
    }
   ],
   "source": [
    "col_vacc = ['country', 'total_vaccinations', 'vaccines']\n",
    "vacc_am_bycountry = df2[col_vacc].groupby('country').max().sort_values('total_vaccinations', ascending=False).dropna(subset=['total_vaccinations'])\n",
    "vacc_am_bycountry = vacc_am_bycountry.iloc[:10]\n",
    "\n",
    "fig, ax = plt.subplots()\n",
    "\n",
    "plt.bar(vacc_am_bycountry.index, vacc_am_bycountry.total_vaccinations, color = 'b')\n",
    "\n",
    "def millions(x, pos):\n",
    "    'The two args are the value and tick position'\n",
    "    return '$%1.1fM' % (x*1e-6)\n",
    "\n",
    "formatter = FuncFormatter(millions)\n",
    "\n",
    "plt.title('Total vaccinations per country')\n",
    "\n",
    "ax.yaxis.set_major_formatter(formatter)\n",
    "plt.xticks(rotation = 90)\n",
    "plt.ylabel('Total vaccinations')\n",
    "plt.xlabel('Countries')\n",
    "plt.show();"
   ]
  },
  {
   "cell_type": "markdown",
   "id": "incorrect-poster",
   "metadata": {},
   "source": [
    "This chart shows the effort bigger countries have to do in vaccinating their citizens. United States already vaccinated over 130 million dosis and have only 25% of their cititzens vaccinated but Israel with only 9 million citizens has already vaccinated 60% of its population."
   ]
  },
  {
   "cell_type": "code",
   "execution_count": 8,
   "id": "southeast-azerbaijan",
   "metadata": {
    "tags": []
   },
   "outputs": [
    {
     "data": {
      "image/png": "[encoded data removed]",
      "text/plain": [
       "<Figure size 720x576 with 1 Axes>"
      ]
     },
     "metadata": {},
     "output_type": "display_data"
    }
   ],
   "source": [
    "#Groupby daily vaccinations\n",
    "\n",
    "col_vacc = ['country', 'daily_vaccinations', 'vaccines']\n",
    "vacc_am_bycountry = df2[col_vacc].groupby('country').max().sort_values('daily_vaccinations', ascending=False).dropna(subset=['daily_vaccinations'])\n",
    "vacc_am_bycountry = vacc_am_bycountry.iloc[:10]\n",
    "\n",
    "fig, ax = plt.subplots()\n",
    "#plt.figure(figsize=(16, 7))\n",
    "plt.bar(vacc_am_bycountry.index, vacc_am_bycountry.daily_vaccinations, color = 'c')\n",
    "\n",
    "def millions(x, pos):\n",
    "    'The two args are the value and tick position'\n",
    "    return '$%1.1fM' % (x*1e-6)\n",
    "\n",
    "formatter = FuncFormatter(millions)\n",
    "\n",
    "\n",
    "\n",
    "ax.yaxis.set_major_formatter(formatter)\n",
    "\n",
    "plt.title('Daily vaccinations per country')\n",
    "plt.xticks(rotation = 90)\n",
    "plt.ylabel('Daily vaccinations in M')\n",
    "plt.xlabel('Countries')\n",
    "plt.show();"
   ]
  },
  {
   "cell_type": "markdown",
   "id": "registered-electricity",
   "metadata": {},
   "source": [
    "United Stated vaccinates over 2.5 M people daily, Germany is only around 250.000 but still in the Top 10."
   ]
  },
  {
   "cell_type": "markdown",
   "id": "fossil-saskatchewan",
   "metadata": {
    "tags": []
   },
   "source": [
    "### How looks the vaccination progress by region?"
   ]
  },
  {
   "cell_type": "code",
   "execution_count": 9,
   "id": "established-directory",
   "metadata": {},
   "outputs": [
    {
     "data": {
      "image/png": "[encoded data removed]",
      "text/plain": [
       "<Figure size 1152x504 with 1 Axes>"
      ]
     },
     "metadata": {},
     "output_type": "display_data"
    }
   ],
   "source": [
    "#Groupby regions:\n",
    "col_vacc = ['cgrouped', 'people_vaccinated_per_hundred']\n",
    "vacc_am_bycountry = df6[col_vacc].groupby('cgrouped').max().sort_values('people_vaccinated_per_hundred', ascending=False).dropna(subset=['people_vaccinated_per_hundred'])\n",
    "vacc_am_bycountry = vacc_am_bycountry.iloc[:10]\n",
    "\n",
    "plt.figure(figsize=(16, 7))\n",
    "plt.bar(vacc_am_bycountry.index, vacc_am_bycountry.people_vaccinated_per_hundred, color = 'orange')\n",
    "\n",
    "plt.title('People vaccinated per hundred per region')\n",
    "plt.xticks(rotation = 90)\n",
    "plt.ylabel('People vaccinated per hundred')\n",
    "plt.xlabel('Regions')\n",
    "plt.show();"
   ]
  },
  {
   "cell_type": "markdown",
   "id": "governing-girlfriend",
   "metadata": {},
   "source": [
    "Who is so fast in Central America/Caribic and South America --> check\n",
    "\n",
    "Central America -->Chile\n"
   ]
  },
  {
   "cell_type": "code",
   "execution_count": 16,
   "id": "bridal-climate",
   "metadata": {},
   "outputs": [
    {
     "data": {
      "image/png": "[encoded data removed]",
      "text/plain": [
       "<Figure size 720x576 with 1 Axes>"
      ]
     },
     "metadata": {},
     "output_type": "display_data"
    }
   ],
   "source": [
    "import matplotlib.dates as mdates\n",
    "df2_us = df2[df2.country == 'United States']\n",
    "graph = sns.lineplot(data=df2_us, x=\"date\", y=\"daily_vaccinations\")\n",
    "graph.xaxis.set_major_locator(mdates.DayLocator(interval = 7))\n",
    "# graph.xaxis.set_major_formatter(mdates.DateFormatter('%Y:%M:%D'))\n",
    "plt.xticks(rotation = 90)\n",
    "plt.title('Daily Vaccinations United States')\n",
    "plt.xlabel('Date')\n",
    "plt.ylabel('Daily vaccinations')\n",
    "plt.show()"
   ]
  },
  {
   "cell_type": "code",
   "execution_count": 17,
   "id": "spectacular-fundamental",
   "metadata": {},
   "outputs": [
    {
     "data": {
      "image/png": "[encoded data removed]",
      "text/plain": [
       "<Figure size 720x576 with 1 Axes>"
      ]
     },
     "metadata": {},
     "output_type": "display_data"
    }
   ],
   "source": [
    "df2_cn = df2[df2.country == 'China']\n",
    "graph = sns.lineplot(data=df2_cn, x=\"date\", y=\"daily_vaccinations\")\n",
    "graph.xaxis.set_major_locator(mdates.DayLocator(interval = 7))\n",
    "# graph.xaxis.set_major_formatter(mdates.DateFormatter('%Y:%M:%D'))\n",
    "plt.xticks(rotation = 90)\n",
    "plt.title('Daily Vaccinations China')\n",
    "plt.xlabel('Date')\n",
    "plt.ylabel('Daily vaccinations')\n",
    "plt.show()"
   ]
  },
  {
   "cell_type": "code",
   "execution_count": 18,
   "id": "desirable-singing",
   "metadata": {},
   "outputs": [
    {
     "data": {
      "image/png": "[encoded data removed]",
      "text/plain": [
       "<Figure size 720x576 with 1 Axes>"
      ]
     },
     "metadata": {},
     "output_type": "display_data"
    }
   ],
   "source": [
    "df2_india = df2[df2.country == 'India']\n",
    "graph = sns.lineplot(data=df2_india, x=\"date\", y=\"daily_vaccinations\")\n",
    "graph.xaxis.set_major_locator(mdates.DayLocator(interval = 7))\n",
    "# graph.xaxis.set_major_formatter(mdates.DateFormatter('%Y:%M:%D'))\n",
    "plt.xticks(rotation = 90)\n",
    "plt.title('Daily Vaccinations India')\n",
    "plt.xlabel('Date')\n",
    "plt.ylabel('Daily vaccinations')\n",
    "plt.show()"
   ]
  },
  {
   "cell_type": "markdown",
   "id": "first-dairy",
   "metadata": {},
   "source": [
    "### Worldmap"
   ]
  },
  {
   "cell_type": "code",
   "execution_count": null,
   "id": "tested-promotion",
   "metadata": {},
   "outputs": [],
   "source": [
    "#Initialize visualization set:\n",
    "sns.set(style='whitegrid', palette='pastel', color_codes=True) \n",
    "sns.mpl.rc('figure', figsize=(10,6))"
   ]
  },
  {
   "cell_type": "code",
   "execution_count": null,
   "id": "freelance-giant",
   "metadata": {},
   "outputs": [],
   "source": [
    "import geopandas as gpd\n",
    "#from shapely.geometry import Point\n",
    "import geopy\n",
    "from geopy.exc import GeocoderTimedOut\n",
    "from geopy.geocoders import Nominatim"
   ]
  },
  {
   "cell_type": "code",
   "execution_count": null,
   "id": "human-quarter",
   "metadata": {},
   "outputs": [],
   "source": [
    "#import geo data\n",
    "import geopandas as gpd\n",
    "## map plot based on country map\n",
    "world = gpd.read_file(gpd.datasets.get_path('naturalearth_lowres'))\n",
    "\n",
    "#fix missing iso codes for France, Norway, Somaliland and Kosovo:\n",
    "world.loc[world['name'] == 'France', 'iso_a3'] = 'FRA'\n",
    "world.loc[world['name'] == 'Norway', 'iso_a3'] = 'NOR'\n",
    "world.loc[world['name'] == 'Somaliland', 'iso_a3'] = 'SOM'\n",
    "world.loc[world['name'] == 'Kosovo', 'iso_a3'] = 'RKS'\n",
    "world.sample(15)"
   ]
  },
  {
   "cell_type": "code",
   "execution_count": null,
   "id": "amended-recognition",
   "metadata": {},
   "outputs": [],
   "source": [
    "#join new map data to existing CV19 vaccine dataframe\n",
    "mapped = world.set_index('iso_a3').join(df2.set_index('iso_code')).reset_index()"
   ]
  },
  {
   "cell_type": "code",
   "execution_count": null,
   "id": "committed-blend",
   "metadata": {},
   "outputs": [],
   "source": [
    "#function to create map graph\n",
    "def graph_world(feature):\n",
    "    to_be_mapped = feature\n",
    "    vmin, vmax = 0,100\n",
    "    fig, ax = plt.subplots(1, figsize=(25,25))\n",
    "\n",
    "    mapped.plot(column=to_be_mapped, cmap='Blues', linewidth=0.8, ax=ax, edgecolors='0.8')\n",
    "    ax.set_title('x', fontdict={'fontsize':30})\n",
    "    ax.set_axis_off()\n",
    "\n",
    "    sm = plt.cm.ScalarMappable(cmap='Blues', norm=plt.Normalize(vmin=vmin, vmax=vmax))\n",
    "    sm._A = []\n",
    "\n",
    "    cbar = fig.colorbar(sm, orientation='horizontal')"
   ]
  },
  {
   "cell_type": "code",
   "execution_count": null,
   "id": "accepting-lover",
   "metadata": {},
   "outputs": [],
   "source": [
    "# Compare visually vaccination rates across world\n",
    "graph_world('people_fully_vaccinated_per_hundred')"
   ]
  },
  {
   "cell_type": "markdown",
   "id": "economic-franklin",
   "metadata": {},
   "source": [
    "The world maps gives an overview of the progress in fully vaccinating people in relation to the population. We can see how different the progress by continent is. The empty "
   ]
  },
  {
   "cell_type": "code",
   "execution_count": null,
   "id": "incorporated-headquarters",
   "metadata": {},
   "outputs": [],
   "source": [
    "#daily vaccinations\n",
    "graph_world('daily_vaccinations')"
   ]
  },
  {
   "cell_type": "code",
   "execution_count": null,
   "id": "electoral-backing",
   "metadata": {},
   "outputs": [],
   "source": [
    "#total vaccinations per hundr\n",
    "graph_world('total_vaccinations_per_hundred')"
   ]
  },
  {
   "cell_type": "code",
   "execution_count": null,
   "id": "amateur-liquid",
   "metadata": {},
   "outputs": [],
   "source": [
    "mapped.head()"
   ]
  },
  {
   "cell_type": "code",
   "execution_count": null,
   "id": "reasonable-rhythm",
   "metadata": {},
   "outputs": [],
   "source": [
    "df2.tail(20)"
   ]
  },
  {
   "cell_type": "code",
   "execution_count": null,
   "id": "rolled-alexandria",
   "metadata": {},
   "outputs": [],
   "source": [
    "#select last date:\n",
    "df_last = df2.sort_values('date', ascending=False).groupby('country').tail(1)\n",
    "df_last.sample(15)\n",
    "df_last.shape"
   ]
  },
  {
   "cell_type": "code",
   "execution_count": null,
   "id": "romantic-exclusive",
   "metadata": {},
   "outputs": [],
   "source": [
    "df_last"
   ]
  },
  {
   "cell_type": "code",
   "execution_count": null,
   "id": "sufficient-coalition",
   "metadata": {},
   "outputs": [],
   "source": [
    "# Import libraries\n",
    "import numpy as np \n",
    "import pandas as pd \n",
    "import plotly as py\n",
    "import plotly.express as px\n",
    "import plotly.graph_objs as go\n",
    "from plotly.subplots import make_subplots\n",
    "from plotly.offline import download_plotlyjs, init_notebook_mode, plot, iplot\n",
    "init_notebook_mode(connected=True)\n",
    "# Read Data\n",
    "#df = pd.read_csv(\"../input/novel-corona-virus-2019-dataset/covid_19_data.csv\")\n",
    "# Rename columns\n",
    "#df = df.rename(columns={'Country/Region':'Country'})\n",
    "#df = df.rename(columns={'ObservationDate':'Date'})\n",
    "# Manipulate Dataframe\n",
    "#df_last = df.groupby(['Country', 'Date']).sum().reset_index().sort_values('Date', ascending=False)\n",
    "#df_last = df_last.drop_duplicates(subset = ['country'])\n",
    "df_last = df_last[df_last['people_fully_vaccinated_per_hundred']>0]\n",
    "# Create the Choropleth\n",
    "fig = go.Figure(data=go.Choropleth(\n",
    "    locations = df_last['country'],\n",
    "    locationmode = 'country names',\n",
    "    z = df_last['people_fully_vaccinated_per_hundred'],\n",
    "    colorscale = 'Reds',\n",
    "    marker_line_color = 'black',\n",
    "    marker_line_width = 0.5,\n",
    "))\n",
    "fig.update_layout(\n",
    "    title_text = 'People fully vaccinated per hundred',\n",
    "    title_x = 0.5,\n",
    "    geo=dict(\n",
    "        showframe = False,\n",
    "        showcoastlines = False,\n",
    "        projection_type = 'equirectangular',\n",
    "    )\n",
    ")\n",
    "#noch nicht ganz richtig!"
   ]
  },
  {
   "cell_type": "code",
   "execution_count": null,
   "id": "bound-pierce",
   "metadata": {},
   "outputs": [],
   "source": [
    "\n",
    "# Read Data\n",
    "#df = pd.read_csv(\"../input/novel-corona-virus-2019-dataset/covid_19_data.csv\")\n",
    "# Rename columns\n",
    "#df = df.rename(columns={'Country/Region':'Country'})\n",
    "#df = df.rename(columns={'ObservationDate':'Date'})\n",
    "# Manipulate Dataframe\n",
    "df_daily_sum = df2.groupby(['country', 'date']).sum().reset_index().sort_values('date', ascending=False)\n",
    "#df_last = df_last.drop_duplicates(subset = ['country'])\n",
    "df_daily_sum = df2[df2['daily_vaccinations']>0]\n",
    "# Create the Choropleth\n",
    "fig = go.Figure(data=go.Choropleth(\n",
    "    locations = df_daily_sum['country'],\n",
    "    locationmode = 'country names',\n",
    "    z = df_daily_sum['daily_vaccinations'],\n",
    "    colorscale = 'Reds',\n",
    "    marker_line_color = 'black',\n",
    "    marker_line_width = 0.5,\n",
    "))\n",
    "fig.update_layout(\n",
    "    title_text = 'Daily vaccinations per country unitl 23.03.2021',\n",
    "    title_x = 0.5,\n",
    "    geo=dict(\n",
    "        showframe = False,\n",
    "        showcoastlines = False,\n",
    "        projection_type = 'equirectangular'\n",
    "    )\n",
    ")\n",
    "#noch nicht ganz richtig! Es sind noch nicht die aufsummierten anzahlen..."
   ]
  },
  {
   "cell_type": "code",
   "execution_count": null,
   "id": "generic-python",
   "metadata": {},
   "outputs": [],
   "source": [
    "df6.head()"
   ]
  },
  {
   "cell_type": "code",
   "execution_count": null,
   "id": "significant-ladder",
   "metadata": {},
   "outputs": [],
   "source": [
    "df6_region = df6[(df6.cgrouped == 'Europe') | (df6.cgrouped == 'North_America')]"
   ]
  },
  {
   "cell_type": "code",
   "execution_count": null,
   "id": "cellular-cinema",
   "metadata": {},
   "outputs": [],
   "source": [
    "df6_region.head()"
   ]
  },
  {
   "cell_type": "code",
   "execution_count": null,
   "id": "quiet-transcription",
   "metadata": {},
   "outputs": [],
   "source": [
    "#Region plot as lineplot:\n",
    "\n",
    "#Selecting required columns:\n",
    "cols = ['country', 'date', 'people_fully_vaccinated_per_hundred']\n",
    "df6_line = df6.reset_index()\n",
    "#List of top 5 countries from above:\n",
    "top10_countries = ['United States', 'India', 'China', 'United Kingdom', 'Brazil']#'Indonesia', 'Turkey', 'Russia', 'Chile', 'Germany'\n",
    "\n",
    "# Filtering and sorting the data\n",
    "\n",
    "df6_line1 = df6_line[['country', 'date', 'people_fully_vaccinated_per_hundred']].sort_values(by='people_fully_vaccinated_per_hundred', ascending=True)\n",
    "\n",
    "df6_line1_top10 = df6_line1[df6_line1.country.isin(top10_countries)].dropna()\n",
    "\n",
    "df6_line['date'] = pd.to_datetime(df6_line['date'])#, format = '%Y-%m-%d'\n",
    "\n",
    "# prepare the figure\n",
    "fig, ax = plt.subplots(figsize = (15, 7))\n",
    "\n",
    "sns.lineplot(ax = ax, data=df6_line1_top10, x=\"date\", y=\"people_fully_vaccinated_per_hundred\",hue='country').set_title('People fully vaccinated per hundred for top 5 countries')\n",
    "\n",
    "\n",
    "# specify the position of the major ticks at the beginning of the week\n",
    "ax.xaxis.set_major_locator(md.WeekdayLocator(byweekday = 1))\n",
    "\n",
    "# (optional) rotate by 90° the labels in order to improve their spacing\n",
    "plt.setp(ax.xaxis.get_majorticklabels(), rotation = 90)\n",
    "\n",
    "# specify the position of the minor ticks at each day\n",
    "#ax.xaxis.set_minor_locator(md.DayLocator(interval = 1))\n",
    "\n",
    "# set ticks length\n",
    "#ax.tick_params(axis = 'x', which = 'major', length = 10)\n",
    "#ax.tick_params(axis = 'x', which = 'minor', length = 5)\n",
    "\n",
    "# set axes labels\n",
    "plt.xlabel('Date')\n",
    "plt.ylabel('People fully vaccinated per hundred')\n",
    "\n",
    "#plt.xticks(rotation = 90)\n",
    "\n",
    "# show the plot\n",
    "plt.show();"
   ]
  },
  {
   "cell_type": "markdown",
   "id": "moved-recipient",
   "metadata": {},
   "source": [
    "For China we see an impressive vaccination start in January but nearly stopping end of January. India started end of January and increases slowly but steadily. \n",
    "United States has an break short before change of president and then an clear increase until end of february. Klären, was dann los war?\n",
    "Was passiert für UK? Seasonality?Warum so ein up and down?"
   ]
  },
  {
   "cell_type": "code",
   "execution_count": null,
   "id": "sustained-booth",
   "metadata": {},
   "outputs": [],
   "source": [
    "#Region plot as lineplot:\n",
    "\n",
    "#Selecting required columns:\n",
    "cols = ['country', 'date', 'people_fully_vaccinated_per_hundred']\n",
    "df6_line = df6.reset_index()\n",
    "#List of top 6-10 countries from above:\n",
    "top10_countries = ['Indonesia', 'Turkey', 'Russia', 'Chile', 'Germany']\n",
    "\n",
    "# Filtering and sorting the data\n",
    "\n",
    "df6_line1 = df6_line[['country', 'date', 'people_fully_vaccinated_per_hundred']].sort_values(by='people_fully_vaccinated_per_hundred', ascending=True)\n",
    "\n",
    "df6_line1_top10 = df6_line1[df6_line1.country.isin(top10_countries)].dropna()\n",
    "\n",
    "df6_line['date'] = pd.to_datetime(df6_line['date'])#, format = '%Y-%m-%d'\n",
    "\n",
    "# prepare the figure\n",
    "fig, ax = plt.subplots(figsize = (15, 7))\n",
    "\n",
    "sns.lineplot(ax = ax, data=df6_line1_top10, x=\"date\", y=\"people_fully_vaccinated_per_hundred\",hue='country').set_title('XXX')\n",
    "\n",
    "\n",
    "# specify the position of the major ticks at the beginning of the week\n",
    "ax.xaxis.set_major_locator(md.WeekdayLocator(byweekday = 1))\n",
    "\n",
    "# (optional) rotate by 90° the labels in order to improve their spacing\n",
    "plt.setp(ax.xaxis.get_majorticklabels(), rotation = 90)\n",
    "\n",
    "# specify the position of the minor ticks at each day\n",
    "#ax.xaxis.set_minor_locator(md.DayLocator(interval = 1))\n",
    "\n",
    "# set ticks length\n",
    "#ax.tick_params(axis = 'x', which = 'major', length = 10)\n",
    "#ax.tick_params(axis = 'x', which = 'minor', length = 5)\n",
    "\n",
    "# set axes labels\n",
    "plt.xlabel('Date')\n",
    "plt.ylabel('People fully vaccinated per hundred')\n",
    "\n",
    "#plt.xticks(rotation = 90)\n",
    "\n",
    "# show the plot\n",
    "plt.show();"
   ]
  },
  {
   "cell_type": "markdown",
   "id": "altered-thermal",
   "metadata": {},
   "source": [
    "Ist das so richtig? Beide Plots mit anderen Auswertungen abgleichen!"
   ]
  },
  {
   "cell_type": "code",
   "execution_count": null,
   "id": "victorian-poland",
   "metadata": {},
   "outputs": [],
   "source": [
    "#lst_vaccine = [df7['Covaxin'], df7['EpiVacCorona'], df7['Johnson&Johnson'], df7['Moderna'], df7['Oxford/AstraZeneca'], df7['Pfizer/BioNTech'], df7['Sinopharm/Beijing'], df7['Sinopharm/Wuhan'], df7['Sinovac'], df7['Sputnik V']]"
   ]
  },
  {
   "cell_type": "code",
   "execution_count": null,
   "id": "atomic-musician",
   "metadata": {
    "tags": []
   },
   "outputs": [],
   "source": [
    "#data = df[['country','total_vaccinations']].nlargest(20,'total_vaccinations')\n",
    "#fig = px.bar(data, x = 'country',y = 'total_vaccinations',title=\"Number of total vaccinations according to countries\")\n",
    "#fig.show();"
   ]
  },
  {
   "cell_type": "code",
   "execution_count": null,
   "id": "introductory-examination",
   "metadata": {},
   "outputs": [],
   "source": [
    "lst_vaccines = df3['vaccines']\n",
    "vaccince_types = df3.groupby(lst_vaccines)['country'].unique()\n",
    "vaccince_types = vaccince_types.reset_index()\n",
    "vaccince_types"
   ]
  },
  {
   "cell_type": "markdown",
   "id": "parallel-scanner",
   "metadata": {},
   "source": [
    "## Time series"
   ]
  },
  {
   "cell_type": "markdown",
   "id": "olive-berlin",
   "metadata": {},
   "source": [
    "Analyzing Time series: \n",
    "The vaccination progress is reported daily, so that we have timeseries to analyze. "
   ]
  },
  {
   "cell_type": "code",
   "execution_count": null,
   "id": "identified-worship",
   "metadata": {
    "tags": []
   },
   "outputs": [],
   "source": [
    "#compare vaccination to infections and death"
   ]
  },
  {
   "cell_type": "code",
   "execution_count": null,
   "id": "abstract-order",
   "metadata": {
    "tags": []
   },
   "outputs": [],
   "source": []
  },
  {
   "cell_type": "code",
   "execution_count": null,
   "id": "recent-waters",
   "metadata": {
    "tags": []
   },
   "outputs": [],
   "source": []
  },
  {
   "cell_type": "code",
   "execution_count": null,
   "id": "harmful-repair",
   "metadata": {
    "tags": []
   },
   "outputs": [],
   "source": []
  },
  {
   "cell_type": "code",
   "execution_count": null,
   "id": "southeast-industry",
   "metadata": {
    "tags": []
   },
   "outputs": [],
   "source": [
    "#set DatetimeIndex as index for our DataFrame:\n",
    "df_daily = df6.copy()\n",
    "#df_daily = df_daily.set_index('date')\n",
    "df_daily.head(3)"
   ]
  },
  {
   "cell_type": "code",
   "execution_count": null,
   "id": "provincial-surface",
   "metadata": {},
   "outputs": [],
   "source": []
  },
  {
   "cell_type": "code",
   "execution_count": null,
   "id": "celtic-karen",
   "metadata": {},
   "outputs": [],
   "source": [
    "df_daily.index"
   ]
  },
  {
   "cell_type": "code",
   "execution_count": null,
   "id": "mental-milwaukee",
   "metadata": {
    "tags": []
   },
   "outputs": [],
   "source": [
    "#fig, ax = plt.subplots()\n",
    "#ax.xaxis.set_major_formatter(mdates.DateFormatter(r\"%b\\n%Y\"))"
   ]
  },
  {
   "cell_type": "code",
   "execution_count": null,
   "id": "acting-pioneer",
   "metadata": {
    "tags": []
   },
   "outputs": [],
   "source": [
    "# Add columns with year, month, and weekday name\n",
    "df_daily['Year'] = df_daily.index.year\n",
    "df_daily['Month'] = df_daily.index.month\n",
    "df_daily['Day'] = df_daily.index.day\n",
    "\n",
    "#df_daily['Weekday_Name'] = df_daily.index.day_of_week\n",
    "#TODO: change day of week to name of day\n",
    "# Display a random sampling of 5 rows\n",
    "df_daily.sample(5, random_state=0)"
   ]
  },
  {
   "cell_type": "code",
   "execution_count": null,
   "id": "magnetic-pizza",
   "metadata": {},
   "outputs": [],
   "source": [
    "#Select data for a single day:\n",
    "df_daily.loc['2021-03-24']"
   ]
  },
  {
   "cell_type": "code",
   "execution_count": null,
   "id": "excited-hearts",
   "metadata": {},
   "outputs": [],
   "source": []
  },
  {
   "cell_type": "code",
   "execution_count": null,
   "id": "enhanced-visiting",
   "metadata": {},
   "outputs": [],
   "source": [
    "fig, ax = plt.subplots()\n",
    "sns.lineplot(x='date', y='daily_vaccinations', data=df_daily, ax=ax)#, hue=('country' == 'Germany'\n",
    "ax.set(title='Daily Vaccinations worldwide', ylabel=r'$^\\circ$C');"
   ]
  },
  {
   "cell_type": "code",
   "execution_count": null,
   "id": "ceramic-omega",
   "metadata": {},
   "outputs": [],
   "source": []
  },
  {
   "cell_type": "code",
   "execution_count": null,
   "id": "external-preservation",
   "metadata": {},
   "outputs": [],
   "source": [
    "# checking daily vaccinations for Top 10 countries:\n",
    "#Selecting required columns:\n",
    "cols = ['country', 'date', 'daily_vaccinations']\n",
    "df_daily1 = df_daily.reset_index()\n",
    "#List of top 10 countries from above:\n",
    "top10_countries = ['United States', 'India', 'United Kingdom', 'Brazil', 'Indonesia', 'Turkey', 'Russia', 'Chile', 'Germany']#'China', \n",
    "\n",
    "# Filtering and sorting the data\n",
    "\n",
    "daily_vacc = df_daily1[['country', 'date', 'daily_vaccinations']].sort_values(by='daily_vaccinations', ascending=True)\n",
    "\n",
    "daily_vacc_top10 = daily_vacc[daily_vacc.country.isin(top10_countries)].dropna()\n",
    "\n",
    "#display(daily_vacc_top10) # verifying that the filtering executed correctly\n",
    "\n",
    "# Plotting the data in a multi faceted lineplot\n",
    "\n",
    "#plt.figure(figsize=(18, 32))\n",
    "\n",
    "sns.relplot(data=daily_vacc_top10, x='date', y='daily_vaccinations', hue='country', col='country', kind='line', col_wrap=2)\n",
    "#sns.lineplot(data=daily_vacc_top10, x='date', y='daily_vaccinations', hue='country')\n",
    "plt.xticks(rotation=90);\n",
    "#plt.xticks('');"
   ]
  },
  {
   "cell_type": "code",
   "execution_count": null,
   "id": "distinguished-overhead",
   "metadata": {},
   "outputs": [],
   "source": []
  },
  {
   "cell_type": "markdown",
   "id": "moving-bride",
   "metadata": {},
   "source": [
    "auf Zeit ab Februar - März eingrenzen?\n",
    "China verzerrt - was tun?\n",
    "warum hat Russland am 01.03 so einen Sprung nach unten? Sind schon so viele geimpft, wie sehen die Infektionszahlen aus?"
   ]
  },
  {
   "cell_type": "code",
   "execution_count": null,
   "id": "elect-message",
   "metadata": {},
   "outputs": [],
   "source": [
    "#\n",
    "df_daily.loc['2021-01-01':'2021-01-31']"
   ]
  },
  {
   "cell_type": "code",
   "execution_count": null,
   "id": "private-exploration",
   "metadata": {
    "tags": []
   },
   "outputs": [],
   "source": [
    "df_daily_march = df_daily.loc['2021-03']"
   ]
  },
  {
   "cell_type": "code",
   "execution_count": null,
   "id": "sitting-hindu",
   "metadata": {},
   "outputs": [],
   "source": [
    "#Daily vaccinations for March:\n",
    "fig, ax = plt.subplots()\n",
    "sns.lineplot(x='date', y='daily_vaccinations', data=df_daily_march, ax=ax)#, hue=('country' == 'Germany'\n",
    "ax.set(title='Daily Vaccinations worldwide', ylabel=r'$^\\circ$C');"
   ]
  },
  {
   "cell_type": "code",
   "execution_count": null,
   "id": "dietary-battle",
   "metadata": {},
   "outputs": [],
   "source": [
    "#People vaccinated from december up to now:\n",
    "df_daily['people_vaccinated'].plot(linewidth=0.5);"
   ]
  },
  {
   "cell_type": "code",
   "execution_count": null,
   "id": "overhead-explosion",
   "metadata": {},
   "outputs": [],
   "source": [
    "#Daily vaccinations worldwide:\n",
    "cols_plot = ['daily_vaccinations', 'daily_vaccinations_per_million']#'total_vaccinations'\n",
    "axes = df_daily[cols_plot].plot(marker='.', alpha=0.5, linestyle='None', figsize=(11, 9), subplots=True)\n",
    "for ax in axes:\n",
    "    ax.set_ylabel('Daily Vaccinations')"
   ]
  },
  {
   "cell_type": "code",
   "execution_count": null,
   "id": "ranging-audit",
   "metadata": {},
   "outputs": [],
   "source": [
    "#Daily vaccinations Europe:\n",
    "df_daily_EU_GB = df_daily[df_daily['cgrouped'] == 'Europe']\n",
    "cols_plot = ['daily_vaccinations', 'daily_vaccinations_per_million']#'total_vaccinations'\n",
    "axes = df_daily_EU_GB[cols_plot].plot(marker='.', alpha=0.5, linestyle='None', figsize=(11, 9), subplots=True)\n",
    "for ax in axes:\n",
    "    ax.set_ylabel('Daily Vaccinations')"
   ]
  },
  {
   "cell_type": "code",
   "execution_count": null,
   "id": "incorporate-victim",
   "metadata": {},
   "outputs": [],
   "source": []
  },
  {
   "cell_type": "code",
   "execution_count": null,
   "id": "comfortable-bruce",
   "metadata": {},
   "outputs": [],
   "source": [
    "#Daily vaccinations EU and GB:\n",
    "#df_daily_EU_GB = df_daily.loc[]\n",
    "#cols_plot = ['daily_vaccinations', 'daily_vaccinations_per_million']#'total_vaccinations'\n",
    "#axes = df_daily[cols_plot].plot(marker='.', alpha=0.5, linestyle='None', figsize=(11, 9), subplots=True)\n",
    "#for ax in axes:\n",
    "    #ax.set_ylabel('Daily Vaccinations')"
   ]
  },
  {
   "cell_type": "code",
   "execution_count": null,
   "id": "naughty-processing",
   "metadata": {},
   "outputs": [],
   "source": [
    "#Daily vaccinated from december up to now:\n",
    "df_daily['daily_vaccinations'].plot(linewidth=0.5);"
   ]
  },
  {
   "cell_type": "code",
   "execution_count": null,
   "id": "charitable-discovery",
   "metadata": {},
   "outputs": [],
   "source": []
  },
  {
   "cell_type": "code",
   "execution_count": null,
   "id": "inside-plant",
   "metadata": {},
   "outputs": [],
   "source": [
    "#Daily vaccinated from december up to now for Europe:\n",
    "df_daily_EU_GB['daily_vaccinations'].plot(linewidth=0.5, title='Number of daily vaccinations in Europe', xlabel = \"Date\", ylabel = 'Number of vaccinations');"
   ]
  },
  {
   "cell_type": "code",
   "execution_count": null,
   "id": "helpful-fishing",
   "metadata": {},
   "outputs": [],
   "source": []
  },
  {
   "cell_type": "code",
   "execution_count": null,
   "id": "prepared-gateway",
   "metadata": {},
   "outputs": [],
   "source": [
    "df_daily_EU = df_daily[df_daily['cgrouped'] == 'Europe']"
   ]
  },
  {
   "cell_type": "code",
   "execution_count": null,
   "id": "brutal-elimination",
   "metadata": {},
   "outputs": [],
   "source": [
    "df_daily_EU = df_daily[df_daily['cgrouped'] == 'Europe']\n",
    "UK = df_daily[df_daily['cgrouped'] == 'UK & British Oversea']\n",
    "USA = df_daily[df_daily['cgrouped'] == 'USA']\n",
    "Asia = df_daily[df_daily['cgrouped'] == 'Asia']\n"
   ]
  },
  {
   "cell_type": "code",
   "execution_count": null,
   "id": "bulgarian-wellington",
   "metadata": {},
   "outputs": [],
   "source": [
    "df6.sample(20)"
   ]
  },
  {
   "cell_type": "code",
   "execution_count": null,
   "id": "tamil-anatomy",
   "metadata": {},
   "outputs": [],
   "source": []
  },
  {
   "cell_type": "code",
   "execution_count": null,
   "id": "facial-baltimore",
   "metadata": {},
   "outputs": [],
   "source": [
    "plt.style.use('seaborn-whitegrid')\n",
    "cols_plot = ['daily_vaccinations']#'total_vaccinations', , 'daily_vaccinations_per_million'\n",
    "axes1 = df_daily_EU[cols_plot].plot(marker='.', alpha=0.5, linestyle='None',figsize = (8,8), subplots=True);\n",
    "axes2 = UK[cols_plot].plot(marker='.', alpha=0.5, linestyle='None',figsize = (8,8), subplots=True);\n",
    "axes3 = USA[cols_plot].plot(marker='.', alpha=0.5, linestyle='None',figsize = (8,8), subplots=True);\n",
    "axes4 = Asia[cols_plot].plot(marker='.', alpha=0.5, linestyle='None',figsize = (8,8), subplots=True);\n",
    "#for ax in axes:\n",
    "    #ax.set_ylabel('Daily Vaccinations')"
   ]
  },
  {
   "cell_type": "code",
   "execution_count": null,
   "id": "suitable-measurement",
   "metadata": {},
   "outputs": [],
   "source": []
  },
  {
   "cell_type": "markdown",
   "id": "searching-teens",
   "metadata": {},
   "source": [
    "### Worldmap"
   ]
  },
  {
   "cell_type": "code",
   "execution_count": null,
   "id": "spoken-prospect",
   "metadata": {},
   "outputs": [],
   "source": [
    "#Initialize visualization set:\n",
    "sns.set(style='whitegrid', palette='pastel', color_codes=True) \n",
    "sns.mpl.rc('figure', figsize=(10,6))"
   ]
  },
  {
   "cell_type": "code",
   "execution_count": null,
   "id": "closing-stress",
   "metadata": {},
   "outputs": [],
   "source": [
    "import geopandas as gpd\n",
    "#from shapely.geometry import Point\n",
    "import geopy\n",
    "from geopy.exc import GeocoderTimedOut\n",
    "from geopy.geocoders import Nominatim"
   ]
  },
  {
   "cell_type": "code",
   "execution_count": null,
   "id": "happy-experience",
   "metadata": {},
   "outputs": [],
   "source": [
    "#import geo data\n",
    "import geopandas as gpd\n",
    "## map plot based on country map\n",
    "world = gpd.read_file(gpd.datasets.get_path('naturalearth_lowres'))\n",
    "world.head()"
   ]
  },
  {
   "cell_type": "code",
   "execution_count": null,
   "id": "collective-premium",
   "metadata": {},
   "outputs": [],
   "source": [
    "#join new map data to existing CV19 vaccine dataframe\n",
    "mapped = world.set_index('iso_a3').join(df2.set_index('iso_code')).reset_index()"
   ]
  },
  {
   "cell_type": "code",
   "execution_count": null,
   "id": "labeled-tsunami",
   "metadata": {},
   "outputs": [],
   "source": [
    "#function to create map graph\n",
    "def graph_world(feature):\n",
    "    to_be_mapped = feature\n",
    "    vmin, vmax = 0,100\n",
    "    fig, ax = plt.subplots(1, figsize=(25,25))\n",
    "\n",
    "    mapped.plot(column=to_be_mapped, cmap='Blues', linewidth=0.8, ax=ax, edgecolors='0.8')\n",
    "    ax.set_title('x', fontdict={'fontsize':30})\n",
    "    ax.set_axis_off()\n",
    "\n",
    "    sm = plt.cm.ScalarMappable(cmap='Blues', norm=plt.Normalize(vmin=vmin, vmax=vmax))\n",
    "    sm._A = []\n",
    "\n",
    "    cbar = fig.colorbar(sm, orientation='horizontal')"
   ]
  },
  {
   "cell_type": "code",
   "execution_count": null,
   "id": "active-function",
   "metadata": {},
   "outputs": [],
   "source": []
  },
  {
   "cell_type": "code",
   "execution_count": null,
   "id": "expired-wheel",
   "metadata": {
    "tags": []
   },
   "outputs": [],
   "source": [
    "# Compare visually vaccination rates across world\n",
    "graph_world('people_fully_vaccinated_per_hundred')"
   ]
  },
  {
   "cell_type": "code",
   "execution_count": null,
   "id": "intermediate-group",
   "metadata": {},
   "outputs": [],
   "source": [
    "#daily vaccinations\n",
    "graph_world('daily_vaccinations')"
   ]
  },
  {
   "cell_type": "code",
   "execution_count": null,
   "id": "fourth-issue",
   "metadata": {},
   "outputs": [],
   "source": []
  },
  {
   "cell_type": "code",
   "execution_count": null,
   "id": "terminal-metadata",
   "metadata": {},
   "outputs": [],
   "source": [
    "#total vaccinations per hundr\n",
    "graph_world('total_vaccinations_per_hundred')"
   ]
  },
  {
   "cell_type": "code",
   "execution_count": null,
   "id": "requested-participant",
   "metadata": {},
   "outputs": [],
   "source": [
    "#df_coordinates = pd.read_csv('coordinates.csv')\n",
    "df_coordinates_wo_Province = pd.read_csv('coordinates_wo_Province.csv')"
   ]
  },
  {
   "cell_type": "code",
   "execution_count": null,
   "id": "spatial-lotus",
   "metadata": {},
   "outputs": [],
   "source": [
    "df_coordinates_wo_Province.shape"
   ]
  },
  {
   "cell_type": "code",
   "execution_count": null,
   "id": "naughty-market",
   "metadata": {},
   "outputs": [],
   "source": [
    "df2_for_merge = df2[['country', 'iso_code']].copy()"
   ]
  },
  {
   "cell_type": "code",
   "execution_count": null,
   "id": "partial-soccer",
   "metadata": {},
   "outputs": [],
   "source": [
    "#add latitude/longitude data to dataframe for worldmap plotting:\n",
    "\n",
    "\n",
    "df2_with_coordinates_wo_Province = pd.merge(df2_for_merge, df_coordinates_wo_Province, on='iso_code', how='right')#, left_on='iso_code', right_on='country'"
   ]
  },
  {
   "cell_type": "code",
   "execution_count": null,
   "id": "recent-mexico",
   "metadata": {},
   "outputs": [],
   "source": [
    "\n",
    "#df2_with_coordinates_concat = pd.concat([df2_for_merge, df_coordinates_wo_Province], keys='iso_code')"
   ]
  },
  {
   "cell_type": "code",
   "execution_count": null,
   "id": "killing-denver",
   "metadata": {},
   "outputs": [],
   "source": [
    "df2_with_coordinates_wo_Province.sample(10)"
   ]
  },
  {
   "cell_type": "code",
   "execution_count": null,
   "id": "visible-particular",
   "metadata": {},
   "outputs": [],
   "source": [
    "df2_with_coordinates_wo_Province[df2_with_coordinates_wo_Province.iso_code == 'DEU']"
   ]
  },
  {
   "cell_type": "code",
   "execution_count": null,
   "id": "macro-selling",
   "metadata": {},
   "outputs": [],
   "source": []
  },
  {
   "cell_type": "code",
   "execution_count": null,
   "id": "japanese-automation",
   "metadata": {},
   "outputs": [],
   "source": [
    "df = pd.DataFrame({'one': {'A': 10, 'B': 20, 'C': 30, 'D': 40, 'E': 50}})\n",
    "map_dict = {'A': 'every', 'B': 'good', 'C': 'boy', 'D': 'does', 'E': 'fine'}\n",
    "\n",
    "df['two'] = df.index.to_series().map(map_dict)"
   ]
  },
  {
   "cell_type": "markdown",
   "id": "corresponding-vermont",
   "metadata": {},
   "source": [
    "AAAARGHHHHH!!!! warum concatenate nur USA und merge alles nur nicht USA????"
   ]
  },
  {
   "cell_type": "code",
   "execution_count": null,
   "id": "available-search",
   "metadata": {},
   "outputs": [],
   "source": [
    "df2_with_coordinates.sample(10)"
   ]
  },
  {
   "cell_type": "code",
   "execution_count": null,
   "id": "bored-lucas",
   "metadata": {},
   "outputs": [],
   "source": [
    "df2_with_coordinates[df2_with_coordinates.country == 'China'].head"
   ]
  },
  {
   "cell_type": "code",
   "execution_count": null,
   "id": "working-thursday",
   "metadata": {},
   "outputs": [],
   "source": [
    "df2_with_coordinates.shape"
   ]
  },
  {
   "cell_type": "code",
   "execution_count": null,
   "id": "democratic-pleasure",
   "metadata": {},
   "outputs": [],
   "source": [
    "# declare an empty list to store\n",
    "# latitude and longitude of values \n",
    "# of city column\n",
    "longitude = []\n",
    "latitude = []"
   ]
  },
  {
   "cell_type": "code",
   "execution_count": null,
   "id": "first-contract",
   "metadata": {
    "jupyter": {
     "source_hidden": true
    },
    "tags": []
   },
   "outputs": [],
   "source": [
    "# function to find the coordinate\n",
    "# of a given country \n",
    "\n",
    "\n",
    "#geolocator = Nominatim()\n",
    "\n",
    "#tmp = df.head().copy()\n",
    "\n",
    "#latlon = tmp.Address.apply(lambda addr: geolocator.geocode(addr))\n",
    "\n",
    "#tmp[\"Latitude\"] = [x.latitude for x in latlon]\n",
    "#tmp[\"Longitude\"] = [x.longitude for x in latlon]\n",
    "\n",
    "\n",
    "def findGeocode(country):\n",
    "       \n",
    "    # try and catch is used to overcome\n",
    "    # the exception thrown by geolocator\n",
    "    # using geocodertimedout  \n",
    "    try:\n",
    "          \n",
    "        # Specify the user_agent as your\n",
    "        # app name it should not be none\n",
    "        geopy.geocoders.options.default_user_agent = \"my-application\"\n",
    "        geolocator = Nominatim()#user_agent=\"your_app_name\",user_agent=\"my-application\"\n",
    "      \n",
    "          \n",
    "        return geolocator.geocode(country)\n",
    "      \n",
    "    except GeocoderTimedOut:\n",
    "          \n",
    "        return findGeocode(country)    \n",
    "  \n",
    "# each value from country column\n",
    "# will be fetched and sent to\n",
    "# function find_geocode   \n",
    "for i in (df2['country']):\n",
    "      \n",
    "    if findGeocode(i) != None:\n",
    "        loc = findGeocode(i)\n",
    "          \n",
    "        # coordinates returned from \n",
    "        # function is stored into\n",
    "        # two separate list\n",
    "        latitude.append(loc.latitude)\n",
    "        longitude.append(loc.longitude)\n",
    "       \n",
    "    # if coordinate for a country not\n",
    "    # found, insert \"NaN\" indicating \n",
    "    # missing value \n",
    "    else:\n",
    "        latitude.append(np.nan)\n",
    "        longitude.append(np.nan)\n",
    "geolocate(country='USA')"
   ]
  },
  {
   "cell_type": "code",
   "execution_count": null,
   "id": "catholic-economy",
   "metadata": {},
   "outputs": [],
   "source": [
    "def geolocate(country=None):\n",
    "    '''\n",
    "    Inputs country. Returns the lat/long coordinates of the center of the country.\n",
    "    '''\n",
    "    \n",
    "    # If country exists,\n",
    "    for i in (df2['country']):\n",
    "        if country != None:\n",
    "            # Try\n",
    "            try:\n",
    "                # To geolocate country\n",
    "                loc = geolocator.geocode(country)\n",
    "                latitude.append(loc.latitude)\n",
    "                longitude.append(loc.longitude)\n",
    "                # And return latitude and longitude\n",
    "               # return (loc.latitude, loc.longitude)\n",
    "            # Otherwise\n",
    "            except:\n",
    "                # Return missing value\n",
    "                return np.nan\n",
    "        # If country doesn't exist\n",
    "        else:\n",
    "            # Try\n",
    "            try:\n",
    "                # Geolocate the center of the country\n",
    "                loc = geolocator.geocode(country)\n",
    "                # And return latitude and longitude \n",
    "                return (loc.latitude, loc.longitude)\n",
    "            # Otherwise\n",
    "            except:\n",
    "                # Return missing value\n",
    "                return np.nan\n",
    " \n"
   ]
  },
  {
   "cell_type": "code",
   "execution_count": null,
   "id": "mysterious-trout",
   "metadata": {},
   "outputs": [],
   "source": []
  },
  {
   "cell_type": "code",
   "execution_count": null,
   "id": "chronic-bhutan",
   "metadata": {},
   "outputs": [],
   "source": [
    "geolocate(country='China')"
   ]
  },
  {
   "cell_type": "code",
   "execution_count": null,
   "id": "fatal-instrumentation",
   "metadata": {},
   "outputs": [],
   "source": [
    "# now add this column to dataframe\n",
    "df2[\"Longitude\"] = longitude\n",
    "df2[\"Latitude\"] = latitude\n",
    "  \n",
    "df2.head()"
   ]
  },
  {
   "cell_type": "code",
   "execution_count": null,
   "id": "thrown-toner",
   "metadata": {},
   "outputs": [],
   "source": [
    "#creation of a shapefile out of df2\n",
    "#col_vacc = ['country', 'people_vaccinated_per_hundred', 'vaccines']\n",
    "#vacc_am_bycountry = df2[col_vacc].groupby('country').max().sort_values('people_vaccinated_per_hundred', ascending=False).dropna(subset=['people_vaccinated_per_hundred'])\n",
    "#vacc_am_bycountry['geometry'] = df.apply(lambda x: Point((float(x.lon), float(x.lat))), axis=1)"
   ]
  },
  {
   "cell_type": "code",
   "execution_count": null,
   "id": "polar-bangkok",
   "metadata": {},
   "outputs": [],
   "source": [
    "shapefile = 'map/countries_110m/ne_110m_admin_0_countries.shp'\n",
    "#Read shapefile using Geopandas\n",
    "#gdf = gpd.read_file(shapefile)[['ADMIN', 'ADM0_A3', 'geometry']]\n",
    "#Rename columns.\n",
    "gpd.columns = ['country', 'country_code', 'geometry']\n",
    "gpd.head()"
   ]
  },
  {
   "cell_type": "markdown",
   "id": "vocational-attention",
   "metadata": {},
   "source": [
    "# Conclusion"
   ]
  },
  {
   "cell_type": "code",
   "execution_count": null,
   "id": "sapphire-aluminum",
   "metadata": {},
   "outputs": [],
   "source": []
  },
  {
   "cell_type": "code",
   "execution_count": null,
   "id": "indian-memorial",
   "metadata": {},
   "outputs": [],
   "source": []
  },
  {
   "cell_type": "markdown",
   "id": "referenced-calvin",
   "metadata": {},
   "source": [
    "# Future Work"
   ]
  },
  {
   "cell_type": "code",
   "execution_count": null,
   "id": "informal-coffee",
   "metadata": {},
   "outputs": [],
   "source": [
    "#pipeline, tuning models, new data upload...."
   ]
  },
  {
   "cell_type": "code",
   "execution_count": null,
   "id": "japanese-ancient",
   "metadata": {},
   "outputs": [],
   "source": []
  },
  {
   "cell_type": "markdown",
   "id": "imported-anatomy",
   "metadata": {},
   "source": [
    "# **COVID-19 Vaccination Progress EDA**"
   ]
  }
 ],
 "metadata": {
  "kernelspec": {
   "display_name": "Python 3",
   "language": "python",
   "name": "python3"
  },
  "language_info": {
   "codemirror_mode": {
    "name": "ipython",
    "version": 3
   },
   "file_extension": ".py",
   "mimetype": "text/x-python",
   "name": "python",
   "nbconvert_exporter": "python",
   "pygments_lexer": "ipython3",
   "version": "3.8.5"
  }
 },
 "nbformat": 4,
 "nbformat_minor": 5
}
