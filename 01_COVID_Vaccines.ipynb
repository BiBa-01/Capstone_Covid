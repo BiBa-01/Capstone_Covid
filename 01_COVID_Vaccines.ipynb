{
 "cells": [
  {
   "cell_type": "markdown",
   "id": "julian-sessions",
   "metadata": {},
   "source": [
    "***\n",
    "***\n",
    "\n",
    "# **COVID-19 Vaccination Progress**\n",
    "\n",
    "## *1) Initial Data Exploration, Cleaning and Feature Engineering*"
   ]
  },
  {
   "cell_type": "markdown",
   "id": "accessible-mambo",
   "metadata": {},
   "source": [
    "***\n",
    "***\n",
    "\n",
    "## Table of Contents\n",
    "\n",
    "| 1. INTRODUCTION | 2. IMPORTS AND DATA PREPARATION | 3. SUMMARY |\n",
    "|----|----|----|\n",
    "| *1.1 COVID-19 Vaccines Background Information* | *2.1 Importing Libraries and Data* | *3.1 Key Findings* |\n",
    "| *1.2 Dataset Characteristics* | *2.2 Preliminary Data Exploration and Subsequent Cleaning* | *3.2 Key Limitations* |\n",
    "| |  *2.3 Feature Engineering to Prepare for In-Depth Data Analysis* | |\n",
    "| |  *2.4 Global Vaccination Dataframe* | |"
   ]
  },
  {
   "cell_type": "markdown",
   "id": "strong-repeat",
   "metadata": {},
   "source": [
    "***\n",
    "***\n",
    "\n",
    "## 1. INTRODUCTION\n",
    "\n",
    "The first vaccine to be developed against a contagious disease was the smallpox vaccine. In 1796, Edward Jenner demonstrated that inoculation with the relatively mild cowpox virus conferred immunity against the deadly smallpox virus. As the discoverer of the small pox vaccine, Edward Jenner, an English surgeon, helped save the lives of many people. These days, over 200 years later, the principle concept of vaccination remains the main option for fighting viral diseases and as such is key to combating the COVID-19 pandemic.\n",
    "\n",
    "***\n",
    "\n",
    "### 1.1 COVID-19 Vaccines\n",
    "\n",
    "The speed at which the first COVID-19 vaccines were developed as a response to the pandemic was extraordinary. Overall it took less than a year to successfully develop and approve several vaccines, a timeframe significantly shorter than usually observed for the development of new vaccines. It is important that development of further vaccines continues, as it does, as a very large share of the world population will need to receive a COVID-19 vaccine in order to become immune to the virus, so that we can successfully combat the pandemic. In addition, the appearance of more and more mutated versions of the SARS-CoV-2 virus calls for the development of additional vaccines to offer a wide bandwidth of starting points to also sucessfully figth these mutants.\n",
    "\n",
    "As such, it is evident that one of the key challenges is to vaccinate people around the world.\n",
    "\n",
    "There are currrently four different types of vaccines developed to target SARS-CoV-2, namely inactivated viruses, recombinant viral vectors, messengerRNA and protein subunit based vaccines. An overview of the different types can be found [here](https://www.who.int/news-room/feature-stories/detail/the-race-for-a-covid-19-vaccine-explained) and [here](https://covid19.trackvaccines.org/how-do-vaccines-work/#types).\n",
    "\n",
    "#### The two key types of vaccines utilised against SARS-CoV-2 are:\n",
    "\n",
    "mRNA VACCINES: mRNA vaccines contain mRNA with instructions for making the spike protein. This protein is expressed the surface of the SARS-CoV-2 virus and required to enter cells. Upon vaccination the spike protein is produced and will be recognised by the immune system as foreign. This results in the production of antibodies and activated T cells (white blood cells) which will attack it. This information is stored by the immune system so that if it encounters the SARS-CoV-2 virus again it can act fast to eliminate it.\n",
    "\n",
    "RECOMBINANT VACCINES: Recombinant vaccines are made up of another virus (which cannot reproduce and cause disease) that has been modified to contain the gene for making the SARS-CoV-2 spike protein. This protein is expressed the surface of the SARS-CoV-2 virus and required to enter cells. Upon vaccination the spike protein is produced and will be recognised by the immune system as foreign. This results in the production of antibodies and activated T cells (white blood cells) which will attack it. This information is stored by the immune system so that if it encounters the SARS-CoV-2 virus again it can act fast to eliminate it.\n",
    "\n",
    "Several institutions maintain websites on which they list COVID-19 candidate vaccines that are currently being developed. The [WHO Vaccine Tracker](https://www.who.int/publications/m/item/draft-landscape-of-covid-19-candidate-vaccines) is one of them and provides a concise overview. Additional information on COVID-19 vaccines by the WHO can be found [here](https://www.who.int/emergencies/diseases/novel-coronavirus-2019/covid-19-vaccines).\n",
    "\n",
    "#### General overview of the current (31st March 2021) top 4 vaccines with respect to the number of countries in which they received authorisation:\n",
    "\n",
    "| VACCINE | Approved in | type of vaccine |\n",
    "|----|----|----|\n",
    "| Oxford/AstraZeneca | 82 countries | RECOMBINANT (non-replicating viral vector) |\n",
    "| Pfizer/BioNTech | 79 countries | messenger RNA (mRNA) (nucleoside-modified) |\n",
    "| Johnson & Johnson (Janssen) | 37 countries | RECOMBINANT (non-replicating viral vector) |\n",
    "| Covishield (Serum Inst. of India) | 31 countries | RECOMBINANT (non-replicating viral vector) |\n",
    "\n",
    "#### Overview of approved vaccines for selected countries (USA, EU, China, India, Israel, Russia) as of 31st March 2021:\n",
    "\n",
    "#### USA\n",
    "\n",
    "+ [FDA vaccine overview](https://www.fda.gov/emergency-preparedness-and-response/coronavirus-disease-2019-covid-19/covid-19-vaccines)\n",
    "\n",
    "| VACCINE | status | type of vaccine | administration |\n",
    "|----|----|----|----|\n",
    "| Pfizer/BioNTech | authorised for emergency use (11/12/2020) | RECOMBINANT (non-replicating viral vector) | 2 intramuscular injections, 4-12 weeks apart |\n",
    "| Moderna | authorised for emergency use (18/12/2020) | messenger RNA (mRNA) (nucleoside-modified) | 2 intramuscular injections, 28 days apart |\n",
    "| Johnson & Johnson (Janssen) | authorised for emergency use (27/02/2021) | RECOMBINANT (non-replicating viral vector) | - |\n",
    "\n",
    "\n",
    "#### European Union\n",
    "\n",
    "NOTE: The following summary reflects the approved vaccines in the EU, not Europe. In Switzerland the Oxford/AstraZeneca vaccine is currently not approved, and in the UK Johnson & Johnson is currently not approved.\n",
    "\n",
    "+ [EMA vaccine overview](https://www.ema.europa.eu/en/human-regulatory/overview/public-health-threats/coronavirus-disease-covid-19/treatments-vaccines/vaccines-covid-19/covid-19-vaccines-key-facts)\n",
    "\n",
    "+ [Authorised vaccine overview - European medicines agency - EMA](https://www.ema.europa.eu/en/human-regulatory/overview/public-health-threats/coronavirus-disease-covid-19/treatments-vaccines/vaccines-covid-19/covid-19-vaccines-authorised)\n",
    "\n",
    "| VACCINE | status | type of vaccine | administration |\n",
    "|----|----|----|----|\n",
    "| Pfizer/BioNTech (Corminaty) | conditional marketing authorisation granted (21/12/2020) | messenger RNA (mRNA) (nucleoside-modified) | 2 intramuscular injections, 3 weeks apart |\n",
    "| Johnson & Johnson (Janssen) | conditional marketing authorisation granted (11/03/2021) | RECOMBINANT (non-replicating viral vector) | - |\n",
    "| Moderna | conditional marketing authorisation granted (06/01/2021) | messenger RNA (mRNA) (nucleoside-modified) | 2 intramuscular injections, 28 days apart |\n",
    "| AstraZeneca (Vaxzevria) | conditional marketing authorisation granted (29/01/2021) | RECOMBINANT (non-replicating viral vector) | 2 intramuscular injections, 4-12 weeks apart |\n",
    "\n",
    "\n",
    "#### China, India, Israel and Russia\n",
    "\n",
    "| VACCINE | type of vaccine | country |\n",
    "|----|----|----|\n",
    "| Sinopharm Wuhan | INACTIVATED virus | China |\n",
    "| Sinopharm Beijing | INACTIVATED virus | China |\n",
    "| Covaxin (Bharat Biotech) | INACTIVATED virus | China, India |\n",
    "| CanSino | RECOMBINANT (non-replicating viral vector) | China |\n",
    "| Anhui Zhifei Longcom (RBD-Dimer) | Protein subunit | China |\n",
    "| Oxford/AstraZeneca | RECOMBINANT (non-replicating viral vector) | India |\n",
    "| Covishield (Serum Inst. of India) | RECOMBINANT (non-replicating viral vector) | India |\n",
    "| Pfizer/BioNTech | messenger RNA (mRNA) (nucleoside-modified) | Israel |\n",
    "| Moderna | messenger RNA (mRNA) (nucleoside-modified) | Israel |\n",
    "| Sputnik V | RECOMBINANT (non-replicating viral vector) | Russia |\n",
    "| EpiVacCorona | Protein subunit | Russia |\n",
    "\n",
    "An overview of clinical trials and vaccine authorisations by country can be found [here](https://covid19.trackvaccines.org/trials-vaccines-by-country/).\n",
    "\n",
    "In summary, it can be noted that out of the **total 12 vaccines** listed above to date only 10 appear in the dataset, i.e. Covaxin, EpiVacCorona, Johnson & Johnson, Moderna, Oxford/AstraZeneca, Pfizer/BioNTech, Sinopharm Beijing, Sinopharm Wuhan, Sinovac, Sputnik V. Two chinese vaccines CanSino and Anhui Zhifei Longcom are not currently covered by the dataset. Since data for vaccinations in China is included in the dataset it can be assumed that these approved vaccines are possibly currently not being supplied yet. It can also be noted that some vaccines are approved accross numerous countries, whereas others are predominantly appoved in only a limited number of countries. The above overview of vaccines is not exhaustive and there may be some approved vaccines that are not included. And, of course, the approval of new vaccines is a dynamic progress, so the overview only reflects the status as of 31st March 2021.\n",
    "\n",
    "IMPORTANT NOTE! Different vaccines are approved for use in different countries and thus influence which vaccines and how many are available in each country. In addition the available quantity is strongly influenced by the production capacity of each vaccine.\n",
    "\n",
    "***\n",
    "\n",
    "### 1.2 Dataset Overview\n",
    "\n",
    "The dataset used in this capstone project is 'COVID-19 World Vaccination Progress (version 81)', was created by Gabriel Preda and is [available on Kaggle](https://www.kaggle.com/gpreda/covid-world-vaccination-progress). It is a compilation of COVID-19 vaccination data (updated daily) provided by [OurWordinData](https://ourworldindata.org/covid-vaccinations). The 'OurWorldinData' website contains a plethora of information regarding the global vaccination progress, including visualisations of the progress as well as an overview of approved vaccines worldwide. \n",
    "\n",
    "**The dataset contains 8079 observations for 15 features.**\n",
    "\n",
    "| FEATURE | description | comment |\n",
    "|----|----|----|\n",
    "| **country** | 147 countries | 4 duplicates, UN recognises 197 countries (193 are members) |\n",
    "| **iso_code** | country code by ISO norm | -|\n",
    "| **date** | data entry (13th December 2020 to 24th March 2021) | - |\n",
    "| **vaccines** | name/company | - |\n",
    "| **daily_vaccinations** | no. of vaccination for that date/country | some days only daily vaccinations, some days only the (cummulative) total |\n",
    "| **daily_vaccinations_raw** | daily vaccinations as CHANGE COMPARED TO PREVIOUS DAY (cross-check purposes) | calculation: total_vaccinations (day) - total_vaccination (previous day) |\n",
    "| **daily_vaccinations_per_million** | ratio (in ppm) between vaccination number and total population for the current date in the country | - |\n",
    "| **total_vaccinations** | absolute number of immunisations (jabs) in the country | some days only daily vaccinations, some days only the (cummulative) total |\n",
    "| **total_vaccinations_per_hundred** | ratio (in percent) between vaccination number and total population up to the date in the country | - |\n",
    "| **people_vaccinated** | total no. of people with immunisation (partial and full) | - |\n",
    "| **people_vaccinated_per_hundred** | ratio (in percent) between population immunized (partial and full) and total population | - |\n",
    "| **people_fully_vaccinated** | total no. of people with full immunisation (typically 2) | - |\n",
    "| **people_fully_vaccinated_per_hundred** | ratio (in percent) between population fully immunized and total population | - |\n",
    "| **source_name** | national authority, international organization, local organization etc. | - |\n",
    "| **source_website** | website link to source | - |\n",
    "\n",
    "***\n",
    "***"
   ]
  },
  {
   "cell_type": "markdown",
   "id": "patent-domain",
   "metadata": {},
   "source": [
    "## 2. IMPORTS AND DATA PREPARATION\n",
    "\n",
    "***\n",
    "\n",
    "### 2.1 Importing Libraries and Data\n",
    "\n",
    "+ Import numpy (linear algebra) and pandas (data processing).\n",
    "+ Import Kaggle COVID vaccination progress dataset."
   ]
  },
  {
   "cell_type": "code",
   "execution_count": 1,
   "id": "recorded-comparative",
   "metadata": {
    "jupyter": {
     "source_hidden": true
    }
   },
   "outputs": [],
   "source": [
    "#Import basic libraries\n",
    "import numpy as np\n",
    "import pandas as pd\n",
    "\n",
    "#Suppress pandas future warnings\n",
    "import warnings\n",
    "warnings.simplefilter(action='ignore', category=FutureWarning)"
   ]
  },
  {
   "cell_type": "code",
   "execution_count": 2,
   "id": "active-river",
   "metadata": {
    "jupyter": {
     "source_hidden": true
    }
   },
   "outputs": [],
   "source": [
    "#Import local Kaggle dataset (version 81, March 2021) country_vaccinations on COVID-19 vaccination progress and set date to datetime\n",
    "df = pd.read_csv('data/country_vaccinations.csv', parse_dates=['date'])\n",
    "\n",
    "#Alternatively load updated Kaggle dataset country_vaccinations on COVID-19 vaccination progress from url\n",
    "#df = pd.read_csv('https://www.kaggle.com/gpreda/covid-world-vaccination-progress/download', parse_dates=['date'])\n",
    "\n",
    "#Sort by date\n",
    "df.sort_values('date', inplace=True)"
   ]
  },
  {
   "cell_type": "markdown",
   "id": "afraid-woman",
   "metadata": {},
   "source": [
    "***\n",
    "\n",
    "### 2.2 Preliminary Data Exploration and Subsequent Cleaning\n",
    "\n",
    "In this section the basic characteristics of the data were explored, starting with the number of observations and features, as well as the types of variables, and any missing values and/or duplicates.\n",
    "\n",
    "NOTE: Detailed attention to missing values from a time-series perspective is given in one of the following notebooks.\n",
    "\n",
    "Get an initial feel for the data by looking at the first 3 and last 3 rows of the dataframe:"
   ]
  },
  {
   "cell_type": "code",
   "execution_count": 3,
   "id": "according-movement",
   "metadata": {
    "jupyter": {
     "source_hidden": true
    }
   },
   "outputs": [
    {
     "data": {
      "text/html": [
       "<div>\n",
       "<style scoped>\n",
       "    .dataframe tbody tr th:only-of-type {\n",
       "        vertical-align: middle;\n",
       "    }\n",
       "\n",
       "    .dataframe tbody tr th {\n",
       "        vertical-align: top;\n",
       "    }\n",
       "\n",
       "    .dataframe thead th {\n",
       "        text-align: right;\n",
       "    }\n",
       "</style>\n",
       "<table border=\"1\" class=\"dataframe\">\n",
       "  <thead>\n",
       "    <tr style=\"text-align: right;\">\n",
       "      <th></th>\n",
       "      <th>country</th>\n",
       "      <th>iso_code</th>\n",
       "      <th>date</th>\n",
       "      <th>total_vaccinations</th>\n",
       "      <th>people_vaccinated</th>\n",
       "      <th>people_fully_vaccinated</th>\n",
       "      <th>daily_vaccinations_raw</th>\n",
       "      <th>daily_vaccinations</th>\n",
       "      <th>total_vaccinations_per_hundred</th>\n",
       "      <th>people_vaccinated_per_hundred</th>\n",
       "      <th>people_fully_vaccinated_per_hundred</th>\n",
       "      <th>daily_vaccinations_per_million</th>\n",
       "      <th>vaccines</th>\n",
       "      <th>source_name</th>\n",
       "      <th>source_website</th>\n",
       "    </tr>\n",
       "  </thead>\n",
       "  <tbody>\n",
       "    <tr>\n",
       "      <th>5309</th>\n",
       "      <td>Northern Ireland</td>\n",
       "      <td>OWID_NIR</td>\n",
       "      <td>2020-12-13</td>\n",
       "      <td>3623.0</td>\n",
       "      <td>3623.0</td>\n",
       "      <td>NaN</td>\n",
       "      <td>NaN</td>\n",
       "      <td>NaN</td>\n",
       "      <td>0.19</td>\n",
       "      <td>0.19</td>\n",
       "      <td>NaN</td>\n",
       "      <td>NaN</td>\n",
       "      <td>Oxford/AstraZeneca, Pfizer/BioNTech</td>\n",
       "      <td>Government of the United Kingdom</td>\n",
       "      <td>https://coronavirus.data.gov.uk/details/health...</td>\n",
       "    </tr>\n",
       "    <tr>\n",
       "      <th>7943</th>\n",
       "      <td>Wales</td>\n",
       "      <td>OWID_WLS</td>\n",
       "      <td>2020-12-13</td>\n",
       "      <td>8257.0</td>\n",
       "      <td>8257.0</td>\n",
       "      <td>NaN</td>\n",
       "      <td>NaN</td>\n",
       "      <td>NaN</td>\n",
       "      <td>0.26</td>\n",
       "      <td>0.26</td>\n",
       "      <td>NaN</td>\n",
       "      <td>NaN</td>\n",
       "      <td>Oxford/AstraZeneca, Pfizer/BioNTech</td>\n",
       "      <td>Government of the United Kingdom</td>\n",
       "      <td>https://coronavirus.data.gov.uk/details/health...</td>\n",
       "    </tr>\n",
       "    <tr>\n",
       "      <th>2269</th>\n",
       "      <td>England</td>\n",
       "      <td>OWID_ENG</td>\n",
       "      <td>2020-12-13</td>\n",
       "      <td>55576.0</td>\n",
       "      <td>55576.0</td>\n",
       "      <td>NaN</td>\n",
       "      <td>NaN</td>\n",
       "      <td>NaN</td>\n",
       "      <td>0.10</td>\n",
       "      <td>0.10</td>\n",
       "      <td>NaN</td>\n",
       "      <td>NaN</td>\n",
       "      <td>Oxford/AstraZeneca, Pfizer/BioNTech</td>\n",
       "      <td>Government of the United Kingdom</td>\n",
       "      <td>https://coronavirus.data.gov.uk/details/health...</td>\n",
       "    </tr>\n",
       "  </tbody>\n",
       "</table>\n",
       "</div>"
      ],
      "text/plain": [
       "               country  iso_code       date  total_vaccinations  \\\n",
       "5309  Northern Ireland  OWID_NIR 2020-12-13              3623.0   \n",
       "7943             Wales  OWID_WLS 2020-12-13              8257.0   \n",
       "2269           England  OWID_ENG 2020-12-13             55576.0   \n",
       "\n",
       "      people_vaccinated  people_fully_vaccinated  daily_vaccinations_raw  \\\n",
       "5309             3623.0                      NaN                     NaN   \n",
       "7943             8257.0                      NaN                     NaN   \n",
       "2269            55576.0                      NaN                     NaN   \n",
       "\n",
       "      daily_vaccinations  total_vaccinations_per_hundred  \\\n",
       "5309                 NaN                            0.19   \n",
       "7943                 NaN                            0.26   \n",
       "2269                 NaN                            0.10   \n",
       "\n",
       "      people_vaccinated_per_hundred  people_fully_vaccinated_per_hundred  \\\n",
       "5309                           0.19                                  NaN   \n",
       "7943                           0.26                                  NaN   \n",
       "2269                           0.10                                  NaN   \n",
       "\n",
       "      daily_vaccinations_per_million                             vaccines  \\\n",
       "5309                             NaN  Oxford/AstraZeneca, Pfizer/BioNTech   \n",
       "7943                             NaN  Oxford/AstraZeneca, Pfizer/BioNTech   \n",
       "2269                             NaN  Oxford/AstraZeneca, Pfizer/BioNTech   \n",
       "\n",
       "                           source_name  \\\n",
       "5309  Government of the United Kingdom   \n",
       "7943  Government of the United Kingdom   \n",
       "2269  Government of the United Kingdom   \n",
       "\n",
       "                                         source_website  \n",
       "5309  https://coronavirus.data.gov.uk/details/health...  \n",
       "7943  https://coronavirus.data.gov.uk/details/health...  \n",
       "2269  https://coronavirus.data.gov.uk/details/health...  "
      ]
     },
     "execution_count": 3,
     "metadata": {},
     "output_type": "execute_result"
    }
   ],
   "source": [
    "#Take a first glance at the data (first 3 entries)\n",
    "df.head(3)"
   ]
  },
  {
   "cell_type": "code",
   "execution_count": 4,
   "id": "driving-venice",
   "metadata": {
    "jupyter": {
     "source_hidden": true
    }
   },
   "outputs": [
    {
     "data": {
      "text/html": [
       "<div>\n",
       "<style scoped>\n",
       "    .dataframe tbody tr th:only-of-type {\n",
       "        vertical-align: middle;\n",
       "    }\n",
       "\n",
       "    .dataframe tbody tr th {\n",
       "        vertical-align: top;\n",
       "    }\n",
       "\n",
       "    .dataframe thead th {\n",
       "        text-align: right;\n",
       "    }\n",
       "</style>\n",
       "<table border=\"1\" class=\"dataframe\">\n",
       "  <thead>\n",
       "    <tr style=\"text-align: right;\">\n",
       "      <th></th>\n",
       "      <th>country</th>\n",
       "      <th>iso_code</th>\n",
       "      <th>date</th>\n",
       "      <th>total_vaccinations</th>\n",
       "      <th>people_vaccinated</th>\n",
       "      <th>people_fully_vaccinated</th>\n",
       "      <th>daily_vaccinations_raw</th>\n",
       "      <th>daily_vaccinations</th>\n",
       "      <th>total_vaccinations_per_hundred</th>\n",
       "      <th>people_vaccinated_per_hundred</th>\n",
       "      <th>people_fully_vaccinated_per_hundred</th>\n",
       "      <th>daily_vaccinations_per_million</th>\n",
       "      <th>vaccines</th>\n",
       "      <th>source_name</th>\n",
       "      <th>source_website</th>\n",
       "    </tr>\n",
       "  </thead>\n",
       "  <tbody>\n",
       "    <tr>\n",
       "      <th>4959</th>\n",
       "      <td>Mongolia</td>\n",
       "      <td>MNG</td>\n",
       "      <td>2021-03-24</td>\n",
       "      <td>244550.0</td>\n",
       "      <td>NaN</td>\n",
       "      <td>NaN</td>\n",
       "      <td>21106.0</td>\n",
       "      <td>14988.0</td>\n",
       "      <td>7.46</td>\n",
       "      <td>NaN</td>\n",
       "      <td>NaN</td>\n",
       "      <td>4572.0</td>\n",
       "      <td>Oxford/AstraZeneca</td>\n",
       "      <td>Ministry of Health via ikon.mn</td>\n",
       "      <td>https://ikon.mn/</td>\n",
       "    </tr>\n",
       "    <tr>\n",
       "      <th>4108</th>\n",
       "      <td>Kenya</td>\n",
       "      <td>KEN</td>\n",
       "      <td>2021-03-24</td>\n",
       "      <td>64100.0</td>\n",
       "      <td>64100.0</td>\n",
       "      <td>NaN</td>\n",
       "      <td>NaN</td>\n",
       "      <td>6300.0</td>\n",
       "      <td>0.12</td>\n",
       "      <td>0.12</td>\n",
       "      <td>NaN</td>\n",
       "      <td>117.0</td>\n",
       "      <td>Oxford/AstraZeneca</td>\n",
       "      <td>Ministry of Health</td>\n",
       "      <td>https://twitter.com/MOH_Kenya/status/137473931...</td>\n",
       "    </tr>\n",
       "    <tr>\n",
       "      <th>8078</th>\n",
       "      <td>Zimbabwe</td>\n",
       "      <td>ZWE</td>\n",
       "      <td>2021-03-24</td>\n",
       "      <td>49404.0</td>\n",
       "      <td>49404.0</td>\n",
       "      <td>NaN</td>\n",
       "      <td>5269.0</td>\n",
       "      <td>1400.0</td>\n",
       "      <td>0.33</td>\n",
       "      <td>0.33</td>\n",
       "      <td>NaN</td>\n",
       "      <td>94.0</td>\n",
       "      <td>Sinopharm/Beijing</td>\n",
       "      <td>Ministry of Health</td>\n",
       "      <td>https://twitter.com/MoHCCZim/status/1374795915...</td>\n",
       "    </tr>\n",
       "  </tbody>\n",
       "</table>\n",
       "</div>"
      ],
      "text/plain": [
       "       country iso_code       date  total_vaccinations  people_vaccinated  \\\n",
       "4959  Mongolia      MNG 2021-03-24            244550.0                NaN   \n",
       "4108     Kenya      KEN 2021-03-24             64100.0            64100.0   \n",
       "8078  Zimbabwe      ZWE 2021-03-24             49404.0            49404.0   \n",
       "\n",
       "      people_fully_vaccinated  daily_vaccinations_raw  daily_vaccinations  \\\n",
       "4959                      NaN                 21106.0             14988.0   \n",
       "4108                      NaN                     NaN              6300.0   \n",
       "8078                      NaN                  5269.0              1400.0   \n",
       "\n",
       "      total_vaccinations_per_hundred  people_vaccinated_per_hundred  \\\n",
       "4959                            7.46                            NaN   \n",
       "4108                            0.12                           0.12   \n",
       "8078                            0.33                           0.33   \n",
       "\n",
       "      people_fully_vaccinated_per_hundred  daily_vaccinations_per_million  \\\n",
       "4959                                  NaN                          4572.0   \n",
       "4108                                  NaN                           117.0   \n",
       "8078                                  NaN                            94.0   \n",
       "\n",
       "                vaccines                     source_name  \\\n",
       "4959  Oxford/AstraZeneca  Ministry of Health via ikon.mn   \n",
       "4108  Oxford/AstraZeneca              Ministry of Health   \n",
       "8078   Sinopharm/Beijing              Ministry of Health   \n",
       "\n",
       "                                         source_website  \n",
       "4959                                   https://ikon.mn/  \n",
       "4108  https://twitter.com/MOH_Kenya/status/137473931...  \n",
       "8078  https://twitter.com/MoHCCZim/status/1374795915...  "
      ]
     },
     "execution_count": 4,
     "metadata": {},
     "output_type": "execute_result"
    }
   ],
   "source": [
    "#Take a first glance at the data (last 3 entries)\n",
    "df.tail(3)"
   ]
  },
  {
   "cell_type": "markdown",
   "id": "fluid-institution",
   "metadata": {},
   "source": [
    "**KEY FINDING:**\n",
    "\n",
    "Some of the ISO country codes contain the prefix OWID (maybe this stands for: 'Our-World-in-Data'?).\n",
    "\n",
    "Irrespectively, this needs to be removed and is thus our first cleaning task."
   ]
  },
  {
   "cell_type": "code",
   "execution_count": 5,
   "id": "acting-astrology",
   "metadata": {
    "jupyter": {
     "source_hidden": true
    }
   },
   "outputs": [
    {
     "data": {
      "text/html": [
       "<div>\n",
       "<style scoped>\n",
       "    .dataframe tbody tr th:only-of-type {\n",
       "        vertical-align: middle;\n",
       "    }\n",
       "\n",
       "    .dataframe tbody tr th {\n",
       "        vertical-align: top;\n",
       "    }\n",
       "\n",
       "    .dataframe thead th {\n",
       "        text-align: right;\n",
       "    }\n",
       "</style>\n",
       "<table border=\"1\" class=\"dataframe\">\n",
       "  <thead>\n",
       "    <tr style=\"text-align: right;\">\n",
       "      <th></th>\n",
       "      <th>country</th>\n",
       "      <th>iso_code</th>\n",
       "      <th>date</th>\n",
       "      <th>total_vaccinations</th>\n",
       "      <th>people_vaccinated</th>\n",
       "      <th>people_fully_vaccinated</th>\n",
       "      <th>daily_vaccinations_raw</th>\n",
       "      <th>daily_vaccinations</th>\n",
       "      <th>total_vaccinations_per_hundred</th>\n",
       "      <th>people_vaccinated_per_hundred</th>\n",
       "      <th>people_fully_vaccinated_per_hundred</th>\n",
       "      <th>daily_vaccinations_per_million</th>\n",
       "      <th>vaccines</th>\n",
       "      <th>source_name</th>\n",
       "      <th>source_website</th>\n",
       "    </tr>\n",
       "  </thead>\n",
       "  <tbody>\n",
       "    <tr>\n",
       "      <th>5309</th>\n",
       "      <td>Northern Ireland</td>\n",
       "      <td>NIR</td>\n",
       "      <td>2020-12-13</td>\n",
       "      <td>3623.0</td>\n",
       "      <td>3623.0</td>\n",
       "      <td>NaN</td>\n",
       "      <td>NaN</td>\n",
       "      <td>NaN</td>\n",
       "      <td>0.19</td>\n",
       "      <td>0.19</td>\n",
       "      <td>NaN</td>\n",
       "      <td>NaN</td>\n",
       "      <td>Oxford/AstraZeneca, Pfizer/BioNTech</td>\n",
       "      <td>Government of the United Kingdom</td>\n",
       "      <td>https://coronavirus.data.gov.uk/details/health...</td>\n",
       "    </tr>\n",
       "  </tbody>\n",
       "</table>\n",
       "</div>"
      ],
      "text/plain": [
       "               country iso_code       date  total_vaccinations  \\\n",
       "5309  Northern Ireland      NIR 2020-12-13              3623.0   \n",
       "\n",
       "      people_vaccinated  people_fully_vaccinated  daily_vaccinations_raw  \\\n",
       "5309             3623.0                      NaN                     NaN   \n",
       "\n",
       "      daily_vaccinations  total_vaccinations_per_hundred  \\\n",
       "5309                 NaN                            0.19   \n",
       "\n",
       "      people_vaccinated_per_hundred  people_fully_vaccinated_per_hundred  \\\n",
       "5309                           0.19                                  NaN   \n",
       "\n",
       "      daily_vaccinations_per_million                             vaccines  \\\n",
       "5309                             NaN  Oxford/AstraZeneca, Pfizer/BioNTech   \n",
       "\n",
       "                           source_name  \\\n",
       "5309  Government of the United Kingdom   \n",
       "\n",
       "                                         source_website  \n",
       "5309  https://coronavirus.data.gov.uk/details/health...  "
      ]
     },
     "execution_count": 5,
     "metadata": {},
     "output_type": "execute_result"
    }
   ],
   "source": [
    "#Remove 'OWID' prefix from country ISO codes\n",
    "df['iso_code'] = df.iso_code.map(lambda x: x.lstrip('OWID_'))\n",
    "df.head(1)"
   ]
  },
  {
   "cell_type": "code",
   "execution_count": 6,
   "id": "british-pendant",
   "metadata": {
    "jupyter": {
     "source_hidden": true
    }
   },
   "outputs": [
    {
     "name": "stdout",
     "output_type": "stream",
     "text": [
      "ISO code cleaning (1): In total we now have 1037 out of 8079 rows which are not 3-letter country ISO code conform.\n",
      "ISO code cleaning (1): There are 14 country ISO codes that are not made up of 3 letters: \n",
      " ['LS' 'SR' 'TA' 'EU' 'NK' 'MN' 'SL' 'RL' 'N' 'ND' 'ZA' 'RN' 'MA' 'M']\n"
     ]
    }
   ],
   "source": [
    "#Check if there are any more ISO country codes that are not 3-letter codes\n",
    "df_iso_check = df[df['iso_code'].str.len()!=3]\n",
    "print(f'ISO code cleaning (1): In total we now have {df_iso_check.shape[0]} out of {df.shape[0]} rows which are not 3-letter country ISO code conform.')\n",
    "print(f'ISO code cleaning (1): There are {df_iso_check.iso_code.nunique()} country ISO codes that are not made up of 3 letters: \\n {df_iso_check.iso_code.unique()}')"
   ]
  },
  {
   "cell_type": "code",
   "execution_count": 7,
   "id": "thousand-barrel",
   "metadata": {
    "jupyter": {
     "source_hidden": true
    }
   },
   "outputs": [],
   "source": [
    "#Replace obvious 2-letters iso country codes by 3-letter codes (7 out of 14)\n",
    "df['iso_code'] = df['iso_code'].replace(['LS'],'LSO').replace(['SR'],'SUR').replace(['MN'],'MNG')\\\n",
    "                               .replace(['SL'],'SLE').replace(['ZA'],'ZAF').replace(['MA'],'MAR')\\\n",
    "                               .replace(['TA'],'TAA')"
   ]
  },
  {
   "cell_type": "code",
   "execution_count": 8,
   "id": "conscious-highlight",
   "metadata": {
    "jupyter": {
     "source_hidden": true
    }
   },
   "outputs": [
    {
     "name": "stdout",
     "output_type": "stream",
     "text": [
      "ISO code cleaning (2)): In total there are now 472 out of 8079 rows with non-3-letter ISO code left.\n",
      "ISO code cleaning (2): There are 7 country ISO codes that are not made up of 3 letters: \n",
      " ['EU' 'NK' 'RL' 'N' 'ND' 'RN' 'M']\n"
     ]
    }
   ],
   "source": [
    "#Check how many non-3-letter iso codes are left\n",
    "df_iso_check_2 = df[df['iso_code'].str.len()!=3]\n",
    "print(f'ISO code cleaning (2)): In total there are now {df_iso_check_2.shape[0]} out of {df.shape[0]} rows with non-3-letter ISO code left.')\n",
    "print(f'ISO code cleaning (2): There are {df_iso_check_2.iso_code.nunique()} country ISO codes that are not made up of 3 letters: \\n {df_iso_check_2.iso_code.unique()}')"
   ]
  },
  {
   "cell_type": "code",
   "execution_count": 9,
   "id": "pacific-forward",
   "metadata": {
    "jupyter": {
     "source_hidden": true
    }
   },
   "outputs": [
    {
     "name": "stdout",
     "output_type": "stream",
     "text": [
      "Examples of the more obscure country codes:\n"
     ]
    },
    {
     "data": {
      "text/html": [
       "<div>\n",
       "<style scoped>\n",
       "    .dataframe tbody tr th:only-of-type {\n",
       "        vertical-align: middle;\n",
       "    }\n",
       "\n",
       "    .dataframe tbody tr th {\n",
       "        vertical-align: top;\n",
       "    }\n",
       "\n",
       "    .dataframe thead th {\n",
       "        text-align: right;\n",
       "    }\n",
       "</style>\n",
       "<table border=\"1\" class=\"dataframe\">\n",
       "  <thead>\n",
       "    <tr style=\"text-align: right;\">\n",
       "      <th></th>\n",
       "      <th>country</th>\n",
       "      <th>iso_code</th>\n",
       "    </tr>\n",
       "  </thead>\n",
       "  <tbody>\n",
       "    <tr>\n",
       "      <th>3564</th>\n",
       "      <td>Ireland</td>\n",
       "      <td>RL</td>\n",
       "    </tr>\n",
       "    <tr>\n",
       "      <th>2720</th>\n",
       "      <td>Germany</td>\n",
       "      <td>EU</td>\n",
       "    </tr>\n",
       "    <tr>\n",
       "      <th>2028</th>\n",
       "      <td>Denmark</td>\n",
       "      <td>NK</td>\n",
       "    </tr>\n",
       "  </tbody>\n",
       "</table>\n",
       "</div>"
      ],
      "text/plain": [
       "      country iso_code\n",
       "3564  Ireland       RL\n",
       "2720  Germany       EU\n",
       "2028  Denmark       NK"
      ]
     },
     "execution_count": 9,
     "metadata": {},
     "output_type": "execute_result"
    }
   ],
   "source": [
    "#Quickly check which countries belong to the remaining obscure codes\n",
    "print(f'Examples of the more obscure country codes:')\n",
    "df_iso_check_2[['country', 'iso_code']].sample(3, random_state=42)"
   ]
  },
  {
   "cell_type": "code",
   "execution_count": 10,
   "id": "extraordinary-shopping",
   "metadata": {
    "jupyter": {
     "source_hidden": true
    }
   },
   "outputs": [],
   "source": [
    "#Replace remaining codes by 3-letter country codes\n",
    "df['iso_code'] = df['iso_code'].replace(['IR'],'IRL').replace(['NK'],'DNK').replace(['EU'],'DEU')\\\n",
    "                               .replace(['ND'],'IND').replace(['N'],'IDN').replace(['M'],'DOM')\\\n",
    "                               .replace(['RN'],'IRN').replace(['RL'],'IRL')"
   ]
  },
  {
   "cell_type": "code",
   "execution_count": 11,
   "id": "variable-narrative",
   "metadata": {
    "jupyter": {
     "source_hidden": true
    }
   },
   "outputs": [
    {
     "name": "stdout",
     "output_type": "stream",
     "text": [
      "FINAL CHECK: In total there are 0 out of 8079 rows with non-3-letter ISO code left.\n"
     ]
    }
   ],
   "source": [
    "#Check if any non-3-letter ISO codes left\n",
    "df_iso_check_3 = df[df['iso_code'].str.len()!=3]\n",
    "print(f'FINAL CHECK: In total there are {df_iso_check_3.shape[0]} out of {df.shape[0]} rows with non-3-letter ISO code left.')"
   ]
  },
  {
   "cell_type": "markdown",
   "id": "natural-helen",
   "metadata": {},
   "source": [
    "Next, let's check out what timeframe is covered by this timeseries."
   ]
  },
  {
   "cell_type": "code",
   "execution_count": 12,
   "id": "located-marking",
   "metadata": {
    "jupyter": {
     "source_hidden": true
    }
   },
   "outputs": [
    {
     "name": "stdout",
     "output_type": "stream",
     "text": [
      "The dataset covers vaccinations between 2020-12-13 00:00:00 and 2021-03-24 00:00:00.\n"
     ]
    }
   ],
   "source": [
    "#Check for first/last entry date\n",
    "d_min = df.date.min()\n",
    "d_max = df.date.max()\n",
    "print(f'The dataset covers vaccinations between {d_min} and {d_max}.')"
   ]
  },
  {
   "cell_type": "code",
   "execution_count": 13,
   "id": "convinced-leather",
   "metadata": {
    "jupyter": {
     "source_hidden": true
    }
   },
   "outputs": [
    {
     "name": "stdout",
     "output_type": "stream",
     "text": [
      "The dataset covers 101 days 00:00:00.\n"
     ]
    }
   ],
   "source": [
    "#Check time delta\n",
    "t_delta = df.date.max() - df.date.min()\n",
    "print(f'The dataset covers {t_delta}.')"
   ]
  },
  {
   "cell_type": "markdown",
   "id": "typical-access",
   "metadata": {},
   "source": [
    "Next, let's look at the characteristics of the dataframe in a little more detail:\n",
    "\n",
    "+ Size of the dataframe\n",
    "+ Check for any duplicate entries\n",
    "+ Get information wrt the data types and any missing values"
   ]
  },
  {
   "cell_type": "code",
   "execution_count": 14,
   "id": "talented-orchestra",
   "metadata": {
    "jupyter": {
     "source_hidden": true
    }
   },
   "outputs": [
    {
     "name": "stdout",
     "output_type": "stream",
     "text": [
      "CHECK: In total we have 15 columns and 8079 rows in our COVID vaccination dataset.\n"
     ]
    }
   ],
   "source": [
    "#Number of columns and rows\n",
    "shape1 = df.shape\n",
    "print(f'CHECK: In total we have {shape1[1]} columns and {shape1[0]} rows in our COVID vaccination dataset.')"
   ]
  },
  {
   "cell_type": "code",
   "execution_count": 15,
   "id": "speaking-congress",
   "metadata": {
    "jupyter": {
     "source_hidden": true
    }
   },
   "outputs": [
    {
     "name": "stdout",
     "output_type": "stream",
     "text": [
      "CHECK: No duplicated entries found in COVID vaccination progress dataset.\n"
     ]
    }
   ],
   "source": [
    "#Generate count statistics of duplicate entries\n",
    "if len(df[df.duplicated()]) > 0:\n",
    "    print(\"CHECK: No. of duplicated entries in dataframe: \", len(df[df.duplicated()]))\n",
    "    print(df[df.duplicated(keep=False)].sort_values(by=list(df.columns)).head())\n",
    "else:\n",
    "    print(\"CHECK: No duplicated entries found in COVID vaccination progress dataset.\")"
   ]
  },
  {
   "cell_type": "code",
   "execution_count": 16,
   "id": "developed-female",
   "metadata": {
    "jupyter": {
     "source_hidden": true
    }
   },
   "outputs": [
    {
     "name": "stdout",
     "output_type": "stream",
     "text": [
      "<class 'pandas.core.frame.DataFrame'>\n",
      "Int64Index: 8079 entries, 5309 to 8078\n",
      "Data columns (total 15 columns):\n",
      " #   Column                               Non-Null Count  Dtype         \n",
      "---  ------                               --------------  -----         \n",
      " 0   country                              8079 non-null   object        \n",
      " 1   iso_code                             8079 non-null   object        \n",
      " 2   date                                 8079 non-null   datetime64[ns]\n",
      " 3   total_vaccinations                   4984 non-null   float64       \n",
      " 4   people_vaccinated                    4423 non-null   float64       \n",
      " 5   people_fully_vaccinated              3021 non-null   float64       \n",
      " 6   daily_vaccinations_raw               4192 non-null   float64       \n",
      " 7   daily_vaccinations                   7891 non-null   float64       \n",
      " 8   total_vaccinations_per_hundred       4984 non-null   float64       \n",
      " 9   people_vaccinated_per_hundred        4423 non-null   float64       \n",
      " 10  people_fully_vaccinated_per_hundred  3021 non-null   float64       \n",
      " 11  daily_vaccinations_per_million       7891 non-null   float64       \n",
      " 12  vaccines                             8079 non-null   object        \n",
      " 13  source_name                          8079 non-null   object        \n",
      " 14  source_website                       8079 non-null   object        \n",
      "dtypes: datetime64[ns](1), float64(9), object(5)\n",
      "memory usage: 1009.9+ KB\n"
     ]
    }
   ],
   "source": [
    "#Information about datatypes per column\n",
    "df.info()"
   ]
  },
  {
   "cell_type": "markdown",
   "id": "private-tuition",
   "metadata": {},
   "source": [
    "**KEY FINDINGS:**\n",
    "\n",
    "1) The dataset contains 1 date column, 5 categorical columns and 9 columns containing numerical values.\n",
    "\n",
    "1) NOTE: 9 out of 15 columns contain null values and need to be dealt with!\n",
    "\n",
    "    + Therefore, let's take a look at how many empties we have to deal with.\n",
    "    + And, let's check if there are any empty strings or lists in the 'object' columns. "
   ]
  },
  {
   "cell_type": "code",
   "execution_count": 17,
   "id": "alpine-bridge",
   "metadata": {
    "jupyter": {
     "source_hidden": true
    }
   },
   "outputs": [
    {
     "name": "stdout",
     "output_type": "stream",
     "text": [
      "The absolute number of missing values per column are: \n",
      " \n",
      " country                                   0\n",
      "iso_code                                  0\n",
      "date                                      0\n",
      "total_vaccinations                     3095\n",
      "people_vaccinated                      3656\n",
      "people_fully_vaccinated                5058\n",
      "daily_vaccinations_raw                 3887\n",
      "daily_vaccinations                      188\n",
      "total_vaccinations_per_hundred         3095\n",
      "people_vaccinated_per_hundred          3656\n",
      "people_fully_vaccinated_per_hundred    5058\n",
      "daily_vaccinations_per_million          188\n",
      "vaccines                                  0\n",
      "source_name                               0\n",
      "source_website                            0\n",
      "dtype: int64\n"
     ]
    }
   ],
   "source": [
    "#View number of empties per column\n",
    "missing = df.isnull().sum(axis = 0)\n",
    "print(f'The absolute number of missing values per column are: \\n \\n {missing}')"
   ]
  },
  {
   "cell_type": "code",
   "execution_count": 18,
   "id": "frank-lottery",
   "metadata": {
    "jupyter": {
     "source_hidden": true
    }
   },
   "outputs": [
    {
     "name": "stdout",
     "output_type": "stream",
     "text": [
      "The percentage of missing values per column are: \n",
      " \n",
      " country                                 0.000000\n",
      "iso_code                                0.000000\n",
      "date                                    0.000000\n",
      "total_vaccinations                     38.309197\n",
      "people_vaccinated                      45.253125\n",
      "people_fully_vaccinated                62.606758\n",
      "daily_vaccinations_raw                 48.112390\n",
      "daily_vaccinations                      2.327021\n",
      "total_vaccinations_per_hundred         38.309197\n",
      "people_vaccinated_per_hundred          45.253125\n",
      "people_fully_vaccinated_per_hundred    62.606758\n",
      "daily_vaccinations_per_million          2.327021\n",
      "vaccines                                0.000000\n",
      "source_name                             0.000000\n",
      "source_website                          0.000000\n",
      "dtype: float64\n"
     ]
    }
   ],
   "source": [
    "#Percent missing per columns\n",
    "percent_m = df.isnull().sum() * 100 / len(df)\n",
    "print(f'The percentage of missing values per column are: \\n \\n {percent_m}')"
   ]
  },
  {
   "cell_type": "code",
   "execution_count": 19,
   "id": "opening-watts",
   "metadata": {
    "jupyter": {
     "source_hidden": true
    }
   },
   "outputs": [
    {
     "name": "stdout",
     "output_type": "stream",
     "text": [
      "The check for empty strings/lists in the object columns returns: \n",
      " \n",
      " country  iso_code  date   vaccines  source_name  source_website\n",
      "False    False     False  False     False        False             8079\n",
      "dtype: int64\n"
     ]
    }
   ],
   "source": [
    "#Check for empty strings/lists in object columns\n",
    "object_lst = ['country', 'iso_code', 'date', 'vaccines', 'source_name', 'source_website']\n",
    "lst_empties = ['', []]\n",
    "check_str_lst = df[object_lst].isin(lst_empties).value_counts()\n",
    "print(f'The check for empty strings/lists in the object columns returns: \\n \\n {check_str_lst}')"
   ]
  },
  {
   "cell_type": "markdown",
   "id": "essential-president",
   "metadata": {},
   "source": [
    "**KEY FINDINGS:**\n",
    "\n",
    "1) There are no empty lists or strings in the dataset.\n",
    "\n",
    "1) None of the 5 categorical columns contain empties.\n",
    "\n",
    "1) All of the 9 numerical columns contain empties. The 2 daily vaccination columns contain relatively few empties, whereas the other columns contain 40-60% empties. Whereas the empties in the daily vaccinations will most likely be relatively easy to deal with, the large number of empties in the other columns will pose a challenge for  the time series specific analysis. This will be dealt with in one of the following notebook. "
   ]
  },
  {
   "cell_type": "markdown",
   "id": "catholic-proposition",
   "metadata": {},
   "source": [
    "As a next steps, let's take a look at the descriptive statistics, both for the numerical, as well as the categorical columns."
   ]
  },
  {
   "cell_type": "code",
   "execution_count": 20,
   "id": "pressing-collapse",
   "metadata": {
    "jupyter": {
     "source_hidden": true
    }
   },
   "outputs": [
    {
     "data": {
      "text/html": [
       "<div>\n",
       "<style scoped>\n",
       "    .dataframe tbody tr th:only-of-type {\n",
       "        vertical-align: middle;\n",
       "    }\n",
       "\n",
       "    .dataframe tbody tr th {\n",
       "        vertical-align: top;\n",
       "    }\n",
       "\n",
       "    .dataframe thead th {\n",
       "        text-align: right;\n",
       "    }\n",
       "</style>\n",
       "<table border=\"1\" class=\"dataframe\">\n",
       "  <thead>\n",
       "    <tr style=\"text-align: right;\">\n",
       "      <th></th>\n",
       "      <th>count</th>\n",
       "      <th>mean</th>\n",
       "      <th>std</th>\n",
       "      <th>min</th>\n",
       "      <th>25%</th>\n",
       "      <th>50%</th>\n",
       "      <th>75%</th>\n",
       "      <th>max</th>\n",
       "    </tr>\n",
       "  </thead>\n",
       "  <tbody>\n",
       "    <tr>\n",
       "      <th>total_vaccinations</th>\n",
       "      <td>4984.0</td>\n",
       "      <td>2597915.0</td>\n",
       "      <td>9383280.0</td>\n",
       "      <td>0.0</td>\n",
       "      <td>40452.0</td>\n",
       "      <td>276962.0</td>\n",
       "      <td>1303350.0</td>\n",
       "      <td>130473853.0</td>\n",
       "    </tr>\n",
       "    <tr>\n",
       "      <th>people_vaccinated</th>\n",
       "      <td>4423.0</td>\n",
       "      <td>2073454.0</td>\n",
       "      <td>6824277.0</td>\n",
       "      <td>0.0</td>\n",
       "      <td>36780.0</td>\n",
       "      <td>249555.0</td>\n",
       "      <td>1007708.0</td>\n",
       "      <td>85472166.0</td>\n",
       "    </tr>\n",
       "    <tr>\n",
       "      <th>people_fully_vaccinated</th>\n",
       "      <td>3021.0</td>\n",
       "      <td>893378.0</td>\n",
       "      <td>3595095.0</td>\n",
       "      <td>1.0</td>\n",
       "      <td>19019.0</td>\n",
       "      <td>111716.0</td>\n",
       "      <td>488937.0</td>\n",
       "      <td>46365515.0</td>\n",
       "    </tr>\n",
       "    <tr>\n",
       "      <th>daily_vaccinations_raw</th>\n",
       "      <td>4192.0</td>\n",
       "      <td>92034.0</td>\n",
       "      <td>289560.0</td>\n",
       "      <td>0.0</td>\n",
       "      <td>2738.0</td>\n",
       "      <td>13838.0</td>\n",
       "      <td>56702.0</td>\n",
       "      <td>4575496.0</td>\n",
       "    </tr>\n",
       "    <tr>\n",
       "      <th>daily_vaccinations</th>\n",
       "      <td>7891.0</td>\n",
       "      <td>60968.0</td>\n",
       "      <td>213914.0</td>\n",
       "      <td>1.0</td>\n",
       "      <td>1026.0</td>\n",
       "      <td>6161.0</td>\n",
       "      <td>27794.0</td>\n",
       "      <td>2541597.0</td>\n",
       "    </tr>\n",
       "    <tr>\n",
       "      <th>total_vaccinations_per_hundred</th>\n",
       "      <td>4984.0</td>\n",
       "      <td>10.0</td>\n",
       "      <td>18.0</td>\n",
       "      <td>0.0</td>\n",
       "      <td>1.0</td>\n",
       "      <td>4.0</td>\n",
       "      <td>11.0</td>\n",
       "      <td>162.0</td>\n",
       "    </tr>\n",
       "    <tr>\n",
       "      <th>people_vaccinated_per_hundred</th>\n",
       "      <td>4423.0</td>\n",
       "      <td>8.0</td>\n",
       "      <td>12.0</td>\n",
       "      <td>0.0</td>\n",
       "      <td>1.0</td>\n",
       "      <td>3.0</td>\n",
       "      <td>9.0</td>\n",
       "      <td>90.0</td>\n",
       "    </tr>\n",
       "    <tr>\n",
       "      <th>people_fully_vaccinated_per_hundred</th>\n",
       "      <td>3021.0</td>\n",
       "      <td>4.0</td>\n",
       "      <td>8.0</td>\n",
       "      <td>0.0</td>\n",
       "      <td>0.0</td>\n",
       "      <td>2.0</td>\n",
       "      <td>3.0</td>\n",
       "      <td>72.0</td>\n",
       "    </tr>\n",
       "    <tr>\n",
       "      <th>daily_vaccinations_per_million</th>\n",
       "      <td>7891.0</td>\n",
       "      <td>2699.0</td>\n",
       "      <td>4163.0</td>\n",
       "      <td>0.0</td>\n",
       "      <td>363.0</td>\n",
       "      <td>1305.0</td>\n",
       "      <td>3211.0</td>\n",
       "      <td>54264.0</td>\n",
       "    </tr>\n",
       "  </tbody>\n",
       "</table>\n",
       "</div>"
      ],
      "text/plain": [
       "                                      count       mean        std  min  \\\n",
       "total_vaccinations                   4984.0  2597915.0  9383280.0  0.0   \n",
       "people_vaccinated                    4423.0  2073454.0  6824277.0  0.0   \n",
       "people_fully_vaccinated              3021.0   893378.0  3595095.0  1.0   \n",
       "daily_vaccinations_raw               4192.0    92034.0   289560.0  0.0   \n",
       "daily_vaccinations                   7891.0    60968.0   213914.0  1.0   \n",
       "total_vaccinations_per_hundred       4984.0       10.0       18.0  0.0   \n",
       "people_vaccinated_per_hundred        4423.0        8.0       12.0  0.0   \n",
       "people_fully_vaccinated_per_hundred  3021.0        4.0        8.0  0.0   \n",
       "daily_vaccinations_per_million       7891.0     2699.0     4163.0  0.0   \n",
       "\n",
       "                                         25%       50%        75%          max  \n",
       "total_vaccinations                   40452.0  276962.0  1303350.0  130473853.0  \n",
       "people_vaccinated                    36780.0  249555.0  1007708.0   85472166.0  \n",
       "people_fully_vaccinated              19019.0  111716.0   488937.0   46365515.0  \n",
       "daily_vaccinations_raw                2738.0   13838.0    56702.0    4575496.0  \n",
       "daily_vaccinations                    1026.0    6161.0    27794.0    2541597.0  \n",
       "total_vaccinations_per_hundred           1.0       4.0       11.0        162.0  \n",
       "people_vaccinated_per_hundred            1.0       3.0        9.0         90.0  \n",
       "people_fully_vaccinated_per_hundred      0.0       2.0        3.0         72.0  \n",
       "daily_vaccinations_per_million         363.0    1305.0     3211.0      54264.0  "
      ]
     },
     "execution_count": 20,
     "metadata": {},
     "output_type": "execute_result"
    }
   ],
   "source": [
    "#Basic statistics (1)\n",
    "df.describe().transpose().round()"
   ]
  },
  {
   "cell_type": "code",
   "execution_count": 21,
   "id": "saved-williams",
   "metadata": {
    "jupyter": {
     "source_hidden": true
    }
   },
   "outputs": [
    {
     "data": {
      "text/html": [
       "<div>\n",
       "<style scoped>\n",
       "    .dataframe tbody tr th:only-of-type {\n",
       "        vertical-align: middle;\n",
       "    }\n",
       "\n",
       "    .dataframe tbody tr th {\n",
       "        vertical-align: top;\n",
       "    }\n",
       "\n",
       "    .dataframe thead th {\n",
       "        text-align: right;\n",
       "    }\n",
       "</style>\n",
       "<table border=\"1\" class=\"dataframe\">\n",
       "  <thead>\n",
       "    <tr style=\"text-align: right;\">\n",
       "      <th></th>\n",
       "      <th>count</th>\n",
       "      <th>unique</th>\n",
       "      <th>top</th>\n",
       "      <th>freq</th>\n",
       "    </tr>\n",
       "  </thead>\n",
       "  <tbody>\n",
       "    <tr>\n",
       "      <th>country</th>\n",
       "      <td>8079</td>\n",
       "      <td>151</td>\n",
       "      <td>Northern Ireland</td>\n",
       "      <td>101</td>\n",
       "    </tr>\n",
       "    <tr>\n",
       "      <th>iso_code</th>\n",
       "      <td>8079</td>\n",
       "      <td>146</td>\n",
       "      <td>MNG</td>\n",
       "      <td>175</td>\n",
       "    </tr>\n",
       "    <tr>\n",
       "      <th>date</th>\n",
       "      <td>8079</td>\n",
       "      <td>102</td>\n",
       "      <td>2021-03-10 00:00:00</td>\n",
       "      <td>133</td>\n",
       "    </tr>\n",
       "    <tr>\n",
       "      <th>vaccines</th>\n",
       "      <td>8079</td>\n",
       "      <td>26</td>\n",
       "      <td>Moderna, Oxford/AstraZeneca, Pfizer/BioNTech</td>\n",
       "      <td>1984</td>\n",
       "    </tr>\n",
       "    <tr>\n",
       "      <th>source_name</th>\n",
       "      <td>8079</td>\n",
       "      <td>92</td>\n",
       "      <td>Ministry of Health</td>\n",
       "      <td>2569</td>\n",
       "    </tr>\n",
       "    <tr>\n",
       "      <th>source_website</th>\n",
       "      <td>8079</td>\n",
       "      <td>147</td>\n",
       "      <td>https://coronavirus.data.gov.uk/details/health...</td>\n",
       "      <td>505</td>\n",
       "    </tr>\n",
       "  </tbody>\n",
       "</table>\n",
       "</div>"
      ],
      "text/plain": [
       "               count unique  \\\n",
       "country         8079    151   \n",
       "iso_code        8079    146   \n",
       "date            8079    102   \n",
       "vaccines        8079     26   \n",
       "source_name     8079     92   \n",
       "source_website  8079    147   \n",
       "\n",
       "                                                              top  freq  \n",
       "country                                          Northern Ireland   101  \n",
       "iso_code                                                      MNG   175  \n",
       "date                                          2021-03-10 00:00:00   133  \n",
       "vaccines             Moderna, Oxford/AstraZeneca, Pfizer/BioNTech  1984  \n",
       "source_name                                    Ministry of Health  2569  \n",
       "source_website  https://coronavirus.data.gov.uk/details/health...   505  "
      ]
     },
     "execution_count": 21,
     "metadata": {},
     "output_type": "execute_result"
    }
   ],
   "source": [
    "#Basic statistics (2)\n",
    "object_lst = ['country', 'iso_code', 'date', 'vaccines', 'source_name', 'source_website']\n",
    "df[object_lst].astype('object').describe().transpose()"
   ]
  },
  {
   "cell_type": "markdown",
   "id": "korean-humor",
   "metadata": {},
   "source": [
    "**KEY FINDINGS:**\n",
    "\n",
    "Firstly, there is a relatively large discrepancy between daily vaccinations and daily vaccinations (raw). This needs to be investigated further in a later notebook.\n",
    "\n",
    "Secondly, let's look at some key aspects of the numerical data:\n",
    "1) The lowest number for daily vaccinations and people fully vaccinated is 1 (a little bizarre, but possibly due to the fact that missing values will qquite often represent 'ZERO', as in not startedt yet).\n",
    "1) 130 million total vaccinations is the highest observed number in a country.\n",
    "1) 85 million people vaccinated (partially or fully) observed number in a country.\n",
    "1) The minimum the dataset started with was 1 person fully vaccinated and 1 daily vaccination.\n",
    "1) The country with the highest level of people fully vaccinated has achieved 72%.\n",
    "1) The country with the highest level of people vaccinated has achieved 90%.\n",
    "\n",
    "Thirdly, let's look at some key aspects of the categorical data:\n",
    "1) On 10th March the largest number of countries (133) supplied data.\n",
    "1) Scotland has supplied the most data (101 days).\n",
    "1) The vaccine combination Moderna, Biontech, AstraZeneca was so far most popular.\n",
    "1) Most observations were provided from the UK Government website."
   ]
  },
  {
   "cell_type": "markdown",
   "id": "chubby-reserve",
   "metadata": {},
   "source": [
    "Next, let's check out which countries have produced the lowest and highest numbers (and when)."
   ]
  },
  {
   "cell_type": "code",
   "execution_count": 22,
   "id": "freelance-liverpool",
   "metadata": {
    "jupyter": {
     "source_hidden": true
    }
   },
   "outputs": [
    {
     "name": "stdout",
     "output_type": "stream",
     "text": [
      "The entry with the lowest number of daily vaccinations is: \n",
      " \n",
      "\n"
     ]
    },
    {
     "data": {
      "text/html": [
       "<div>\n",
       "<style scoped>\n",
       "    .dataframe tbody tr th:only-of-type {\n",
       "        vertical-align: middle;\n",
       "    }\n",
       "\n",
       "    .dataframe tbody tr th {\n",
       "        vertical-align: top;\n",
       "    }\n",
       "\n",
       "    .dataframe thead th {\n",
       "        text-align: right;\n",
       "    }\n",
       "</style>\n",
       "<table border=\"1\" class=\"dataframe\">\n",
       "  <thead>\n",
       "    <tr style=\"text-align: right;\">\n",
       "      <th></th>\n",
       "      <th>date</th>\n",
       "      <th>country</th>\n",
       "      <th>daily_vaccinations</th>\n",
       "    </tr>\n",
       "  </thead>\n",
       "  <tbody>\n",
       "    <tr>\n",
       "      <th>807</th>\n",
       "      <td>2020-12-29</td>\n",
       "      <td>Belgium</td>\n",
       "      <td>1.0</td>\n",
       "    </tr>\n",
       "  </tbody>\n",
       "</table>\n",
       "</div>"
      ],
      "text/plain": [
       "          date  country  daily_vaccinations\n",
       "807 2020-12-29  Belgium                 1.0"
      ]
     },
     "execution_count": 22,
     "metadata": {},
     "output_type": "execute_result"
    }
   ],
   "source": [
    "print(f'The entry with the lowest number of daily vaccinations is: \\n \\n')\n",
    "\n",
    "#Return rows where daily vaccinations = 1, i.e. min\n",
    "df[['date', 'country', 'daily_vaccinations']]\\\n",
    "    .loc[df['daily_vaccinations'] == df['daily_vaccinations'].min()]"
   ]
  },
  {
   "cell_type": "code",
   "execution_count": 23,
   "id": "sapphire-sydney",
   "metadata": {
    "jupyter": {
     "source_hidden": true
    }
   },
   "outputs": [
    {
     "name": "stdout",
     "output_type": "stream",
     "text": [
      "The entries with the lowest number of fully vaccinated people are: \n",
      " \n",
      "\n"
     ]
    },
    {
     "data": {
      "text/html": [
       "<div>\n",
       "<style scoped>\n",
       "    .dataframe tbody tr th:only-of-type {\n",
       "        vertical-align: middle;\n",
       "    }\n",
       "\n",
       "    .dataframe tbody tr th {\n",
       "        vertical-align: top;\n",
       "    }\n",
       "\n",
       "    .dataframe thead th {\n",
       "        text-align: right;\n",
       "    }\n",
       "</style>\n",
       "<table border=\"1\" class=\"dataframe\">\n",
       "  <thead>\n",
       "    <tr style=\"text-align: right;\">\n",
       "      <th></th>\n",
       "      <th>date</th>\n",
       "      <th>country</th>\n",
       "      <th>people_fully_vaccinated</th>\n",
       "    </tr>\n",
       "  </thead>\n",
       "  <tbody>\n",
       "    <tr>\n",
       "      <th>2458</th>\n",
       "      <td>2021-01-29</td>\n",
       "      <td>Faeroe Islands</td>\n",
       "      <td>1.0</td>\n",
       "    </tr>\n",
       "    <tr>\n",
       "      <th>46</th>\n",
       "      <td>2021-02-02</td>\n",
       "      <td>Albania</td>\n",
       "      <td>1.0</td>\n",
       "    </tr>\n",
       "    <tr>\n",
       "      <th>7601</th>\n",
       "      <td>2021-03-17</td>\n",
       "      <td>Ukraine</td>\n",
       "      <td>1.0</td>\n",
       "    </tr>\n",
       "    <tr>\n",
       "      <th>7603</th>\n",
       "      <td>2021-03-19</td>\n",
       "      <td>Ukraine</td>\n",
       "      <td>1.0</td>\n",
       "    </tr>\n",
       "    <tr>\n",
       "      <th>7604</th>\n",
       "      <td>2021-03-20</td>\n",
       "      <td>Ukraine</td>\n",
       "      <td>1.0</td>\n",
       "    </tr>\n",
       "    <tr>\n",
       "      <th>7605</th>\n",
       "      <td>2021-03-21</td>\n",
       "      <td>Ukraine</td>\n",
       "      <td>1.0</td>\n",
       "    </tr>\n",
       "    <tr>\n",
       "      <th>7606</th>\n",
       "      <td>2021-03-22</td>\n",
       "      <td>Ukraine</td>\n",
       "      <td>1.0</td>\n",
       "    </tr>\n",
       "    <tr>\n",
       "      <th>7607</th>\n",
       "      <td>2021-03-23</td>\n",
       "      <td>Ukraine</td>\n",
       "      <td>1.0</td>\n",
       "    </tr>\n",
       "  </tbody>\n",
       "</table>\n",
       "</div>"
      ],
      "text/plain": [
       "           date         country  people_fully_vaccinated\n",
       "2458 2021-01-29  Faeroe Islands                      1.0\n",
       "46   2021-02-02         Albania                      1.0\n",
       "7601 2021-03-17         Ukraine                      1.0\n",
       "7603 2021-03-19         Ukraine                      1.0\n",
       "7604 2021-03-20         Ukraine                      1.0\n",
       "7605 2021-03-21         Ukraine                      1.0\n",
       "7606 2021-03-22         Ukraine                      1.0\n",
       "7607 2021-03-23         Ukraine                      1.0"
      ]
     },
     "execution_count": 23,
     "metadata": {},
     "output_type": "execute_result"
    }
   ],
   "source": [
    "print(f'The entries with the lowest number of fully vaccinated people are: \\n \\n')\n",
    "\n",
    "#Return rows where people fully vaccinated = 1, i.e. min\n",
    "df[['date', 'country', 'people_fully_vaccinated']]\\\n",
    "    .loc[df['people_fully_vaccinated'] == df['people_fully_vaccinated'].min()]"
   ]
  },
  {
   "cell_type": "code",
   "execution_count": 24,
   "id": "fantastic-uzbekistan",
   "metadata": {
    "jupyter": {
     "source_hidden": true
    }
   },
   "outputs": [
    {
     "name": "stdout",
     "output_type": "stream",
     "text": [
      "The entry with the highest number of total vaccinations is: \n",
      " \n",
      "\n"
     ]
    },
    {
     "data": {
      "text/html": [
       "<div>\n",
       "<style scoped>\n",
       "    .dataframe tbody tr th:only-of-type {\n",
       "        vertical-align: middle;\n",
       "    }\n",
       "\n",
       "    .dataframe tbody tr th {\n",
       "        vertical-align: top;\n",
       "    }\n",
       "\n",
       "    .dataframe thead th {\n",
       "        text-align: right;\n",
       "    }\n",
       "</style>\n",
       "<table border=\"1\" class=\"dataframe\">\n",
       "  <thead>\n",
       "    <tr style=\"text-align: right;\">\n",
       "      <th></th>\n",
       "      <th>date</th>\n",
       "      <th>country</th>\n",
       "      <th>total_vaccinations</th>\n",
       "    </tr>\n",
       "  </thead>\n",
       "  <tbody>\n",
       "    <tr>\n",
       "      <th>7882</th>\n",
       "      <td>2021-03-24</td>\n",
       "      <td>United States</td>\n",
       "      <td>130473853.0</td>\n",
       "    </tr>\n",
       "  </tbody>\n",
       "</table>\n",
       "</div>"
      ],
      "text/plain": [
       "           date        country  total_vaccinations\n",
       "7882 2021-03-24  United States         130473853.0"
      ]
     },
     "execution_count": 24,
     "metadata": {},
     "output_type": "execute_result"
    }
   ],
   "source": [
    "print(f'The entry with the highest number of total vaccinations is: \\n \\n')\n",
    "\n",
    "#Return row with highest number for total vaccinations\n",
    "df[['date', 'country', 'total_vaccinations']]\\\n",
    "    .loc[df['total_vaccinations'] == df['total_vaccinations'].max()]"
   ]
  },
  {
   "cell_type": "code",
   "execution_count": 25,
   "id": "bound-bulletin",
   "metadata": {
    "jupyter": {
     "source_hidden": true
    }
   },
   "outputs": [
    {
     "name": "stdout",
     "output_type": "stream",
     "text": [
      "The entry with the highest number of total vaccinations (%) is: \n",
      " \n",
      "\n"
     ]
    },
    {
     "data": {
      "text/html": [
       "<div>\n",
       "<style scoped>\n",
       "    .dataframe tbody tr th:only-of-type {\n",
       "        vertical-align: middle;\n",
       "    }\n",
       "\n",
       "    .dataframe tbody tr th {\n",
       "        vertical-align: top;\n",
       "    }\n",
       "\n",
       "    .dataframe thead th {\n",
       "        text-align: right;\n",
       "    }\n",
       "</style>\n",
       "<table border=\"1\" class=\"dataframe\">\n",
       "  <thead>\n",
       "    <tr style=\"text-align: right;\">\n",
       "      <th></th>\n",
       "      <th>date</th>\n",
       "      <th>country</th>\n",
       "      <th>total_vaccinations_per_hundred</th>\n",
       "    </tr>\n",
       "  </thead>\n",
       "  <tbody>\n",
       "    <tr>\n",
       "      <th>2876</th>\n",
       "      <td>2021-03-24</td>\n",
       "      <td>Gibraltar</td>\n",
       "      <td>162.02</td>\n",
       "    </tr>\n",
       "  </tbody>\n",
       "</table>\n",
       "</div>"
      ],
      "text/plain": [
       "           date    country  total_vaccinations_per_hundred\n",
       "2876 2021-03-24  Gibraltar                          162.02"
      ]
     },
     "execution_count": 25,
     "metadata": {},
     "output_type": "execute_result"
    }
   ],
   "source": [
    "print(f'The entry with the highest number of total vaccinations (%) is: \\n \\n')\n",
    "\n",
    "#Return row with highest number for total vaccinations (%)\n",
    "df[['date', 'country', 'total_vaccinations_per_hundred']]\\\n",
    "    .loc[df['total_vaccinations_per_hundred'] == df['total_vaccinations_per_hundred'].max()]"
   ]
  },
  {
   "cell_type": "code",
   "execution_count": 26,
   "id": "egyptian-concept",
   "metadata": {
    "jupyter": {
     "source_hidden": true
    }
   },
   "outputs": [
    {
     "name": "stdout",
     "output_type": "stream",
     "text": [
      "The entry with the highest number of daily vaccinations is: \n",
      " \n",
      "\n"
     ]
    },
    {
     "data": {
      "text/html": [
       "<div>\n",
       "<style scoped>\n",
       "    .dataframe tbody tr th:only-of-type {\n",
       "        vertical-align: middle;\n",
       "    }\n",
       "\n",
       "    .dataframe tbody tr th {\n",
       "        vertical-align: top;\n",
       "    }\n",
       "\n",
       "    .dataframe thead th {\n",
       "        text-align: right;\n",
       "    }\n",
       "</style>\n",
       "<table border=\"1\" class=\"dataframe\">\n",
       "  <thead>\n",
       "    <tr style=\"text-align: right;\">\n",
       "      <th></th>\n",
       "      <th>date</th>\n",
       "      <th>country</th>\n",
       "      <th>daily_vaccinations</th>\n",
       "    </tr>\n",
       "  </thead>\n",
       "  <tbody>\n",
       "    <tr>\n",
       "      <th>7871</th>\n",
       "      <td>2021-03-13</td>\n",
       "      <td>United States</td>\n",
       "      <td>2541597.0</td>\n",
       "    </tr>\n",
       "  </tbody>\n",
       "</table>\n",
       "</div>"
      ],
      "text/plain": [
       "           date        country  daily_vaccinations\n",
       "7871 2021-03-13  United States           2541597.0"
      ]
     },
     "execution_count": 26,
     "metadata": {},
     "output_type": "execute_result"
    }
   ],
   "source": [
    "print(f'The entry with the highest number of daily vaccinations is: \\n \\n')\n",
    "\n",
    "#Return row with highest number for total vaccinations\n",
    "df[['date', 'country', 'daily_vaccinations']]\\\n",
    "    .loc[df['daily_vaccinations'] == df['daily_vaccinations'].max()]"
   ]
  },
  {
   "cell_type": "code",
   "execution_count": 27,
   "id": "english-grant",
   "metadata": {
    "jupyter": {
     "source_hidden": true
    }
   },
   "outputs": [
    {
     "name": "stdout",
     "output_type": "stream",
     "text": [
      "The entries with the highest number of daily vaccinations (ppm) are: \n",
      " \n",
      "\n"
     ]
    },
    {
     "data": {
      "text/html": [
       "<div>\n",
       "<style scoped>\n",
       "    .dataframe tbody tr th:only-of-type {\n",
       "        vertical-align: middle;\n",
       "    }\n",
       "\n",
       "    .dataframe tbody tr th {\n",
       "        vertical-align: top;\n",
       "    }\n",
       "\n",
       "    .dataframe thead th {\n",
       "        text-align: right;\n",
       "    }\n",
       "</style>\n",
       "<table border=\"1\" class=\"dataframe\">\n",
       "  <thead>\n",
       "    <tr style=\"text-align: right;\">\n",
       "      <th></th>\n",
       "      <th>date</th>\n",
       "      <th>country</th>\n",
       "      <th>daily_vaccinations_per_million</th>\n",
       "    </tr>\n",
       "  </thead>\n",
       "  <tbody>\n",
       "    <tr>\n",
       "      <th>2512</th>\n",
       "      <td>2021-02-08</td>\n",
       "      <td>Falkland Islands</td>\n",
       "      <td>54264.0</td>\n",
       "    </tr>\n",
       "    <tr>\n",
       "      <th>2513</th>\n",
       "      <td>2021-02-09</td>\n",
       "      <td>Falkland Islands</td>\n",
       "      <td>54264.0</td>\n",
       "    </tr>\n",
       "    <tr>\n",
       "      <th>2514</th>\n",
       "      <td>2021-02-10</td>\n",
       "      <td>Falkland Islands</td>\n",
       "      <td>54264.0</td>\n",
       "    </tr>\n",
       "    <tr>\n",
       "      <th>2515</th>\n",
       "      <td>2021-02-11</td>\n",
       "      <td>Falkland Islands</td>\n",
       "      <td>54264.0</td>\n",
       "    </tr>\n",
       "    <tr>\n",
       "      <th>2516</th>\n",
       "      <td>2021-02-12</td>\n",
       "      <td>Falkland Islands</td>\n",
       "      <td>54264.0</td>\n",
       "    </tr>\n",
       "    <tr>\n",
       "      <th>2517</th>\n",
       "      <td>2021-02-13</td>\n",
       "      <td>Falkland Islands</td>\n",
       "      <td>54264.0</td>\n",
       "    </tr>\n",
       "    <tr>\n",
       "      <th>2518</th>\n",
       "      <td>2021-02-14</td>\n",
       "      <td>Falkland Islands</td>\n",
       "      <td>54264.0</td>\n",
       "    </tr>\n",
       "    <tr>\n",
       "      <th>2519</th>\n",
       "      <td>2021-02-15</td>\n",
       "      <td>Falkland Islands</td>\n",
       "      <td>54264.0</td>\n",
       "    </tr>\n",
       "  </tbody>\n",
       "</table>\n",
       "</div>"
      ],
      "text/plain": [
       "           date           country  daily_vaccinations_per_million\n",
       "2512 2021-02-08  Falkland Islands                         54264.0\n",
       "2513 2021-02-09  Falkland Islands                         54264.0\n",
       "2514 2021-02-10  Falkland Islands                         54264.0\n",
       "2515 2021-02-11  Falkland Islands                         54264.0\n",
       "2516 2021-02-12  Falkland Islands                         54264.0\n",
       "2517 2021-02-13  Falkland Islands                         54264.0\n",
       "2518 2021-02-14  Falkland Islands                         54264.0\n",
       "2519 2021-02-15  Falkland Islands                         54264.0"
      ]
     },
     "execution_count": 27,
     "metadata": {},
     "output_type": "execute_result"
    }
   ],
   "source": [
    "print(f'The entries with the highest number of daily vaccinations (ppm) are: \\n \\n')\n",
    "\n",
    "#Return row with highest number for total vaccinations\n",
    "df[['date', 'country', 'daily_vaccinations_per_million']]\\\n",
    "    .loc[df['daily_vaccinations_per_million'] == df['daily_vaccinations_per_million'].max()]"
   ]
  },
  {
   "cell_type": "code",
   "execution_count": 28,
   "id": "touched-accounting",
   "metadata": {
    "jupyter": {
     "source_hidden": true
    }
   },
   "outputs": [
    {
     "name": "stdout",
     "output_type": "stream",
     "text": [
      "The entry with the highest number of people fully vaccinated is: \n",
      " \n",
      "\n"
     ]
    },
    {
     "data": {
      "text/html": [
       "<div>\n",
       "<style scoped>\n",
       "    .dataframe tbody tr th:only-of-type {\n",
       "        vertical-align: middle;\n",
       "    }\n",
       "\n",
       "    .dataframe tbody tr th {\n",
       "        vertical-align: top;\n",
       "    }\n",
       "\n",
       "    .dataframe thead th {\n",
       "        text-align: right;\n",
       "    }\n",
       "</style>\n",
       "<table border=\"1\" class=\"dataframe\">\n",
       "  <thead>\n",
       "    <tr style=\"text-align: right;\">\n",
       "      <th></th>\n",
       "      <th>date</th>\n",
       "      <th>country</th>\n",
       "      <th>people_fully_vaccinated</th>\n",
       "    </tr>\n",
       "  </thead>\n",
       "  <tbody>\n",
       "    <tr>\n",
       "      <th>7882</th>\n",
       "      <td>2021-03-24</td>\n",
       "      <td>United States</td>\n",
       "      <td>46365515.0</td>\n",
       "    </tr>\n",
       "  </tbody>\n",
       "</table>\n",
       "</div>"
      ],
      "text/plain": [
       "           date        country  people_fully_vaccinated\n",
       "7882 2021-03-24  United States               46365515.0"
      ]
     },
     "execution_count": 28,
     "metadata": {},
     "output_type": "execute_result"
    }
   ],
   "source": [
    "print(f'The entry with the highest number of people fully vaccinated is: \\n \\n')\n",
    "\n",
    "#Return row with highest number for people fully vaccinated\n",
    "df[['date', 'country', 'people_fully_vaccinated']]\\\n",
    "    .loc[df['people_fully_vaccinated'] == df['people_fully_vaccinated'].max()]"
   ]
  },
  {
   "cell_type": "code",
   "execution_count": 29,
   "id": "impressed-filing",
   "metadata": {
    "jupyter": {
     "source_hidden": true
    }
   },
   "outputs": [
    {
     "name": "stdout",
     "output_type": "stream",
     "text": [
      "The entry with the highest number of people fully vaccinated (%) is: \n",
      " \n",
      "\n"
     ]
    },
    {
     "data": {
      "text/html": [
       "<div>\n",
       "<style scoped>\n",
       "    .dataframe tbody tr th:only-of-type {\n",
       "        vertical-align: middle;\n",
       "    }\n",
       "\n",
       "    .dataframe tbody tr th {\n",
       "        vertical-align: top;\n",
       "    }\n",
       "\n",
       "    .dataframe thead th {\n",
       "        text-align: right;\n",
       "    }\n",
       "</style>\n",
       "<table border=\"1\" class=\"dataframe\">\n",
       "  <thead>\n",
       "    <tr style=\"text-align: right;\">\n",
       "      <th></th>\n",
       "      <th>date</th>\n",
       "      <th>country</th>\n",
       "      <th>people_fully_vaccinated_per_hundred</th>\n",
       "    </tr>\n",
       "  </thead>\n",
       "  <tbody>\n",
       "    <tr>\n",
       "      <th>2876</th>\n",
       "      <td>2021-03-24</td>\n",
       "      <td>Gibraltar</td>\n",
       "      <td>72.29</td>\n",
       "    </tr>\n",
       "  </tbody>\n",
       "</table>\n",
       "</div>"
      ],
      "text/plain": [
       "           date    country  people_fully_vaccinated_per_hundred\n",
       "2876 2021-03-24  Gibraltar                                72.29"
      ]
     },
     "execution_count": 29,
     "metadata": {},
     "output_type": "execute_result"
    }
   ],
   "source": [
    "print(f'The entry with the highest number of people fully vaccinated (%) is: \\n \\n')\n",
    "\n",
    "#Return row with highest number for people fully vaccinated (%)\n",
    "df[['date', 'country', 'people_fully_vaccinated_per_hundred']]\\\n",
    "    .loc[df['people_fully_vaccinated_per_hundred'] == df['people_fully_vaccinated_per_hundred'].max()]"
   ]
  },
  {
   "cell_type": "code",
   "execution_count": 30,
   "id": "combined-crest",
   "metadata": {
    "jupyter": {
     "source_hidden": true
    }
   },
   "outputs": [
    {
     "name": "stdout",
     "output_type": "stream",
     "text": [
      "The entry with the highest number of people vaccinated [full and partial] is: \n",
      " \n",
      "\n"
     ]
    },
    {
     "data": {
      "text/html": [
       "<div>\n",
       "<style scoped>\n",
       "    .dataframe tbody tr th:only-of-type {\n",
       "        vertical-align: middle;\n",
       "    }\n",
       "\n",
       "    .dataframe tbody tr th {\n",
       "        vertical-align: top;\n",
       "    }\n",
       "\n",
       "    .dataframe thead th {\n",
       "        text-align: right;\n",
       "    }\n",
       "</style>\n",
       "<table border=\"1\" class=\"dataframe\">\n",
       "  <thead>\n",
       "    <tr style=\"text-align: right;\">\n",
       "      <th></th>\n",
       "      <th>date</th>\n",
       "      <th>country</th>\n",
       "      <th>people_vaccinated</th>\n",
       "    </tr>\n",
       "  </thead>\n",
       "  <tbody>\n",
       "    <tr>\n",
       "      <th>7882</th>\n",
       "      <td>2021-03-24</td>\n",
       "      <td>United States</td>\n",
       "      <td>85472166.0</td>\n",
       "    </tr>\n",
       "  </tbody>\n",
       "</table>\n",
       "</div>"
      ],
      "text/plain": [
       "           date        country  people_vaccinated\n",
       "7882 2021-03-24  United States         85472166.0"
      ]
     },
     "execution_count": 30,
     "metadata": {},
     "output_type": "execute_result"
    }
   ],
   "source": [
    "print(f'The entry with the highest number of people vaccinated [full and partial] is: \\n \\n')\n",
    "\n",
    "#Return row with highest number for people vaccinated\n",
    "df[['date', 'country', 'people_vaccinated']]\\\n",
    "    .loc[df['people_vaccinated'] == df['people_vaccinated'].max()]"
   ]
  },
  {
   "cell_type": "code",
   "execution_count": 31,
   "id": "formed-wayne",
   "metadata": {
    "jupyter": {
     "source_hidden": true
    }
   },
   "outputs": [
    {
     "name": "stdout",
     "output_type": "stream",
     "text": [
      "The entry with the highest number of people vaccinated (%) [full and partial] is: \n",
      " \n",
      "\n"
     ]
    },
    {
     "data": {
      "text/html": [
       "<div>\n",
       "<style scoped>\n",
       "    .dataframe tbody tr th:only-of-type {\n",
       "        vertical-align: middle;\n",
       "    }\n",
       "\n",
       "    .dataframe tbody tr th {\n",
       "        vertical-align: top;\n",
       "    }\n",
       "\n",
       "    .dataframe thead th {\n",
       "        text-align: right;\n",
       "    }\n",
       "</style>\n",
       "<table border=\"1\" class=\"dataframe\">\n",
       "  <thead>\n",
       "    <tr style=\"text-align: right;\">\n",
       "      <th></th>\n",
       "      <th>date</th>\n",
       "      <th>country</th>\n",
       "      <th>people_vaccinated_per_hundred</th>\n",
       "    </tr>\n",
       "  </thead>\n",
       "  <tbody>\n",
       "    <tr>\n",
       "      <th>2876</th>\n",
       "      <td>2021-03-24</td>\n",
       "      <td>Gibraltar</td>\n",
       "      <td>89.73</td>\n",
       "    </tr>\n",
       "  </tbody>\n",
       "</table>\n",
       "</div>"
      ],
      "text/plain": [
       "           date    country  people_vaccinated_per_hundred\n",
       "2876 2021-03-24  Gibraltar                          89.73"
      ]
     },
     "execution_count": 31,
     "metadata": {},
     "output_type": "execute_result"
    }
   ],
   "source": [
    "print(f'The entry with the highest number of people vaccinated (%) [full and partial] is: \\n \\n')\n",
    "\n",
    "#Return row with highest number for people vaccinated (%)\n",
    "df[['date', 'country', 'people_vaccinated_per_hundred']]\\\n",
    "    .loc[df['people_vaccinated_per_hundred'] == df['people_vaccinated_per_hundred'].max()]"
   ]
  },
  {
   "cell_type": "markdown",
   "id": "essential-length",
   "metadata": {},
   "source": [
    "**KEY FINDINGS:**\n",
    "\n",
    "1) The United States of America vaccinate most in terms of absolute numbers.\n",
    "1) Gibraltar vaccinates most in term of percentage of popuation.\n",
    "1) The Falkland Islands have the highest number of daily vaccinations per million."
   ]
  },
  {
   "cell_type": "markdown",
   "id": "underlying-voltage",
   "metadata": {},
   "source": [
    "As a next step, let's take a look at how many, and which countries are included in the dataset."
   ]
  },
  {
   "cell_type": "code",
   "execution_count": 32,
   "id": "thermal-trade",
   "metadata": {
    "jupyter": {
     "source_hidden": true
    }
   },
   "outputs": [
    {
     "name": "stdout",
     "output_type": "stream",
     "text": [
      "151 countries are included in the COVID-19 vaccination progress dataset.\n"
     ]
    }
   ],
   "source": [
    "#Number of countries included in dataset:\n",
    "print(F'{df.country.nunique()} countries are included in the COVID-19 vaccination progress dataset.')"
   ]
  },
  {
   "cell_type": "code",
   "execution_count": 33,
   "id": "offshore-netscape",
   "metadata": {
    "jupyter": {
     "source_hidden": true
    }
   },
   "outputs": [
    {
     "name": "stdout",
     "output_type": "stream",
     "text": [
      "The following countries are included in the dataset: \n",
      " \n",
      " ['Afghanistan', 'Albania', 'Algeria', 'Andorra', 'Angola', 'Anguilla', 'Antigua and Barbuda', 'Argentina', 'Australia', 'Austria', 'Azerbaijan', 'Bahamas', 'Bahrain', 'Bangladesh', 'Barbados', 'Belarus', 'Belgium', 'Belize', 'Bermuda', 'Bolivia', 'Brazil', 'Bulgaria', 'Cambodia', 'Canada', 'Cayman Islands', 'Chile', 'China', 'Colombia', 'Costa Rica', \"Cote d'Ivoire\", 'Croatia', 'Cyprus', 'Czechia', 'Denmark', 'Dominica', 'Dominican Republic', 'Ecuador', 'Egypt', 'El Salvador', 'England', 'Equatorial Guinea', 'Estonia', 'Faeroe Islands', 'Falkland Islands', 'Finland', 'France', 'Germany', 'Ghana', 'Gibraltar', 'Greece', 'Greenland', 'Grenada', 'Guatemala', 'Guernsey', 'Guinea', 'Guyana', 'Honduras', 'Hong Kong', 'Hungary', 'Iceland', 'India', 'Indonesia', 'Iran', 'Ireland', 'Isle of Man', 'Israel', 'Italy', 'Jamaica', 'Japan', 'Jersey', 'Jordan', 'Kazakhstan', 'Kenya', 'Kuwait', 'Laos', 'Latvia', 'Lebanon', 'Liechtenstein', 'Lithuania', 'Luxembourg', 'Macao', 'Malawi', 'Malaysia', 'Maldives', 'Malta', 'Mauritius', 'Mexico', 'Moldova', 'Monaco', 'Mongolia', 'Montenegro', 'Montserrat', 'Morocco', 'Mozambique', 'Myanmar', 'Nepal', 'Netherlands', 'New Zealand', 'Nigeria', 'North Macedonia', 'Northern Cyprus', 'Northern Ireland', 'Norway', 'Oman', 'Pakistan', 'Panama', 'Paraguay', 'Peru', 'Philippines', 'Poland', 'Portugal', 'Qatar', 'Romania', 'Russia', 'Rwanda', 'Saint Helena', 'Saint Kitts and Nevis', 'Saint Lucia', 'Saint Vincent and the Grenadines', 'San Marino', 'Saudi Arabia', 'Scotland', 'Senegal', 'Serbia', 'Seychelles', 'Singapore', 'Slovakia', 'Slovenia', 'South Africa', 'South Korea', 'Spain', 'Sri Lanka', 'Suriname', 'Sweden', 'Switzerland', 'Taiwan', 'Thailand', 'Trinidad and Tobago', 'Tunisia', 'Turkey', 'Turks and Caicos Islands', 'Uganda', 'Ukraine', 'United Arab Emirates', 'United Kingdom', 'United States', 'Uruguay', 'Venezuela', 'Vietnam', 'Wales', 'Zimbabwe']\n"
     ]
    }
   ],
   "source": [
    "#Alphabetically sorted list of unique country names\n",
    "countries = df.country.unique()\n",
    "print(f'The following countries are included in the dataset: \\n \\n {sorted(countries)}')"
   ]
  },
  {
   "cell_type": "markdown",
   "id": "indoor-tribute",
   "metadata": {},
   "source": [
    "**KEY FINDINGS:**\n",
    "\n",
    "1) 151 Countries are inlcuded in the dataset. The UN currently recognises 197 countries, of which 193 are members.\n",
    "1) From visual inspection, the 'country' column appears to contain duplicates (England, Northern Ireland, Wales, Scotland are included in United Kingdom)."
   ]
  },
  {
   "cell_type": "markdown",
   "id": "respective-destiny",
   "metadata": {},
   "source": [
    "***\n",
    "**SUMMARY OF IDENTIFIED CLEANING TASKS** \n",
    "\n",
    "- Drop 'daily_vaccinations_raw' column as only for cross-check purposes with daily vaccinations, i.e. information contained in total_vaccinations column\n",
    "\n",
    "- Drop 'source_name' and 'source_website' as not required for data analysis (Note: Keep ISO for worldmap plots)\n",
    "\n",
    "- Investigate and tidy-up 'vaccines' column\n",
    "\n",
    "- Check 'country' column in detail as it contains duplicates (United Kingdom = England, Northern Ireland, Wales, Scotland)\n",
    "\n",
    "NOTE: Columns with missing values will be checked in more detail  in a later notebook.\n",
    "\n",
    "***"
   ]
  },
  {
   "cell_type": "code",
   "execution_count": 34,
   "id": "prime-parks",
   "metadata": {
    "jupyter": {
     "source_hidden": true
    }
   },
   "outputs": [],
   "source": [
    "#Copy dataset before cleaning\n",
    "df_1 = df.copy()"
   ]
  },
  {
   "cell_type": "markdown",
   "id": "sustainable-neighbor",
   "metadata": {},
   "source": [
    "**Task 1 & 2:**\n",
    "\n",
    "Drop 3 columns: 'daily_vaccinations_raw', 'source_name' and 'source_website'"
   ]
  },
  {
   "cell_type": "code",
   "execution_count": 35,
   "id": "alternate-cambodia",
   "metadata": {
    "jupyter": {
     "source_hidden": true
    }
   },
   "outputs": [
    {
     "name": "stdout",
     "output_type": "stream",
     "text": [
      "The following 12 columns are included in the dataset: \n",
      "\n"
     ]
    },
    {
     "data": {
      "text/plain": [
       "Index(['country', 'iso_code', 'date', 'total_vaccinations',\n",
       "       'people_vaccinated', 'people_fully_vaccinated', 'daily_vaccinations',\n",
       "       'total_vaccinations_per_hundred', 'people_vaccinated_per_hundred',\n",
       "       'people_fully_vaccinated_per_hundred', 'daily_vaccinations_per_million',\n",
       "       'vaccines'],\n",
       "      dtype='object')"
      ]
     },
     "execution_count": 35,
     "metadata": {},
     "output_type": "execute_result"
    }
   ],
   "source": [
    "#Drop columns daily_vaccinations_raw, source_name, source_website\n",
    "lst = ['daily_vaccinations_raw', 'source_name', 'source_website']\n",
    "df_1.drop(lst, 1, inplace=True)\n",
    "\n",
    "print(f'The following {len(df_1.columns)} columns are included in the dataset: \\n')\n",
    "df_1.columns"
   ]
  },
  {
   "cell_type": "markdown",
   "id": "noble-donna",
   "metadata": {},
   "source": [
    "**TASK 3**:\n",
    "\n",
    "Detailed investigation into vaccines column.\n",
    "\n",
    "The information is stored as a list for each country (& date) containing all vaccines used up to the respective date. So, convert the vaccines column to a column per vaccine indicating whether a specific vaccine is used by a country (on a certain date)."
   ]
  },
  {
   "cell_type": "code",
   "execution_count": 36,
   "id": "conceptual-canadian",
   "metadata": {
    "jupyter": {
     "source_hidden": true
    }
   },
   "outputs": [
    {
     "name": "stdout",
     "output_type": "stream",
     "text": [
      "The following 26 vaccine groups are included in the original dataset: \n",
      "\n"
     ]
    },
    {
     "data": {
      "text/plain": [
       "['Covaxin, Oxford/AstraZeneca',\n",
       " 'EpiVacCorona, Sputnik V',\n",
       " 'Johnson&Johnson',\n",
       " 'Johnson&Johnson, Moderna, Pfizer/BioNTech',\n",
       " 'Moderna',\n",
       " 'Moderna, Oxford/AstraZeneca',\n",
       " 'Moderna, Oxford/AstraZeneca, Pfizer/BioNTech',\n",
       " 'Moderna, Oxford/AstraZeneca, Pfizer/BioNTech, Sinopharm/Beijing, Sputnik V',\n",
       " 'Moderna, Pfizer/BioNTech',\n",
       " 'Oxford/AstraZeneca',\n",
       " 'Oxford/AstraZeneca, Pfizer/BioNTech',\n",
       " 'Oxford/AstraZeneca, Pfizer/BioNTech, Sinopharm/Beijing, Sinopharm/Wuhan, Sputnik V',\n",
       " 'Oxford/AstraZeneca, Pfizer/BioNTech, Sinopharm/Beijing, Sputnik V',\n",
       " 'Oxford/AstraZeneca, Pfizer/BioNTech, Sputnik V',\n",
       " 'Oxford/AstraZeneca, Sinopharm/Beijing',\n",
       " 'Oxford/AstraZeneca, Sinopharm/Beijing, Sputnik V',\n",
       " 'Oxford/AstraZeneca, Sinovac',\n",
       " 'Pfizer/BioNTech',\n",
       " 'Pfizer/BioNTech, Sinopharm/Beijing',\n",
       " 'Pfizer/BioNTech, Sinovac',\n",
       " 'Pfizer/BioNTech, Sputnik V',\n",
       " 'Sinopharm/Beijing',\n",
       " 'Sinopharm/Beijing, Sinopharm/Wuhan, Sinovac',\n",
       " 'Sinopharm/Beijing, Sputnik V',\n",
       " 'Sinovac',\n",
       " 'Sputnik V']"
      ]
     },
     "execution_count": 36,
     "metadata": {},
     "output_type": "execute_result"
    }
   ],
   "source": [
    "#Take a look at how the vaccine a country uses are stored in the dataframe\n",
    "print(f'The following {len(df_1.vaccines.unique())} vaccine groups are included in the original dataset: \\n')\n",
    "sorted(df_1.vaccines.unique())"
   ]
  },
  {
   "cell_type": "code",
   "execution_count": 37,
   "id": "stunning-explanation",
   "metadata": {
    "jupyter": {
     "source_hidden": true
    }
   },
   "outputs": [
    {
     "name": "stdout",
     "output_type": "stream",
     "text": [
      "Sample of newly created vaccine columns: \n",
      "\n"
     ]
    },
    {
     "data": {
      "text/html": [
       "<div>\n",
       "<style scoped>\n",
       "    .dataframe tbody tr th:only-of-type {\n",
       "        vertical-align: middle;\n",
       "    }\n",
       "\n",
       "    .dataframe tbody tr th {\n",
       "        vertical-align: top;\n",
       "    }\n",
       "\n",
       "    .dataframe thead th {\n",
       "        text-align: right;\n",
       "    }\n",
       "</style>\n",
       "<table border=\"1\" class=\"dataframe\">\n",
       "  <thead>\n",
       "    <tr style=\"text-align: right;\">\n",
       "      <th></th>\n",
       "      <th>country</th>\n",
       "      <th>date</th>\n",
       "      <th>covaxin</th>\n",
       "      <th>epivaccorona</th>\n",
       "      <th>johnson_johnson</th>\n",
       "      <th>moderna</th>\n",
       "      <th>oxford_astrazeneca</th>\n",
       "      <th>pfizer_biontech</th>\n",
       "      <th>sinopharm_beijing</th>\n",
       "      <th>sinopharm_wuhan</th>\n",
       "      <th>sinovac</th>\n",
       "      <th>sputnik_v</th>\n",
       "    </tr>\n",
       "  </thead>\n",
       "  <tbody>\n",
       "    <tr>\n",
       "      <th>2809</th>\n",
       "      <td>Gibraltar</td>\n",
       "      <td>2021-01-16</td>\n",
       "      <td>0</td>\n",
       "      <td>0</td>\n",
       "      <td>0</td>\n",
       "      <td>0</td>\n",
       "      <td>0</td>\n",
       "      <td>1</td>\n",
       "      <td>0</td>\n",
       "      <td>0</td>\n",
       "      <td>0</td>\n",
       "      <td>0</td>\n",
       "    </tr>\n",
       "  </tbody>\n",
       "</table>\n",
       "</div>"
      ],
      "text/plain": [
       "        country       date  covaxin  epivaccorona  johnson_johnson  moderna  \\\n",
       "2809  Gibraltar 2021-01-16        0             0                0        0   \n",
       "\n",
       "      oxford_astrazeneca  pfizer_biontech  sinopharm_beijing  sinopharm_wuhan  \\\n",
       "2809                   0                1                  0                0   \n",
       "\n",
       "      sinovac  sputnik_v  \n",
       "2809        0          0  "
      ]
     },
     "execution_count": 37,
     "metadata": {},
     "output_type": "execute_result"
    }
   ],
   "source": [
    "#Convert each entry in vaccines list to an individual row for a date/country\n",
    "#and pivot to give dataframe no. 2 with individual vaccines, country and date columns\n",
    "df_processed = df_1.drop('vaccines', axis=1).join(df['vaccines'].str.split(', ', expand=True).stack().reset_index(level=1, drop=True).rename('vaccines'))\n",
    "df_processed = df_processed[['country', 'date', 'vaccines']].pivot(index=['country', 'date'], columns='vaccines', values='vaccines').reset_index()\n",
    "\n",
    "#Create dataframe w/o country, date and vaccine columns\n",
    "lst_ = ['country', 'date', 'vaccines']\n",
    "df_2 = df_1.drop(lst_, 1)\n",
    "\n",
    "#Join the two dataframes\n",
    "df_processed = df_processed.join(df_2)\n",
    "\n",
    "#Convert vaccine name entries to boolean values\n",
    "#1stly create list of vaccines\n",
    "v_lst = ', '.join(df.vaccines.tolist())\n",
    "v_lst = list(set(v_lst.split(', ')))\n",
    "\n",
    "#2ndly replace NaN values by 0\n",
    "df_processed[v_lst] = df_processed[v_lst].fillna(0)\n",
    "\n",
    "#Replace vaccine names by 1\n",
    "vaccine_lst = ['Covaxin', 'EpiVacCorona', 'Johnson&Johnson', 'Moderna', 'Oxford/AstraZeneca', 'Pfizer/BioNTech',\n",
    "                'Sinopharm/Beijing', 'Sinopharm/Wuhan', 'Sinovac', 'Sputnik V']\n",
    "for c in vaccine_lst:\n",
    "    df_processed[c] = df_processed[c].replace([c],1)\n",
    "    \n",
    "#Convert column header to pythonic standard (lowercase, no special characters)\n",
    "df_processed.columns = df_processed.columns.str.lower().str.replace('&', '_').str.replace('/', '_').str.replace(' ', '_')\n",
    "\n",
    "#Display sample from current dataframe\n",
    "print(f'Sample of newly created vaccine columns: \\n')\n",
    "df_processed.iloc[:, :12].sample(1, random_state=42)"
   ]
  },
  {
   "cell_type": "markdown",
   "id": "overhead-register",
   "metadata": {},
   "source": [
    "**TASK 4**:\n",
    "\n",
    "Detailed investigation of 'country' column and remove duplicates (England, Northern Ireland, Wales, Scotland)."
   ]
  },
  {
   "cell_type": "code",
   "execution_count": 38,
   "id": "civic-medline",
   "metadata": {
    "jupyter": {
     "source_hidden": true
    }
   },
   "outputs": [
    {
     "name": "stdout",
     "output_type": "stream",
     "text": [
      "SPOTCHECK: The sum of daily vaccinations in England, Scotland, Wales and Nothern Ireland on 15th March 2021 was: 389942.0\n",
      "SPOTCHECK: The total daily vaccinations in the United Kingdom on 15th March 2021 was: 389942.0\n"
     ]
    }
   ],
   "source": [
    "#Spotcheck that the numbers for UK are equals to the sum for England, Scotland, Wales and northern Ireland.\n",
    "lst2 = ['England', 'Scotland', 'Wales', 'Northern Ireland']\n",
    "check1 = df.loc[df['country'].isin(lst2)].loc[df['date'] == '2021-03-15'].loc[:, 'daily_vaccinations'].sum()\n",
    "check2 = df.loc[df['country'] == 'United Kingdom'].loc[df['date'] == '2021-03-15'].loc[:, 'daily_vaccinations'].values[0]\n",
    "print(f'SPOTCHECK: The sum of daily vaccinations in England, Scotland, Wales and Nothern Ireland on 15th March 2021 was: {check1}')\n",
    "print(f'SPOTCHECK: The total daily vaccinations in the United Kingdom on 15th March 2021 was: {check2}')"
   ]
  },
  {
   "cell_type": "markdown",
   "id": "thirty-circulation",
   "metadata": {},
   "source": [
    "Since the spot-check showed that United Kingdom duplicates England, Scotland, Wales, Northern Ireland (as expected) rows containing the latter 4 were dropped (see code cell below) to give a total of 147 countries."
   ]
  },
  {
   "cell_type": "code",
   "execution_count": 39,
   "id": "textile-symbol",
   "metadata": {
    "jupyter": {
     "source_hidden": true
    }
   },
   "outputs": [],
   "source": [
    "#Delete all rows for England, Scotland, Wales & Northern Ireland\n",
    "df_processed = df_processed[df_processed.country.apply(lambda x: x not in ['England', 'Scotland', 'Wales', 'Northern Ireland'])]"
   ]
  },
  {
   "cell_type": "markdown",
   "id": "industrial-boutique",
   "metadata": {},
   "source": [
    "As 147 countries are difficult to visualise, the countries will be grouped into regions (feature engineering section), keeping those we wish to investigate further separate, e.g. Asia, Europe, but UK & British Overseas, China, Japan, Israel, Russia, USA."
   ]
  },
  {
   "cell_type": "markdown",
   "id": "loaded-power",
   "metadata": {},
   "source": [
    "***\n",
    "\n",
    "**SUMMARY OF UPCOMING FEATURE ENGINEERING TASKS** \n",
    "\n",
    "- Add new column for daily vaccinations in %\n",
    "\n",
    "- Add new column for weekdays\n",
    "\n",
    "- Add partially vaccinated column (total and %)\n",
    "\n",
    "- Add vaccine type column\n",
    "\n",
    "- Group countries, e.g. by continent\n",
    "\n",
    "*NOTE: Additional features, such as population and GDP were aquired from an additional source and added in a different notebook.*\n",
    "\n",
    "***"
   ]
  },
  {
   "cell_type": "markdown",
   "id": "american-liberal",
   "metadata": {},
   "source": [
    "### 2.3 Feature Engineering to Prepare for In-Depth Data Analysis\n",
    "\n",
    "In this section we undertake feature engineering to generate 6 new columns as outlined above.\n",
    "\n",
    "**TASK 1**:\n",
    "\n",
    "Create new column for daily vaccinations per hundred, i.e. percentage of population."
   ]
  },
  {
   "cell_type": "code",
   "execution_count": 40,
   "id": "selective-applicant",
   "metadata": {
    "jupyter": {
     "source_hidden": true
    }
   },
   "outputs": [
    {
     "data": {
      "text/html": [
       "<div>\n",
       "<style scoped>\n",
       "    .dataframe tbody tr th:only-of-type {\n",
       "        vertical-align: middle;\n",
       "    }\n",
       "\n",
       "    .dataframe tbody tr th {\n",
       "        vertical-align: top;\n",
       "    }\n",
       "\n",
       "    .dataframe thead th {\n",
       "        text-align: right;\n",
       "    }\n",
       "</style>\n",
       "<table border=\"1\" class=\"dataframe\">\n",
       "  <thead>\n",
       "    <tr style=\"text-align: right;\">\n",
       "      <th></th>\n",
       "      <th>date</th>\n",
       "      <th>country</th>\n",
       "      <th>daily_vaccinations_per_hundred</th>\n",
       "    </tr>\n",
       "  </thead>\n",
       "  <tbody>\n",
       "    <tr>\n",
       "      <th>6761</th>\n",
       "      <td>2021-03-21</td>\n",
       "      <td>Seychelles</td>\n",
       "      <td>0.5206</td>\n",
       "    </tr>\n",
       "  </tbody>\n",
       "</table>\n",
       "</div>"
      ],
      "text/plain": [
       "           date     country  daily_vaccinations_per_hundred\n",
       "6761 2021-03-21  Seychelles                          0.5206"
      ]
     },
     "execution_count": 40,
     "metadata": {},
     "output_type": "execute_result"
    }
   ],
   "source": [
    "#Add new column for daily vaccinations in %\n",
    "df_processed['daily_vaccinations_per_hundred'] = df_processed['daily_vaccinations_per_million']/10000\n",
    "\n",
    "#Depict sample row\n",
    "df_processed[['date', 'country', 'daily_vaccinations_per_hundred']].sample(1, random_state=42)"
   ]
  },
  {
   "cell_type": "markdown",
   "id": "liable-coordination",
   "metadata": {},
   "source": [
    "**TASK 2**:\n",
    "\n",
    "Create new column containing the day of the week, as the number of daily vaccinations might show a recurring pattern by weekday."
   ]
  },
  {
   "cell_type": "code",
   "execution_count": 41,
   "id": "inclusive-exchange",
   "metadata": {
    "jupyter": {
     "source_hidden": true
    }
   },
   "outputs": [
    {
     "data": {
      "text/html": [
       "<div>\n",
       "<style scoped>\n",
       "    .dataframe tbody tr th:only-of-type {\n",
       "        vertical-align: middle;\n",
       "    }\n",
       "\n",
       "    .dataframe tbody tr th {\n",
       "        vertical-align: top;\n",
       "    }\n",
       "\n",
       "    .dataframe thead th {\n",
       "        text-align: right;\n",
       "    }\n",
       "</style>\n",
       "<table border=\"1\" class=\"dataframe\">\n",
       "  <thead>\n",
       "    <tr style=\"text-align: right;\">\n",
       "      <th></th>\n",
       "      <th>date</th>\n",
       "      <th>country</th>\n",
       "      <th>weekday</th>\n",
       "    </tr>\n",
       "  </thead>\n",
       "  <tbody>\n",
       "    <tr>\n",
       "      <th>6761</th>\n",
       "      <td>2021-03-21</td>\n",
       "      <td>Seychelles</td>\n",
       "      <td>Sunday</td>\n",
       "    </tr>\n",
       "  </tbody>\n",
       "</table>\n",
       "</div>"
      ],
      "text/plain": [
       "           date     country weekday\n",
       "6761 2021-03-21  Seychelles  Sunday"
      ]
     },
     "execution_count": 41,
     "metadata": {},
     "output_type": "execute_result"
    }
   ],
   "source": [
    "#Add new column for containing the weekday\n",
    "df_processed['weekday'] = df_processed.date.dt.day_name()\n",
    "\n",
    "#Depict sample row\n",
    "df_processed[['date', 'country', 'weekday']].sample(1, random_state=42)"
   ]
  },
  {
   "cell_type": "markdown",
   "id": "centered-leonard",
   "metadata": {},
   "source": [
    "**TASK 3**:\n",
    "\n",
    "Add new column reflecting 4 types of vaccines: inactivated virus, recombinant (viral vector), messenger RNA, protein subunit."
   ]
  },
  {
   "cell_type": "code",
   "execution_count": 42,
   "id": "integrated-trauma",
   "metadata": {
    "jupyter": {
     "source_hidden": true
    }
   },
   "outputs": [
    {
     "data": {
      "text/html": [
       "<div>\n",
       "<style scoped>\n",
       "    .dataframe tbody tr th:only-of-type {\n",
       "        vertical-align: middle;\n",
       "    }\n",
       "\n",
       "    .dataframe tbody tr th {\n",
       "        vertical-align: top;\n",
       "    }\n",
       "\n",
       "    .dataframe thead th {\n",
       "        text-align: right;\n",
       "    }\n",
       "</style>\n",
       "<table border=\"1\" class=\"dataframe\">\n",
       "  <thead>\n",
       "    <tr style=\"text-align: right;\">\n",
       "      <th></th>\n",
       "      <th>inactivated_virus</th>\n",
       "      <th>recombinant</th>\n",
       "      <th>rna</th>\n",
       "      <th>protein</th>\n",
       "    </tr>\n",
       "  </thead>\n",
       "  <tbody>\n",
       "    <tr>\n",
       "      <th>6761</th>\n",
       "      <td>1</td>\n",
       "      <td>1</td>\n",
       "      <td>0</td>\n",
       "      <td>0</td>\n",
       "    </tr>\n",
       "  </tbody>\n",
       "</table>\n",
       "</div>"
      ],
      "text/plain": [
       "      inactivated_virus  recombinant  rna  protein\n",
       "6761                  1            1    0        0"
      ]
     },
     "execution_count": 42,
     "metadata": {},
     "output_type": "execute_result"
    }
   ],
   "source": [
    "#Generate new columns for the four types of vaccines\n",
    "df_processed['inactivated_virus'] = df_processed.covaxin | df_processed.sinopharm_beijing | df_processed.sinopharm_wuhan\n",
    "df_processed['recombinant'] = df_processed.johnson_johnson | df_processed.oxford_astrazeneca | df_processed.sinovac | df_processed.sputnik_v\n",
    "df_processed['rna'] = df_processed.pfizer_biontech | df_processed.moderna\n",
    "df_processed['protein'] = df_processed.epivaccorona\n",
    "\n",
    "#Depict sample row\n",
    "df_processed[['inactivated_virus', 'recombinant', 'rna', 'protein']].sample(1, random_state=42)"
   ]
  },
  {
   "cell_type": "markdown",
   "id": "popular-federation",
   "metadata": {},
   "source": [
    "**TASK 4**:\n",
    "\n",
    "Create 2 new columns reflecting partially vaccinated people (total and % values).\n",
    "\n",
    "NOTE:\n",
    "As a country's vaccination campaign will start with a first dose of vaccine, followed by a second dose with a delay of about 2-6 weeks, it can be hypothesised that there will be entries with data for people vaccinated, but missing data for fully vaccinated. Therefore, it can safely be assumed that a missing value (NaN) for 'fully vaccinated' translates to ZERO if there is data for 'people vaccinated' reported for that specific country on that date. This has been cross-checked for a selection of countries (Germany, United Kingdom, United States, Israel, India, Russia). An example (Germany) is depicted below and ence, 'partially vaccinated' will be calculated by inferring ZERO for NaN in case of missing values for fully vaccinated."
   ]
  },
  {
   "cell_type": "code",
   "execution_count": 43,
   "id": "italic-addiction",
   "metadata": {
    "jupyter": {
     "source_hidden": true
    }
   },
   "outputs": [
    {
     "data": {
      "text/html": [
       "<div>\n",
       "<style scoped>\n",
       "    .dataframe tbody tr th:only-of-type {\n",
       "        vertical-align: middle;\n",
       "    }\n",
       "\n",
       "    .dataframe tbody tr th {\n",
       "        vertical-align: top;\n",
       "    }\n",
       "\n",
       "    .dataframe thead th {\n",
       "        text-align: right;\n",
       "    }\n",
       "</style>\n",
       "<table border=\"1\" class=\"dataframe\">\n",
       "  <thead>\n",
       "    <tr style=\"text-align: right;\">\n",
       "      <th></th>\n",
       "      <th>people_vaccinated</th>\n",
       "      <th>people_fully_vaccinated</th>\n",
       "    </tr>\n",
       "    <tr>\n",
       "      <th>date</th>\n",
       "      <th></th>\n",
       "      <th></th>\n",
       "    </tr>\n",
       "  </thead>\n",
       "  <tbody>\n",
       "    <tr>\n",
       "      <th>2021-01-12</th>\n",
       "      <td>801778.0</td>\n",
       "      <td>NaN</td>\n",
       "    </tr>\n",
       "    <tr>\n",
       "      <th>2021-01-13</th>\n",
       "      <td>901062.0</td>\n",
       "      <td>NaN</td>\n",
       "    </tr>\n",
       "    <tr>\n",
       "      <th>2021-01-14</th>\n",
       "      <td>1000963.0</td>\n",
       "      <td>114.0</td>\n",
       "    </tr>\n",
       "    <tr>\n",
       "      <th>2021-01-15</th>\n",
       "      <td>1093288.0</td>\n",
       "      <td>545.0</td>\n",
       "    </tr>\n",
       "    <tr>\n",
       "      <th>2021-01-16</th>\n",
       "      <td>1150043.0</td>\n",
       "      <td>945.0</td>\n",
       "    </tr>\n",
       "  </tbody>\n",
       "</table>\n",
       "</div>"
      ],
      "text/plain": [
       "            people_vaccinated  people_fully_vaccinated\n",
       "date                                                  \n",
       "2021-01-12           801778.0                      NaN\n",
       "2021-01-13           901062.0                      NaN\n",
       "2021-01-14          1000963.0                    114.0\n",
       "2021-01-15          1093288.0                    545.0\n",
       "2021-01-16          1150043.0                    945.0"
      ]
     },
     "execution_count": 43,
     "metadata": {},
     "output_type": "execute_result"
    }
   ],
   "source": [
    "#Spot check examples when fully vaccinated status is not suplied for selected countries\n",
    "df_check_fv = df_processed[['date', 'people_vaccinated', 'people_fully_vaccinated']][df_processed['country']=='Germany'] #Different countries can be entered\n",
    "df_check_fv.set_index('date').loc['2021-01-12':'2021-01-16'] #Different date ranges can be checked"
   ]
  },
  {
   "cell_type": "code",
   "execution_count": 44,
   "id": "vital-people",
   "metadata": {
    "jupyter": {
     "source_hidden": true
    }
   },
   "outputs": [
    {
     "name": "stdout",
     "output_type": "stream",
     "text": [
      "Example row for new feature PARTIALLY VACCINATED: \n",
      "\n"
     ]
    },
    {
     "data": {
      "text/html": [
       "<div>\n",
       "<style scoped>\n",
       "    .dataframe tbody tr th:only-of-type {\n",
       "        vertical-align: middle;\n",
       "    }\n",
       "\n",
       "    .dataframe tbody tr th {\n",
       "        vertical-align: top;\n",
       "    }\n",
       "\n",
       "    .dataframe thead th {\n",
       "        text-align: right;\n",
       "    }\n",
       "</style>\n",
       "<table border=\"1\" class=\"dataframe\">\n",
       "  <thead>\n",
       "    <tr style=\"text-align: right;\">\n",
       "      <th></th>\n",
       "      <th>people_partially_vaccinated</th>\n",
       "      <th>people_vaccinated</th>\n",
       "      <th>people_fully_vaccinated</th>\n",
       "      <th>people_partially_vaccinated_per_hundred</th>\n",
       "      <th>people_vaccinated_per_hundred</th>\n",
       "      <th>people_fully_vaccinated_per_hundred</th>\n",
       "    </tr>\n",
       "  </thead>\n",
       "  <tbody>\n",
       "    <tr>\n",
       "      <th>4483</th>\n",
       "      <td>10872.0</td>\n",
       "      <td>16131.0</td>\n",
       "      <td>5259.0</td>\n",
       "      <td>1.74</td>\n",
       "      <td>2.58</td>\n",
       "      <td>0.84</td>\n",
       "    </tr>\n",
       "  </tbody>\n",
       "</table>\n",
       "</div>"
      ],
      "text/plain": [
       "      people_partially_vaccinated  people_vaccinated  people_fully_vaccinated  \\\n",
       "4483                      10872.0            16131.0                   5259.0   \n",
       "\n",
       "      people_partially_vaccinated_per_hundred  people_vaccinated_per_hundred  \\\n",
       "4483                                     1.74                           2.58   \n",
       "\n",
       "      people_fully_vaccinated_per_hundred  \n",
       "4483                                 0.84  "
      ]
     },
     "execution_count": 44,
     "metadata": {},
     "output_type": "execute_result"
    }
   ],
   "source": [
    "#Generate new columns reflecting partially vaccinated people (total)\n",
    "df_processed['people_partially_vaccinated'] = df_processed['people_vaccinated'] - df_processed['people_fully_vaccinated']\n",
    "df_processed['people_partially_vaccinated'].fillna(df_processed['people_vaccinated'])\n",
    "\n",
    "#Generate new columns reflecting partially vaccinated people (%)\n",
    "df_processed['people_partially_vaccinated_per_hundred'] = df_processed['people_vaccinated_per_hundred'] - df_processed['people_fully_vaccinated_per_hundred']\n",
    "df_processed['people_partially_vaccinated_per_hundred'].fillna(df_processed['people_vaccinated_per_hundred'])\n",
    "\n",
    "#Depict sample row\n",
    "print(f'Example row for new feature PARTIALLY VACCINATED: \\n')\n",
    "df_processed[['people_partially_vaccinated', 'people_vaccinated', 'people_fully_vaccinated',\\\n",
    "             'people_partially_vaccinated_per_hundred', 'people_vaccinated_per_hundred',\\\n",
    "              'people_fully_vaccinated_per_hundred']].sample(1, random_state=2)"
   ]
  },
  {
   "cell_type": "markdown",
   "id": "raised-portugal",
   "metadata": {},
   "source": [
    "**TASK 5**:\n",
    "\n",
    "Create a new column reflecting the grouped countries:\n",
    "\n",
    "Map countries to custom regions, such as continents, but keeping countries of interest separate, e.g. Germany, UK & British Overseas, China, Japan, Israel, Russia, USA."
   ]
  },
  {
   "cell_type": "code",
   "execution_count": 49,
   "id": "touched-discipline",
   "metadata": {
    "jupyter": {
     "source_hidden": true
    }
   },
   "outputs": [],
   "source": [
    "#Map countries to custom regions\n",
    "#Noteworthy dictionary entries based on news coverage: Europe (EU plus more, minus UK), UK & British Overseas, China, India, Japan, Russia, Israel\n",
    "#Create lists with countries per region\n",
    "Africa = ('Algeria','Angola',\"Cote d'Ivoire\",'Egypt','Equatorial Guinea','Ghana','Guinea','Kenya','Malawi','Maldives','Mali','Mauritius','Morocco',\n",
    "          'Mozambique','Namibia','Niger','Nigeria','Rwanda','Sao Tome and Principe', 'Senegal','Seychelles','Sierra Leone','Somalia','South Africa',\n",
    "          'South Sudan','Sudan','Swaziland','Tanzania','Togo','Tunisia','Uganda','Zambia','Zimbabwe')\n",
    "\n",
    "Asia = ('Afghanistan','Azerbaijan','Bangladesh','Bhutan','Brunei','Cambodia','East Timor','Hong Kong','Indonesia','Kazakhstan','Kyrgyzstan','Laos',\n",
    "        'Macao','Malaysia','Maldives','Mongolia','Myanmar','Nepal','North Korea','Pakistan','Philippines','Singapore','South Korea','Sri Lanka',\n",
    "        'Taiwan','Tajikistan','Thailand','Turkmenistan','Uzbekistan','Vietnam')\n",
    "    \n",
    "Middle_East = ('Bahrain','Iran','Iraq','Jordan','Kuwait','Lebanon','Oman','Qatar','Saudi Arabia','Syria','Turkey','United Arab Emirates','Yemen')\n",
    "   \n",
    "Europe = ('Albania','Andorra','Armenia','Austria','Belarus','Belgium','Bosnia and Herzegovina','Bulgaria','Croatia','Cyprus','Czechia','Denmark','Estonia',\n",
    "          'Faeroe Islands','Finland','France','Georgia', 'Greece','Greenland','Hungary','Iceland','Ireland','Italy','Latvia','Liechtenstein',\n",
    "          'Lithuania','Luxembourg','Macedonia','Malta','Moldova','Monaco','Montenegro','Netherlands','North Macedonia','Northern Cyprus','Norway','Poland',\n",
    "          'Portugal','Romania','San Marino','Serbia','Slovakia','Slovenia','Spain','Sweden','Switzerland','Ukraine','Vatican City')\n",
    "\n",
    "UK_BritishOversea= ('United Kingdom','Anguilla','Antigua and Barbuda','Bermuda','Cayman Islands','Falkland Islands','Gibraltar','Guernsey','Isle of Man',\n",
    "                    'Jersey', 'Montserrat', 'Saint Helena', 'Turks and Caicos Islands')\n",
    "\n",
    "North_America = ('Canada','United States')\n",
    "\n",
    "Central_America_Caribic = ('Antigua and Barbuda','Bahamas','Barbados','Belize','Costa Rica','Cuba','Dominica','Dominican Republic','El Salvador','Grenada',\n",
    "                           'Guatemala','Haiti','Honduras','Jamaica','Mexico','Nicaragua','Panama','Saint Kitts and Nevis','Saint Lucia',\n",
    "                           'Saint Vincent and the Grenadines','Trinidad and Tobago')\n",
    "\n",
    "South_America = ('Argentina','Bolivia','Brazil','Chile','Colombia','Ecuador','Guyana','Paraguay','Peru','Suriname','Uruguay','Venezuela')\n",
    "\n",
    "Australia_Oceania = ('Australia','Fiji','Kiribati','Marshall Islands','Micronesia','Nauru','New Zealand','Palau','Papua New Guinea','Samoa','Solomon Islands',\n",
    "                     'Tonga','Tuvalu','Vanuatu')\n",
    "\n",
    "#Create dictionaries for mapping (incl. specific individual countries)\n",
    "#NOTE: Future work - possibly keep United Arab Emirates separately as they are a key player in vaccintions\n",
    "continents = {'China': 'China', 'Germany': 'Germany', 'India': 'India', 'Israel': 'Israel', 'Japan': 'Japan', 'Russia': 'Russia'} #individual countries\n",
    "continents.update({country: 'Asia' for country in Asia})\n",
    "continents.update({country: 'Europe' for country in Europe})\n",
    "continents.update({country: 'Africa' for country in Africa})\n",
    "continents.update({country: 'Middle_East' for country in Middle_East})\n",
    "continents.update({country: 'UK_BritishOversea' for country in UK_BritishOversea})\n",
    "continents.update({country: 'North_America' for country in North_America})\n",
    "continents.update({country: 'Central_America_Caribic' for country in Central_America_Caribic})\n",
    "continents.update({country: 'South_America' for country in South_America})\n",
    "continents.update({country: 'Australia_Oceania' for country in Australia_Oceania})\n",
    "\n",
    "#Create new column and map region to country:\n",
    "df_processed['country_grouped'] = df_processed['country'].map(continents)"
   ]
  },
  {
   "cell_type": "code",
   "execution_count": 46,
   "id": "spread-albania",
   "metadata": {
    "jupyter": {
     "source_hidden": true
    }
   },
   "outputs": [
    {
     "name": "stdout",
     "output_type": "stream",
     "text": [
      "The following 15 country-groups are now included in the dataset: \n",
      " \n",
      " ['Asia' 'Europe' 'Africa' 'UK_BritishOversea' 'Central_America_Caribic'\n",
      " 'South_America' 'Australia_Oceania' 'Middle_East' 'North_America' 'China'\n",
      " 'Germany' 'India' 'Israel' 'Japan' 'Russia']\n"
     ]
    }
   ],
   "source": [
    "#List of unique grouped-countries\n",
    "country_grouped = df_processed['country_grouped'].unique()\n",
    "print(f'The following {len(country_grouped)} country-groups are now included in the dataset: \\n \\n {country_grouped}')"
   ]
  },
  {
   "cell_type": "markdown",
   "id": "progressive-institution",
   "metadata": {},
   "source": [
    "### 2.4 Global Vaccination Dataframe\n",
    "\n",
    "In this section we create a global vaccination dataframe for merging with the Twitter dataframe."
   ]
  },
  {
   "cell_type": "code",
   "execution_count": 47,
   "id": "rural-finder",
   "metadata": {
    "jupyter": {
     "source_hidden": true
    }
   },
   "outputs": [],
   "source": [
    "#Reduce dataset to appropriate columns\n",
    "#NOTE: % columns ommited as global values cannot be calculated from this dataset!\n",
    "#For colculations regarding % values the population per country is required (see different notebook\n",
    "cols = ['date', 'covaxin', 'epivaccorona', 'johnson_johnson', 'moderna', 'oxford_astrazeneca',\n",
    "        'pfizer_biontech', 'sinopharm_beijing', 'sinopharm_wuhan', 'sinovac', 'sputnik_v',\n",
    "        'total_vaccinations', 'people_vaccinated', 'people_fully_vaccinated', 'daily_vaccinations',\n",
    "        'people_partially_vaccinated']\n",
    "df_global = df_processed[cols]\n",
    "\n",
    "#Sum up all columns to get global vaccination data\n",
    "df_global = df_global.groupby('date').sum()"
   ]
  },
  {
   "cell_type": "markdown",
   "id": "disabled-agriculture",
   "metadata": {},
   "source": [
    "***\n",
    "***\n",
    "\n",
    "## 3. SUMMARY\n",
    "\n",
    "First, we will save the 2 dataframes we generated in order to be able to use them in other notebooks."
   ]
  },
  {
   "cell_type": "code",
   "execution_count": 48,
   "id": "quality-liberia",
   "metadata": {
    "jupyter": {
     "source_hidden": true
    }
   },
   "outputs": [],
   "source": [
    "#Save dataframes for use in new notebooks\n",
    "#Cleaned dataframe (set index to date and save)\n",
    "df_processed.set_index('date').to_csv('data/df_processed.csv')\n",
    "\n",
    "#Global dataframe\n",
    "df_global.to_csv('data/df_global.csv')"
   ]
  },
  {
   "cell_type": "markdown",
   "id": "solid-violation",
   "metadata": {},
   "source": [
    "1) Our PROCESSED dataframe contains the following:\n",
    "\n",
    "| FEATURE | description | comment |\n",
    "|----|----|----|\n",
    "| **date** | data entry (13th December 2020 to 24th March 2021) | - |\n",
    "| **weekday** | day of week (e.g. Monday) | NEW column added during feature engineering |\n",
    "| **country** | 147 countries | 4 duplicates removed, UN recognises 197 countries (193 are members) |\n",
    "| **country_grouped** | 17 countries/groups | NEW column added during feature engineering |\n",
    "| **4 x vaccine type columns** | inactivated_virus, recombinant, rna, protein | NEW columns added during feature engineering |\n",
    "| **10 x vaccine columns** | name/company | NEW columns added during cleaning to replace vaccines column |\n",
    "| **daily_vaccinations** | no. of vaccination for that date/country | some days only daily vaccinations, some days only the (cummulative) total |\n",
    "| **daily_vaccinations_per_million** | ratio (in ppm) between vaccination number and total population for the current date in the country | - |\n",
    "| **daily_vaccinations_per_hundred** | ratio (in percent) between vaccination number and total population for the current date in the country | NEW column added during feature engineering |\n",
    "| **total_vaccinations** | absolute number of immunisations (jabs) in the country | some days only daily vaccinations, some days only the (cummulative) total |\n",
    "| **total_vaccinations_per_hundred** | ratio (in percent) between vaccination number and total population up to the date in the country | - |\n",
    "| **people_vaccinated** | total no. of people with immunisation (partial and full) | - |\n",
    "| **people_vaccinated_per_hundred** | ratio (in percent) between population immunized (partial and full) and total population | - |\n",
    "| **people_fully_vaccinated** | total no. of people with full immunisation (typically 2) | - |\n",
    "| **people_fully_vaccinated_per_hundred** | ratio (in percent) between population fully immunized and total population | - |\n",
    "| **people_partially_vaccinated** | total no. of people with partial immunisation (i.e. 1 jab) | NEW column added during feature engineering |\n",
    "| **people_partially_vaccinated_per_hundred** | ratio (in percent) between population partially immunized and total population | NEW column added during feature engineering |\n",
    "\n",
    "\n",
    "2) Our GLOBAL dataframe contains a reduced set of the above features:\n",
    "\n",
    "+ date\n",
    "+ VACCINES: covaxin, epivaccorona, johnson_johnson, moderna, oxford_astrazeneca, pfizer_biontech, sinopharm_beijing, sinopharm_wuhan, sinovac, sputnik_v\n",
    "+ NUMERIC COLUMNS: total_vaccinations, people_vaccinated, people_fully_vaccinated, daily_vaccinations, people_partially_vaccinated\n",
    "\n",
    "***\n",
    "\n",
    "### 3.1 Key Findings\n",
    "\n",
    "The dataset cover a timeframe of 101 days (2020-12-13 to 2021-03-24) for 147 countries across the globe. Currently 10 different vaccines of 4 different subtypes (inactivated viruses, recombinant viral vectors, messengerRNA and protein subunit based vaccines) are approved and available for vaccinations across the globe. However, it should be noted that not every vaccine is authorised in every country. \n",
    "\n",
    "Apart from the daily vaccination column the dataset contains 40-60% empties in numerical feature columns. These large numbers of missing values will pose a challenge for the time series specific analysis and will hence be dealt with in the next notebook. Futhermore, there is a relatively large discrepancy between daily vaccinations and daily vaccinations (raw). This will also be investigated in the next notebook.\n",
    "\n",
    "In addition, 19 new features were generated to further aid analysis:\n",
    "+ Weekdays\n",
    "+ 4 x vaccine type columns\n",
    "+ 10 x vaccine columns\n",
    "+ Grouped countries\n",
    "+ Daily vaccinations in %\n",
    "+ People partially vaccinated (absolute and %)\n",
    "\n",
    "A first glance at the data has shown:\n",
    "\n",
    "1) On 10th March the largest number of countries (133) supplied data.\n",
    "1) Scotland has supplied the most data (101 days).\n",
    "1) The vaccine combination Moderna, Biontech, AstraZeneca was so far most popular.\n",
    "1) Most observations were provided from the UK Government website.\n",
    "1) The United States of America vaccinate most in terms of absolute numbers.\n",
    "    1) 130M total vaccinations on 24th March\n",
    "    1) 25M vaccinations on 13th March\n",
    "    1) 85M people vaccinated (partially and fully) on 24th March\n",
    "    1) 46M people vaccinated (fully) on 24th March\n",
    "1) Gibraltar vaccinates most in term of percentage of popuation.\n",
    "    1) 89% people vaccinated (partially or fully) on 24th March\n",
    "    1) 72% people vaccinated (fully) on 24th March\n",
    "1) The Falkland Islands have the highest number of daily vaccinations per million.\n",
    "    1) 54T vaccinations each day during 8-15th February\n",
    "\n",
    "***\n",
    "\n",
    "### 3.2 Key Limitations\n",
    "\n",
    "The vaccination dataset has the following limitations:\n",
    "\n",
    "+ The dataset is only split per country, however not per vaccine AND country. This limits the analyses and forecastings possible with respect to the different vaccines.\n",
    "\n",
    "+ The dataset contains many features with 40-60% missing values. This will not negatively affect analysis, but it will hamper forecasting.\n",
    "\n",
    "***"
   ]
  },
  {
   "cell_type": "code",
   "execution_count": null,
   "id": "endangered-tournament",
   "metadata": {
    "jupyter": {
     "source_hidden": true
    }
   },
   "outputs": [],
   "source": []
  }
 ],
 "metadata": {
  "kernelspec": {
   "display_name": "Python 3",
   "language": "python",
   "name": "python3"
  },
  "language_info": {
   "codemirror_mode": {
    "name": "ipython",
    "version": 3
   },
   "file_extension": ".py",
   "mimetype": "text/x-python",
   "name": "python",
   "nbconvert_exporter": "python",
   "pygments_lexer": "ipython3",
   "version": "3.8.5"
  }
 },
 "nbformat": 4,
 "nbformat_minor": 5
}
