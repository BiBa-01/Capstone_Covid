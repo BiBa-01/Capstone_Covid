{
 "cells": [
  {
   "cell_type": "markdown",
   "id": "dietary-criticism",
   "metadata": {},
   "source": [
    "![](images/vaccine-6116391_1920_pixabay.jpg)"
   ]
  },
  {
   "cell_type": "markdown",
   "id": "logical-sherman",
   "metadata": {},
   "source": [
    "<center><font size=\"7\"><div style='background:green;color:white'>COVID-19 Vaccination Progress EDA</div></font></center>"
   ]
  },
  {
   "cell_type": "markdown",
   "id": "experienced-youth",
   "metadata": {},
   "source": [
    "***\n",
    "***\n",
    "\n",
    "<font size=\"6\"><div style='color:green'>Table of Contents</div></font>\n",
    "\n",
    "1. INTRODUCTION\n",
    "\n",
    "    *1.1 COVID-19 pandemic*\n",
    "    \n",
    "    *1.2 COVID-19 vaccines*\n",
    "    \n",
    "    *1.3 Key objective*\n",
    "    \n",
    "    *1.4 Dataset overview*\n",
    "\n",
    "2. IMPORTS AND DATA PREPARATION\n",
    "\n",
    "    *2.1 Importing libraries and data*\n",
    "\n",
    "    *2.2 Preliminary data exploration and subsequent cleaning*\n",
    "\n",
    "    *2.3 Feature engineering to prepare for in-depth data analysis*\n",
    "\n",
    "3. IN-DEPTH DATA ANALYSIS AND VISUALISATION\n",
    "\n",
    "    *3.1 Distributions of .... (abs and %)*\n",
    "    \n",
    "    *3.2 Time-course of...*\n",
    "    \n",
    "    *3.3 TIme-series analysis of...*\n",
    "\n",
    "***\n",
    "***"
   ]
  },
  {
   "cell_type": "markdown",
   "id": "productive-camera",
   "metadata": {},
   "source": [
    "<font size=\"5\"><div style='background:green;color:white'><b>1. Introduction to COVID-19 Vaccines</b></div></font>"
   ]
  },
  {
   "cell_type": "markdown",
   "id": "novel-climate",
   "metadata": {},
   "source": [
    "-Vaccinaction: Version 81"
   ]
  },
  {
   "cell_type": "markdown",
   "id": "manufactured-usage",
   "metadata": {},
   "source": [
    "QUESTIONS to investigate\n",
    "\n",
    "-What vaccines are used and in which countries?\n",
    "\n",
    "-What country is vaccinated more people?\n",
    "\n",
    "-What country is vaccinated a larger percent from its population?"
   ]
  },
  {
   "cell_type": "markdown",
   "id": "universal-decrease",
   "metadata": {},
   "source": [
    "<font size=\"4\"><div style='background:yellow;color:black'><b>1.4 Dataset Overview</b></div></font>"
   ]
  },
  {
   "cell_type": "markdown",
   "id": "derived-hunter",
   "metadata": {},
   "source": [
    "**The dataset contains 8079 observations for 15 features.**\n",
    "\n",
    "| FEATURE | description | comment |\n",
    "|----|----|----|\n",
    "| **country** | 151 countries | some duplicates, see UK |\n",
    "| **iso_code** | country code by ISO norm | -|\n",
    "| **date** | data entry (13th December 2020 to 24th March 2021) | some days only daily vaccinations, some days only the (cummulative) total |\n",
    "| **vaccines** | name/company | some days only daily vaccinations, some days only the (cummulative) total|\n",
    "| **daily_vaccinations** | no. of vaccination for that date/country | - |\n",
    "| **daily_vaccinations_raw** | daily vaccinations as CHANGE COMPARED TO PREVIOUS DAY (sanity check) | - |\n",
    "| **daily_vaccinations_per_million** | ratio (in ppm) between vaccination number and total population for the current date in the country | - |\n",
    "| **total_vaccinations** | absolute number of total immunizations in the country | - |\n",
    "| **total_vaccinations_per_hundred** | ratio (in percent) between vaccination number and total population up to the date in the country | - |\n",
    "| **people_vaccinated** | total no. of people with immunisation (partial and full) | - |\n",
    "| **people_vaccinated_per_hundred** | ratio (in percent) between population immunized (partial and full) and total population | - |\n",
    "| **people_fully_vaccinated** | total no. of people with full immunisation (typically 2) | - |\n",
    "| **people_fully_vaccinated_per_hundred** | ratio (in percent) between population fully immunized and total population | - |\n",
    "| **source_name** | national authority, international organization, local organization etc. | - |\n",
    "| **source_website** | website link | - |"
   ]
  },
  {
   "cell_type": "code",
   "execution_count": 15,
   "id": "hired-medline",
   "metadata": {},
   "outputs": [],
   "source": [
    "#import basic libraries:\n",
    "import numpy as np\n",
    "import pandas as pd\n",
    "import matplotlib.pyplot as plt\n",
    "import matplotlib.colors\n",
    "import seaborn as sns\n",
    "from datetime import datetime\n",
    "#from pandas_profiling import ProfileReport"
   ]
  },
  {
   "cell_type": "code",
   "execution_count": 4,
   "id": "taken-radical",
   "metadata": {},
   "outputs": [],
   "source": [
    "#import dataset country_vaccinations:\n",
    "df = pd.read_csv('data/country_vaccinations.csv')"
   ]
  },
  {
   "cell_type": "code",
   "execution_count": 13,
   "id": "commercial-necklace",
   "metadata": {},
   "outputs": [
    {
     "data": {
      "text/html": [
       "<div>\n",
       "<style scoped>\n",
       "    .dataframe tbody tr th:only-of-type {\n",
       "        vertical-align: middle;\n",
       "    }\n",
       "\n",
       "    .dataframe tbody tr th {\n",
       "        vertical-align: top;\n",
       "    }\n",
       "\n",
       "    .dataframe thead th {\n",
       "        text-align: right;\n",
       "    }\n",
       "</style>\n",
       "<table border=\"1\" class=\"dataframe\">\n",
       "  <thead>\n",
       "    <tr style=\"text-align: right;\">\n",
       "      <th></th>\n",
       "      <th>country</th>\n",
       "      <th>iso_code</th>\n",
       "      <th>date</th>\n",
       "      <th>total_vaccinations</th>\n",
       "      <th>people_vaccinated</th>\n",
       "      <th>people_fully_vaccinated</th>\n",
       "      <th>daily_vaccinations_raw</th>\n",
       "      <th>daily_vaccinations</th>\n",
       "      <th>total_vaccinations_per_hundred</th>\n",
       "      <th>people_vaccinated_per_hundred</th>\n",
       "      <th>people_fully_vaccinated_per_hundred</th>\n",
       "      <th>daily_vaccinations_per_million</th>\n",
       "      <th>vaccines</th>\n",
       "      <th>source_name</th>\n",
       "      <th>source_website</th>\n",
       "    </tr>\n",
       "  </thead>\n",
       "  <tbody>\n",
       "    <tr>\n",
       "      <th>0</th>\n",
       "      <td>Afghanistan</td>\n",
       "      <td>AFG</td>\n",
       "      <td>2021-02-22</td>\n",
       "      <td>0.0</td>\n",
       "      <td>0.0</td>\n",
       "      <td>NaN</td>\n",
       "      <td>NaN</td>\n",
       "      <td>NaN</td>\n",
       "      <td>0.0</td>\n",
       "      <td>0.0</td>\n",
       "      <td>NaN</td>\n",
       "      <td>NaN</td>\n",
       "      <td>Oxford/AstraZeneca</td>\n",
       "      <td>Government of Afghanistan</td>\n",
       "      <td>http://www.xinhuanet.com/english/asiapacific/2...</td>\n",
       "    </tr>\n",
       "    <tr>\n",
       "      <th>1</th>\n",
       "      <td>Afghanistan</td>\n",
       "      <td>AFG</td>\n",
       "      <td>2021-02-23</td>\n",
       "      <td>NaN</td>\n",
       "      <td>NaN</td>\n",
       "      <td>NaN</td>\n",
       "      <td>NaN</td>\n",
       "      <td>1367.0</td>\n",
       "      <td>NaN</td>\n",
       "      <td>NaN</td>\n",
       "      <td>NaN</td>\n",
       "      <td>35.0</td>\n",
       "      <td>Oxford/AstraZeneca</td>\n",
       "      <td>Government of Afghanistan</td>\n",
       "      <td>http://www.xinhuanet.com/english/asiapacific/2...</td>\n",
       "    </tr>\n",
       "    <tr>\n",
       "      <th>2</th>\n",
       "      <td>Afghanistan</td>\n",
       "      <td>AFG</td>\n",
       "      <td>2021-02-24</td>\n",
       "      <td>NaN</td>\n",
       "      <td>NaN</td>\n",
       "      <td>NaN</td>\n",
       "      <td>NaN</td>\n",
       "      <td>1367.0</td>\n",
       "      <td>NaN</td>\n",
       "      <td>NaN</td>\n",
       "      <td>NaN</td>\n",
       "      <td>35.0</td>\n",
       "      <td>Oxford/AstraZeneca</td>\n",
       "      <td>Government of Afghanistan</td>\n",
       "      <td>http://www.xinhuanet.com/english/asiapacific/2...</td>\n",
       "    </tr>\n",
       "  </tbody>\n",
       "</table>\n",
       "</div>"
      ],
      "text/plain": [
       "       country iso_code        date  total_vaccinations  people_vaccinated  \\\n",
       "0  Afghanistan      AFG  2021-02-22                 0.0                0.0   \n",
       "1  Afghanistan      AFG  2021-02-23                 NaN                NaN   \n",
       "2  Afghanistan      AFG  2021-02-24                 NaN                NaN   \n",
       "\n",
       "   people_fully_vaccinated  daily_vaccinations_raw  daily_vaccinations  \\\n",
       "0                      NaN                     NaN                 NaN   \n",
       "1                      NaN                     NaN              1367.0   \n",
       "2                      NaN                     NaN              1367.0   \n",
       "\n",
       "   total_vaccinations_per_hundred  people_vaccinated_per_hundred  \\\n",
       "0                             0.0                            0.0   \n",
       "1                             NaN                            NaN   \n",
       "2                             NaN                            NaN   \n",
       "\n",
       "   people_fully_vaccinated_per_hundred  daily_vaccinations_per_million  \\\n",
       "0                                  NaN                             NaN   \n",
       "1                                  NaN                            35.0   \n",
       "2                                  NaN                            35.0   \n",
       "\n",
       "             vaccines                source_name  \\\n",
       "0  Oxford/AstraZeneca  Government of Afghanistan   \n",
       "1  Oxford/AstraZeneca  Government of Afghanistan   \n",
       "2  Oxford/AstraZeneca  Government of Afghanistan   \n",
       "\n",
       "                                      source_website  \n",
       "0  http://www.xinhuanet.com/english/asiapacific/2...  \n",
       "1  http://www.xinhuanet.com/english/asiapacific/2...  \n",
       "2  http://www.xinhuanet.com/english/asiapacific/2...  "
      ]
     },
     "execution_count": 13,
     "metadata": {},
     "output_type": "execute_result"
    }
   ],
   "source": [
    "#first check:\n",
    "df.head(3)"
   ]
  },
  {
   "cell_type": "code",
   "execution_count": 14,
   "id": "american-columbus",
   "metadata": {},
   "outputs": [
    {
     "name": "stdout",
     "output_type": "stream",
     "text": [
      "We have 15 columns and 8079 rows in our dataset.\n"
     ]
    }
   ],
   "source": [
    "#Number of columns and rows:\n",
    "shape1 = df.shape\n",
    "print(f'We have {shape1[1]} columns and {shape1[0]} rows in our dataset.')"
   ]
  },
  {
   "cell_type": "code",
   "execution_count": null,
   "id": "explicit-bennett",
   "metadata": {},
   "outputs": [],
   "source": [
    "#Information about datatypes per column:\n",
    "df.info()"
   ]
  },
  {
   "cell_type": "markdown",
   "id": "outstanding-administrator",
   "metadata": {},
   "source": [
    "Cleaning task: \n",
    "- change object to datetime for column date\n",
    "- Check missing values in all columns with rows less than 8079"
   ]
  },
  {
   "cell_type": "code",
   "execution_count": null,
   "id": "viral-soccer",
   "metadata": {},
   "outputs": [],
   "source": [
    "#Basic profile\n",
    "#profile = ProfileReport(df, title=\"Pandas Profiling Report\", explorative=True)\n",
    "#profile"
   ]
  },
  {
   "cell_type": "markdown",
   "id": "strategic-coating",
   "metadata": {},
   "source": [
    "Data cleaning tasks:\n",
    "- countries have different names (e.g. England, United Kingdom, Northern Ireland, Wales, Scotland)\n",
    "- drop daily_vaccinations_raw"
   ]
  },
  {
   "cell_type": "code",
   "execution_count": null,
   "id": "joined-spanish",
   "metadata": {},
   "outputs": [],
   "source": [
    "#copy dataset before cleaning\n",
    "df1 = df.copy()"
   ]
  },
  {
   "cell_type": "code",
   "execution_count": null,
   "id": "australian-preserve",
   "metadata": {},
   "outputs": [],
   "source": [
    "#change type for date to datetime\n",
    "df1['date'] =  pd.to_datetime(df1['date'])"
   ]
  },
  {
   "cell_type": "code",
   "execution_count": null,
   "id": "racial-nothing",
   "metadata": {},
   "outputs": [],
   "source": [
    "#test changes to date\n",
    "df1.info()"
   ]
  },
  {
   "cell_type": "code",
   "execution_count": null,
   "id": "humanitarian-philadelphia",
   "metadata": {},
   "outputs": [],
   "source": [
    "#check for duplicates in country and date:\n",
    "df1[df1.duplicated(subset=['country','date'], keep=False)].shape"
   ]
  },
  {
   "cell_type": "code",
   "execution_count": null,
   "id": "wrapped-liquid",
   "metadata": {},
   "outputs": [],
   "source": [
    "#drop column daily_vaccinations_raw, iso_code, source_name, source_website:\n",
    "lst = ['iso_code', 'daily_vaccinations_raw', 'source_name', 'source_website']\n",
    "df1.drop(lst, 1, inplace=True)\n",
    "df1.head(3)"
   ]
  },
  {
   "cell_type": "code",
   "execution_count": null,
   "id": "cathedral-gather",
   "metadata": {},
   "outputs": [],
   "source": [
    "lst2 = ['England', 'Scotland', 'Wales', 'Northern Ireland']\n",
    "check1 = df1.loc[df['country'].isin(lst2)].loc[df1['date'] == '2021-03-15'].loc[:, 'daily_vaccinations'].sum()\n",
    "check2 = df1.loc[df['country'] == 'United Kingdom'].loc[df1['date'] == '2021-03-15'].loc[:, 'daily_vaccinations'].values[0]\n",
    "print(f'The sum of daily vaccinations in England, Scotland, Wales and Nothern Ireland on 15th March 2021 was: {check1}')\n",
    "print(f'The total daily vaccinations in the United Kingdom on 15th March 2021 was: {check2}')"
   ]
  },
  {
   "cell_type": "code",
   "execution_count": null,
   "id": "established-russia",
   "metadata": {},
   "outputs": [],
   "source": [
    "df1 = df1[df1.country.apply(lambda x: x not in ['England', 'Scotland', 'Wales', 'Northern Ireland'])]"
   ]
  },
  {
   "cell_type": "code",
   "execution_count": null,
   "id": "narrative-wallet",
   "metadata": {},
   "outputs": [],
   "source": [
    "df.isnull().sum(axis = 0)"
   ]
  },
  {
   "cell_type": "code",
   "execution_count": null,
   "id": "superior-screw",
   "metadata": {},
   "outputs": [],
   "source": [
    "df1['vaccines'].unique()"
   ]
  },
  {
   "cell_type": "code",
   "execution_count": null,
   "id": "disabled-classic",
   "metadata": {},
   "outputs": [],
   "source": [
    "df2 = df1.drop('vaccines', axis=1).join(df['vaccines'].str.split(', ', expand=True).stack().reset_index(level=1, drop=True).rename('vaccines'))\n",
    "df3 = df2[['country', 'date', 'vaccines']]\n",
    "df2.head()"
   ]
  },
  {
   "cell_type": "code",
   "execution_count": null,
   "id": "above-attack",
   "metadata": {},
   "outputs": [],
   "source": [
    "df4 = df3.pivot(index=['country', 'date'], columns='vaccines', values='vaccines').reset_index()\n",
    "df4.sample(20)"
   ]
  },
  {
   "cell_type": "code",
   "execution_count": null,
   "id": "continuous-insurance",
   "metadata": {},
   "outputs": [],
   "source": [
    "lst_ = ['country', 'date', 'vaccines']\n",
    "df1.drop(lst_, 1, inplace=True)\n",
    "df1.head(3)"
   ]
  },
  {
   "cell_type": "code",
   "execution_count": null,
   "id": "indie-removal",
   "metadata": {},
   "outputs": [],
   "source": [
    "df5 = df4.join(df1)\n",
    "df5.head(3)"
   ]
  },
  {
   "cell_type": "code",
   "execution_count": null,
   "id": "accompanied-stock",
   "metadata": {},
   "outputs": [],
   "source": [
    "#check correlation of data\n",
    "sns.pairplot(data=df5)"
   ]
  },
  {
   "cell_type": "code",
   "execution_count": null,
   "id": "arabic-drinking",
   "metadata": {},
   "outputs": [],
   "source": [
    "#Which country uses which vaccines?"
   ]
  },
  {
   "cell_type": "markdown",
   "id": "dramatic-headquarters",
   "metadata": {},
   "source": [
    "***\n",
    "# COVID-19 Vaccination Twitter tweets\n",
    "****"
   ]
  },
  {
   "cell_type": "markdown",
   "id": "through-midwest",
   "metadata": {},
   "source": [
    "# Introduction\n",
    "\n",
    "-Vaccinaction: Version 81\n",
    "\n",
    "-Tweets: Version 43\n",
    "\n",
    "##Track the progress of COVID-19 vaccination\n",
    "\n",
    "Was muss für ordentliches Mark up gemacht werden?\n",
    "\n",
    "-What vaccines are used and in which countries?\n",
    "\n",
    "-What country is vaccinated more people?\n",
    "\n",
    "-What country is vaccinated a larger percent from its population?\n",
    "\n",
    "The submission evaluation will be based on the:\n",
    "\n",
    "Originality of your solution;\n",
    "Quality of data analysis;\n",
    "Methods and techniques presentation;\n",
    "Quality of results;\n",
    "Comments and conclusions.\n",
    "\n",
    "##Tweets\n",
    "### Perform sentiment analysis on the tweets looking to things like:\n",
    "\n",
    "- Sentiment polarity (Negative/Positive/Neutral) in relationship with each vaccine (looking to the association with the vaccine name, as found in tweets);\n",
    "Evolution of sentiment in time;\n",
    "\n",
    "Expected:\n",
    "Data analysis;\n",
    "Method for sentiment analysis;\n",
    "Results;\n",
    "Comments and conclusions."
   ]
  },
  {
   "cell_type": "markdown",
   "id": "architectural-growth",
   "metadata": {},
   "source": [
    "Column Description:\n",
    "id\n",
    "user_name\n",
    "user_location\n",
    "user_description\n",
    "user_created - creation of user in twitter\n",
    "user_followers\n",
    "user_friends\n",
    "user_favourites\n",
    "user_verified\n",
    "date\n",
    "text\n",
    "hashtags\n",
    "source\n",
    "retweets\n",
    "favorites\n",
    "is_retweet"
   ]
  },
  {
   "cell_type": "code",
   "execution_count": null,
   "id": "surface-hobby",
   "metadata": {},
   "outputs": [],
   "source": [
    "#import dataset vaccination_all_tweets:\n",
    "df_tweet = pd.read_csv('data/vaccination_all_tweets.csv')"
   ]
  },
  {
   "cell_type": "code",
   "execution_count": null,
   "id": "corporate-validity",
   "metadata": {},
   "outputs": [],
   "source": [
    "#first check of tweet data:\n",
    "df_tweet.head()"
   ]
  },
  {
   "cell_type": "code",
   "execution_count": null,
   "id": "indoor-electricity",
   "metadata": {},
   "outputs": [],
   "source": [
    "#Number of columns and rows:\n",
    "shapet1 = df_tweet.shape\n",
    "print(f'We have {shapet1[1]} columns and {shapet1[0]} rows in our twitter tweet dataset.')"
   ]
  },
  {
   "cell_type": "code",
   "execution_count": null,
   "id": "rural-accessory",
   "metadata": {},
   "outputs": [],
   "source": [
    "list(df_tweet)"
   ]
  },
  {
   "cell_type": "code",
   "execution_count": null,
   "id": "dependent-capture",
   "metadata": {},
   "outputs": [],
   "source": [
    "#information of data types per column:\n",
    "df_tweet.info()"
   ]
  },
  {
   "cell_type": "markdown",
   "id": "thrown-rogers",
   "metadata": {},
   "source": [
    "- change date to datetime\n",
    "- check columns with rows less than 38547 for missing values"
   ]
  },
  {
   "cell_type": "code",
   "execution_count": null,
   "id": "occasional-hungarian",
   "metadata": {},
   "outputs": [],
   "source": [
    "profile = ProfileReport(df_tweet, title=\"Pandas Profiling Report\", explorative=True)\n",
    "profile"
   ]
  },
  {
   "cell_type": "code",
   "execution_count": null,
   "id": "south-approach",
   "metadata": {},
   "outputs": [],
   "source": [
    "#copy dataset before cleaning\n",
    "df_tweet1 = df_tweet.copy()"
   ]
  },
  {
   "cell_type": "code",
   "execution_count": null,
   "id": "corrected-gothic",
   "metadata": {},
   "outputs": [],
   "source": []
  }
 ],
 "metadata": {
  "kernelspec": {
   "display_name": "Python 3",
   "language": "python",
   "name": "python3"
  },
  "language_info": {
   "codemirror_mode": {
    "name": "ipython",
    "version": 3
   },
   "file_extension": ".py",
   "mimetype": "text/x-python",
   "name": "python",
   "nbconvert_exporter": "python",
   "pygments_lexer": "ipython3",
   "version": "3.8.5"
  }
 },
 "nbformat": 4,
 "nbformat_minor": 5
}
