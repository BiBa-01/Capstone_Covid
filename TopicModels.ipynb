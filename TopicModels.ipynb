{
 "cells": [
  {
   "cell_type": "markdown",
   "id": "nearby-legislature",
   "metadata": {},
   "source": [
    "# Using topic modeling to look into frequent topics in negative and positive Tweets"
   ]
  },
  {
   "cell_type": "code",
   "execution_count": 32,
   "id": "fatty-potato",
   "metadata": {},
   "outputs": [],
   "source": [
    "import pandas as pd\n",
    "import numpy as np\n",
    "import string\n",
    "import sys\n",
    "import re\n",
    "\n",
    "#text processing, NLP modules\n",
    "import string\n",
    "import nltk\n",
    "from nltk.corpus import stopwords\n",
    "from nltk.stem.porter import *\n",
    "from nltk.stem import WordNetLemmatizer\n",
    "from nltk.tokenize import word_tokenize\n",
    "\n",
    "import gensim.downloader\n",
    "from gensim.models import KeyedVectors\n",
    "from gensim.models import Word2Vec\n",
    "\n",
    "import matplotlib.pyplot as plt\n",
    "\n",
    "plt.rcParams['figure.figsize'] = (15, 10)"
   ]
  },
  {
   "cell_type": "code",
   "execution_count": 33,
   "id": "regular-queens",
   "metadata": {},
   "outputs": [],
   "source": [
    "#!pip install python-Levenshtein"
   ]
  },
  {
   "cell_type": "markdown",
   "id": "elementary-donna",
   "metadata": {},
   "source": [
    "## Import negative tweets labeled by VADER"
   ]
  },
  {
   "cell_type": "code",
   "execution_count": 55,
   "id": "victorian-messenger",
   "metadata": {},
   "outputs": [
    {
     "name": "stderr",
     "output_type": "stream",
     "text": [
      "/Users/christophmichel/.pyenv/versions/3.8.5/lib/python3.8/site-packages/ipykernel/ipkernel.py:283: DeprecationWarning: `should_run_async` will not call `transform_cell` automatically in the future. Please pass the result to `transformed_cell` argument and any exception that happen during thetransform in `preprocessing_exc_tuple` in IPython 7.17 and above.\n",
      "  and should_run_async(code)\n"
     ]
    }
   ],
   "source": [
    "df = pd.read_csv('Data/tweety_topic.csv')\n",
    "df_tweety = df"
   ]
  },
  {
   "cell_type": "markdown",
   "id": "tired-moscow",
   "metadata": {},
   "source": [
    "### Cleaning, feature engineering for negative"
   ]
  },
  {
   "cell_type": "code",
   "execution_count": 56,
   "id": "infrared-smell",
   "metadata": {},
   "outputs": [
    {
     "name": "stderr",
     "output_type": "stream",
     "text": [
      "/Users/christophmichel/.pyenv/versions/3.8.5/lib/python3.8/site-packages/ipykernel/ipkernel.py:283: DeprecationWarning: `should_run_async` will not call `transform_cell` automatically in the future. Please pass the result to `transformed_cell` argument and any exception that happen during thetransform in `preprocessing_exc_tuple` in IPython 7.17 and above.\n",
      "  and should_run_async(code)\n"
     ]
    }
   ],
   "source": [
    "def clean_again(x):\n",
    "    x = str(x)\n",
    "    x = x.lower()\n",
    "    x = x.split()\n",
    "\n",
    "    return x"
   ]
  },
  {
   "cell_type": "code",
   "execution_count": null,
   "id": "conceptual-context",
   "metadata": {},
   "outputs": [],
   "source": []
  },
  {
   "cell_type": "code",
   "execution_count": 57,
   "id": "geological-release",
   "metadata": {},
   "outputs": [
    {
     "name": "stdout",
     "output_type": "stream",
     "text": [
      "['unbelievably', 'happening', 'indeed', 'people', 'clear', 'amp', 'confirmed', 'serious', 'adverse', 'reaction', 'grade']\n",
      "['new', 'case', 'additional', 'death', 'total', 'death', 'linked', 'pandemic', '108', 'peo']\n",
      "['public', 'outcry', 'stop', 'lying', 'want']\n",
      "['highly', 'doubt', 'controlwith']\n",
      "['concern', 'raised', 'unfairly', 'attacked']\n",
      "['dr', 'mia', 'taormina', 'infection', 'prevention', 'expert']\n",
      "['pfizer', 'biontech', 'vaccine', 'becomes', 'first', 'covid', 'vaccine', 'receive', 'emergency', 'use', 'validation', 'world', 'healt']\n",
      "['list', 'pfizer', 'biontech', 'covid', 'vaccine', 'emergency', 'use', 'un', 'said', 'aim', 'make', 'vaccine', 'readily']\n",
      "['canada', 'woman', 'actually', 'died', 'amp', 'revived', 'cpr']\n",
      "['getting', 'vaccine', 'tomorrow', 'little', 'scary', 'must', 'done']\n",
      "['exposing', 'vulnerable', 'elderly', 'people', 'vaccine', 'whose', 'side', 'effect', 'adequate', 'time']\n",
      "['oh', 'ffs']\n",
      "['let', 'pfizer', 'exploit', 'pandemic', 'get', 'tax', 'break']\n",
      "['doug', 'ford', 'justin', 'trudeau', 'prefer', 'extend', 'destroy', 'business', '214k', 'job', 'lost', 'church']\n",
      "['expert', 'ass', 'company', 'vaccine', 'facility', 'next', 'week', 'need', 'examine', 'whether', 'third', 'sho']\n",
      "['got', 'second', 'shot', 'vaccine', 'morning', 'feel', 'like', 'crap', 'right', 'little', 'dizzy', 'chill', 'fever']\n",
      "['hr', 'since', '2nd', 'dose', 'felt', 'restless', 'kept', 'waking', 'last', 'night', 'feel', 'sore', 'anymore', 'pr']\n",
      "['russia', 'jab', 'developer', 'working', 'tackle', 'several', 'covid', 'strain']\n",
      "['sunday', 'morning', 'sign', 'fever', 'joint', 'pain', 'tenderness', 'site', 'touch', 'apply', 'pre']\n",
      "['problem', 'vaccine', 'passport', 'prejudice', 'already', 'various', 'country', 'maki']\n",
      "['coronavirus', 'cowessess', 'first', 'nation', 'navigates', 'vaccine', 'hesitancy', 'reserve', 'rollout']\n",
      "['second', 'shot', 'due', 'ides', 'march', 'worry']\n",
      "['mexico', 'report', '329', 'new', 'death', 'coronavirus']\n",
      "['berichten', 'uit', '01', 'whatsapp', 'cytogenetica', 'vriendin', 'na', '2nd', 'jab', 'bit', 'tired']\n",
      "['ha', 'amp', 'killed', 'hundred', 'people', 'inhaling', 'steam', 'generated', 'f']\n",
      "['vaccine', 'shot', 'relieved', 'scary', 'front', 'line']\n",
      "['finally', 'indian', 'scientific', 'dishonesty', 'vaccine', 'launch', 'catch', 'world', 'attention', 'hindutava', 'screw', 'co']\n",
      "['lost', 'word', 'report', 'people', 'eu', 'refusing', 'vaccine', 'longer']\n",
      "['though', 'unlike', 'u', 'many', 'sceptic', 'india', 'anti', 'vaxxers', 'much', 'sceptical']\n",
      "['lot', 'message', 'leading', 'front', '1st', 'take', 'jab', '25', 'today', 'aiims', 'dispelling', 'fear', 'amp', 'obj']\n",
      "['pay', 'three', 'time', 'jab', 'paying']\n",
      "['embarrassing', 'ontario', 'reporting', 'case', 'new', 'case', 'toronto', 'closed', 'school', 'business', 'fa']\n",
      "['pm', 'modi', 'shot', 'covaxin', 'put', 'rest', 'fear', 'mongering', 'engineered', 'opposition', 'amp', 'vested', 'interest']\n",
      "['direct', 'consequence', 'first', 'reported', 'death', 'patient', 'vaccinated', 'atm']\n",
      "['death', 'case', 'year', 'old', 'man', 'received', 'vaccine', 'linked']\n",
      "['feel', 'lethargicdays', 'jab', 'full', 'list', 'adverse', 'reaction', 'china', 'sinopharm', 'vaccine', 'rev']\n",
      "['05mar', '1st', 'death', 'vaccination', 'hong', 'kong', '63yo', 'male', 'death', 'unrelated', 'sinovac', 'vaccine']\n",
      "['seems', 'worst', 'one', 'effective', 'like', 'way', 'dangerous', 'seems', 'eve']\n",
      "['asks', 'european', 'commission', 'review', 'block']\n",
      "['woe', 'mount', 'modified', 'age', 'limit', 'placed', 'vaccine', 'earlier']\n",
      "['scandalous', 'french', 'german', 'leader', 'dismissing', 'quasi', 'ineffective', 'episte']\n",
      "['vaccine', 'envy']\n",
      "['jab', 'plot', 'exposed', 'nation', 'urged', 'reject', 'vaccine', 'political', 'tool']\n",
      "['factual', 'evidence', 'vaccine', 'may', 'dangerous', 'health', 'choose', 'look', 'fact']\n",
      "['wall', 'street', 'journal', 'u', 'government', 'scientist', 'skeptical']\n",
      "['february', 'people', 'died', 'taking', 'pfizer']\n",
      "['getting', 'vaccine', 'since', 'k', 'come', 'get', 'ball', 'want', 'end', 'war']\n",
      "['report', 'people', 'received', 'dose', 'covid', 'delayed', 'reaction', 'caus']\n",
      "['stampede', 'toward', 'key', 'resistance', 'broken', 'via']\n",
      "['pr', 'war', 'american', 'drug', 'v', 'others']\n",
      "['produce', 'anti', 'vaccine']\n",
      "['1st', 'sore', 'arm', 'could', 'sleep', 'worked', 'next', 'day', 'disoriented', 'could', 'lac']\n",
      "['hour', '2nd', 'vaccine', 'dose', 'marginal', 'fever', 'noticeably', 'painfully', 'achey', 'mostlyv', 'tired']\n",
      "['gt', 'uncertainty', 'order', 'percent', 'continued', 'highly', 'announ']\n",
      "['cannot', 'believe', 'luck', 'population', 'received']\n",
      "['germany', 'ireland', 'italy', 'denmark', 'netherlands', 'estonia', 'lithuania', 'luxembourg', 'latvia', 'suspend']\n",
      "['fuck', 'advice', 'people', 'take', 'shit', 'vaccine', 'disease', 'teasted', 'extremely']\n",
      "['u', 'almost', 'vaccination', 'far', 'either', 'vaccine', 'adverse']\n",
      "['banned', 'europen', 'countrieseffectiveness', 'doubtfulppl']\n",
      "['national', 'adverse', 'event', 'following', 'immunisation', 'aefi', 'committee', 'charge', 'probing', 'side', 'effect', 'rev']\n",
      "['timely', 'vaccination', 'prevents', 'atleast', 'two', 'three', 'million', 'death', 'every', 'year', 'preventable', 'disease']\n",
      "['country', 'banned', 'astrazeneca', 'vaccine', 'embarrassing', 'justin', 'trudeau', 'doug', 'ford', 'say', 'ont']\n",
      "['latest', 'news', 'chinese', 'vaccine', 'indeed', 'useless']\n",
      "['received', '2nd', 'vaccine', 'morning', 'like', '1st', 'one', 'sore', 'arm', 'little', 'tired', 'small', 'pric']\n",
      "['shall', 'know', 'fear']\n",
      "['anyone', 'know', 'magically', 'reverse', 'adverse', 'vaccine', 'reaction', 'let', 'know']\n",
      "['barely', 'felt', 'shot', 'arm', 'hot', 'amp', 'started', 'hurting', 'withinhours', 'took', 'advil']\n",
      "['weird', 'vaccine', 'side', 'effect', 'arm', 'swollen', 'painful', 'red', 'patch', 'radiated', 'strong', 'heat', 'could', 'feel', '2cm', 'fe']\n",
      "['getting', 'first', 'oxford', 'jab', 'sunday', 'morning', '46', 'might', 'miss', 'dipping', 'sold']\n",
      "['week', 'delay', 'pretty', 'much', 'fuck', 'see', 'first', 'jab', 'needing', 'start', 'ag']\n",
      "['eating', 'alone', 'today', 'doug', 'ford', 'trudeau', 'toronto', 'ontario', 'canada', 'forced', 'stay', 'home']\n",
      "['anyone', 'even', 'think', 'refusing', 'take', 'offer', 'inte']\n",
      "['eating', 'alone', 'today', 'becau']\n",
      "['eating', 'alone', 'today', 'doug', 'ford', 'trudeau', 'toronto', 'ontario', 'canada', 'forced', 'stay', 'home']\n",
      "['poison', 'board', 'approves', 'use', 'covid', 'vaccine', 'kenya']\n",
      "['eating', 'alone', 'today', 'doug', 'ford', 'trudeau', 'toronto']\n",
      "['first', 'day', 'eating', 'alone', 'doug', 'ford', 'trudeau', 'toronto', 'ontario', 'ca']\n",
      "['eating', 'alone', 'today', 'doug', 'ford', 'mr', 'trudeau', 'toronto', 'ontario', 'canada', 'forced', 'stay', 'home']\n",
      "['embarrassing', 'ontario', 'reporting', 'case', 'new', 'case', 'toronto', 'canada', 'politicizing']\n"
     ]
    },
    {
     "name": "stderr",
     "output_type": "stream",
     "text": [
      "/Users/christophmichel/.pyenv/versions/3.8.5/lib/python3.8/site-packages/ipykernel/ipkernel.py:283: DeprecationWarning: `should_run_async` will not call `transform_cell` automatically in the future. Please pass the result to `transformed_cell` argument and any exception that happen during thetransform in `preprocessing_exc_tuple` in IPython 7.17 and above.\n",
      "  and should_run_async(code)\n"
     ]
    }
   ],
   "source": [
    "import random\n",
    "text_data = []\n",
    "for tweet in df_tweety.text:\n",
    "    tokens = clean_again(tweet)\n",
    "    if random.random() > .99:\n",
    "        print(tokens)\n",
    "        text_data.append(tokens)"
   ]
  },
  {
   "cell_type": "code",
   "execution_count": 58,
   "id": "advised-teens",
   "metadata": {},
   "outputs": [
    {
     "name": "stderr",
     "output_type": "stream",
     "text": [
      "/Users/christophmichel/.pyenv/versions/3.8.5/lib/python3.8/site-packages/ipykernel/ipkernel.py:283: DeprecationWarning: `should_run_async` will not call `transform_cell` automatically in the future. Please pass the result to `transformed_cell` argument and any exception that happen during thetransform in `preprocessing_exc_tuple` in IPython 7.17 and above.\n",
      "  and should_run_async(code)\n"
     ]
    }
   ],
   "source": [
    "from gensim import corpora\n",
    "dictionary = corpora.Dictionary(text_data)\n",
    "corpus = [dictionary.doc2bow(text) for text in text_data]\n",
    "import pickle\n",
    "pickle.dump(corpus, open('corpus.pkl', 'wb'))\n",
    "dictionary.save('Data/dictionary.gensim')"
   ]
  },
  {
   "cell_type": "code",
   "execution_count": 59,
   "id": "received-softball",
   "metadata": {},
   "outputs": [
    {
     "name": "stderr",
     "output_type": "stream",
     "text": [
      "/Users/christophmichel/.pyenv/versions/3.8.5/lib/python3.8/site-packages/ipykernel/ipkernel.py:283: DeprecationWarning: `should_run_async` will not call `transform_cell` automatically in the future. Please pass the result to `transformed_cell` argument and any exception that happen during thetransform in `preprocessing_exc_tuple` in IPython 7.17 and above.\n",
      "  and should_run_async(code)\n"
     ]
    }
   ],
   "source": [
    "import gensim\n",
    "NUM_TOPICS = 20\n",
    "ldamodel = gensim.models.ldamodel.LdaModel(corpus, num_topics = NUM_TOPICS, id2word=dictionary, passes=15)\n",
    "ldamodel.save('Data/model5.gensim')"
   ]
  },
  {
   "cell_type": "code",
   "execution_count": 60,
   "id": "armed-repair",
   "metadata": {},
   "outputs": [
    {
     "name": "stdout",
     "output_type": "stream",
     "text": [
      "(0, '0.046*\"vaccine\" + 0.023*\"report\" + 0.023*\"feel\" + 0.012*\"need\"')\n",
      "(1, '0.064*\"vaccine\" + 0.032*\"2nd\" + 0.032*\"tired\" + 0.017*\"1st\"')\n",
      "(2, '0.102*\"vaccine\" + 0.034*\"know\" + 0.018*\"use\" + 0.018*\"validation\"')\n",
      "(3, '0.045*\"could\" + 0.023*\"effect\" + 0.023*\"side\" + 0.023*\"arm\"')\n",
      "(4, '0.026*\"dismissing\" + 0.026*\"french\" + 0.026*\"leader\" + 0.026*\"ineffective\"')\n",
      "(5, '0.017*\"two\" + 0.017*\"million\" + 0.017*\"death\" + 0.017*\"lethargicdays\"')\n",
      "(6, '0.022*\"week\" + 0.022*\"pretty\" + 0.022*\"needing\" + 0.022*\"jab\"')\n",
      "(7, '0.065*\"seems\" + 0.033*\"way\" + 0.033*\"like\" + 0.033*\"one\"')\n",
      "(8, '0.034*\"death\" + 0.034*\"vaccine\" + 0.018*\"dizzy\" + 0.018*\"chill\"')\n",
      "(9, '0.060*\"vaccine\" + 0.025*\"country\" + 0.013*\"covid\" + 0.013*\"emergency\"')\n",
      "(10, '0.038*\"shot\" + 0.038*\"amp\" + 0.020*\"engineered\" + 0.020*\"fear\"')\n",
      "(11, '0.065*\"alone\" + 0.065*\"eating\" + 0.054*\"toronto\" + 0.054*\"doug\"')\n",
      "(12, '0.042*\"case\" + 0.022*\"closed\" + 0.022*\"business\" + 0.022*\"ontario\"')\n",
      "(13, '0.024*\"01\" + 0.024*\"cytogenetica\" + 0.024*\"2nd\" + 0.024*\"uit\"')\n",
      "(14, '0.033*\"people\" + 0.017*\"site\" + 0.017*\"sunday\" + 0.017*\"adverse\"')\n",
      "(15, '0.053*\"vaccine\" + 0.036*\"time\" + 0.018*\"since\" + 0.018*\"side\"')\n",
      "(16, '0.028*\"hundred\" + 0.028*\"ha\" + 0.028*\"amp\" + 0.028*\"people\"')\n",
      "(17, '0.023*\"amp\" + 0.023*\"today\" + 0.023*\"message\" + 0.023*\"leading\"')\n",
      "(18, '0.044*\"case\" + 0.030*\"vaccine\" + 0.030*\"death\" + 0.030*\"new\"')\n",
      "(19, '0.045*\"vaccine\" + 0.023*\"year\" + 0.023*\"received\" + 0.023*\"case\"')\n"
     ]
    },
    {
     "name": "stderr",
     "output_type": "stream",
     "text": [
      "/Users/christophmichel/.pyenv/versions/3.8.5/lib/python3.8/site-packages/ipykernel/ipkernel.py:283: DeprecationWarning: `should_run_async` will not call `transform_cell` automatically in the future. Please pass the result to `transformed_cell` argument and any exception that happen during thetransform in `preprocessing_exc_tuple` in IPython 7.17 and above.\n",
      "  and should_run_async(code)\n"
     ]
    }
   ],
   "source": [
    "topics = ldamodel.print_topics(num_words=4)\n",
    "for topic in topics:\n",
    "    print(topic)"
   ]
  },
  {
   "cell_type": "code",
   "execution_count": 61,
   "id": "adverse-saturn",
   "metadata": {},
   "outputs": [
    {
     "name": "stderr",
     "output_type": "stream",
     "text": [
      "/Users/christophmichel/.pyenv/versions/3.8.5/lib/python3.8/site-packages/ipykernel/ipkernel.py:283: DeprecationWarning: `should_run_async` will not call `transform_cell` automatically in the future. Please pass the result to `transformed_cell` argument and any exception that happen during thetransform in `preprocessing_exc_tuple` in IPython 7.17 and above.\n",
      "  and should_run_async(code)\n"
     ]
    }
   ],
   "source": [
    "dictionary = gensim.corpora.Dictionary.load('dictionary.gensim')\n",
    "corpus = pickle.load(open('corpus.pkl', 'rb'))\n",
    "lda = gensim.models.ldamodel.LdaModel.load('Data/model5.gensim')"
   ]
  },
  {
   "cell_type": "code",
   "execution_count": 62,
   "id": "allied-mathematics",
   "metadata": {},
   "outputs": [
    {
     "name": "stderr",
     "output_type": "stream",
     "text": [
      "/Users/christophmichel/.pyenv/versions/3.8.5/lib/python3.8/site-packages/ipykernel/ipkernel.py:283: DeprecationWarning: `should_run_async` will not call `transform_cell` automatically in the future. Please pass the result to `transformed_cell` argument and any exception that happen during thetransform in `preprocessing_exc_tuple` in IPython 7.17 and above.\n",
      "  and should_run_async(code)\n"
     ]
    }
   ],
   "source": [
    "#!pip install pyLDAvis"
   ]
  },
  {
   "cell_type": "code",
   "execution_count": 63,
   "id": "valid-timothy",
   "metadata": {},
   "outputs": [
    {
     "name": "stderr",
     "output_type": "stream",
     "text": [
      "/Users/christophmichel/.pyenv/versions/3.8.5/lib/python3.8/site-packages/ipykernel/ipkernel.py:283: DeprecationWarning: `should_run_async` will not call `transform_cell` automatically in the future. Please pass the result to `transformed_cell` argument and any exception that happen during thetransform in `preprocessing_exc_tuple` in IPython 7.17 and above.\n",
      "  and should_run_async(code)\n"
     ]
    },
    {
     "ename": "IndexError",
     "evalue": "index 451 is out of bounds for axis 1 with size 451",
     "output_type": "error",
     "traceback": [
      "\u001b[0;31m---------------------------------------------------------------------------\u001b[0m",
      "\u001b[0;31mIndexError\u001b[0m                                Traceback (most recent call last)",
      "\u001b[0;32m<ipython-input-63-978c9a209cef>\u001b[0m in \u001b[0;36m<module>\u001b[0;34m\u001b[0m\n\u001b[1;32m      1\u001b[0m \u001b[0;32mimport\u001b[0m \u001b[0mpyLDAvis\u001b[0m\u001b[0;34m.\u001b[0m\u001b[0mgensim\u001b[0m\u001b[0;34m\u001b[0m\u001b[0;34m\u001b[0m\u001b[0m\n\u001b[0;32m----> 2\u001b[0;31m \u001b[0mlda_display\u001b[0m \u001b[0;34m=\u001b[0m \u001b[0mpyLDAvis\u001b[0m\u001b[0;34m.\u001b[0m\u001b[0mgensim\u001b[0m\u001b[0;34m.\u001b[0m\u001b[0mprepare\u001b[0m\u001b[0;34m(\u001b[0m\u001b[0mlda\u001b[0m\u001b[0;34m,\u001b[0m \u001b[0mcorpus\u001b[0m\u001b[0;34m,\u001b[0m \u001b[0mdictionary\u001b[0m\u001b[0;34m,\u001b[0m \u001b[0msort_topics\u001b[0m\u001b[0;34m=\u001b[0m\u001b[0;32mFalse\u001b[0m\u001b[0;34m)\u001b[0m\u001b[0;34m\u001b[0m\u001b[0;34m\u001b[0m\u001b[0m\n\u001b[0m\u001b[1;32m      3\u001b[0m \u001b[0mpyLDAvis\u001b[0m\u001b[0;34m.\u001b[0m\u001b[0mdisplay\u001b[0m\u001b[0;34m(\u001b[0m\u001b[0mlda_display\u001b[0m\u001b[0;34m)\u001b[0m\u001b[0;34m\u001b[0m\u001b[0;34m\u001b[0m\u001b[0m\n",
      "\u001b[0;32m~/.pyenv/versions/3.8.5/lib/python3.8/site-packages/pyLDAvis/gensim.py\u001b[0m in \u001b[0;36mprepare\u001b[0;34m(topic_model, corpus, dictionary, doc_topic_dist, **kwargs)\u001b[0m\n\u001b[1;32m    121\u001b[0m     \u001b[0mSee\u001b[0m\u001b[0;31m \u001b[0m\u001b[0;31m`\u001b[0m\u001b[0mpyLDAvis\u001b[0m\u001b[0;34m.\u001b[0m\u001b[0mprepare\u001b[0m\u001b[0;31m`\u001b[0m \u001b[0;32mfor\u001b[0m \u001b[0;34m**\u001b[0m\u001b[0mkwargs\u001b[0m\u001b[0;34m.\u001b[0m\u001b[0;34m\u001b[0m\u001b[0;34m\u001b[0m\u001b[0m\n\u001b[1;32m    122\u001b[0m     \"\"\"\n\u001b[0;32m--> 123\u001b[0;31m     \u001b[0mopts\u001b[0m \u001b[0;34m=\u001b[0m \u001b[0mfp\u001b[0m\u001b[0;34m.\u001b[0m\u001b[0mmerge\u001b[0m\u001b[0;34m(\u001b[0m\u001b[0m_extract_data\u001b[0m\u001b[0;34m(\u001b[0m\u001b[0mtopic_model\u001b[0m\u001b[0;34m,\u001b[0m \u001b[0mcorpus\u001b[0m\u001b[0;34m,\u001b[0m \u001b[0mdictionary\u001b[0m\u001b[0;34m,\u001b[0m \u001b[0mdoc_topic_dist\u001b[0m\u001b[0;34m)\u001b[0m\u001b[0;34m,\u001b[0m \u001b[0mkwargs\u001b[0m\u001b[0;34m)\u001b[0m\u001b[0;34m\u001b[0m\u001b[0;34m\u001b[0m\u001b[0m\n\u001b[0m\u001b[1;32m    124\u001b[0m     \u001b[0;32mreturn\u001b[0m \u001b[0mvis_prepare\u001b[0m\u001b[0;34m(\u001b[0m\u001b[0;34m**\u001b[0m\u001b[0mopts\u001b[0m\u001b[0;34m)\u001b[0m\u001b[0;34m\u001b[0m\u001b[0;34m\u001b[0m\u001b[0m\n",
      "\u001b[0;32m~/.pyenv/versions/3.8.5/lib/python3.8/site-packages/pyLDAvis/gensim.py\u001b[0m in \u001b[0;36m_extract_data\u001b[0;34m(topic_model, corpus, dictionary, doc_topic_dists)\u001b[0m\n\u001b[1;32m     68\u001b[0m         \u001b[0mtopic\u001b[0m \u001b[0;34m=\u001b[0m \u001b[0mtopic_model\u001b[0m\u001b[0;34m.\u001b[0m\u001b[0mstate\u001b[0m\u001b[0;34m.\u001b[0m\u001b[0mget_lambda\u001b[0m\u001b[0;34m(\u001b[0m\u001b[0;34m)\u001b[0m\u001b[0;34m\u001b[0m\u001b[0;34m\u001b[0m\u001b[0m\n\u001b[1;32m     69\u001b[0m     \u001b[0mtopic\u001b[0m \u001b[0;34m=\u001b[0m \u001b[0mtopic\u001b[0m \u001b[0;34m/\u001b[0m \u001b[0mtopic\u001b[0m\u001b[0;34m.\u001b[0m\u001b[0msum\u001b[0m\u001b[0;34m(\u001b[0m\u001b[0maxis\u001b[0m\u001b[0;34m=\u001b[0m\u001b[0;36m1\u001b[0m\u001b[0;34m)\u001b[0m\u001b[0;34m[\u001b[0m\u001b[0;34m:\u001b[0m\u001b[0;34m,\u001b[0m \u001b[0;32mNone\u001b[0m\u001b[0;34m]\u001b[0m\u001b[0;34m\u001b[0m\u001b[0;34m\u001b[0m\u001b[0m\n\u001b[0;32m---> 70\u001b[0;31m     \u001b[0mtopic_term_dists\u001b[0m \u001b[0;34m=\u001b[0m \u001b[0mtopic\u001b[0m\u001b[0;34m[\u001b[0m\u001b[0;34m:\u001b[0m\u001b[0;34m,\u001b[0m \u001b[0mfnames_argsort\u001b[0m\u001b[0;34m]\u001b[0m\u001b[0;34m\u001b[0m\u001b[0;34m\u001b[0m\u001b[0m\n\u001b[0m\u001b[1;32m     71\u001b[0m \u001b[0;34m\u001b[0m\u001b[0m\n\u001b[1;32m     72\u001b[0m     \u001b[0;32massert\u001b[0m \u001b[0mtopic_term_dists\u001b[0m\u001b[0;34m.\u001b[0m\u001b[0mshape\u001b[0m\u001b[0;34m[\u001b[0m\u001b[0;36m0\u001b[0m\u001b[0;34m]\u001b[0m \u001b[0;34m==\u001b[0m \u001b[0mdoc_topic_dists\u001b[0m\u001b[0;34m.\u001b[0m\u001b[0mshape\u001b[0m\u001b[0;34m[\u001b[0m\u001b[0;36m1\u001b[0m\u001b[0;34m]\u001b[0m\u001b[0;34m\u001b[0m\u001b[0;34m\u001b[0m\u001b[0m\n",
      "\u001b[0;31mIndexError\u001b[0m: index 451 is out of bounds for axis 1 with size 451"
     ]
    }
   ],
   "source": [
    "import pyLDAvis.gensim\n",
    "lda_display = pyLDAvis.gensim.prepare(lda, corpus, dictionary, sort_topics=False)\n",
    "pyLDAvis.display(lda_display)"
   ]
  },
  {
   "cell_type": "code",
   "execution_count": 64,
   "id": "interior-peoples",
   "metadata": {},
   "outputs": [
    {
     "name": "stderr",
     "output_type": "stream",
     "text": [
      "/Users/christophmichel/.pyenv/versions/3.8.5/lib/python3.8/site-packages/ipykernel/ipkernel.py:283: DeprecationWarning: `should_run_async` will not call `transform_cell` automatically in the future. Please pass the result to `transformed_cell` argument and any exception that happen during thetransform in `preprocessing_exc_tuple` in IPython 7.17 and above.\n",
      "  and should_run_async(code)\n"
     ]
    },
    {
     "ename": "IndexError",
     "evalue": "index 451 is out of bounds for axis 1 with size 451",
     "output_type": "error",
     "traceback": [
      "\u001b[0;31m---------------------------------------------------------------------------\u001b[0m",
      "\u001b[0;31mIndexError\u001b[0m                                Traceback (most recent call last)",
      "\u001b[0;32m<ipython-input-64-78222682dff7>\u001b[0m in \u001b[0;36m<module>\u001b[0;34m\u001b[0m\n\u001b[1;32m      1\u001b[0m \u001b[0mlda3\u001b[0m \u001b[0;34m=\u001b[0m \u001b[0mgensim\u001b[0m\u001b[0;34m.\u001b[0m\u001b[0mmodels\u001b[0m\u001b[0;34m.\u001b[0m\u001b[0mldamodel\u001b[0m\u001b[0;34m.\u001b[0m\u001b[0mLdaModel\u001b[0m\u001b[0;34m.\u001b[0m\u001b[0mload\u001b[0m\u001b[0;34m(\u001b[0m\u001b[0;34m'Data/model5.gensim'\u001b[0m\u001b[0;34m)\u001b[0m\u001b[0;34m\u001b[0m\u001b[0;34m\u001b[0m\u001b[0m\n\u001b[0;32m----> 2\u001b[0;31m \u001b[0mlda_display3\u001b[0m \u001b[0;34m=\u001b[0m \u001b[0mpyLDAvis\u001b[0m\u001b[0;34m.\u001b[0m\u001b[0mgensim\u001b[0m\u001b[0;34m.\u001b[0m\u001b[0mprepare\u001b[0m\u001b[0;34m(\u001b[0m\u001b[0mlda3\u001b[0m\u001b[0;34m,\u001b[0m \u001b[0mcorpus\u001b[0m\u001b[0;34m,\u001b[0m \u001b[0mdictionary\u001b[0m\u001b[0;34m,\u001b[0m \u001b[0msort_topics\u001b[0m\u001b[0;34m=\u001b[0m\u001b[0;32mFalse\u001b[0m\u001b[0;34m)\u001b[0m\u001b[0;34m\u001b[0m\u001b[0;34m\u001b[0m\u001b[0m\n\u001b[0m\u001b[1;32m      3\u001b[0m \u001b[0mpyLDAvis\u001b[0m\u001b[0;34m.\u001b[0m\u001b[0mdisplay\u001b[0m\u001b[0;34m(\u001b[0m\u001b[0mlda_display3\u001b[0m\u001b[0;34m)\u001b[0m\u001b[0;34m\u001b[0m\u001b[0;34m\u001b[0m\u001b[0m\n",
      "\u001b[0;32m~/.pyenv/versions/3.8.5/lib/python3.8/site-packages/pyLDAvis/gensim.py\u001b[0m in \u001b[0;36mprepare\u001b[0;34m(topic_model, corpus, dictionary, doc_topic_dist, **kwargs)\u001b[0m\n\u001b[1;32m    121\u001b[0m     \u001b[0mSee\u001b[0m\u001b[0;31m \u001b[0m\u001b[0;31m`\u001b[0m\u001b[0mpyLDAvis\u001b[0m\u001b[0;34m.\u001b[0m\u001b[0mprepare\u001b[0m\u001b[0;31m`\u001b[0m \u001b[0;32mfor\u001b[0m \u001b[0;34m**\u001b[0m\u001b[0mkwargs\u001b[0m\u001b[0;34m.\u001b[0m\u001b[0;34m\u001b[0m\u001b[0;34m\u001b[0m\u001b[0m\n\u001b[1;32m    122\u001b[0m     \"\"\"\n\u001b[0;32m--> 123\u001b[0;31m     \u001b[0mopts\u001b[0m \u001b[0;34m=\u001b[0m \u001b[0mfp\u001b[0m\u001b[0;34m.\u001b[0m\u001b[0mmerge\u001b[0m\u001b[0;34m(\u001b[0m\u001b[0m_extract_data\u001b[0m\u001b[0;34m(\u001b[0m\u001b[0mtopic_model\u001b[0m\u001b[0;34m,\u001b[0m \u001b[0mcorpus\u001b[0m\u001b[0;34m,\u001b[0m \u001b[0mdictionary\u001b[0m\u001b[0;34m,\u001b[0m \u001b[0mdoc_topic_dist\u001b[0m\u001b[0;34m)\u001b[0m\u001b[0;34m,\u001b[0m \u001b[0mkwargs\u001b[0m\u001b[0;34m)\u001b[0m\u001b[0;34m\u001b[0m\u001b[0;34m\u001b[0m\u001b[0m\n\u001b[0m\u001b[1;32m    124\u001b[0m     \u001b[0;32mreturn\u001b[0m \u001b[0mvis_prepare\u001b[0m\u001b[0;34m(\u001b[0m\u001b[0;34m**\u001b[0m\u001b[0mopts\u001b[0m\u001b[0;34m)\u001b[0m\u001b[0;34m\u001b[0m\u001b[0;34m\u001b[0m\u001b[0m\n",
      "\u001b[0;32m~/.pyenv/versions/3.8.5/lib/python3.8/site-packages/pyLDAvis/gensim.py\u001b[0m in \u001b[0;36m_extract_data\u001b[0;34m(topic_model, corpus, dictionary, doc_topic_dists)\u001b[0m\n\u001b[1;32m     68\u001b[0m         \u001b[0mtopic\u001b[0m \u001b[0;34m=\u001b[0m \u001b[0mtopic_model\u001b[0m\u001b[0;34m.\u001b[0m\u001b[0mstate\u001b[0m\u001b[0;34m.\u001b[0m\u001b[0mget_lambda\u001b[0m\u001b[0;34m(\u001b[0m\u001b[0;34m)\u001b[0m\u001b[0;34m\u001b[0m\u001b[0;34m\u001b[0m\u001b[0m\n\u001b[1;32m     69\u001b[0m     \u001b[0mtopic\u001b[0m \u001b[0;34m=\u001b[0m \u001b[0mtopic\u001b[0m \u001b[0;34m/\u001b[0m \u001b[0mtopic\u001b[0m\u001b[0;34m.\u001b[0m\u001b[0msum\u001b[0m\u001b[0;34m(\u001b[0m\u001b[0maxis\u001b[0m\u001b[0;34m=\u001b[0m\u001b[0;36m1\u001b[0m\u001b[0;34m)\u001b[0m\u001b[0;34m[\u001b[0m\u001b[0;34m:\u001b[0m\u001b[0;34m,\u001b[0m \u001b[0;32mNone\u001b[0m\u001b[0;34m]\u001b[0m\u001b[0;34m\u001b[0m\u001b[0;34m\u001b[0m\u001b[0m\n\u001b[0;32m---> 70\u001b[0;31m     \u001b[0mtopic_term_dists\u001b[0m \u001b[0;34m=\u001b[0m \u001b[0mtopic\u001b[0m\u001b[0;34m[\u001b[0m\u001b[0;34m:\u001b[0m\u001b[0;34m,\u001b[0m \u001b[0mfnames_argsort\u001b[0m\u001b[0;34m]\u001b[0m\u001b[0;34m\u001b[0m\u001b[0;34m\u001b[0m\u001b[0m\n\u001b[0m\u001b[1;32m     71\u001b[0m \u001b[0;34m\u001b[0m\u001b[0m\n\u001b[1;32m     72\u001b[0m     \u001b[0;32massert\u001b[0m \u001b[0mtopic_term_dists\u001b[0m\u001b[0;34m.\u001b[0m\u001b[0mshape\u001b[0m\u001b[0;34m[\u001b[0m\u001b[0;36m0\u001b[0m\u001b[0;34m]\u001b[0m \u001b[0;34m==\u001b[0m \u001b[0mdoc_topic_dists\u001b[0m\u001b[0;34m.\u001b[0m\u001b[0mshape\u001b[0m\u001b[0;34m[\u001b[0m\u001b[0;36m1\u001b[0m\u001b[0;34m]\u001b[0m\u001b[0;34m\u001b[0m\u001b[0;34m\u001b[0m\u001b[0m\n",
      "\u001b[0;31mIndexError\u001b[0m: index 451 is out of bounds for axis 1 with size 451"
     ]
    }
   ],
   "source": [
    "lda3 = gensim.models.ldamodel.LdaModel.load('Data/model5.gensim')\n",
    "lda_display3 = pyLDAvis.gensim.prepare(lda3, corpus, dictionary, sort_topics=False)\n",
    "pyLDAvis.display(lda_display3)"
   ]
  },
  {
   "cell_type": "markdown",
   "id": "cheap-merchant",
   "metadata": {},
   "source": [
    "# Topics positive tweets"
   ]
  },
  {
   "cell_type": "code",
   "execution_count": 65,
   "id": "broken-shopper",
   "metadata": {},
   "outputs": [
    {
     "name": "stderr",
     "output_type": "stream",
     "text": [
      "/Users/christophmichel/.pyenv/versions/3.8.5/lib/python3.8/site-packages/ipykernel/ipkernel.py:283: DeprecationWarning: `should_run_async` will not call `transform_cell` automatically in the future. Please pass the result to `transformed_cell` argument and any exception that happen during thetransform in `preprocessing_exc_tuple` in IPython 7.17 and above.\n",
      "  and should_run_async(code)\n"
     ]
    }
   ],
   "source": [
    "df2 = pd.read_csv('Data/tweety_topic2.csv')\n",
    "df_tweety2 = df2"
   ]
  },
  {
   "cell_type": "code",
   "execution_count": 66,
   "id": "empirical-convenience",
   "metadata": {},
   "outputs": [
    {
     "name": "stderr",
     "output_type": "stream",
     "text": [
      "/Users/christophmichel/.pyenv/versions/3.8.5/lib/python3.8/site-packages/ipykernel/ipkernel.py:283: DeprecationWarning: `should_run_async` will not call `transform_cell` automatically in the future. Please pass the result to `transformed_cell` argument and any exception that happen during thetransform in `preprocessing_exc_tuple` in IPython 7.17 and above.\n",
      "  and should_run_async(code)\n"
     ]
    },
    {
     "data": {
      "text/html": [
       "<div>\n",
       "<style scoped>\n",
       "    .dataframe tbody tr th:only-of-type {\n",
       "        vertical-align: middle;\n",
       "    }\n",
       "\n",
       "    .dataframe tbody tr th {\n",
       "        vertical-align: top;\n",
       "    }\n",
       "\n",
       "    .dataframe thead th {\n",
       "        text-align: right;\n",
       "    }\n",
       "</style>\n",
       "<table border=\"1\" class=\"dataframe\">\n",
       "  <thead>\n",
       "    <tr style=\"text-align: right;\">\n",
       "      <th></th>\n",
       "      <th>Unnamed: 0</th>\n",
       "      <th>index</th>\n",
       "      <th>user_name</th>\n",
       "      <th>user_location</th>\n",
       "      <th>user_followers</th>\n",
       "      <th>user_friends</th>\n",
       "      <th>user_favourites</th>\n",
       "      <th>user_verified</th>\n",
       "      <th>date</th>\n",
       "      <th>text</th>\n",
       "      <th>hashtags</th>\n",
       "      <th>retweets</th>\n",
       "      <th>favorites</th>\n",
       "      <th>day</th>\n",
       "      <th>user_infl</th>\n",
       "      <th>sentiment</th>\n",
       "    </tr>\n",
       "  </thead>\n",
       "  <tbody>\n",
       "    <tr>\n",
       "      <th>0</th>\n",
       "      <td>1</td>\n",
       "      <td>1</td>\n",
       "      <td>Albert Fong</td>\n",
       "      <td>San Francisco, CA</td>\n",
       "      <td>834</td>\n",
       "      <td>666</td>\n",
       "      <td>178</td>\n",
       "      <td>False</td>\n",
       "      <td>2020-12-13 16:27:13</td>\n",
       "      <td>world wrong side history year hopefully bigges...</td>\n",
       "      <td>[]</td>\n",
       "      <td>1</td>\n",
       "      <td>1</td>\n",
       "      <td>2020-12-13</td>\n",
       "      <td>16.0</td>\n",
       "      <td>negative</td>\n",
       "    </tr>\n",
       "    <tr>\n",
       "      <th>1</th>\n",
       "      <td>10</td>\n",
       "      <td>10</td>\n",
       "      <td>Tamer Yazar</td>\n",
       "      <td>Turkey-Israel</td>\n",
       "      <td>1302</td>\n",
       "      <td>78</td>\n",
       "      <td>339</td>\n",
       "      <td>False</td>\n",
       "      <td>2020-12-12 19:29:07</td>\n",
       "      <td>death closing 000 mark million people wait fir...</td>\n",
       "      <td>['PfizerBioNTech', 'Vaccine']</td>\n",
       "      <td>0</td>\n",
       "      <td>0</td>\n",
       "      <td>2020-12-12</td>\n",
       "      <td>18.0</td>\n",
       "      <td>negative</td>\n",
       "    </tr>\n",
       "    <tr>\n",
       "      <th>2</th>\n",
       "      <td>17</td>\n",
       "      <td>17</td>\n",
       "      <td>ILKHA</td>\n",
       "      <td>Türkiye</td>\n",
       "      <td>4056</td>\n",
       "      <td>6</td>\n",
       "      <td>3</td>\n",
       "      <td>True</td>\n",
       "      <td>2020-12-12 15:38:00</td>\n",
       "      <td>coronavirus iran report 201 new case death las...</td>\n",
       "      <td>['Iran', 'coronavirus', 'PfizerBioNTech']</td>\n",
       "      <td>3</td>\n",
       "      <td>5</td>\n",
       "      <td>2020-12-12</td>\n",
       "      <td>30.0</td>\n",
       "      <td>negative</td>\n",
       "    </tr>\n",
       "    <tr>\n",
       "      <th>3</th>\n",
       "      <td>18</td>\n",
       "      <td>18</td>\n",
       "      <td>Braderz73🌹#GTTO 🇪🇺 🇬🇧</td>\n",
       "      <td>Bristol, UK</td>\n",
       "      <td>6430</td>\n",
       "      <td>6292</td>\n",
       "      <td>45007</td>\n",
       "      <td>False</td>\n",
       "      <td>2020-12-12 15:27:42</td>\n",
       "      <td>rake billion expensive refuse cut price lowe</td>\n",
       "      <td>['CovidVaccine']</td>\n",
       "      <td>3</td>\n",
       "      <td>3</td>\n",
       "      <td>2020-12-12</td>\n",
       "      <td>80.0</td>\n",
       "      <td>negative</td>\n",
       "    </tr>\n",
       "    <tr>\n",
       "      <th>4</th>\n",
       "      <td>19</td>\n",
       "      <td>19</td>\n",
       "      <td>Alex Vie</td>\n",
       "      <td>Los Angeles, CA</td>\n",
       "      <td>125</td>\n",
       "      <td>442</td>\n",
       "      <td>5401</td>\n",
       "      <td>False</td>\n",
       "      <td>2020-12-12 15:10:09</td>\n",
       "      <td>trump administration failed deliver vaccine pr...</td>\n",
       "      <td>['COVIDIOTS', 'coronavirus', 'CovidVaccine']</td>\n",
       "      <td>0</td>\n",
       "      <td>0</td>\n",
       "      <td>2020-12-12</td>\n",
       "      <td>24.0</td>\n",
       "      <td>negative</td>\n",
       "    </tr>\n",
       "    <tr>\n",
       "      <th>...</th>\n",
       "      <td>...</td>\n",
       "      <td>...</td>\n",
       "      <td>...</td>\n",
       "      <td>...</td>\n",
       "      <td>...</td>\n",
       "      <td>...</td>\n",
       "      <td>...</td>\n",
       "      <td>...</td>\n",
       "      <td>...</td>\n",
       "      <td>...</td>\n",
       "      <td>...</td>\n",
       "      <td>...</td>\n",
       "      <td>...</td>\n",
       "      <td>...</td>\n",
       "      <td>...</td>\n",
       "      <td>...</td>\n",
       "    </tr>\n",
       "    <tr>\n",
       "      <th>6622</th>\n",
       "      <td>38499</td>\n",
       "      <td>38526</td>\n",
       "      <td>Magdi Birtha</td>\n",
       "      <td>Vienna, Austria</td>\n",
       "      <td>1029</td>\n",
       "      <td>2137</td>\n",
       "      <td>3164</td>\n",
       "      <td>False</td>\n",
       "      <td>2021-03-18 09:23:50</td>\n",
       "      <td>mother offered rejected due lack approval</td>\n",
       "      <td>['SputnikV', 'Hungary']</td>\n",
       "      <td>0</td>\n",
       "      <td>0</td>\n",
       "      <td>2021-03-18</td>\n",
       "      <td>27.0</td>\n",
       "      <td>negative</td>\n",
       "    </tr>\n",
       "    <tr>\n",
       "      <th>6623</th>\n",
       "      <td>38503</td>\n",
       "      <td>38530</td>\n",
       "      <td>Sputnik</td>\n",
       "      <td>NaN</td>\n",
       "      <td>322326</td>\n",
       "      <td>306</td>\n",
       "      <td>24</td>\n",
       "      <td>True</td>\n",
       "      <td>2021-03-18 08:40:00</td>\n",
       "      <td>norwegian politician calling cut vaccine deal ...</td>\n",
       "      <td>['SputnikV']</td>\n",
       "      <td>2</td>\n",
       "      <td>9</td>\n",
       "      <td>2021-03-18</td>\n",
       "      <td>269.0</td>\n",
       "      <td>negative</td>\n",
       "    </tr>\n",
       "    <tr>\n",
       "      <th>6624</th>\n",
       "      <td>38513</td>\n",
       "      <td>38540</td>\n",
       "      <td>Raj Meister</td>\n",
       "      <td>Leeds, England</td>\n",
       "      <td>1354</td>\n",
       "      <td>247</td>\n",
       "      <td>2931</td>\n",
       "      <td>False</td>\n",
       "      <td>2021-03-18 06:37:29</td>\n",
       "      <td>killer manufactured amp</td>\n",
       "      <td>['BrainTwister', 'Putin', 'MotherRussia', 'Spu...</td>\n",
       "      <td>0</td>\n",
       "      <td>0</td>\n",
       "      <td>2021-03-18</td>\n",
       "      <td>25.0</td>\n",
       "      <td>negative</td>\n",
       "    </tr>\n",
       "    <tr>\n",
       "      <th>6625</th>\n",
       "      <td>38515</td>\n",
       "      <td>38542</td>\n",
       "      <td>Rising Bharat</td>\n",
       "      <td>Village</td>\n",
       "      <td>625</td>\n",
       "      <td>0</td>\n",
       "      <td>0</td>\n",
       "      <td>False</td>\n",
       "      <td>2021-03-18 06:22:41</td>\n",
       "      <td>sputnikreview emergency use authorization indi...</td>\n",
       "      <td>[]</td>\n",
       "      <td>1</td>\n",
       "      <td>7</td>\n",
       "      <td>2021-03-18</td>\n",
       "      <td>12.0</td>\n",
       "      <td>negative</td>\n",
       "    </tr>\n",
       "    <tr>\n",
       "      <th>6626</th>\n",
       "      <td>38518</td>\n",
       "      <td>38545</td>\n",
       "      <td>Sputnik</td>\n",
       "      <td>NaN</td>\n",
       "      <td>322326</td>\n",
       "      <td>306</td>\n",
       "      <td>24</td>\n",
       "      <td>True</td>\n",
       "      <td>2021-03-18 05:30:00</td>\n",
       "      <td>norwegian politician calling cut vaccine deal ...</td>\n",
       "      <td>['SputnikV']</td>\n",
       "      <td>6</td>\n",
       "      <td>16</td>\n",
       "      <td>2021-03-18</td>\n",
       "      <td>269.0</td>\n",
       "      <td>negative</td>\n",
       "    </tr>\n",
       "  </tbody>\n",
       "</table>\n",
       "<p>6627 rows × 16 columns</p>\n",
       "</div>"
      ],
      "text/plain": [
       "      Unnamed: 0  index              user_name      user_location  \\\n",
       "0              1      1            Albert Fong  San Francisco, CA   \n",
       "1             10     10            Tamer Yazar      Turkey-Israel   \n",
       "2             17     17                  ILKHA            Türkiye   \n",
       "3             18     18  Braderz73🌹#GTTO 🇪🇺 🇬🇧        Bristol, UK   \n",
       "4             19     19               Alex Vie    Los Angeles, CA   \n",
       "...          ...    ...                    ...                ...   \n",
       "6622       38499  38526           Magdi Birtha    Vienna, Austria   \n",
       "6623       38503  38530                Sputnik                NaN   \n",
       "6624       38513  38540            Raj Meister     Leeds, England   \n",
       "6625       38515  38542          Rising Bharat            Village   \n",
       "6626       38518  38545                Sputnik                NaN   \n",
       "\n",
       "      user_followers  user_friends  user_favourites  user_verified  \\\n",
       "0                834           666              178          False   \n",
       "1               1302            78              339          False   \n",
       "2               4056             6                3           True   \n",
       "3               6430          6292            45007          False   \n",
       "4                125           442             5401          False   \n",
       "...              ...           ...              ...            ...   \n",
       "6622            1029          2137             3164          False   \n",
       "6623          322326           306               24           True   \n",
       "6624            1354           247             2931          False   \n",
       "6625             625             0                0          False   \n",
       "6626          322326           306               24           True   \n",
       "\n",
       "                     date                                               text  \\\n",
       "0     2020-12-13 16:27:13  world wrong side history year hopefully bigges...   \n",
       "1     2020-12-12 19:29:07  death closing 000 mark million people wait fir...   \n",
       "2     2020-12-12 15:38:00  coronavirus iran report 201 new case death las...   \n",
       "3     2020-12-12 15:27:42       rake billion expensive refuse cut price lowe   \n",
       "4     2020-12-12 15:10:09  trump administration failed deliver vaccine pr...   \n",
       "...                   ...                                                ...   \n",
       "6622  2021-03-18 09:23:50          mother offered rejected due lack approval   \n",
       "6623  2021-03-18 08:40:00  norwegian politician calling cut vaccine deal ...   \n",
       "6624  2021-03-18 06:37:29                            killer manufactured amp   \n",
       "6625  2021-03-18 06:22:41  sputnikreview emergency use authorization indi...   \n",
       "6626  2021-03-18 05:30:00  norwegian politician calling cut vaccine deal ...   \n",
       "\n",
       "                                               hashtags  retweets  favorites  \\\n",
       "0                                                    []         1          1   \n",
       "1                         ['PfizerBioNTech', 'Vaccine']         0          0   \n",
       "2             ['Iran', 'coronavirus', 'PfizerBioNTech']         3          5   \n",
       "3                                      ['CovidVaccine']         3          3   \n",
       "4          ['COVIDIOTS', 'coronavirus', 'CovidVaccine']         0          0   \n",
       "...                                                 ...       ...        ...   \n",
       "6622                            ['SputnikV', 'Hungary']         0          0   \n",
       "6623                                       ['SputnikV']         2          9   \n",
       "6624  ['BrainTwister', 'Putin', 'MotherRussia', 'Spu...         0          0   \n",
       "6625                                                 []         1          7   \n",
       "6626                                       ['SputnikV']         6         16   \n",
       "\n",
       "             day  user_infl sentiment  \n",
       "0     2020-12-13       16.0  negative  \n",
       "1     2020-12-12       18.0  negative  \n",
       "2     2020-12-12       30.0  negative  \n",
       "3     2020-12-12       80.0  negative  \n",
       "4     2020-12-12       24.0  negative  \n",
       "...          ...        ...       ...  \n",
       "6622  2021-03-18       27.0  negative  \n",
       "6623  2021-03-18      269.0  negative  \n",
       "6624  2021-03-18       25.0  negative  \n",
       "6625  2021-03-18       12.0  negative  \n",
       "6626  2021-03-18      269.0  negative  \n",
       "\n",
       "[6627 rows x 16 columns]"
      ]
     },
     "execution_count": 66,
     "metadata": {},
     "output_type": "execute_result"
    }
   ],
   "source": [
    "df_tweety2"
   ]
  },
  {
   "cell_type": "markdown",
   "id": "forward-doubt",
   "metadata": {},
   "source": [
    "### Cleaning, feature engineering for negative"
   ]
  },
  {
   "cell_type": "code",
   "execution_count": 67,
   "id": "happy-bacon",
   "metadata": {},
   "outputs": [
    {
     "name": "stderr",
     "output_type": "stream",
     "text": [
      "/Users/christophmichel/.pyenv/versions/3.8.5/lib/python3.8/site-packages/ipykernel/ipkernel.py:283: DeprecationWarning: `should_run_async` will not call `transform_cell` automatically in the future. Please pass the result to `transformed_cell` argument and any exception that happen during thetransform in `preprocessing_exc_tuple` in IPython 7.17 and above.\n",
      "  and should_run_async(code)\n"
     ]
    }
   ],
   "source": [
    "def clean_again(x):\n",
    "    x = str(x)\n",
    "    x = x.lower()\n",
    "    x = x.split()\n",
    "\n",
    "    return x"
   ]
  },
  {
   "cell_type": "code",
   "execution_count": null,
   "id": "gothic-sierra",
   "metadata": {},
   "outputs": [],
   "source": []
  },
  {
   "cell_type": "code",
   "execution_count": 68,
   "id": "retired-portugal",
   "metadata": {},
   "outputs": [
    {
     "name": "stdout",
     "output_type": "stream",
     "text": [
      "['year', 'tough', 'light', 'end', 'tunnel', 'arrived', 'hearte']\n",
      "['thank', 'much', 'team', 'edition', 'unfortunately', 'australia', 'stupid']\n",
      "['hour', 'post', 'covid', 'vaccine', 'pain', 'arm', 'gone', 'tired', 'long', 'day', '30a']\n",
      "['managed', 'get', 'mum', 'haunted', 'vision', 'country', 'run', 'year', 'ol']\n",
      "['pfizer', 'investigates', 'doctor', 'post', 'vaccine', 'death', 'possible', 'connection']\n",
      "['dead', 'norway', 'people', 'dead', 'germany', 'going', 'protect']\n",
      "['federal', 'treasurer', 'josh', 'frydenberg', 'say', 'shortage', 'overseas', 'unlikely', 'affect']\n",
      "['time', 'medium', 'joined', 'healthcare', 'professional', 'realise', 'sheer', 'idiocy', 'delayed', 'pfizer', 'biontech', 'vac']\n",
      "['come', 'point', 'pay', 'pfizer', 'purchase', 'government', 'requisition', 'cash']\n",
      "['mr', 'please', 'let', 'pfizer', 'biontech', 'amp', 'moderna', 'vaccine', 'waste', 'time', 'amp', 'money', 'le', 'ef']\n",
      "['uğur', 'şahin', 'stressed', 'need', 'long', 'term', 'funding', 'international', 'collaboration', 'amp', 'supportive', 'ecosystem', 'enable', 'f']\n",
      "['anyone', 'worried', 'anyone', 'belief', 'contains', 'microchip', 'something', '5g', 'ple']\n",
      "['option', 'buy', 'million', 'shot', 'somehow', 'mess']\n",
      "['recieved', 'fake', 'jab', 'go']\n",
      "['debt', 'rattle', 'february', '2021']\n",
      "['thanks', 'making', 'face', 'fear', 'needle', 'halfway', 'full']\n",
      "['russian', 'provide', 'protection', 'british', 'strain']\n",
      "['blaming', 'disgraceful']\n",
      "['cheap', 'dangerous', 'could', 'take', 'away', 'p']\n",
      "['discussion', 'point', 'article', 'shameless', 'bluffing']\n",
      "['covax', 'programme', 'aim', 'get', 'covid', 'shot', 'least', 'per', 'cent', 'population', 'world', 'poorest', 'c']\n",
      "['snap', 'delhi', 'barmer', 'story', 'india', 'huge', 'vaccination', 'drive', 'stubborn', 'vaccine', 'hestitency']\n",
      "['starting', 'mass', 'vaccination', 'campaign', 'thursday', 'local', 'time', 'becomes', 'first', 'eu', 'country', 'use', 'chinese', 'mad']\n",
      "['bitch', 'half', 'way', 'vaccinated']\n",
      "['ha', 'anyone', 'else', 'severe', 'reaction', 'first', 'dose', 'covid', 'vaccine']\n",
      "['fear', 'india', 'cure', 'first', 'country', 'world', 'got', 'v']\n",
      "['covaxin', 'becomes', 'brazil', 'covaxin', 'getting', 'critical', 'remark', 'phaseclinical', 'trial', 'data']\n",
      "['bad']\n",
      "['people', 'afford', 'pay', 'covid', 'vaccine', 'request', 'harsh', 'vardhan']\n",
      "['modi', 'bashers', 'arey', 'baki', 'vaccinated', 'logon', 'ka', 'kya', 'protest', 'jantar', 'mantar', 'stop', 'vaccination']\n",
      "['controlled', 'many', 'country', 'learning', 'painful', 'lesson', 'much']\n",
      "['vaccine', 'company', 'sharing', 'global', 'crisis', 'capitalism', 'place']\n",
      "['plus', 'cut', 'mrna', 'vaccine', 'amp', '000', '000', 'thi']\n",
      "['world', 'war', 'z', 'huh', 'year', 'decides', 'sense', 'humor', 'zombie', 'got']\n",
      "['nobody', 'per', 'guideline', 'demanded', 'phaseresults', 'also']\n",
      "['brussels', 'talk', 'citizen', 'die', 'disastrous', 'programme', 'continues', 'amp', 'european', 'comple']\n",
      "['vaccine', 'update', 'got', 'second', 'dose', 'today', 'far', 'slight', 'pain', 'injection', 'site', 'update', 'follow']\n",
      "['ha', 'hypocrite', 'commie', 'moron', 'taken', 'jab', 'yet']\n",
      "['people', 'died', 'hk', 'taking', 'sinovacweeks', 'could', 'lethal', 'covid']\n",
      "['forget', 'sputnik', 'name', 'military', 'propaganda', 'structure', 'destabilize', 'europe']\n",
      "['part', 'sec', 'filing', '2020', 'risk', 'factor', 'considering', 'merck', 'invested', '175m', 'moderna']\n",
      "['india', 'recommending', 'paracetamol', 'anti', 'blood', 'clot', 'medicine', '3', 'day', 'vaccine', 'parent']\n",
      "['vaccine', 'shortage', 'state', 'country', 'health', 'secretary', 'rajesh', 'bhushan', 'situation', 'count']\n",
      "['cool', 'get', 'stabbed', 'kid', 'hyuck', 'hyuck', 'hyuck']\n",
      "['moderna', 'first', 'dose', 'sore', 'injection', 'site', 'day', '2nd', 'dose', 'felt', 'achydays']\n",
      "['new', 'york', 'time', 'hungary', 'pay', 'big', 'chinese', 'vaccine']\n",
      "['doe', 'mean', 'vaccine', 'u', 'also', 'mean', 'county', 'cry', 'uk', 'first', 'buy', 'th']\n",
      "['sure', 'amp', 'idiot', 'made', 'believe', 'claim', 'could', 'b']\n",
      "['banned', 'cheese', 'already']\n",
      "['gland', 'pharma', 'backed', 'shanghai', 'fosun', 'pharma', 'struck', 'deal', 'russian', 'direct', 'investment', 'fund']\n",
      "['first', 'shot', 'yesterday', 'arm', 'sore']\n",
      "['fundamental', 'failure', 'leadership', 'short', 'vaccine', 'eu', 'leader', 'misinf']\n",
      "['merkel', 'macron', 'amp', 'official', 'fanned', 'scepticism', 'especially', 'hide']\n",
      "['mafia', 'organisation', 'threat', 'block', 'concern']\n",
      "['concerned', 'vaccine', 'want', 'side', 'effect', 'different', 'vaccine', 'explained', 'nonsense', 'english', 'pr']\n",
      "['dawn', '21st', 'century', 'cold', 'war']\n",
      "['eating', 'alone', 'today', 'doug', 'ford', 'trudeau', 'toronto', 'ontario', 'canada', 'forced']\n",
      "['eating', 'alone', 'doug', 'ford', 'trudeau', 'toronto', 'ontario', 'canada', 'forced']\n",
      "['eating', 'alone', 'doug', 'ford', 'trudeau', 'toronto', 'ontario', 'canada', 'forced']\n"
     ]
    },
    {
     "name": "stderr",
     "output_type": "stream",
     "text": [
      "/Users/christophmichel/.pyenv/versions/3.8.5/lib/python3.8/site-packages/ipykernel/ipkernel.py:283: DeprecationWarning: `should_run_async` will not call `transform_cell` automatically in the future. Please pass the result to `transformed_cell` argument and any exception that happen during thetransform in `preprocessing_exc_tuple` in IPython 7.17 and above.\n",
      "  and should_run_async(code)\n"
     ]
    }
   ],
   "source": [
    "import random\n",
    "text_data = []\n",
    "for tweet in df_tweety2.text:\n",
    "    tokens = clean_again(tweet)\n",
    "    if random.random() > .99:\n",
    "        print(tokens)\n",
    "        text_data.append(tokens)"
   ]
  },
  {
   "cell_type": "code",
   "execution_count": 69,
   "id": "directed-referral",
   "metadata": {},
   "outputs": [
    {
     "name": "stderr",
     "output_type": "stream",
     "text": [
      "/Users/christophmichel/.pyenv/versions/3.8.5/lib/python3.8/site-packages/ipykernel/ipkernel.py:283: DeprecationWarning: `should_run_async` will not call `transform_cell` automatically in the future. Please pass the result to `transformed_cell` argument and any exception that happen during thetransform in `preprocessing_exc_tuple` in IPython 7.17 and above.\n",
      "  and should_run_async(code)\n"
     ]
    }
   ],
   "source": [
    "from gensim import corpora\n",
    "dictionary = corpora.Dictionary(text_data)\n",
    "corpus = [dictionary.doc2bow(text) for text in text_data]\n",
    "import pickle\n",
    "pickle.dump(corpus, open('corpus.pkl', 'wb'))\n",
    "dictionary.save('Data/dictionary.gensim')"
   ]
  },
  {
   "cell_type": "code",
   "execution_count": 70,
   "id": "broadband-blowing",
   "metadata": {},
   "outputs": [
    {
     "name": "stderr",
     "output_type": "stream",
     "text": [
      "/Users/christophmichel/.pyenv/versions/3.8.5/lib/python3.8/site-packages/ipykernel/ipkernel.py:283: DeprecationWarning: `should_run_async` will not call `transform_cell` automatically in the future. Please pass the result to `transformed_cell` argument and any exception that happen during thetransform in `preprocessing_exc_tuple` in IPython 7.17 and above.\n",
      "  and should_run_async(code)\n"
     ]
    }
   ],
   "source": [
    "import gensim\n",
    "NUM_TOPICS = 20\n",
    "ldamodel = gensim.models.ldamodel.LdaModel(corpus, num_topics = NUM_TOPICS, id2word=dictionary, passes=15)\n",
    "ldamodel.save('Data/model5.gensim')"
   ]
  },
  {
   "cell_type": "code",
   "execution_count": 71,
   "id": "varied-laser",
   "metadata": {},
   "outputs": [
    {
     "name": "stdout",
     "output_type": "stream",
     "text": [
      "(0, '0.058*\"forced\" + 0.058*\"ford\" + 0.058*\"doug\" + 0.058*\"eating\"')\n",
      "(1, '0.041*\"amp\" + 0.021*\"long\" + 0.021*\"term\" + 0.021*\"supportive\"')\n",
      "(2, '0.032*\"josh\" + 0.032*\"affect\" + 0.032*\"overseas\" + 0.032*\"unlikely\"')\n",
      "(3, '0.056*\"update\" + 0.029*\"follow\" + 0.029*\"dose\" + 0.029*\"far\"')\n",
      "(4, '0.053*\"dose\" + 0.027*\"organisation\" + 0.027*\"concern\" + 0.027*\"block\"')\n",
      "(5, '0.034*\"pharma\" + 0.034*\"anyone\" + 0.018*\"country\" + 0.018*\"starting\"')\n",
      "(6, '0.024*\"merck\" + 0.024*\"part\" + 0.024*\"filing\" + 0.024*\"175m\"')\n",
      "(7, '0.046*\"mean\" + 0.046*\"vaccine\" + 0.024*\"u\" + 0.024*\"also\"')\n",
      "(8, '0.027*\"india\" + 0.027*\"amp\" + 0.027*\"country\" + 0.027*\"v\"')\n",
      "(9, '0.070*\"hyuck\" + 0.024*\"pay\" + 0.024*\"cash\" + 0.024*\"pfizer\"')\n",
      "(10, '0.025*\"parent\" + 0.025*\"vaccine\" + 0.025*\"medicine\" + 0.025*\"day\"')\n",
      "(11, '0.039*\"vardhan\" + 0.039*\"request\" + 0.039*\"vaccine\" + 0.039*\"people\"')\n",
      "(12, '0.065*\"vaccine\" + 0.044*\"000\" + 0.023*\"huge\" + 0.023*\"story\"')\n",
      "(13, '0.003*\"commie\" + 0.003*\"moron\" + 0.003*\"today\" + 0.003*\"update\"')\n",
      "(14, '0.046*\"vaccine\" + 0.046*\"arm\" + 0.024*\"day\" + 0.024*\"30a\"')\n",
      "(15, '0.031*\"amp\" + 0.031*\"covaxin\" + 0.016*\"moderna\" + 0.016*\"vaccine\"')\n",
      "(16, '0.035*\"covid\" + 0.035*\"people\" + 0.035*\"dead\" + 0.018*\"aim\"')\n",
      "(17, '0.040*\"country\" + 0.020*\"covid\" + 0.020*\"ol\" + 0.020*\"haunted\"')\n",
      "(18, '0.041*\"making\" + 0.041*\"needle\" + 0.041*\"full\" + 0.041*\"halfway\"')\n",
      "(19, '0.048*\"vaccine\" + 0.025*\"nonsense\" + 0.025*\"want\" + 0.025*\"pr\"')\n"
     ]
    },
    {
     "name": "stderr",
     "output_type": "stream",
     "text": [
      "/Users/christophmichel/.pyenv/versions/3.8.5/lib/python3.8/site-packages/ipykernel/ipkernel.py:283: DeprecationWarning: `should_run_async` will not call `transform_cell` automatically in the future. Please pass the result to `transformed_cell` argument and any exception that happen during thetransform in `preprocessing_exc_tuple` in IPython 7.17 and above.\n",
      "  and should_run_async(code)\n"
     ]
    }
   ],
   "source": [
    "topics = ldamodel.print_topics(num_words=4)\n",
    "for topic in topics:\n",
    "    print(topic)"
   ]
  },
  {
   "cell_type": "code",
   "execution_count": null,
   "id": "premier-hindu",
   "metadata": {},
   "outputs": [],
   "source": []
  },
  {
   "cell_type": "code",
   "execution_count": null,
   "id": "relative-conservation",
   "metadata": {},
   "outputs": [],
   "source": []
  }
 ],
 "metadata": {
  "kernelspec": {
   "display_name": "Python 3",
   "language": "python",
   "name": "python3"
  },
  "language_info": {
   "codemirror_mode": {
    "name": "ipython",
    "version": 3
   },
   "file_extension": ".py",
   "mimetype": "text/x-python",
   "name": "python",
   "nbconvert_exporter": "python",
   "pygments_lexer": "ipython3",
   "version": "3.8.5"
  }
 },
 "nbformat": 4,
 "nbformat_minor": 5
}
