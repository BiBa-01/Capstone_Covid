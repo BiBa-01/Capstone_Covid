{
 "cells": [
  {
   "cell_type": "markdown",
   "id": "statutory-linux",
   "metadata": {},
   "source": [
    "# Vaccination Tweets: EDA, Sentiment Analyis\n",
    "\n",
    "Agenda:\n",
    "+ Frequency\n",
    "    + most frequent words in tweets\n",
    "    + look at most popular hashtags (in 'text' and in 'hashtags')\n",
    "    + what is the most tweeted-about vaccine?\n",
    "+ Time\n",
    "    + Which vaccine \"trends\" in tweets? (time series)\n",
    "    + Do different vaccines trend at different times as tweet subjects?\n",
    "\n",
    "+ Sentiment\n",
    "    + vaccine most closely connected to negative/positive sentiment\n",
    "    + most influential sources who tweet positive/negative/neutral about vaccines in general\n",
    "    + locations (uncleared) with the most positive, negative, neutral tweets\n",
    "    + Positive, negative, neutral: which gets more retweets / are liked more?\n",
    "\n",
    "(Measuring general attitude via tweets: how many people tweet by population, how many by population tweet about vaccines, how well are vaccinations monitored)"
   ]
  },
  {
   "cell_type": "markdown",
   "id": "dress-balance",
   "metadata": {},
   "source": [
    "+ id:\n",
    "+ user_name:\n",
    "+ user_location: entered by user\n",
    "+ user_description: entered by user\n",
    "+ user_created: date of when the account was opened\n",
    "+ user_followers: number of users which follow a specified user\n",
    "+ user_friends: number of users which a specified user follows\n",
    "+ user_favourites: \n",
    "+ user_verified: accounts of officially recognized organizations, users with many followers\n",
    "+ date: date of tweet\n",
    "+ text: text of the tweet\n",
    "+ hashtags: hashtags user in the tweet\n",
    "+ source: \n",
    "+ retweets: number of retweets\n",
    "+ favorites:\n",
    "+ is_retweet: whether the tweets is a retweet or not\n",
    "\n",
    "Added:\n",
    "+ day: "
   ]
  },
  {
   "cell_type": "code",
   "execution_count": 66,
   "id": "resistant-antique",
   "metadata": {},
   "outputs": [
    {
     "data": {
      "text/plain": [
       "Index(['id', 'user_name', 'user_location', 'user_description', 'user_created',\n",
       "       'user_followers', 'user_friends', 'user_favourites', 'user_verified',\n",
       "       'date', 'text', 'hashtags', 'source', 'retweets', 'favorites',\n",
       "       'is_retweet'],\n",
       "      dtype='object')"
      ]
     },
     "execution_count": 66,
     "metadata": {},
     "output_type": "execute_result"
    }
   ],
   "source": [
    "df_tweety.columns"
   ]
  },
  {
   "cell_type": "code",
   "execution_count": 104,
   "id": "addressed-wrong",
   "metadata": {},
   "outputs": [],
   "source": [
    "# Main data packages. \n",
    "import numpy as np\n",
    "import pandas as pd\n",
    "from datetime import datetime\n",
    "\n",
    "import pickle\n",
    "\n",
    "#text processing, NLP modules\n",
    "import re\n",
    "import string\n",
    "import nltk\n",
    "from nltk.corpus import stopwords\n",
    "from nltk.stem.porter import *\n",
    "from nltk.stem import WordNetLemmatizer\n",
    "from nltk.tokenize import word_tokenize\n",
    "\n",
    "#sentiment analysis\n",
    "from nltk.sentiment import SentimentIntensityAnalyzer\n",
    "from sklearn.feature_extraction.text import CountVectorizer\n",
    "#plotting\n",
    "import seaborn as sns\n",
    "import matplotlib.pyplot as plt\n",
    "\n",
    "import plotly.express as px\n",
    "\n",
    "import warnings\n",
    "warnings.filterwarnings('ignore')"
   ]
  },
  {
   "cell_type": "code",
   "execution_count": 15,
   "id": "legal-colonial",
   "metadata": {},
   "outputs": [],
   "source": [
    "#nltk.download('punkt')\n",
    "#nltk.download('wordnet')"
   ]
  },
  {
   "cell_type": "code",
   "execution_count": 162,
   "id": "viral-situation",
   "metadata": {},
   "outputs": [],
   "source": [
    "df = pd.read_csv(\"Data/vaccination_tweets.csv\")"
   ]
  },
  {
   "cell_type": "code",
   "execution_count": 163,
   "id": "measured-serbia",
   "metadata": {},
   "outputs": [],
   "source": [
    "df_tweety = df.copy()"
   ]
  },
  {
   "cell_type": "code",
   "execution_count": 164,
   "id": "married-abortion",
   "metadata": {},
   "outputs": [
    {
     "name": "stdout",
     "output_type": "stream",
     "text": [
      "The unmodified vaccination tweets dataset contains 16 columns and 38547 rows.\n"
     ]
    }
   ],
   "source": [
    "shape = df_tweety.shape\n",
    "print('The unmodified vaccination tweets dataset contains {} columns and {} rows.'.format(shape[1], shape[0]))"
   ]
  },
  {
   "cell_type": "code",
   "execution_count": 165,
   "id": "partial-connectivity",
   "metadata": {},
   "outputs": [],
   "source": [
    "#df_tweety.head()"
   ]
  },
  {
   "cell_type": "code",
   "execution_count": 166,
   "id": "criminal-affairs",
   "metadata": {},
   "outputs": [
    {
     "name": "stdout",
     "output_type": "stream",
     "text": [
      "<class 'pandas.core.frame.DataFrame'>\n",
      "RangeIndex: 38547 entries, 0 to 38546\n",
      "Data columns (total 16 columns):\n",
      " #   Column            Non-Null Count  Dtype \n",
      "---  ------            --------------  ----- \n",
      " 0   id                38547 non-null  int64 \n",
      " 1   user_name         38547 non-null  object\n",
      " 2   user_location     29767 non-null  object\n",
      " 3   user_description  35940 non-null  object\n",
      " 4   user_created      38547 non-null  object\n",
      " 5   user_followers    38547 non-null  int64 \n",
      " 6   user_friends      38547 non-null  int64 \n",
      " 7   user_favourites   38547 non-null  int64 \n",
      " 8   user_verified     38547 non-null  bool  \n",
      " 9   date              38547 non-null  object\n",
      " 10  text              38547 non-null  object\n",
      " 11  hashtags          30330 non-null  object\n",
      " 12  source            38514 non-null  object\n",
      " 13  retweets          38547 non-null  int64 \n",
      " 14  favorites         38547 non-null  int64 \n",
      " 15  is_retweet        38547 non-null  bool  \n",
      "dtypes: bool(2), int64(6), object(8)\n",
      "memory usage: 4.2+ MB\n"
     ]
    }
   ],
   "source": [
    "df_tweety.info()"
   ]
  },
  {
   "cell_type": "code",
   "execution_count": 167,
   "id": "secret-halloween",
   "metadata": {},
   "outputs": [
    {
     "data": {
      "text/html": [
       "<div>\n",
       "<style scoped>\n",
       "    .dataframe tbody tr th:only-of-type {\n",
       "        vertical-align: middle;\n",
       "    }\n",
       "\n",
       "    .dataframe tbody tr th {\n",
       "        vertical-align: top;\n",
       "    }\n",
       "\n",
       "    .dataframe thead th {\n",
       "        text-align: right;\n",
       "    }\n",
       "</style>\n",
       "<table border=\"1\" class=\"dataframe\">\n",
       "  <thead>\n",
       "    <tr style=\"text-align: right;\">\n",
       "      <th></th>\n",
       "      <th>id</th>\n",
       "      <th>user_followers</th>\n",
       "      <th>user_friends</th>\n",
       "      <th>user_favourites</th>\n",
       "      <th>retweets</th>\n",
       "      <th>favorites</th>\n",
       "    </tr>\n",
       "  </thead>\n",
       "  <tbody>\n",
       "    <tr>\n",
       "      <th>count</th>\n",
       "      <td>3.854700e+04</td>\n",
       "      <td>38547.00</td>\n",
       "      <td>38547.00</td>\n",
       "      <td>38547.00</td>\n",
       "      <td>38547.00</td>\n",
       "      <td>38547.00</td>\n",
       "    </tr>\n",
       "    <tr>\n",
       "      <th>mean</th>\n",
       "      <td>1.365051e+18</td>\n",
       "      <td>109675.74</td>\n",
       "      <td>1309.57</td>\n",
       "      <td>15013.42</td>\n",
       "      <td>3.11</td>\n",
       "      <td>13.75</td>\n",
       "    </tr>\n",
       "    <tr>\n",
       "      <th>std</th>\n",
       "      <td>8.619936e+15</td>\n",
       "      <td>882398.75</td>\n",
       "      <td>6020.04</td>\n",
       "      <td>41677.98</td>\n",
       "      <td>33.87</td>\n",
       "      <td>184.20</td>\n",
       "    </tr>\n",
       "    <tr>\n",
       "      <th>min</th>\n",
       "      <td>1.337728e+18</td>\n",
       "      <td>0.00</td>\n",
       "      <td>0.00</td>\n",
       "      <td>0.00</td>\n",
       "      <td>0.00</td>\n",
       "      <td>0.00</td>\n",
       "    </tr>\n",
       "    <tr>\n",
       "      <th>25%</th>\n",
       "      <td>1.362003e+18</td>\n",
       "      <td>120.00</td>\n",
       "      <td>144.00</td>\n",
       "      <td>360.00</td>\n",
       "      <td>0.00</td>\n",
       "      <td>0.00</td>\n",
       "    </tr>\n",
       "    <tr>\n",
       "      <th>50%</th>\n",
       "      <td>1.366887e+18</td>\n",
       "      <td>577.00</td>\n",
       "      <td>417.00</td>\n",
       "      <td>2146.00</td>\n",
       "      <td>0.00</td>\n",
       "      <td>1.00</td>\n",
       "    </tr>\n",
       "    <tr>\n",
       "      <th>75%</th>\n",
       "      <td>1.371547e+18</td>\n",
       "      <td>2780.50</td>\n",
       "      <td>1189.00</td>\n",
       "      <td>11272.00</td>\n",
       "      <td>1.00</td>\n",
       "      <td>4.00</td>\n",
       "    </tr>\n",
       "    <tr>\n",
       "      <th>max</th>\n",
       "      <td>1.375348e+18</td>\n",
       "      <td>14906907.00</td>\n",
       "      <td>380428.00</td>\n",
       "      <td>1205878.00</td>\n",
       "      <td>2360.00</td>\n",
       "      <td>22815.00</td>\n",
       "    </tr>\n",
       "  </tbody>\n",
       "</table>\n",
       "</div>"
      ],
      "text/plain": [
       "                 id  user_followers  user_friends  user_favourites  retweets  \\\n",
       "count  3.854700e+04        38547.00      38547.00         38547.00  38547.00   \n",
       "mean   1.365051e+18       109675.74       1309.57         15013.42      3.11   \n",
       "std    8.619936e+15       882398.75       6020.04         41677.98     33.87   \n",
       "min    1.337728e+18            0.00          0.00             0.00      0.00   \n",
       "25%    1.362003e+18          120.00        144.00           360.00      0.00   \n",
       "50%    1.366887e+18          577.00        417.00          2146.00      0.00   \n",
       "75%    1.371547e+18         2780.50       1189.00         11272.00      1.00   \n",
       "max    1.375348e+18     14906907.00     380428.00       1205878.00   2360.00   \n",
       "\n",
       "       favorites  \n",
       "count   38547.00  \n",
       "mean       13.75  \n",
       "std       184.20  \n",
       "min         0.00  \n",
       "25%         0.00  \n",
       "50%         1.00  \n",
       "75%         4.00  \n",
       "max     22815.00  "
      ]
     },
     "execution_count": 167,
     "metadata": {},
     "output_type": "execute_result"
    }
   ],
   "source": [
    "df_tweety.describe().round(2)"
   ]
  },
  {
   "cell_type": "code",
   "execution_count": 168,
   "id": "administrative-quest",
   "metadata": {},
   "outputs": [
    {
     "data": {
      "text/plain": [
       "id                     0\n",
       "user_name              0\n",
       "user_location       8780\n",
       "user_description    2607\n",
       "user_created           0\n",
       "user_followers         0\n",
       "user_friends           0\n",
       "user_favourites        0\n",
       "user_verified          0\n",
       "date                   0\n",
       "text                   0\n",
       "hashtags            8217\n",
       "source                33\n",
       "retweets               0\n",
       "favorites              0\n",
       "is_retweet             0\n",
       "dtype: int64"
      ]
     },
     "execution_count": 168,
     "metadata": {},
     "output_type": "execute_result"
    }
   ],
   "source": [
    "df_tweety.isnull().sum()"
   ]
  },
  {
   "cell_type": "code",
   "execution_count": 169,
   "id": "current-confidentiality",
   "metadata": {},
   "outputs": [
    {
     "data": {
      "image/png": "[encoded data removed]",
      "text/plain": [
       "<Figure size 432x288 with 1 Axes>"
      ]
     },
     "metadata": {},
     "output_type": "display_data"
    },
    {
     "name": "stdout",
     "output_type": "stream",
     "text": [
      "From 38547 accounts, 11.37% are verified twitter accounts.\n"
     ]
    }
   ],
   "source": [
    "sns.set_theme()\n",
    "sns.set_palette('muted')\n",
    "#Print users (verified/unverified), \"verified\" meaning that they are recognized to have some sort of official character\n",
    "ax = sns.countplot(x='user_verified', data=df_tweety)\n",
    "ax.set(xlabel='', ylabel='number of users', title='number of verified and unverified users')\n",
    "plt.xticks(ticks=[False,True], labels=['unverified','verified'])\n",
    "plt.show()\n",
    "print(f'From {df_tweety.shape[0]} accounts, {round(df_tweety.user_verified.mean()*100, 2)}% are verified twitter accounts.')"
   ]
  },
  {
   "cell_type": "code",
   "execution_count": 170,
   "id": "durable-vision",
   "metadata": {},
   "outputs": [
    {
     "data": {
      "text/plain": [
       "array([False])"
      ]
     },
     "execution_count": 170,
     "metadata": {},
     "output_type": "execute_result"
    }
   ],
   "source": [
    "#No tweets in this dataset appear to be retweets\n",
    "df_tweety[\"is_retweet\"].unique()"
   ]
  },
  {
   "cell_type": "code",
   "execution_count": 171,
   "id": "verified-shark",
   "metadata": {},
   "outputs": [],
   "source": [
    "#Insert column 'day' to map the vaccination progress data set\n",
    "df_tweety['day'] = pd.to_datetime(df_tweety.date).dt.date"
   ]
  },
  {
   "cell_type": "code",
   "execution_count": 172,
   "id": "serious-palestinian",
   "metadata": {},
   "outputs": [
    {
     "data": {
      "text/plain": [
       "id                   int64\n",
       "user_name           object\n",
       "user_location       object\n",
       "user_description    object\n",
       "user_created        object\n",
       "user_followers       int64\n",
       "user_friends         int64\n",
       "user_favourites      int64\n",
       "user_verified         bool\n",
       "date                object\n",
       "text                object\n",
       "hashtags            object\n",
       "source              object\n",
       "retweets             int64\n",
       "favorites            int64\n",
       "is_retweet            bool\n",
       "day                 object\n",
       "dtype: object"
      ]
     },
     "execution_count": 172,
     "metadata": {},
     "output_type": "execute_result"
    }
   ],
   "source": [
    "df_tweety.dtypes"
   ]
  },
  {
   "cell_type": "markdown",
   "id": "sixth-fever",
   "metadata": {},
   "source": [
    "## Dropping stuff(?)"
   ]
  },
  {
   "cell_type": "code",
   "execution_count": 173,
   "id": "distributed-cement",
   "metadata": {},
   "outputs": [
    {
     "data": {
      "text/plain": [
       "8098"
      ]
     },
     "execution_count": 173,
     "metadata": {},
     "output_type": "execute_result"
    }
   ],
   "source": [
    "#'user_location' is a highly diverse category\n",
    "df_tweety.user_location.nunique()"
   ]
  },
  {
   "cell_type": "code",
   "execution_count": 174,
   "id": "unexpected-rebate",
   "metadata": {},
   "outputs": [
    {
     "data": {
      "text/html": [
       "<div>\n",
       "<style scoped>\n",
       "    .dataframe tbody tr th:only-of-type {\n",
       "        vertical-align: middle;\n",
       "    }\n",
       "\n",
       "    .dataframe tbody tr th {\n",
       "        vertical-align: top;\n",
       "    }\n",
       "\n",
       "    .dataframe thead th {\n",
       "        text-align: right;\n",
       "    }\n",
       "</style>\n",
       "<table border=\"1\" class=\"dataframe\">\n",
       "  <thead>\n",
       "    <tr style=\"text-align: right;\">\n",
       "      <th></th>\n",
       "      <th>user_name</th>\n",
       "      <th>user_description</th>\n",
       "      <th>user_followers</th>\n",
       "      <th>user_friends</th>\n",
       "      <th>user_favourites</th>\n",
       "      <th>user_verified</th>\n",
       "      <th>date</th>\n",
       "      <th>text</th>\n",
       "      <th>hashtags</th>\n",
       "      <th>retweets</th>\n",
       "      <th>favorites</th>\n",
       "      <th>day</th>\n",
       "    </tr>\n",
       "  </thead>\n",
       "  <tbody>\n",
       "    <tr>\n",
       "      <th>0</th>\n",
       "      <td>Rachel Roh</td>\n",
       "      <td>Aggregator of Asian American news; scanning di...</td>\n",
       "      <td>405</td>\n",
       "      <td>1692</td>\n",
       "      <td>3247</td>\n",
       "      <td>False</td>\n",
       "      <td>2020-12-20 06:06:44</td>\n",
       "      <td>Same folks said daikon paste could treat a cyt...</td>\n",
       "      <td>['PfizerBioNTech']</td>\n",
       "      <td>0</td>\n",
       "      <td>0</td>\n",
       "      <td>2020-12-20</td>\n",
       "    </tr>\n",
       "    <tr>\n",
       "      <th>1</th>\n",
       "      <td>Albert Fong</td>\n",
       "      <td>Marketing dude, tech geek, heavy metal &amp; '80s ...</td>\n",
       "      <td>834</td>\n",
       "      <td>666</td>\n",
       "      <td>178</td>\n",
       "      <td>False</td>\n",
       "      <td>2020-12-13 16:27:13</td>\n",
       "      <td>While the world has been on the wrong side of ...</td>\n",
       "      <td>NaN</td>\n",
       "      <td>1</td>\n",
       "      <td>1</td>\n",
       "      <td>2020-12-13</td>\n",
       "    </tr>\n",
       "    <tr>\n",
       "      <th>2</th>\n",
       "      <td>eli🇱🇹🇪🇺👌</td>\n",
       "      <td>heil, hydra 🖐☺</td>\n",
       "      <td>10</td>\n",
       "      <td>88</td>\n",
       "      <td>155</td>\n",
       "      <td>False</td>\n",
       "      <td>2020-12-12 20:33:45</td>\n",
       "      <td>#coronavirus #SputnikV #AstraZeneca #PfizerBio...</td>\n",
       "      <td>['coronavirus', 'SputnikV', 'AstraZeneca', 'Pf...</td>\n",
       "      <td>0</td>\n",
       "      <td>0</td>\n",
       "      <td>2020-12-12</td>\n",
       "    </tr>\n",
       "    <tr>\n",
       "      <th>3</th>\n",
       "      <td>Charles Adler</td>\n",
       "      <td>Hosting \"CharlesAdlerTonight\" Global News Radi...</td>\n",
       "      <td>49165</td>\n",
       "      <td>3933</td>\n",
       "      <td>21853</td>\n",
       "      <td>True</td>\n",
       "      <td>2020-12-12 20:23:59</td>\n",
       "      <td>Facts are immutable, Senator, even when you're...</td>\n",
       "      <td>NaN</td>\n",
       "      <td>446</td>\n",
       "      <td>2129</td>\n",
       "      <td>2020-12-12</td>\n",
       "    </tr>\n",
       "    <tr>\n",
       "      <th>4</th>\n",
       "      <td>Citizen News Channel</td>\n",
       "      <td>Citizen News Channel bringing you an alternati...</td>\n",
       "      <td>152</td>\n",
       "      <td>580</td>\n",
       "      <td>1473</td>\n",
       "      <td>False</td>\n",
       "      <td>2020-12-12 20:17:19</td>\n",
       "      <td>Explain to me again why we need a vaccine @Bor...</td>\n",
       "      <td>['whereareallthesickpeople', 'PfizerBioNTech']</td>\n",
       "      <td>0</td>\n",
       "      <td>0</td>\n",
       "      <td>2020-12-12</td>\n",
       "    </tr>\n",
       "    <tr>\n",
       "      <th>...</th>\n",
       "      <td>...</td>\n",
       "      <td>...</td>\n",
       "      <td>...</td>\n",
       "      <td>...</td>\n",
       "      <td>...</td>\n",
       "      <td>...</td>\n",
       "      <td>...</td>\n",
       "      <td>...</td>\n",
       "      <td>...</td>\n",
       "      <td>...</td>\n",
       "      <td>...</td>\n",
       "      <td>...</td>\n",
       "    </tr>\n",
       "    <tr>\n",
       "      <th>38542</th>\n",
       "      <td>Rising Bharat</td>\n",
       "      <td>Bharat is Rising</td>\n",
       "      <td>625</td>\n",
       "      <td>0</td>\n",
       "      <td>0</td>\n",
       "      <td>False</td>\n",
       "      <td>2021-03-18 06:22:41</td>\n",
       "      <td>The Sputnik V is under review for emergency us...</td>\n",
       "      <td>NaN</td>\n",
       "      <td>1</td>\n",
       "      <td>7</td>\n",
       "      <td>2021-03-18</td>\n",
       "    </tr>\n",
       "    <tr>\n",
       "      <th>38543</th>\n",
       "      <td>Bright Uzbekistan</td>\n",
       "      <td>Bright Uzbekistan is a new International magaz...</td>\n",
       "      <td>18</td>\n",
       "      <td>182</td>\n",
       "      <td>59</td>\n",
       "      <td>False</td>\n",
       "      <td>2021-03-18 06:13:08</td>\n",
       "      <td>IT IS PLANNED TO START MASS VACCINATION IN UZB...</td>\n",
       "      <td>NaN</td>\n",
       "      <td>0</td>\n",
       "      <td>0</td>\n",
       "      <td>2021-03-18</td>\n",
       "    </tr>\n",
       "    <tr>\n",
       "      <th>38544</th>\n",
       "      <td>Sputnik V</td>\n",
       "      <td>Sputnik V is the world’s first registered COVI...</td>\n",
       "      <td>223700</td>\n",
       "      <td>142</td>\n",
       "      <td>678</td>\n",
       "      <td>True</td>\n",
       "      <td>2021-03-18 06:01:50</td>\n",
       "      <td>Austrian Chancellor Sebastian Kurz: Concerning...</td>\n",
       "      <td>['SputnikV']</td>\n",
       "      <td>83</td>\n",
       "      <td>226</td>\n",
       "      <td>2021-03-18</td>\n",
       "    </tr>\n",
       "    <tr>\n",
       "      <th>38545</th>\n",
       "      <td>Sputnik</td>\n",
       "      <td>Sputnik is a global wire, radio and digital ne...</td>\n",
       "      <td>322326</td>\n",
       "      <td>306</td>\n",
       "      <td>24</td>\n",
       "      <td>True</td>\n",
       "      <td>2021-03-18 05:30:00</td>\n",
       "      <td>Norwegian politicians calling to cut #SputnikV...</td>\n",
       "      <td>['SputnikV']</td>\n",
       "      <td>6</td>\n",
       "      <td>16</td>\n",
       "      <td>2021-03-18</td>\n",
       "    </tr>\n",
       "    <tr>\n",
       "      <th>38546</th>\n",
       "      <td>Nisarg Soni</td>\n",
       "      <td>Tax Planner | Financial Advisor  | Accountant ...</td>\n",
       "      <td>93</td>\n",
       "      <td>1</td>\n",
       "      <td>5187</td>\n",
       "      <td>False</td>\n",
       "      <td>2021-03-18 05:20:44</td>\n",
       "      <td>#COVID19 :\\n\\n*#India emerges global manufactu...</td>\n",
       "      <td>['COVID19', 'India']</td>\n",
       "      <td>1</td>\n",
       "      <td>1</td>\n",
       "      <td>2021-03-18</td>\n",
       "    </tr>\n",
       "  </tbody>\n",
       "</table>\n",
       "<p>38547 rows × 12 columns</p>\n",
       "</div>"
      ],
      "text/plain": [
       "                  user_name  \\\n",
       "0                Rachel Roh   \n",
       "1               Albert Fong   \n",
       "2                  eli🇱🇹🇪🇺👌   \n",
       "3             Charles Adler   \n",
       "4      Citizen News Channel   \n",
       "...                     ...   \n",
       "38542         Rising Bharat   \n",
       "38543     Bright Uzbekistan   \n",
       "38544             Sputnik V   \n",
       "38545               Sputnik   \n",
       "38546           Nisarg Soni   \n",
       "\n",
       "                                        user_description  user_followers  \\\n",
       "0      Aggregator of Asian American news; scanning di...             405   \n",
       "1      Marketing dude, tech geek, heavy metal & '80s ...             834   \n",
       "2                                         heil, hydra 🖐☺              10   \n",
       "3      Hosting \"CharlesAdlerTonight\" Global News Radi...           49165   \n",
       "4      Citizen News Channel bringing you an alternati...             152   \n",
       "...                                                  ...             ...   \n",
       "38542                                   Bharat is Rising             625   \n",
       "38543  Bright Uzbekistan is a new International magaz...              18   \n",
       "38544  Sputnik V is the world’s first registered COVI...          223700   \n",
       "38545  Sputnik is a global wire, radio and digital ne...          322326   \n",
       "38546  Tax Planner | Financial Advisor  | Accountant ...              93   \n",
       "\n",
       "       user_friends  user_favourites  user_verified                 date  \\\n",
       "0              1692             3247          False  2020-12-20 06:06:44   \n",
       "1               666              178          False  2020-12-13 16:27:13   \n",
       "2                88              155          False  2020-12-12 20:33:45   \n",
       "3              3933            21853           True  2020-12-12 20:23:59   \n",
       "4               580             1473          False  2020-12-12 20:17:19   \n",
       "...             ...              ...            ...                  ...   \n",
       "38542             0                0          False  2021-03-18 06:22:41   \n",
       "38543           182               59          False  2021-03-18 06:13:08   \n",
       "38544           142              678           True  2021-03-18 06:01:50   \n",
       "38545           306               24           True  2021-03-18 05:30:00   \n",
       "38546             1             5187          False  2021-03-18 05:20:44   \n",
       "\n",
       "                                                    text  \\\n",
       "0      Same folks said daikon paste could treat a cyt...   \n",
       "1      While the world has been on the wrong side of ...   \n",
       "2      #coronavirus #SputnikV #AstraZeneca #PfizerBio...   \n",
       "3      Facts are immutable, Senator, even when you're...   \n",
       "4      Explain to me again why we need a vaccine @Bor...   \n",
       "...                                                  ...   \n",
       "38542  The Sputnik V is under review for emergency us...   \n",
       "38543  IT IS PLANNED TO START MASS VACCINATION IN UZB...   \n",
       "38544  Austrian Chancellor Sebastian Kurz: Concerning...   \n",
       "38545  Norwegian politicians calling to cut #SputnikV...   \n",
       "38546  #COVID19 :\\n\\n*#India emerges global manufactu...   \n",
       "\n",
       "                                                hashtags  retweets  favorites  \\\n",
       "0                                     ['PfizerBioNTech']         0          0   \n",
       "1                                                    NaN         1          1   \n",
       "2      ['coronavirus', 'SputnikV', 'AstraZeneca', 'Pf...         0          0   \n",
       "3                                                    NaN       446       2129   \n",
       "4         ['whereareallthesickpeople', 'PfizerBioNTech']         0          0   \n",
       "...                                                  ...       ...        ...   \n",
       "38542                                                NaN         1          7   \n",
       "38543                                                NaN         0          0   \n",
       "38544                                       ['SputnikV']        83        226   \n",
       "38545                                       ['SputnikV']         6         16   \n",
       "38546                               ['COVID19', 'India']         1          1   \n",
       "\n",
       "              day  \n",
       "0      2020-12-20  \n",
       "1      2020-12-13  \n",
       "2      2020-12-12  \n",
       "3      2020-12-12  \n",
       "4      2020-12-12  \n",
       "...           ...  \n",
       "38542  2021-03-18  \n",
       "38543  2021-03-18  \n",
       "38544  2021-03-18  \n",
       "38545  2021-03-18  \n",
       "38546  2021-03-18  \n",
       "\n",
       "[38547 rows x 12 columns]"
      ]
     },
     "execution_count": 174,
     "metadata": {},
     "output_type": "execute_result"
    }
   ],
   "source": [
    "#The below mentioned columns should be dropped\n",
    "df_tweety.drop(['id', 'user_created', 'user_location', 'is_retweet', 'source'], axis=1)"
   ]
  },
  {
   "cell_type": "code",
   "execution_count": 175,
   "id": "synthetic-monthly",
   "metadata": {},
   "outputs": [],
   "source": [
    "#There are duplicates in the text section, however, they ... check if source identical, there are no retweets, maybe duplicates should be removed in order to prevent imbalance\n",
    "#df_tweety[(df_tweety.duplicated(subset=['text', 'user_name'], keep=False))]"
   ]
  },
  {
   "cell_type": "code",
   "execution_count": 176,
   "id": "suffering-syndication",
   "metadata": {},
   "outputs": [],
   "source": [
    "#create dataframes for subcategories\n",
    "#df = df_tweety[(df_tweety[\"user_followers\"]>=10)]# & (df_tweety[\"user_verified\"]==True)] (df_tweety[\"user_followers\"]>=10)"
   ]
  },
  {
   "cell_type": "code",
   "execution_count": 177,
   "id": "legislative-dublin",
   "metadata": {},
   "outputs": [
    {
     "data": {
      "text/plain": [
       "0.4389187225983864"
      ]
     },
     "execution_count": 177,
     "metadata": {},
     "output_type": "execute_result"
    }
   ],
   "source": [
    "# Users tweet repeptitively. About a third of users tweet repetitively. Assuming that their sentiment does not change, their sentiment is amplified.\n",
    "(len(df_tweety) - df_tweety.user_name.nunique())/len(df_tweety)"
   ]
  },
  {
   "cell_type": "code",
   "execution_count": 178,
   "id": "heated-reservoir",
   "metadata": {},
   "outputs": [
    {
     "data": {
      "image/png": "[encoded data removed]",
      "text/plain": [
       "<Figure size 720x864 with 1 Axes>"
      ]
     },
     "metadata": {},
     "output_type": "display_data"
    }
   ],
   "source": [
    "#user_location columns is very diverse\n",
    "plt.figure(figsize=(10,12))\n",
    "sns.barplot(df_tweety[\"user_location\"].value_counts().values[0:20],\n",
    "            df_tweety[\"user_location\"].value_counts().index[0:20]);\n",
    "plt.title(\"Tweets from Location\",fontsize=14)\n",
    "plt.xlabel(\"Number of tweets\",fontsize=14)\n",
    "plt.ylabel(\"Location\",fontsize=14)\n",
    "plt.show()"
   ]
  },
  {
   "cell_type": "markdown",
   "id": "handmade-patch",
   "metadata": {},
   "source": [
    "# Frequent words and hashtags"
   ]
  },
  {
   "cell_type": "markdown",
   "id": "supposed-unknown",
   "metadata": {},
   "source": [
    "### A look at the most popular tweets"
   ]
  },
  {
   "cell_type": "code",
   "execution_count": 179,
   "id": "exempt-leader",
   "metadata": {},
   "outputs": [
    {
     "name": "stdout",
     "output_type": "stream",
     "text": [
      "Total tweets: 38547 \n",
      "\n",
      "Mean retweets: 3.11 \n",
      "\n",
      "10 most responded tweets\n",
      "------------------------\n"
     ]
    },
    {
     "data": {
      "text/plain": [
       "17118    Got my jab. For the curious, it was #Covaxin. ...\n",
       "7126     New research published in Microbiology &amp; I...\n",
       "24268    #Covaxin 🇮🇳 , made by Hyderabad-based Bharat B...\n",
       "17543    Prime Minister Narendra Modi choose early morn...\n",
       "38478    A batch of fake Sputnik V vaccines was confisc...\n",
       "23715    This is not a queue for a Covid vaccine\\nThis ...\n",
       "20926    #BREAKING : Bharat Biotech says its #Covaxin s...\n",
       "20536    It is tough when have to play the sauve Amrika...\n",
       "13101    AIIMS nurse who gave the #Covaxin jab to Prime...\n",
       "21527    The Opposition campaign to denigrate #Covaxin ...\n",
       "Name: text, dtype: object"
      ]
     },
     "execution_count": 179,
     "metadata": {},
     "output_type": "execute_result"
    }
   ],
   "source": [
    "# Total tweets\n",
    "print('Total tweets:', len(df_tweety.index), '\\n')\n",
    "\n",
    "# Retweets\n",
    "df_tweety_stat1 = df.sort_values(by='retweets', ascending=False)\n",
    "print('Mean retweets:', round(df_tweety_stat['retweets'].mean(),2), '\\n')\n",
    "\n",
    "print('10 most responded tweets')\n",
    "print('------------------------')\n",
    "df_tweety_stat1['text'].iloc[:10]"
   ]
  },
  {
   "cell_type": "code",
   "execution_count": 180,
   "id": "entitled-sleep",
   "metadata": {},
   "outputs": [
    {
     "name": "stdout",
     "output_type": "stream",
     "text": [
      "Mean likes: 15013.42 \n",
      "\n",
      "10 most liked tweets\n",
      "--------------------\n"
     ]
    },
    {
     "data": {
      "text/plain": [
       "10085    Profitti vaccinali #pfizer #moderna Insiders a...\n",
       "32016    I just got my second #PfizerBiontech shot.  La...\n",
       "31940    @thomaskaine5 I took the first available which...\n",
       "32008    @pennyparker0523 @FLOTUS Fot #PfizerBioNtech s...\n",
       "31965    Just for those curious:\\n1st #PfizerBiontech a...\n",
       "215      @jeremysale @nytimes Apparently the trucks are...\n",
       "34383    .@zoemevorah Congrats on getting your vaccine ...\n",
       "34106    First dose of #Moderna done!!!! #Mahalo #Longs...\n",
       "31223    28 hrs post 2nd #moderna dose. Had a bad night...\n",
       "30012    Received my 2nd #moderna vaccine today! @UNLV ...\n",
       "Name: text, dtype: object"
      ]
     },
     "execution_count": 180,
     "metadata": {},
     "output_type": "execute_result"
    }
   ],
   "source": [
    "   \n",
    "# Likes\n",
    "df_tweety_stat2 = df.sort_values(by='user_favourites', ascending=False)\n",
    "print('Mean likes:', round(df_tweety_stat2['user_favourites'].mean(),2), '\\n')\n",
    "print('10 most liked tweets')\n",
    "print('--------------------')\n",
    "df_tweety_stat2['text'].iloc[:10]"
   ]
  },
  {
   "cell_type": "markdown",
   "id": "judicial-bench",
   "metadata": {},
   "source": [
    "import requests\n",
    "furl = 'https://spotleai.sgp1.digitaloceanspaces.com/course/data/tweets_bollywood.txt'\n",
    "response = requests.get(furl)\n",
    "tweets = response.text.split(\"\\n\")\n",
    "\n",
    "raw = ' '.join(tweets)\n",
    "tags = [re.sub(r\"(\\W+)$\", \"\", j) for j in [i for i in raw.split() if i.startswith(\"#\")]]\n",
    "df_top = pd.DataFrame({\"hashtag\": tags})\n",
    "fig, ax = plt.subplots()\n",
    "plt.xlabel('Top trending Tweets')\n",
    "df_top['hashtag'].value_counts().head(8).plot(ax=ax, kind='bar',figsize=(8,5))"
   ]
  },
  {
   "cell_type": "markdown",
   "id": "quiet-alignment",
   "metadata": {},
   "source": [
    "### Most mentioned words in 'text'"
   ]
  },
  {
   "cell_type": "code",
   "execution_count": 181,
   "id": "practical-scope",
   "metadata": {},
   "outputs": [],
   "source": [
    "#remove stopwords\n",
    "stopwords = nltk.corpus.stopwords.words('english') + ['i', 'the', 'get', '-', 'one']\n",
    "df_tweety.text = df_tweety.text.apply(lambda x:' '.join([word for word in x.split() if word not in stopwords]))"
   ]
  },
  {
   "cell_type": "code",
   "execution_count": 182,
   "id": "engaging-ghost",
   "metadata": {},
   "outputs": [],
   "source": [
    "tweet_words = []\n",
    "for line in list(df_tweety['text']):\n",
    "    words = line.split()\n",
    "    for word in words:\n",
    "        tweet_words.append(word.lower())\n",
    "tweet_words=pd.Series(np.array(tweet_words))\n",
    "frequency_ranking_words = tweet_words.value_counts()[:11].rename_axis('words_text_freq').reset_index(name='count')\n",
    "#frequency_ranking_words"
   ]
  },
  {
   "cell_type": "markdown",
   "id": "grateful-strap",
   "metadata": {},
   "source": [
    "### Most frequent hashtags in 'text'"
   ]
  },
  {
   "cell_type": "code",
   "execution_count": 185,
   "id": "packed-removal",
   "metadata": {},
   "outputs": [
    {
     "data": {
      "text/html": [
       "<div>\n",
       "<style scoped>\n",
       "    .dataframe tbody tr th:only-of-type {\n",
       "        vertical-align: middle;\n",
       "    }\n",
       "\n",
       "    .dataframe tbody tr th {\n",
       "        vertical-align: top;\n",
       "    }\n",
       "\n",
       "    .dataframe thead th {\n",
       "        text-align: right;\n",
       "    }\n",
       "</style>\n",
       "<table border=\"1\" class=\"dataframe\">\n",
       "  <thead>\n",
       "    <tr style=\"text-align: right;\">\n",
       "      <th></th>\n",
       "      <th>text_hasht_freq</th>\n",
       "      <th>count</th>\n",
       "    </tr>\n",
       "  </thead>\n",
       "  <tbody>\n",
       "    <tr>\n",
       "      <th>0</th>\n",
       "      <td>#Moderna</td>\n",
       "      <td>4980</td>\n",
       "    </tr>\n",
       "    <tr>\n",
       "      <th>1</th>\n",
       "      <td>#COVID19</td>\n",
       "      <td>3411</td>\n",
       "    </tr>\n",
       "    <tr>\n",
       "      <th>2</th>\n",
       "      <td>#Covaxin</td>\n",
       "      <td>3122</td>\n",
       "    </tr>\n",
       "    <tr>\n",
       "      <th>3</th>\n",
       "      <td>#PfizerBioNTech</td>\n",
       "      <td>2896</td>\n",
       "    </tr>\n",
       "    <tr>\n",
       "      <th>4</th>\n",
       "      <td>#SputnikV</td>\n",
       "      <td>2774</td>\n",
       "    </tr>\n",
       "    <tr>\n",
       "      <th>5</th>\n",
       "      <td>#vaccine</td>\n",
       "      <td>2622</td>\n",
       "    </tr>\n",
       "    <tr>\n",
       "      <th>6</th>\n",
       "      <td>#Sinopharm</td>\n",
       "      <td>1255</td>\n",
       "    </tr>\n",
       "    <tr>\n",
       "      <th>7</th>\n",
       "      <td>#OxfordAstraZeneca</td>\n",
       "      <td>1234</td>\n",
       "    </tr>\n",
       "    <tr>\n",
       "      <th>8</th>\n",
       "      <td>#CovidVaccine</td>\n",
       "      <td>1233</td>\n",
       "    </tr>\n",
       "    <tr>\n",
       "      <th>9</th>\n",
       "      <td>#Sinovac</td>\n",
       "      <td>1222</td>\n",
       "    </tr>\n",
       "    <tr>\n",
       "      <th>10</th>\n",
       "      <td>#Pfizer</td>\n",
       "      <td>1203</td>\n",
       "    </tr>\n",
       "    <tr>\n",
       "      <th>11</th>\n",
       "      <td>#moderna</td>\n",
       "      <td>1143</td>\n",
       "    </tr>\n",
       "    <tr>\n",
       "      <th>12</th>\n",
       "      <td>#COVID19Vaccine</td>\n",
       "      <td>780</td>\n",
       "    </tr>\n",
       "    <tr>\n",
       "      <th>13</th>\n",
       "      <td>#AstraZeneca</td>\n",
       "      <td>759</td>\n",
       "    </tr>\n",
       "    <tr>\n",
       "      <th>14</th>\n",
       "      <td>#COVAXIN</td>\n",
       "      <td>613</td>\n",
       "    </tr>\n",
       "    <tr>\n",
       "      <th>15</th>\n",
       "      <td>#coronavirus</td>\n",
       "      <td>572</td>\n",
       "    </tr>\n",
       "    <tr>\n",
       "      <th>16</th>\n",
       "      <td>#oxfordastrazeneca</td>\n",
       "      <td>528</td>\n",
       "    </tr>\n",
       "    <tr>\n",
       "      <th>17</th>\n",
       "      <td>#vaccines</td>\n",
       "      <td>515</td>\n",
       "    </tr>\n",
       "    <tr>\n",
       "      <th>18</th>\n",
       "      <td>#PfizerBiontech</td>\n",
       "      <td>433</td>\n",
       "    </tr>\n",
       "    <tr>\n",
       "      <th>19</th>\n",
       "      <td>#Vaccine</td>\n",
       "      <td>416</td>\n",
       "    </tr>\n",
       "  </tbody>\n",
       "</table>\n",
       "</div>"
      ],
      "text/plain": [
       "       text_hasht_freq  count\n",
       "0             #Moderna   4980\n",
       "1             #COVID19   3411\n",
       "2             #Covaxin   3122\n",
       "3      #PfizerBioNTech   2896\n",
       "4            #SputnikV   2774\n",
       "5             #vaccine   2622\n",
       "6           #Sinopharm   1255\n",
       "7   #OxfordAstraZeneca   1234\n",
       "8        #CovidVaccine   1233\n",
       "9             #Sinovac   1222\n",
       "10             #Pfizer   1203\n",
       "11            #moderna   1143\n",
       "12     #COVID19Vaccine    780\n",
       "13        #AstraZeneca    759\n",
       "14            #COVAXIN    613\n",
       "15        #coronavirus    572\n",
       "16  #oxfordastrazeneca    528\n",
       "17           #vaccines    515\n",
       "18     #PfizerBiontech    433\n",
       "19            #Vaccine    416"
      ]
     },
     "execution_count": 185,
     "metadata": {},
     "output_type": "execute_result"
    }
   ],
   "source": [
    "tweet_words_hasht = []\n",
    "for line in df_tweety['text']:\n",
    "    words = line.split()\n",
    "    for word in words:\n",
    "        if re.search('#[^\\s]+', word):\n",
    "            tweet_words_hasht.append(word)\n",
    "tweet_words_hasht=pd.Series(np.array(tweet_words_hasht))\n",
    "frequency_hashtags = tweet_words_hasht.value_counts()[:20].rename_axis('text_hasht_freq').reset_index(name='count')\n",
    "frequency_hashtags"
   ]
  },
  {
   "cell_type": "code",
   "execution_count": 186,
   "id": "genuine-algorithm",
   "metadata": {},
   "outputs": [
    {
     "data": {
      "text/plain": [
       "<seaborn.axisgrid.FacetGrid at 0x138535700>"
      ]
     },
     "execution_count": 186,
     "metadata": {},
     "output_type": "execute_result"
    },
    {
     "data": {
      "image/png": "[encoded data removed]",
      "text/plain": [
       "<Figure size 720x720 with 1 Axes>"
      ]
     },
     "metadata": {},
     "output_type": "display_data"
    }
   ],
   "source": [
    "#f, ax = plt.subplots(figsize=(7, 5))\n",
    "\n",
    "g = sns.catplot(\n",
    "    data=frequency_hashtags, kind=\"bar\",\n",
    "    x=\"text_hasht_freq\", y=\"count\",# hue=\"sex\",\n",
    "    ci=\"sd\", palette=\"dark\", height=10, alpha=.6\n",
    ")\n",
    "#g.despine(left=True)\n",
    "g.set_axis_labels(\"hashtags (mentioned)\", \"frequency\")\n",
    "g.set_xticklabels(rotation=40, ha=\"right\")\n",
    "#g.legend.set_title(\"\")"
   ]
  },
  {
   "cell_type": "markdown",
   "id": "capable-extent",
   "metadata": {},
   "source": [
    "### Most frequently mentioned twitter accounts"
   ]
  },
  {
   "cell_type": "code",
   "execution_count": 187,
   "id": "upset-divorce",
   "metadata": {},
   "outputs": [
    {
     "data": {
      "text/html": [
       "<div>\n",
       "<style scoped>\n",
       "    .dataframe tbody tr th:only-of-type {\n",
       "        vertical-align: middle;\n",
       "    }\n",
       "\n",
       "    .dataframe tbody tr th {\n",
       "        vertical-align: top;\n",
       "    }\n",
       "\n",
       "    .dataframe thead th {\n",
       "        text-align: right;\n",
       "    }\n",
       "</style>\n",
       "<table border=\"1\" class=\"dataframe\">\n",
       "  <thead>\n",
       "    <tr style=\"text-align: right;\">\n",
       "      <th></th>\n",
       "      <th>accounts</th>\n",
       "      <th>count</th>\n",
       "    </tr>\n",
       "  </thead>\n",
       "  <tbody>\n",
       "    <tr>\n",
       "      <th>0</th>\n",
       "      <td>@narendramodi</td>\n",
       "      <td>724</td>\n",
       "    </tr>\n",
       "    <tr>\n",
       "      <th>1</th>\n",
       "      <td>@sputnikvaccine</td>\n",
       "      <td>385</td>\n",
       "    </tr>\n",
       "    <tr>\n",
       "      <th>2</th>\n",
       "      <td>@BharatBiotech</td>\n",
       "      <td>375</td>\n",
       "    </tr>\n",
       "    <tr>\n",
       "      <th>3</th>\n",
       "      <td>@PMOIndia</td>\n",
       "      <td>196</td>\n",
       "    </tr>\n",
       "    <tr>\n",
       "      <th>4</th>\n",
       "      <td>@pfizer</td>\n",
       "      <td>170</td>\n",
       "    </tr>\n",
       "    <tr>\n",
       "      <th>5</th>\n",
       "      <td>@POTUS</td>\n",
       "      <td>155</td>\n",
       "    </tr>\n",
       "    <tr>\n",
       "      <th>6</th>\n",
       "      <td>@fordnation</td>\n",
       "      <td>146</td>\n",
       "    </tr>\n",
       "    <tr>\n",
       "      <th>7</th>\n",
       "      <td>@Ocugen</td>\n",
       "      <td>140</td>\n",
       "    </tr>\n",
       "    <tr>\n",
       "      <th>8</th>\n",
       "      <td>@WHO</td>\n",
       "      <td>140</td>\n",
       "    </tr>\n",
       "    <tr>\n",
       "      <th>9</th>\n",
       "      <td>@MoHFW_INDIA</td>\n",
       "      <td>136</td>\n",
       "    </tr>\n",
       "    <tr>\n",
       "      <th>10</th>\n",
       "      <td>@JustinTrudeau</td>\n",
       "      <td>128</td>\n",
       "    </tr>\n",
       "    <tr>\n",
       "      <th>11</th>\n",
       "      <td>@drharshvardhan</td>\n",
       "      <td>122</td>\n",
       "    </tr>\n",
       "    <tr>\n",
       "      <th>12</th>\n",
       "      <td>@BorisJohnson</td>\n",
       "      <td>111</td>\n",
       "    </tr>\n",
       "    <tr>\n",
       "      <th>13</th>\n",
       "      <td>@moderna_tx</td>\n",
       "      <td>107</td>\n",
       "    </tr>\n",
       "    <tr>\n",
       "      <th>14</th>\n",
       "      <td>@vonderleyen</td>\n",
       "      <td>103</td>\n",
       "    </tr>\n",
       "    <tr>\n",
       "      <th>15</th>\n",
       "      <td>@AstraZeneca</td>\n",
       "      <td>93</td>\n",
       "    </tr>\n",
       "    <tr>\n",
       "      <th>16</th>\n",
       "      <td>@DollyParton</td>\n",
       "      <td>91</td>\n",
       "    </tr>\n",
       "    <tr>\n",
       "      <th>17</th>\n",
       "      <td>@globaltimesnews</td>\n",
       "      <td>88</td>\n",
       "    </tr>\n",
       "    <tr>\n",
       "      <th>18</th>\n",
       "      <td>@Moderna</td>\n",
       "      <td>86</td>\n",
       "    </tr>\n",
       "    <tr>\n",
       "      <th>19</th>\n",
       "      <td>@EU_Commission</td>\n",
       "      <td>85</td>\n",
       "    </tr>\n",
       "  </tbody>\n",
       "</table>\n",
       "</div>"
      ],
      "text/plain": [
       "            accounts  count\n",
       "0      @narendramodi    724\n",
       "1    @sputnikvaccine    385\n",
       "2     @BharatBiotech    375\n",
       "3          @PMOIndia    196\n",
       "4            @pfizer    170\n",
       "5             @POTUS    155\n",
       "6        @fordnation    146\n",
       "7            @Ocugen    140\n",
       "8               @WHO    140\n",
       "9       @MoHFW_INDIA    136\n",
       "10    @JustinTrudeau    128\n",
       "11   @drharshvardhan    122\n",
       "12     @BorisJohnson    111\n",
       "13       @moderna_tx    107\n",
       "14      @vonderleyen    103\n",
       "15      @AstraZeneca     93\n",
       "16      @DollyParton     91\n",
       "17  @globaltimesnews     88\n",
       "18          @Moderna     86\n",
       "19    @EU_Commission     85"
      ]
     },
     "execution_count": 187,
     "metadata": {},
     "output_type": "execute_result"
    }
   ],
   "source": [
    "twitter_accounts = []\n",
    "for line in df_tweety['text']:\n",
    "    words = line.split()\n",
    "    for word in words:\n",
    "        if re.search('@[^\\s]+', word):\n",
    "            twitter_accounts.append(word)\n",
    "mentioned_accounts=pd.Series(np.array(twitter_accounts))\n",
    "accounts = mentioned_accounts.value_counts()[:20].rename_axis('accounts').reset_index(name='count')\n",
    "accounts"
   ]
  },
  {
   "cell_type": "code",
   "execution_count": 188,
   "id": "mounted-difficulty",
   "metadata": {},
   "outputs": [
    {
     "data": {
      "text/plain": [
       "<seaborn.axisgrid.FacetGrid at 0x12b55fbe0>"
      ]
     },
     "execution_count": 188,
     "metadata": {},
     "output_type": "execute_result"
    },
    {
     "data": {
      "image/png": "[encoded data removed]",
      "text/plain": [
       "<Figure size 720x720 with 1 Axes>"
      ]
     },
     "metadata": {},
     "output_type": "display_data"
    }
   ],
   "source": [
    "#f, ax = plt.subplots(figsize=(7, 5))\n",
    "\n",
    "g = sns.catplot(\n",
    "    data=accounts, kind=\"bar\",\n",
    "    x=\"accounts\", y=\"count\",# hue=\"sex\",\n",
    "    ci=\"sd\", palette=\"dark\", height=10, alpha=.6\n",
    ")\n",
    "#g.despine(left=True)\n",
    "g.set_axis_labels(\"handles (mentioned)\", \"frequency\")\n",
    "g.set_xticklabels(rotation=40, ha=\"right\")\n",
    "#g.legend.set_title(\"\")"
   ]
  },
  {
   "cell_type": "markdown",
   "id": "minus-background",
   "metadata": {},
   "source": [
    "We see that politicians, political institutions and vaccine producers are the most requently mentioned twitter accounts. This points towards vaccination being regarded as a political topic beyond a scientific one. Therefore, any em"
   ]
  },
  {
   "cell_type": "markdown",
   "id": "conventional-chorus",
   "metadata": {},
   "source": [
    "### Most frequent hashtags in 'hashtags'"
   ]
  },
  {
   "cell_type": "code",
   "execution_count": 189,
   "id": "together-wales",
   "metadata": {},
   "outputs": [
    {
     "data": {
      "text/plain": [
       "['Moderna']                                                                    1653\n",
       "['Covaxin']                                                                    1511\n",
       "['SputnikV']                                                                   1231\n",
       "['PfizerBioNTech']                                                              821\n",
       "['OxfordAstraZeneca']                                                           557\n",
       "                                                                               ... \n",
       "['impfluencer', 'PfizerBioNTech', 'PfizerCovidVaccine']                           1\n",
       "['Moderna', '1PHASD']                                                             1\n",
       "['PfizerBioNTech', 'reddit', 'jadorelargent', 'LPDLA8', 'TikTok', 'billie']       1\n",
       "['OxfordAstraZeneca', 'vaccine', 'iom', 'iomgov', 'vaccines']                     1\n",
       "['notthrowingawaymyshot', 'Moderna', 'georgiavaccine']                            1\n",
       "Name: hashtags, Length: 14360, dtype: int64"
      ]
     },
     "execution_count": 189,
     "metadata": {},
     "output_type": "execute_result"
    }
   ],
   "source": [
    "df_tweety['hashtags'].value_counts()"
   ]
  },
  {
   "cell_type": "markdown",
   "id": "complicated-anthropology",
   "metadata": {},
   "source": [
    "Lists in 'hashtags' are stored as strings"
   ]
  },
  {
   "cell_type": "code",
   "execution_count": 41,
   "id": "fabulous-classroom",
   "metadata": {},
   "outputs": [],
   "source": [
    "#for i, l in enumerate(df_tweety['hashtags']):\n",
    "    #print(\"list\",i,\"is\",type(l))"
   ]
  },
  {
   "cell_type": "markdown",
   "id": "automotive-summary",
   "metadata": {},
   "source": [
    "lst_ = \"['erst', 'zweit', 'dritt']\""
   ]
  },
  {
   "cell_type": "markdown",
   "id": "funny-observer",
   "metadata": {},
   "source": [
    "def clean_hashtag(name):\n",
    "    name = name.replace(\"[\", \"\")\n",
    "    name = name.replace(\"]\", \"\")\n",
    "    name = name.replace(\"'\", \"\")\n",
    "    name_lst = name.split(\",\")\n",
    "    hash_lst = list()\n",
    "    for item in name_lst:\n",
    "        item = item.strip()\n",
    "        hash_lst.append(item)\n",
    "    return hash_lst"
   ]
  },
  {
   "cell_type": "code",
   "execution_count": 191,
   "id": "straight-assets",
   "metadata": {},
   "outputs": [],
   "source": [
    "df_tweety['hashtags'] = df_tweety['hashtags'].apply(eval)"
   ]
  },
  {
   "cell_type": "code",
   "execution_count": 192,
   "id": "forty-hollywood",
   "metadata": {},
   "outputs": [
    {
     "data": {
      "text/html": [
       "<div>\n",
       "<style scoped>\n",
       "    .dataframe tbody tr th:only-of-type {\n",
       "        vertical-align: middle;\n",
       "    }\n",
       "\n",
       "    .dataframe tbody tr th {\n",
       "        vertical-align: top;\n",
       "    }\n",
       "\n",
       "    .dataframe thead th {\n",
       "        text-align: right;\n",
       "    }\n",
       "</style>\n",
       "<table border=\"1\" class=\"dataframe\">\n",
       "  <thead>\n",
       "    <tr style=\"text-align: right;\">\n",
       "      <th></th>\n",
       "      <th>hasht_freq</th>\n",
       "      <th>count</th>\n",
       "    </tr>\n",
       "  </thead>\n",
       "  <tbody>\n",
       "    <tr>\n",
       "      <th>0</th>\n",
       "      <td>moderna</td>\n",
       "      <td>7021</td>\n",
       "    </tr>\n",
       "    <tr>\n",
       "      <th>1</th>\n",
       "      <td>covaxin</td>\n",
       "      <td>4860</td>\n",
       "    </tr>\n",
       "    <tr>\n",
       "      <th>2</th>\n",
       "      <td>covid19</td>\n",
       "      <td>4689</td>\n",
       "    </tr>\n",
       "    <tr>\n",
       "      <th>3</th>\n",
       "      <td>pfizerbiontech</td>\n",
       "      <td>3859</td>\n",
       "    </tr>\n",
       "    <tr>\n",
       "      <th>4</th>\n",
       "      <td>vaccine</td>\n",
       "      <td>3598</td>\n",
       "    </tr>\n",
       "    <tr>\n",
       "      <th>5</th>\n",
       "      <td>sputnikv</td>\n",
       "      <td>3363</td>\n",
       "    </tr>\n",
       "    <tr>\n",
       "      <th>6</th>\n",
       "      <td>oxfordastrazeneca</td>\n",
       "      <td>1934</td>\n",
       "    </tr>\n",
       "    <tr>\n",
       "      <th>7</th>\n",
       "      <td>covidvaccine</td>\n",
       "      <td>1820</td>\n",
       "    </tr>\n",
       "    <tr>\n",
       "      <th>8</th>\n",
       "      <td>pfizer</td>\n",
       "      <td>1758</td>\n",
       "    </tr>\n",
       "    <tr>\n",
       "      <th>9</th>\n",
       "      <td>sinovac</td>\n",
       "      <td>1591</td>\n",
       "    </tr>\n",
       "    <tr>\n",
       "      <th>10</th>\n",
       "      <td>sinopharm</td>\n",
       "      <td>1547</td>\n",
       "    </tr>\n",
       "    <tr>\n",
       "      <th>11</th>\n",
       "      <td>covid19vaccine</td>\n",
       "      <td>1072</td>\n",
       "    </tr>\n",
       "    <tr>\n",
       "      <th>12</th>\n",
       "      <td>astrazeneca</td>\n",
       "      <td>1023</td>\n",
       "    </tr>\n",
       "    <tr>\n",
       "      <th>13</th>\n",
       "      <td>covid</td>\n",
       "      <td>932</td>\n",
       "    </tr>\n",
       "    <tr>\n",
       "      <th>14</th>\n",
       "      <td>coronavirus</td>\n",
       "      <td>877</td>\n",
       "    </tr>\n",
       "    <tr>\n",
       "      <th>15</th>\n",
       "      <td>vaccines</td>\n",
       "      <td>789</td>\n",
       "    </tr>\n",
       "    <tr>\n",
       "      <th>16</th>\n",
       "      <td>china</td>\n",
       "      <td>699</td>\n",
       "    </tr>\n",
       "    <tr>\n",
       "      <th>17</th>\n",
       "      <td>russia</td>\n",
       "      <td>580</td>\n",
       "    </tr>\n",
       "    <tr>\n",
       "      <th>18</th>\n",
       "      <td>covishield</td>\n",
       "      <td>555</td>\n",
       "    </tr>\n",
       "    <tr>\n",
       "      <th>19</th>\n",
       "      <td>vaccination</td>\n",
       "      <td>498</td>\n",
       "    </tr>\n",
       "    <tr>\n",
       "      <th>20</th>\n",
       "      <td>vaccinated</td>\n",
       "      <td>487</td>\n",
       "    </tr>\n",
       "    <tr>\n",
       "      <th>21</th>\n",
       "      <td>pfizervaccine</td>\n",
       "      <td>411</td>\n",
       "    </tr>\n",
       "    <tr>\n",
       "      <th>22</th>\n",
       "      <td>eu</td>\n",
       "      <td>392</td>\n",
       "    </tr>\n",
       "    <tr>\n",
       "      <th>23</th>\n",
       "      <td>india</td>\n",
       "      <td>368</td>\n",
       "    </tr>\n",
       "    <tr>\n",
       "      <th>24</th>\n",
       "      <td>covid_19</td>\n",
       "      <td>348</td>\n",
       "    </tr>\n",
       "    <tr>\n",
       "      <th>25</th>\n",
       "      <td>bharatbiotech</td>\n",
       "      <td>318</td>\n",
       "    </tr>\n",
       "    <tr>\n",
       "      <th>26</th>\n",
       "      <td>covidvaccination</td>\n",
       "      <td>228</td>\n",
       "    </tr>\n",
       "    <tr>\n",
       "      <th>27</th>\n",
       "      <td>covid19vaccination</td>\n",
       "      <td>224</td>\n",
       "    </tr>\n",
       "    <tr>\n",
       "      <th>28</th>\n",
       "      <td>coronavaccine</td>\n",
       "      <td>217</td>\n",
       "    </tr>\n",
       "    <tr>\n",
       "      <th>29</th>\n",
       "      <td>mrna</td>\n",
       "      <td>214</td>\n",
       "    </tr>\n",
       "  </tbody>\n",
       "</table>\n",
       "</div>"
      ],
      "text/plain": [
       "            hasht_freq  count\n",
       "0              moderna   7021\n",
       "1              covaxin   4860\n",
       "2              covid19   4689\n",
       "3       pfizerbiontech   3859\n",
       "4              vaccine   3598\n",
       "5             sputnikv   3363\n",
       "6    oxfordastrazeneca   1934\n",
       "7         covidvaccine   1820\n",
       "8               pfizer   1758\n",
       "9              sinovac   1591\n",
       "10           sinopharm   1547\n",
       "11      covid19vaccine   1072\n",
       "12         astrazeneca   1023\n",
       "13               covid    932\n",
       "14         coronavirus    877\n",
       "15            vaccines    789\n",
       "16               china    699\n",
       "17              russia    580\n",
       "18          covishield    555\n",
       "19         vaccination    498\n",
       "20          vaccinated    487\n",
       "21       pfizervaccine    411\n",
       "22                  eu    392\n",
       "23               india    368\n",
       "24            covid_19    348\n",
       "25       bharatbiotech    318\n",
       "26    covidvaccination    228\n",
       "27  covid19vaccination    224\n",
       "28       coronavaccine    217\n",
       "29                mrna    214"
      ]
     },
     "execution_count": 192,
     "metadata": {},
     "output_type": "execute_result"
    }
   ],
   "source": [
    "df_tweety['hashtags'] = df_tweety['hashtags'].fillna('[]')\n",
    "\n",
    "def to_1D(Series):\n",
    "    return pd.Series([x.lower() for lst in Series for x in lst])\n",
    "\n",
    "hasht_freq = to_1D(df_tweety['hashtags']).value_counts()[:30].rename_axis('hasht_freq').reset_index(name='count')\n",
    "hasht_freq"
   ]
  },
  {
   "cell_type": "code",
   "execution_count": 193,
   "id": "loaded-australia",
   "metadata": {},
   "outputs": [
    {
     "data": {
      "text/plain": [
       "<seaborn.axisgrid.FacetGrid at 0x138535df0>"
      ]
     },
     "execution_count": 193,
     "metadata": {},
     "output_type": "execute_result"
    },
    {
     "data": {
      "image/png": "[encoded data removed]",
      "text/plain": [
       "<Figure size 720x720 with 1 Axes>"
      ]
     },
     "metadata": {},
     "output_type": "display_data"
    }
   ],
   "source": [
    "#f, ax = plt.subplots(figsize=(7, 5))\n",
    "\n",
    "g = sns.catplot(\n",
    "    data=hasht_freq, kind=\"bar\",\n",
    "    x=\"hasht_freq\", y=\"count\",# hue=\"sex\",\n",
    "    ci=\"sd\", palette=\"dark\", height=10, alpha=.6\n",
    ")\n",
    "#g.despine(left=True)\n",
    "g.set_axis_labels(\"hastags (used)\", \"frequency\")\n",
    "g.set_xticklabels(rotation=40, ha=\"right\")\n",
    "#g.legend.set_title(\"\")"
   ]
  },
  {
   "cell_type": "markdown",
   "id": "frozen-scoop",
   "metadata": {},
   "source": [
    "In contrast, particular vaccines or the vaccination topic play the dominant role in the category of used hashtags. Politicians or institutions do not figure prominently in this category."
   ]
  },
  {
   "cell_type": "markdown",
   "id": "worst-insulin",
   "metadata": {},
   "source": [
    "### Most mentioned countries in 'hashtags'\n",
    "We can however spot that countries get mentioned in used hashtags. China, Russia, India and the EU trend at the top. This might be relevant to compare with vaccination progress in these countries."
   ]
  },
  {
   "cell_type": "code",
   "execution_count": 194,
   "id": "naughty-translator",
   "metadata": {},
   "outputs": [
    {
     "data": {
      "text/html": [
       "<div>\n",
       "<style scoped>\n",
       "    .dataframe tbody tr th:only-of-type {\n",
       "        vertical-align: middle;\n",
       "    }\n",
       "\n",
       "    .dataframe tbody tr th {\n",
       "        vertical-align: top;\n",
       "    }\n",
       "\n",
       "    .dataframe thead th {\n",
       "        text-align: right;\n",
       "    }\n",
       "</style>\n",
       "<table border=\"1\" class=\"dataframe\">\n",
       "  <thead>\n",
       "    <tr style=\"text-align: right;\">\n",
       "      <th></th>\n",
       "      <th>hasht_country_freq</th>\n",
       "      <th>count</th>\n",
       "    </tr>\n",
       "  </thead>\n",
       "  <tbody>\n",
       "    <tr>\n",
       "      <th>0</th>\n",
       "      <td>China</td>\n",
       "      <td>670</td>\n",
       "    </tr>\n",
       "    <tr>\n",
       "      <th>1</th>\n",
       "      <td>Russia</td>\n",
       "      <td>568</td>\n",
       "    </tr>\n",
       "    <tr>\n",
       "      <th>2</th>\n",
       "      <td>EU</td>\n",
       "      <td>361</td>\n",
       "    </tr>\n",
       "    <tr>\n",
       "      <th>3</th>\n",
       "      <td>India</td>\n",
       "      <td>339</td>\n",
       "    </tr>\n",
       "    <tr>\n",
       "      <th>4</th>\n",
       "      <td>Italy</td>\n",
       "      <td>97</td>\n",
       "    </tr>\n",
       "    <tr>\n",
       "      <th>5</th>\n",
       "      <td>Canada</td>\n",
       "      <td>94</td>\n",
       "    </tr>\n",
       "    <tr>\n",
       "      <th>6</th>\n",
       "      <td>UK</td>\n",
       "      <td>92</td>\n",
       "    </tr>\n",
       "    <tr>\n",
       "      <th>7</th>\n",
       "      <td>USA</td>\n",
       "      <td>70</td>\n",
       "    </tr>\n",
       "    <tr>\n",
       "      <th>8</th>\n",
       "      <td>Brazil</td>\n",
       "      <td>68</td>\n",
       "    </tr>\n",
       "    <tr>\n",
       "      <th>9</th>\n",
       "      <td>Germany</td>\n",
       "      <td>65</td>\n",
       "    </tr>\n",
       "    <tr>\n",
       "      <th>10</th>\n",
       "      <td>France</td>\n",
       "      <td>25</td>\n",
       "    </tr>\n",
       "    <tr>\n",
       "      <th>11</th>\n",
       "      <td>china</td>\n",
       "      <td>23</td>\n",
       "    </tr>\n",
       "    <tr>\n",
       "      <th>12</th>\n",
       "      <td>America</td>\n",
       "      <td>12</td>\n",
       "    </tr>\n",
       "    <tr>\n",
       "      <th>13</th>\n",
       "      <td>Japan</td>\n",
       "      <td>12</td>\n",
       "    </tr>\n",
       "    <tr>\n",
       "      <th>14</th>\n",
       "      <td>Afghanistan</td>\n",
       "      <td>11</td>\n",
       "    </tr>\n",
       "  </tbody>\n",
       "</table>\n",
       "</div>"
      ],
      "text/plain": [
       "   hasht_country_freq  count\n",
       "0               China    670\n",
       "1              Russia    568\n",
       "2                  EU    361\n",
       "3               India    339\n",
       "4               Italy     97\n",
       "5              Canada     94\n",
       "6                  UK     92\n",
       "7                 USA     70\n",
       "8              Brazil     68\n",
       "9             Germany     65\n",
       "10             France     25\n",
       "11              china     23\n",
       "12            America     12\n",
       "13              Japan     12\n",
       "14        Afghanistan     11"
      ]
     },
     "execution_count": 194,
     "metadata": {},
     "output_type": "execute_result"
    }
   ],
   "source": [
    "df_tweety['hashtags'] = df_tweety['hashtags'].fillna('[]')\n",
    "\n",
    "def to_1D(Series):\n",
    "    return pd.Series([x for lst in Series for x in lst if x in ['China', 'EU', 'India', 'USA', 'Russia', 'UK', 'Italy', 'Germany', 'France', 'America', 'Brazil', 'Japan', 'Canada', 'Afghanistan', 'china']])\n",
    "\n",
    "to_1D(df_tweety['hashtags']).value_counts()[:30].rename_axis('hasht_country_freq').reset_index(name='count')"
   ]
  },
  {
   "cell_type": "markdown",
   "id": "upset-disease",
   "metadata": {},
   "source": [
    "### overtweeted (one tweet several times)"
   ]
  },
  {
   "cell_type": "code",
   "execution_count": 195,
   "id": "simple-month",
   "metadata": {},
   "outputs": [],
   "source": [
    "repeated_tweets = []\n",
    "for i in range(len(df_tweety['text'])):\n",
    "    repeated_tweets.append(df_tweety['text'][i])\n",
    "repeated_tweets=pd.Series(np.array(repeated_tweets))\n",
    "#list_of_words\n",
    "\n",
    "frequency_ranking_tweets = repeated_tweets.value_counts()[:30].rename_axis('overtweeted').reset_index(name='count')\n",
    "#frequency_ranking_tweets"
   ]
  },
  {
   "cell_type": "markdown",
   "id": "suspended-collins",
   "metadata": {},
   "source": [
    "### Create df with hashtags as columns and boolean values"
   ]
  },
  {
   "cell_type": "markdown",
   "id": "opening-monroe",
   "metadata": {},
   "source": [
    "Idea: create df with vaccines in hashtags as columns and append it to df_tweety"
   ]
  },
  {
   "cell_type": "code",
   "execution_count": 196,
   "id": "accepted-river",
   "metadata": {},
   "outputs": [
    {
     "data": {
      "text/plain": [
       "moderna              7021\n",
       "covaxin              4860\n",
       "covid19              4689\n",
       "pfizerbiontech       3859\n",
       "vaccine              3598\n",
       "sputnikv             3363\n",
       "oxfordastrazeneca    1934\n",
       "covidvaccine         1820\n",
       "pfizer               1758\n",
       "sinovac              1591\n",
       "sinopharm            1547\n",
       "covid19vaccine       1072\n",
       "astrazeneca          1023\n",
       "covid                 932\n",
       "coronavirus           877\n",
       "vaccines              789\n",
       "china                 699\n",
       "russia                580\n",
       "covishield            555\n",
       "vaccination           498\n",
       "dtype: int64"
      ]
     },
     "execution_count": 196,
     "metadata": {},
     "output_type": "execute_result"
    }
   ],
   "source": [
    "def to_1D(Series):\n",
    "    return pd.Series([x.lower() for lst in Series for x in lst])\n",
    "\n",
    "unique_hasht = to_1D(df_tweety['hashtags']).value_counts()[:20]\n",
    "unique_hasht"
   ]
  },
  {
   "cell_type": "code",
   "execution_count": 197,
   "id": "headed-highland",
   "metadata": {},
   "outputs": [],
   "source": [
    "def boolean_df(item_lists, unique_items):\n",
    "\n",
    "    # Create empty dict\n",
    "    bool_dict = {}\n",
    "    \n",
    "    # Loop through all the tags\n",
    "    for i, item in enumerate(unique_items):\n",
    "        \n",
    "        # Apply boolean mask that returns a True-False list of whether a tag is in a taglist\n",
    "        bool_dict[item] = item_lists.apply(lambda x: item in x)\n",
    "            \n",
    "    # Return the results as a dataframe\n",
    "    return pd.DataFrame(bool_dict)"
   ]
  },
  {
   "cell_type": "code",
   "execution_count": 198,
   "id": "impossible-findings",
   "metadata": {},
   "outputs": [],
   "source": [
    "hasht_bool = boolean_df(df_tweety['hashtags'], unique_hasht.keys())"
   ]
  },
  {
   "cell_type": "code",
   "execution_count": 199,
   "id": "equivalent-reaction",
   "metadata": {},
   "outputs": [
    {
     "data": {
      "text/plain": [
       "moderna              2\n",
       "covaxin              2\n",
       "covid19              2\n",
       "pfizerbiontech       2\n",
       "vaccine              2\n",
       "sputnikv             2\n",
       "oxfordastrazeneca    2\n",
       "covidvaccine         2\n",
       "pfizer               2\n",
       "sinovac              2\n",
       "sinopharm            2\n",
       "covid19vaccine       2\n",
       "astrazeneca          2\n",
       "covid                2\n",
       "coronavirus          2\n",
       "vaccines             2\n",
       "china                2\n",
       "russia               2\n",
       "covishield           2\n",
       "vaccination          2\n",
       "dtype: int64"
      ]
     },
     "execution_count": 199,
     "metadata": {},
     "output_type": "execute_result"
    }
   ],
   "source": [
    "hasht_bool\n",
    "#to do: drop some! for investigation, take conjunctions of e.g. pfizerbiontech and pfizer etc.\n",
    "#hasht_bool.drop(['id', 'user_created', 'user_location', 'is_retweet', 'source'], axis=1)\n",
    "hasht_bool.nunique()"
   ]
  },
  {
   "cell_type": "markdown",
   "id": "dangerous-wagon",
   "metadata": {},
   "source": [
    "# Cleaning 'text' (round 1)"
   ]
  },
  {
   "cell_type": "markdown",
   "id": "pregnant-reviewer",
   "metadata": {},
   "source": [
    "### Various removals, lowercase()"
   ]
  },
  {
   "cell_type": "markdown",
   "id": "reverse-musical",
   "metadata": {},
   "source": [
    "def CleanTweet(x):\n",
    "    #remove twitter handlers\n",
    "    x = re.sub('@[^\\s]+','',x)\n",
    "    #remove hashtags\n",
    "    x = re.sub(r'\\B#\\S+','',x)\n",
    "    #remove urls\n",
    "    x = re.sub(r'https?:\\/\\/[A-Za-z0-9\\.\\/]+', '', x)\n",
    "    #remove special characters\n",
    "    x = re.findall(r'\\w+', x)\n",
    "    #remove single characters\n",
    "    x = re.sub(r'\\s+[a-zA-Z]\\s+', '', x)\n",
    "    #substitute multiple spaces with single space\n",
    "    x = re.sub(r'\\s+', ' ', x, flags=re.I)\n",
    "    return x"
   ]
  },
  {
   "cell_type": "code",
   "execution_count": 200,
   "id": "floppy-litigation",
   "metadata": {},
   "outputs": [],
   "source": [
    "#df_tweety.text = df_tweety.text.apply(CleanTweet)"
   ]
  },
  {
   "cell_type": "code",
   "execution_count": 201,
   "id": "sustainable-wholesale",
   "metadata": {},
   "outputs": [],
   "source": [
    "#remove twitter handlers\n",
    "df_tweety.text = df_tweety.text.apply(lambda x:re.sub('@[^\\s]+','',x))\n",
    "\n",
    "#remove hashtags\n",
    "df_tweety.text = df_tweety.text.apply(lambda x:re.sub(r'\\B#\\S+','',x))\n",
    "\n",
    "#remove URLs\n",
    "df_tweety.text = df_tweety.text.apply(lambda x:re.sub(r'https?:\\/\\/[A-Za-z0-9\\.\\/]+', '', x))\n",
    "\n",
    "#remove punctuation\n",
    "df_tweety.text = df_tweety.text.apply(lambda x:x.replace('[^\\w\\s]',''))\n",
    "\n",
    "#remove special characters\n",
    "df_tweety.text = df_tweety.text.apply(lambda x:' '.join(re.findall(r'\\w+', x))) #re.sub('[^A-Za-z0-9]+', '', x)\n",
    "\n",
    "#remove single characters\n",
    "df_tweety.text = df_tweety.text.apply(lambda x:re.sub(r'\\s+[a-zA-Z]\\s+', '', x))\n",
    "\n",
    "#substitute multiple spaces with single space\n",
    "df_tweety.text = df_tweety.text.apply(lambda x:re.sub(r'\\s+', ' ', x, flags=re.I))\n",
    "\n",
    "#lowercase\n",
    "df_tweety.text = df_tweety.text.apply(lambda x: ' '.join([word.lower() for word in x.split()]))\n",
    "\n",
    "#remove numbers from words\n",
    "df_tweety.text = df_tweety.text.apply(lambda x: re.sub('\\w*\\d\\w*', '', x))\n",
    "\n",
    "#remove\n",
    "df_tweety.text = df_tweety.text.apply(lambda x: re.sub('\\n', '', x))\n",
    "\n",
    "#remove\n",
    "df_tweety.text = df_tweety.text.apply(lambda x: re.sub('[''\"\"_/]', '', x))"
   ]
  },
  {
   "cell_type": "markdown",
   "id": "chinese-observation",
   "metadata": {},
   "source": [
    "# Feature engineering 'text'"
   ]
  },
  {
   "cell_type": "markdown",
   "id": "endless-bahamas",
   "metadata": {},
   "source": [
    "### stopwords, stemming, lemmatizing"
   ]
  },
  {
   "cell_type": "code",
   "execution_count": 202,
   "id": "legendary-worry",
   "metadata": {},
   "outputs": [],
   "source": [
    "#remove stopwords\n",
    "stopwords = nltk.corpus.stopwords.words('english')\n",
    "df_tweety.text = df_tweety.text.apply(lambda x:' '.join([word for word in x.split() if word not in stopwords]))"
   ]
  },
  {
   "cell_type": "code",
   "execution_count": 225,
   "id": "starting-facing",
   "metadata": {},
   "outputs": [],
   "source": [
    "#tokenize\n",
    "#df_tweety.text = df_tweety.text.apply(lambda x: ' '.join([word_tokenize(word) for word in x.split() ]))"
   ]
  },
  {
   "cell_type": "code",
   "execution_count": 204,
   "id": "adjusted-convertible",
   "metadata": {},
   "outputs": [],
   "source": [
    "# stemming \n",
    "stemmer = PorterStemmer()\n",
    "df_tweety.text = df_tweety.text.apply(lambda x: ' '.join([stemmer.stem(word) for word in x.split() ]))"
   ]
  },
  {
   "cell_type": "code",
   "execution_count": 205,
   "id": "relative-administrator",
   "metadata": {},
   "outputs": [],
   "source": [
    "# lemmazation\n",
    "lemmatizer = WordNetLemmatizer()\n",
    "df_tweety.text = df_tweety.text.apply(lambda x: ' '.join([lemmatizer.lemmatize(word) for word in x.split() ]))"
   ]
  },
  {
   "cell_type": "markdown",
   "id": "verified-scholar",
   "metadata": {},
   "source": [
    "Try to turn abbreviations into regular strings"
   ]
  },
  {
   "cell_type": "code",
   "execution_count": 206,
   "id": "earlier-issue",
   "metadata": {},
   "outputs": [],
   "source": [
    "import csv"
   ]
  },
  {
   "cell_type": "markdown",
   "id": "uniform-conservation",
   "metadata": {},
   "source": [
    "#helper function to turn abbreviations into words and delete slang\n",
    "def translator(user_string):\n",
    "    user_string = user_string.split(\" \")\n",
    "    j = 0\n",
    "    for _str in user_string:\n",
    "        # File path which consists of Abbreviations.\n",
    "        fileName = \"/Users/JDSeo/Desktop/Daily-Neural-Network-Practice-2/NLP/cleaning/slang.txt\"\n",
    "        with open(fileName, \"r\") as myCSVfile:\n",
    "            # Reading file as CSV with delimiter as \"=\", so that abbreviation are stored in row[0] and phrases in row[1]\n",
    "            dataFromFile = csv.reader(myCSVfile, delimiter=\"=\")\n",
    "            # Removing Special Characters.\n",
    "            _str = re.sub('[^a-zA-Z0-9]+', '', _str)\n",
    "            for row in dataFromFile:\n",
    "                # Check if selected word matches short forms[LHS] in text file.\n",
    "                if _str.upper() == row[0]:\n",
    "                    # If match found replace it with its appropriate phrase in text file.\n",
    "                    user_string[j] = row[1]\n",
    "            myCSVfile.close()\n",
    "        j = j + 1\n",
    "    return ' '.join(user_string)"
   ]
  },
  {
   "cell_type": "markdown",
   "id": "valued-friday",
   "metadata": {},
   "source": [
    "# First sentiment analysis (VADER)"
   ]
  },
  {
   "cell_type": "code",
   "execution_count": 232,
   "id": "imposed-academy",
   "metadata": {},
   "outputs": [
    {
     "name": "stdout",
     "output_type": "stream",
     "text": [
      "Requirement already satisfied: vaderSentiment in /Users/christophmichel/.pyenv/versions/3.8.5/lib/python3.8/site-packages (3.3.2)\n",
      "Requirement already satisfied: requests in /Users/christophmichel/.pyenv/versions/3.8.5/lib/python3.8/site-packages (from vaderSentiment) (2.25.1)\n",
      "Requirement already satisfied: urllib3<1.27,>=1.21.1 in /Users/christophmichel/.pyenv/versions/3.8.5/lib/python3.8/site-packages (from requests->vaderSentiment) (1.26.3)\n",
      "Requirement already satisfied: chardet<5,>=3.0.2 in /Users/christophmichel/.pyenv/versions/3.8.5/lib/python3.8/site-packages (from requests->vaderSentiment) (4.0.0)\n",
      "Requirement already satisfied: certifi>=2017.4.17 in /Users/christophmichel/.pyenv/versions/3.8.5/lib/python3.8/site-packages (from requests->vaderSentiment) (2020.12.5)\n",
      "Requirement already satisfied: idna<3,>=2.5 in /Users/christophmichel/.pyenv/versions/3.8.5/lib/python3.8/site-packages (from requests->vaderSentiment) (2.10)\n"
     ]
    }
   ],
   "source": [
    "!pip install vaderSentiment"
   ]
  },
  {
   "cell_type": "code",
   "execution_count": 233,
   "id": "fallen-legend",
   "metadata": {},
   "outputs": [],
   "source": [
    "from vaderSentiment.vaderSentiment import SentimentIntensityAnalyzer"
   ]
  },
  {
   "cell_type": "code",
   "execution_count": 240,
   "id": "average-mounting",
   "metadata": {},
   "outputs": [],
   "source": [
    "analyser = SentimentIntensityAnalyzer()\n",
    "\n",
    "scores=[]\n",
    "for i in range(len(df_tweety['text'])):\n",
    "    \n",
    "    score = analyser.polarity_scores(df_tweety['text'][i])\n",
    "    score=score['compound']\n",
    "    scores.append(score)\n",
    "    \n",
    "sentiment=[]\n",
    "for i in scores:\n",
    "    if i>=0.05:\n",
    "        sentiment.append('positive')\n",
    "    elif i<=(-0.05):\n",
    "        sentiment.append('negative')\n",
    "    else:\n",
    "        sentiment.append('neutral')\n",
    "\n",
    "df_tweety['sentiment']=pd.Series(np.array(sentiment))"
   ]
  },
  {
   "cell_type": "markdown",
   "id": "framed-affiliate",
   "metadata": {},
   "source": [
    "# Create some sub-dataframes"
   ]
  },
  {
   "cell_type": "markdown",
   "id": "worst-wealth",
   "metadata": {},
   "source": [
    "### single out most popular users and their tweets (and tweet sentiments)\n",
    "\n",
    "Identify whether the most popular users tweet predominantly positively, negatively or neutrally. Is it possible to see, how their followers tweet? Is there a mutual influence?"
   ]
  },
  {
   "cell_type": "code",
   "execution_count": 248,
   "id": "straight-declaration",
   "metadata": {},
   "outputs": [
    {
     "data": {
      "text/plain": [
       "Index(['id', 'user_name', 'user_location', 'user_description', 'user_created',\n",
       "       'user_followers', 'user_friends', 'user_favourites', 'user_verified',\n",
       "       'date', 'text', 'hashtags', 'source', 'retweets', 'favorites',\n",
       "       'is_retweet', 'day', 'sentiment'],\n",
       "      dtype='object')"
      ]
     },
     "execution_count": 248,
     "metadata": {},
     "output_type": "execute_result"
    }
   ],
   "source": [
    "df_tweety.columns"
   ]
  },
  {
   "cell_type": "code",
   "execution_count": 249,
   "id": "political-position",
   "metadata": {},
   "outputs": [],
   "source": [
    "twinfluence1 = df_tweety.sort_values(\"user_followers\", ascending=False)"
   ]
  },
  {
   "cell_type": "markdown",
   "id": "conditional-mailing",
   "metadata": {},
   "source": [
    "### Look at the influence by 'user_follower' and display balance of tweet sentiments"
   ]
  },
  {
   "cell_type": "code",
   "execution_count": 255,
   "id": "governing-bridge",
   "metadata": {},
   "outputs": [
    {
     "data": {
      "text/plain": [
       "<AxesSubplot:xlabel='user_followers', ylabel='user_name'>"
      ]
     },
     "execution_count": 255,
     "metadata": {},
     "output_type": "execute_result"
    },
    {
     "data": {
      "image/png": "[encoded data removed]",
      "text/plain": [
       "<Figure size 1080x1440 with 1 Axes>"
      ]
     },
     "metadata": {},
     "output_type": "display_data"
    }
   ],
   "source": [
    "f, ax = plt.subplots(figsize=(15, 20))\n",
    "sns.barplot(x='user_followers', y='user_name', orient='h', color='b', data=twinfluence1[['user_name', 'user_followers']][:400])"
   ]
  },
  {
   "cell_type": "code",
   "execution_count": 251,
   "id": "forty-company",
   "metadata": {},
   "outputs": [
    {
     "data": {
      "text/plain": [
       "<AxesSubplot:xlabel='user_followers', ylabel='user_name'>"
      ]
     },
     "execution_count": 251,
     "metadata": {},
     "output_type": "execute_result"
    },
    {
     "data": {
      "image/png": "[encoded data removed]",
      "text/plain": [
       "<Figure size 1080x1440 with 1 Axes>"
      ]
     },
     "metadata": {},
     "output_type": "display_data"
    }
   ],
   "source": [
    "f, ax = plt.subplots(figsize=(15, 20))\n",
    "sns.barplot(x='user_followers', y='user_name', hue='sentiment', orient='h', palette=\"dark\", data=twinfluence1[['user_name', 'user_followers', 'sentiment']][:400])"
   ]
  },
  {
   "cell_type": "code",
   "execution_count": 57,
   "id": "beginning-alabama",
   "metadata": {},
   "outputs": [],
   "source": [
    "# delete multiples for certain purposes! Written"
   ]
  },
  {
   "cell_type": "markdown",
   "id": "alpha-porter",
   "metadata": {},
   "source": [
    "### Look at most retweeted tweets and display balance of tweet sentiments"
   ]
  },
  {
   "cell_type": "code",
   "execution_count": 245,
   "id": "extreme-palmer",
   "metadata": {},
   "outputs": [
    {
     "data": {
      "text/plain": [
       "<AxesSubplot:xlabel='retweets', ylabel='user_name'>"
      ]
     },
     "execution_count": 245,
     "metadata": {},
     "output_type": "execute_result"
    },
    {
     "data": {
      "image/png": "[encoded data removed]",
      "text/plain": [
       "<Figure size 1080x432 with 1 Axes>"
      ]
     },
     "metadata": {},
     "output_type": "display_data"
    }
   ],
   "source": [
    "twinfluence2 = df_tweety.sort_values(\"retweets\", ascending=False)\n",
    "\n",
    "f, ax = plt.subplots(figsize=(15, 6))\n",
    "sns.barplot(x='retweets', y='user_name', orient='h', palette=\"dark\", hue='sentiment', data=twinfluence2[['retweets', 'user_name', 'sentiment']][:10])"
   ]
  },
  {
   "cell_type": "markdown",
   "id": "herbal-meeting",
   "metadata": {},
   "source": [
    "### Look at the influence by 'user_favourites' and display tweet sentiments"
   ]
  },
  {
   "cell_type": "code",
   "execution_count": 247,
   "id": "considerable-module",
   "metadata": {},
   "outputs": [
    {
     "data": {
      "text/plain": [
       "<AxesSubplot:xlabel='user_favourites', ylabel='user_name'>"
      ]
     },
     "execution_count": 247,
     "metadata": {},
     "output_type": "execute_result"
    },
    {
     "data": {
      "image/png": "[encoded data removed]",
      "text/plain": [
       "<Figure size 1080x432 with 1 Axes>"
      ]
     },
     "metadata": {},
     "output_type": "display_data"
    }
   ],
   "source": [
    "twinfluence3 = df_tweety.sort_values(\"user_favourites\", ascending=False)\n",
    "\n",
    "f, ax = plt.subplots(figsize=(15, 6))\n",
    "sns.barplot(x='user_favourites', y='user_name',  hue='sentiment', orient='h', palette=\"dark\", data=twinfluence3[['user_name', 'user_favourites', 'sentiment']][:20])"
   ]
  }
 ],
 "metadata": {
  "kernelspec": {
   "display_name": "Python 3",
   "language": "python",
   "name": "python3"
  },
  "language_info": {
   "codemirror_mode": {
    "name": "ipython",
    "version": 3
   },
   "file_extension": ".py",
   "mimetype": "text/x-python",
   "name": "python",
   "nbconvert_exporter": "python",
   "pygments_lexer": "ipython3",
   "version": "3.8.5"
  }
 },
 "nbformat": 4,
 "nbformat_minor": 5
}
