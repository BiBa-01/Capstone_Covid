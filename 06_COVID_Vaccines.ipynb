{
 "cells": [
  {
   "cell_type": "markdown",
   "id": "assumed-feedback",
   "metadata": {},
   "source": [
    "***\n",
    "***\n",
    "\n",
    "# **COVID-19 Vaccination Progress**\n",
    "\n",
    "## *6) Feature Selection for Prediction and Time Series Specific EDA*"
   ]
  },
  {
   "cell_type": "markdown",
   "id": "mounted-index",
   "metadata": {},
   "source": [
    "***\n",
    "***\n",
    "\n",
    "## Table of Contents\n",
    "\n",
    "| 1. INTRODUCTION | 2. Visualisations | 3. SUMMARY |\n",
    "|----|----|----|\n",
    "| *1.1 Dataset Characteristics* | *2.1 Importing Libraries and Data* | 3.1 Key Findings |\n",
    "| | *2.2 Feature Selection* | 3.2 Next Steps |\n",
    "| | *2.3 Detrend to Achieve Stationarity* | |"
   ]
  },
  {
   "cell_type": "markdown",
   "id": "violent-greenhouse",
   "metadata": {},
   "source": [
    "***\n",
    "***\n",
    "\n",
    "## 1. INTRODUCTION\n",
    "\n",
    "In this notebook we use the cleaned/ feature-engineered dataset generated in notebook 1 (Initial Data Exploration, Cleaning and Feature Engineering) for an in-depth analysis. The focus of this notebook will be on time series specific EDA and detrending.\n",
    "\n",
    "***\n",
    "\n",
    "### 1.1 Dataset Characteristics\n",
    "\n",
    "1) Our PROCESSED dataframe contains the following:\n",
    "\n",
    "| FEATURE | description | comment |\n",
    "|----|----|----|\n",
    "| **date** | data entry (13th December 2020 to 24th March 2021) | - |\n",
    "| **weekday** | day of week (e.g. Monday) | NEW column added during feature engineering |\n",
    "| **country** | 147 countries | 4 duplicates removed, UN recognises 197 countries (193 are members) |\n",
    "| **country_grouped** | 17 countries/groups | NEW column added during feature engineering |\n",
    "| **4 x vaccine type columns** | inactivated_virus, recombinant, rna, protein | NEW columns added during feature engineering |\n",
    "| **10 x vaccine columns** | name/company | NEW columns added during cleaning to replace vaccines column |\n",
    "| **daily_vaccinations** | no. of vaccination for that date/country | some days only daily vaccinations, some days only the (cummulative) total |\n",
    "| **daily_vaccinations_per_million** | ratio (in ppm) between vaccination number and total population for the current date in the country | - |\n",
    "| **daily_vaccinations_per_hundred** | ratio (in percent) between vaccination number and total population for the current date in the country | NEW column added during feature engineering |\n",
    "| **daily_vaccinations_raw** | daily vaccinations as CHANGE COMPARED TO PREVIOUS DAY | calculation: total_vaccinations (day) - total_vaccination (previous day) |\n",
    "| **total_vaccinations** | absolute number of immunisations (jabs) in the country | some days only daily vaccinations, some days only the (cummulative) total |\n",
    "| **total_vaccinations_per_hundred** | ratio (in percent) between vaccination number and total population up to the date in the country | - |\n",
    "| **people_vaccinated** | total no. of people with immunisation (partial and full) | - |\n",
    "| **people_vaccinated_per_hundred** | ratio (in percent) between population immunized (partial and full) and total population | - |\n",
    "| **people_fully_vaccinated** | total no. of people with full immunisation (typically 2) | - |\n",
    "| **people_fully_vaccinated_per_hundred** | ratio (in percent) between population fully immunized and total population | - |\n",
    "| **people_partially_vaccinated** | total no. of people with partial immunisation (i.e. 1 jab) | NEW column added during feature engineering |\n",
    "| **people_partially_vaccinated_per_hundred** | ratio (in percent) between population partially immunized and total population | NEW column added during feature engineering |\n",
    "\n",
    "***\n",
    "***"
   ]
  },
  {
   "cell_type": "markdown",
   "id": "greatest-diploma",
   "metadata": {},
   "source": [
    "## 2. IMPORTS AND DATA PREPARATION\n",
    "\n",
    "***\n",
    "\n",
    "### 2.1 Importing Libraries and Data\n",
    "\n",
    "+ Import numpy (linear algebra), pandas (data processing), visualisation libraries (matplotlib, seaborn, plotly) and statsmodel.\n",
    "+ Import original and processed (notebook 1) dataset on COVID-19 vaccination progress."
   ]
  },
  {
   "cell_type": "code",
   "execution_count": 1,
   "id": "thousand-limit",
   "metadata": {
    "jupyter": {
     "source_hidden": true
    }
   },
   "outputs": [],
   "source": [
    "#Import basic libraries\n",
    "import numpy as np #Linear algebra\n",
    "import pandas as pd #Data processing\n",
    "\n",
    "#Import libraries for time series analysis\n",
    "import statsmodels.api as sm\n",
    "from statsmodels.tsa.seasonal import seasonal_decompose\n",
    "from statsmodels.tsa.stattools import kpss\n",
    "from statsmodels.tsa.stattools import adfuller\n",
    "from statsmodels.graphics.tsaplots import plot_acf, plot_pacf\n",
    "\n",
    "#Libraries for visualization\n",
    "import matplotlib.pyplot as plt\n",
    "import seaborn as sns\n",
    "import plotly.graph_objects as go\n",
    "import plotly.express as px\n",
    "\n",
    "#Suppress pandas future warnings\n",
    "import warnings\n",
    "warnings.simplefilter(action='ignore', category=FutureWarning)\n",
    "warnings.simplefilter(action='ignore', category=UserWarning)\n",
    "\n",
    "#Plot settings\n",
    "%matplotlib inline\n",
    "dpi_var=150"
   ]
  },
  {
   "cell_type": "code",
   "execution_count": 2,
   "id": "characteristic-aircraft",
   "metadata": {
    "jupyter": {
     "source_hidden": true
    }
   },
   "outputs": [],
   "source": [
    "#Import processed and global datasets (see notebook 1)\n",
    "df_processed = pd.read_csv('data/df_processed.csv', parse_dates=['date'])\n",
    "df_processed.sort_values('date', inplace=True)\n",
    "df_global = pd.read_csv('data/df_global.csv', parse_dates=['date'])\n",
    "df_global.sort_values('date', inplace=True)\n",
    "\n",
    "#Generate additional dataframes with date as index\n",
    "df_processed_date = df_processed.set_index('date')\n",
    "df_global_date = df_global.set_index('date')"
   ]
  },
  {
   "cell_type": "markdown",
   "id": "subjective-palestinian",
   "metadata": {},
   "source": [
    "***\n",
    "\n",
    "### 2.2 Feature Selection\n",
    "\n",
    "In this section an in-depth analysis of the vaccination progress data was carried out to identify the most suitable features for time series pediction/forecasting."
   ]
  },
  {
   "cell_type": "markdown",
   "id": "homeless-textbook",
   "metadata": {},
   "source": [
    "**TASK 1**:\n",
    "\n",
    "Identify suitable feature(s) for time series prediction/forecasting with respect to the key objective.\n",
    "\n",
    "***\n",
    "***\n",
    "\n",
    "***KEY OBJECTIVE: To forecast the daily vaccinations per country for the next 7-14 days reflecting not only the upward trend but also and most importantly capture the daily fluctuations.***\n",
    "\n",
    "***\n",
    "***\n",
    "\n",
    "***Background Information:*** Since the only feature with essentially no missing values, i.e. daily vaccinations, has been generated by a 7-day rolling/smoothing window technique (for more details see notekook 3) we won't look further into predictions based on this feature, especially since the imputed values cannot easily be identified. Therefore, we will concentrate on total vaccinations, daily vaccinations (raw) and people vaaccinated (partially/fully and fully vaccinated). These feature have 38% to 62% missing values from the perspective of the entire dataset, i.e. all countries (see notebook 1). The number of missing values might be attributed to certain countries not supplying certain data. Therefore, the first step is to check this out and possibly identify countries that have few missing numbers with respect to these features, which are suitable for modelling. We start by investigating the following countries: Germany, UK, USA, Israel, India, Russia and China.\n",
    "\n",
    "The following features won't be considered:\n",
    "+ % And ppm columns are not of key interest since we want to predict the absolute numbers of vaccinations, their upward trend and their daily fluctuations, and they are essentially covered in corresponding 'absolute value' columns.\n",
    "+ The vaccine features are not relevant for predicting vaccination number as the information is not detailed enough.\n",
    "\n",
    "**KEY FINDINGS**:\n",
    "\n",
    "Reagarding total vaccinations and daily_vaccinations (raw):\n",
    "+ For Germany and Israel we have no missing values from December onwards. Hence, we will start our investigations with these 2 countries (PRIO1).\n",
    "+ India has very few missing values from mid-January onwards. We can impute these numbers and then investigate India as well (PRIO2). it is unlikely that there were no vaccinations on these days, so we will consider imputing from the previous day(s) (with regard to daily vaccinations). In order to decide how to proceed we need to look into the data in more detail (later).\n",
    "+ The UK and USA reported sporadically during December 2020 but continuously from mid-January 2021 onwards. Hence we will have less data, but a continuous series and will investigate these countries with PRIO2.\n",
    "+ There are too many missing values for China and Russia to sensibly impute data. Therefore, currently it will not be possible to make predictions for these countries. with respect to the above key objective. There is more data available for daily vaccinations, but since this feature is imputed we would need to check out if we can reverse engineer it to identify the imputed values.\n",
    "\n",
    "Regarding people vaccinated (partially/fully and fully vaccinated):\n",
    "+ With respect to people vaccinated (partially and fully) there is enough data available for certain countries with few missing values (continuous, mainly in December and early January). Hence, this could be analysed and predicted, but since this is a mixture of partially and fully vaccinated people the picture won#t be complete without this additional information.\n",
    "+ Not enough data for people fully vaccinated is availabe yet, as 4-6 weeks delay between 1st and 2nd shot. Hence this cannot be analysed or predicted as yet.\n",
    "\n",
    "To conclude, we will start by investigating daily vaccinations (raw) worldwide and for Germany, Israel. It should be noted that the worldwide accumulated data has, of course, no missing values, but in essence the missing values for certain countries are masked. This is undesirable, but nonetheless a real world example and thus we will include the global progress as well as the 2 selected countries."
   ]
  },
  {
   "cell_type": "code",
   "execution_count": null,
   "id": "favorite-enemy",
   "metadata": {
    "jupyter": {
     "source_hidden": true
    }
   },
   "outputs": [],
   "source": [
    "#Closer look at missing values for key features (4) and selected countries\n",
    "#Define subplots\n",
    "fig, ax = plt.subplots(nrows=3, ncols=3, figsize=(18,22), constrained_layout=True)\n",
    "ax[2, 2].set_visible(False)\n",
    "\n",
    "#Filtered data frames for selected countries\n",
    "filtered_1 = df_processed_date[df_processed_date['country']=='Germany']\n",
    "filtered_2 = df_processed_date[df_processed_date['country']=='United Kingdom']\n",
    "filtered_3 = df_processed_date[df_processed_date['country']=='United States']\n",
    "filtered_4 = df_processed_date[df_processed_date['country']=='Israel']\n",
    "filtered_5 = df_processed_date[df_processed_date['country']=='India']\n",
    "filtered_6 = df_processed_date[df_processed_date['country']=='Russia']\n",
    "filtered_7 = df_processed_date[df_processed_date['country']=='China']\n",
    "\n",
    "#Plot seaborn heatmaps to visualise NaNs\n",
    "sns.heatmap(filtered_1[['daily_vaccinations_raw', 'total_vaccinations', 'people_vaccinated', 'people_fully_vaccinated']]\n",
    "                .to_period('D').isnull(), cbar=False, ax=ax[0,0])\n",
    "sns.heatmap(filtered_2[['daily_vaccinations_raw', 'total_vaccinations', 'people_vaccinated', 'people_fully_vaccinated']]\n",
    "                .to_period('D').isnull(), cbar=False, ax=ax[0,1])\n",
    "sns.heatmap(filtered_3[['daily_vaccinations_raw', 'total_vaccinations', 'people_vaccinated', 'people_fully_vaccinated']]\n",
    "                .to_period('D').isnull(), cbar=False, ax=ax[0,2])\n",
    "sns.heatmap(filtered_4[['daily_vaccinations_raw', 'total_vaccinations', 'people_vaccinated', 'people_fully_vaccinated']]\n",
    "                .to_period('D').isnull(), cbar=False, ax=ax[1,0])\n",
    "sns.heatmap(filtered_5[['daily_vaccinations_raw', 'total_vaccinations', 'people_vaccinated', 'people_fully_vaccinated']]\n",
    "                .to_period('D').isnull(), cbar=False, ax=ax[1,1])\n",
    "sns.heatmap(filtered_6[['daily_vaccinations_raw', 'total_vaccinations', 'people_vaccinated', 'people_fully_vaccinated']]\n",
    "                .to_period('D').isnull(), cbar=False, ax=ax[1,2])\n",
    "sns.heatmap(filtered_7[['daily_vaccinations_raw', 'total_vaccinations', 'people_vaccinated', 'people_fully_vaccinated']]\n",
    "                .to_period('D').isnull(), cbar=False, ax=ax[2,0])\n",
    "sns.heatmap(df_global_date[['daily_vaccinations_raw', 'total_vaccinations', 'people_vaccinated', 'people_fully_vaccinated']]\n",
    "                .to_period('D').isnull(), cbar=False, ax=ax[2,1])\n",
    "\n",
    "#Set plot titles\n",
    "fig.suptitle('Overview of missing values per Country', fontsize='14')\n",
    "ax[0, 0].title.set_text('Germany')\n",
    "ax[0, 1].title.set_text('UK')\n",
    "ax[0, 2].title.set_text('USA')\n",
    "ax[1, 0].title.set_text('Israel')\n",
    "ax[1, 1].title.set_text('India')\n",
    "ax[1, 2].title.set_text('Russia')\n",
    "ax[2, 0].title.set_text('China')\n",
    "ax[2, 1].title.set_text('Worldwide')\n",
    "\n",
    "plt.show();"
   ]
  },
  {
   "cell_type": "markdown",
   "id": "continuous-luxury",
   "metadata": {},
   "source": [
    "**TASK 2**:\n",
    "\n",
    "Further investigate the three timeseries for daily vaccinations (raw):\n",
    "+ Worldwide\n",
    "+ Germany\n",
    "+ Israel\n",
    "\n",
    "***Note:*** This feature was originally generated from the total vaccinations data and supplied with Kaggle dataset.\n",
    "\n",
    "**KEY FINDINGS**:\n",
    "\n",
    "1) The first plot shows the worldwide daily vaccinations (raw) versus the daily vaccinations (7-day window/smoothing) and it can clearly bee seen that the imputed values are at the higher end of the raw values. The second plot shows the rolling-7-day average of the daily vaccinations (raw) in comparison to the original daily vaccinations (raw). Here we clearly see it reflecting the mean. Thus, we can once again confirm the discrepancy between the total vaccinations (and daily vaccinations(raw)) and the daily vaccinations (with imputation oof missing numbers).\n",
    "\n",
    "2) The third plot shows the daily vaccinations (raw) for Germany and Israel confirming that all three timeseries (incl. worlwide) show an expected upward trend with most likely weekly seasonality.\n",
    "\n",
    "3) Plot four shows a monthly comparison for the data for each of the three timeseries and confirms the above findings. It also nicely highlights the similarities and differences between the three series.\n",
    "\n",
    "4) The distribution pattern in plot five show the right skewedness of the three time series.\n",
    "\n",
    "5) Anf finally, lag plots (1, 7 and 30 days) show clear positive trends, whereby the correlation declines with the number of lags and from visual inspection appears to be weaker for Israel. Since the correlation is linear in all 3 cases an autoregressive model is probably the best choice.\n",
    "\n",
    "In conclusion, since for all three series mean and variance are time dependent we have trend and seasonality so we don't have stationary time series. The next step will be to decompose and detrend the series."
   ]
  },
  {
   "cell_type": "code",
   "execution_count": null,
   "id": "divine-holiday",
   "metadata": {
    "jupyter": {
     "source_hidden": true
    }
   },
   "outputs": [],
   "source": [
    "#New dataframe for total vaccinations, daily_vaccinations_raw and daily vaccinations\n",
    "#Worldwide and two selected countries (Germany and Israel)\n",
    "df_timeseries = df_global_date[['total_vaccinations', 'daily_vaccinations_raw', 'daily_vaccinations']].join(\n",
    "                                filtered_1.total_vaccinations, rsuffix='_germany').join(\n",
    "                                filtered_2.total_vaccinations, rsuffix = '_israel').join(\n",
    "                                filtered_1.daily_vaccinations_raw, rsuffix = '_germany').join(\n",
    "                                filtered_2.daily_vaccinations_raw, rsuffix = '_israel').join(\n",
    "                                filtered_1.daily_vaccinations, rsuffix = '_germany').join(\n",
    "                                filtered_2.daily_vaccinations, rsuffix = '_israel')"
   ]
  },
  {
   "cell_type": "code",
   "execution_count": null,
   "id": "abandoned-packing",
   "metadata": {
    "jupyter": {
     "source_hidden": true
    }
   },
   "outputs": [],
   "source": [
    "#Save 3 separate timeseries for use in later notebooks\n",
    "df_wrld = df_timeseries.daily_vaccinations_raw.to_csv('data/df_wrld.csv')\n",
    "df_ger = df_timeseries.daily_vaccinations_raw_germany.to_csv('data/df_ger.csv')\n",
    "df_isr = df_timeseries.daily_vaccinations_raw_israel.to_csv('data/df_isr.csv')"
   ]
  },
  {
   "cell_type": "code",
   "execution_count": null,
   "id": "inner-japanese",
   "metadata": {
    "jupyter": {
     "source_hidden": true
    }
   },
   "outputs": [],
   "source": [
    "#Interactive PlotlyExpress graph for worldwide daily vaccinations (raw and imputed rolling/smoothing 7-day)\n",
    "fig = px.line(df_timeseries.reset_index(), x='date', y=['daily_vaccinations_raw', 'daily_vaccinations'],\n",
    "              title='Worldwide COVID-19 Daily Vaccinations',\n",
    "              labels={'date': ''})\n",
    "\n",
    "#Specify plot legend\n",
    "fig.data[0].name='raw (from total of conseq. days)'\n",
    "fig.data[1].name='imputed (7-day window/smoothing)'\n",
    "\n",
    "#Define range slider and time-span buttons\n",
    "fig.update_xaxes(\n",
    "                rangeslider_visible=True,\n",
    "                rangeselector=dict(\n",
    "                    buttons=list([\n",
    "                        dict(count=1, label='last 4 weeks', step='month', stepmode='backward'),\n",
    "                        dict(count=2, label='last 8 weeks', step='month', stepmode='backward'),\n",
    "                        dict(count=3, label='last 12 weeks', step='month', stepmode='backward'),\n",
    "                        dict(step='all')\n",
    "                        \n",
    "                    ])\n",
    "                )\n",
    ")\n",
    "\n",
    "\n",
    "fig.show();"
   ]
  },
  {
   "cell_type": "markdown",
   "id": "transparent-archives",
   "metadata": {},
   "source": [
    "![](./images/nb6_fig1.png)"
   ]
  },
  {
   "cell_type": "code",
   "execution_count": null,
   "id": "invisible-pantyhose",
   "metadata": {
    "jupyter": {
     "source_hidden": true
    }
   },
   "outputs": [],
   "source": [
    "#Plot Rolling mean for worldwide daily vaccinations (raw) \n",
    "#Create dataframe for plotting\n",
    "df_plot = df_timeseries.reset_index()\n",
    "\n",
    "#Calculate rolling mean (simple moving average) and rolling standard deviation\n",
    "rolling_mean = df_plot.daily_vaccinations_raw.rolling(7).mean()\n",
    "rolling_std_dev = df_plot.daily_vaccinations_raw.rolling(7).std()\n",
    " \n",
    "#Plot the statistics\n",
    "plt.figure(figsize=(24,6))\n",
    "plt.plot(rolling_mean, color='red', label='Rolling Mean')\n",
    "plt.plot(rolling_std_dev, color='grey', label = 'Rolling Std Dev')\n",
    "plt.plot(df_plot.daily_vaccinations_raw, color='blue',label='Original Daily Vaccinations')\n",
    "\n",
    "#Specify legend location and set title\n",
    "plt.legend(loc='best', fontsize='12')\n",
    "plt.title('Rolling Mean and Standard Deviation for Global Daily Vaccinations (raw)', size=14)\n",
    "\n",
    "plt.show();"
   ]
  },
  {
   "cell_type": "code",
   "execution_count": null,
   "id": "exact-sympathy",
   "metadata": {
    "jupyter": {
     "source_hidden": true
    }
   },
   "outputs": [],
   "source": [
    "#Interactive PlotlyExpress graph for daily vaccinations (raw) --- Germany and Israel\n",
    "fig = px.line(df_timeseries.reset_index(), x='date', y=['daily_vaccinations_raw_germany', 'daily_vaccinations_raw_israel'],\n",
    "              title='COVID-19 Daily Vaccinations (raw)',\n",
    "              labels={'date': ''})\n",
    "\n",
    "#Specify plot legend\n",
    "fig.data[0].name='Germany'\n",
    "fig.data[1].name='Israel'\n",
    "\n",
    "#Define range slider and time-span buttons\n",
    "fig.update_xaxes(\n",
    "                rangeslider_visible=True,\n",
    "                rangeselector=dict(\n",
    "                    buttons=list([\n",
    "                        dict(count=1, label='last 4 weeks', step='month', stepmode='backward'),\n",
    "                        dict(count=2, label='last 8 weeks', step='month', stepmode='backward'),\n",
    "                        dict(count=3, label='last 12 weeks', step='month', stepmode='backward'),\n",
    "                        dict(step='all')\n",
    "                        \n",
    "                    ])\n",
    "                )\n",
    ")\n",
    "\n",
    "\n",
    "fig.show();"
   ]
  },
  {
   "cell_type": "markdown",
   "id": "rolled-model",
   "metadata": {},
   "source": [
    "![](./images/nb6_fig2.png)"
   ]
  },
  {
   "cell_type": "code",
   "execution_count": null,
   "id": "powered-attachment",
   "metadata": {
    "jupyter": {
     "source_hidden": true
    }
   },
   "outputs": [],
   "source": [
    "#Monthly comparison of daily vaccinations (raw) worldwide and for 2 countries (Germany and Israel)\n",
    "#Define subplots\n",
    "fig, ax = plt.subplots(nrows=1, ncols=3, figsize=(18,5), constrained_layout=True)\n",
    "\n",
    "#Grouped dataframe for plotting\n",
    "df_plot = df_timeseries.groupby([(df_timeseries.index.month),(df_timeseries.index.day)]).sum()\n",
    "\n",
    "#Simple lineplots\n",
    "df_plot.daily_vaccinations_raw_germany.unstack(level=0).plot(kind='line', grid=True, ax=ax[0])\n",
    "df_plot.daily_vaccinations_raw_israel.unstack(level=0).plot(kind='line', grid=True, ax=ax[1])\n",
    "df_plot.daily_vaccinations_raw.unstack(level=0).plot(kind='line', grid=True, ax=ax[2])\n",
    "\n",
    "#Set title, axis labels and legends\n",
    "fig.suptitle('COVID-19 Daily Vaccinations (raw)', fontsize='14')\n",
    "ax[0].title.set_text('Germany')\n",
    "ax[1].title.set_text('Israel')\n",
    "ax[2].title.set_text('Worldwide')\n",
    "ax[0].set_xlabel('Day of Month', fontsize='12')\n",
    "ax[1].set_xlabel('Day of Month', fontsize='12')\n",
    "ax[2].set_xlabel('Day of Month', fontsize='12')\n",
    "ax[0].set_ylabel('Daily Vaccinations (raw)', fontsize='12')\n",
    "ax[1].set_ylabel('')\n",
    "ax[2].set_ylabel('')\n",
    "ax[0].legend(['JAN', 'FEB', 'MAR', 'DEC'])\n",
    "ax[1].legend(['JAN', 'FEB', 'MAR', 'DEC'])\n",
    "ax[2].legend(['JAN', 'FEB', 'MAR', 'DEC'])\n",
    "\n",
    "plt.show();"
   ]
  },
  {
   "cell_type": "code",
   "execution_count": null,
   "id": "dying-architect",
   "metadata": {
    "jupyter": {
     "source_hidden": true
    }
   },
   "outputs": [],
   "source": [
    "#Distribution of daily vaccinations (raw) worldwide and for 2 countries (Germany and Israel)\n",
    "#Define subplots\n",
    "fig, ax = plt.subplots(nrows=1, ncols=3, figsize=(15,5), constrained_layout=True)\n",
    "\n",
    "#Simple histogramms\n",
    "df_timeseries.daily_vaccinations_raw.plot(kind='hist', ax=ax[0])\n",
    "df_timeseries.daily_vaccinations_raw_germany.plot(kind='hist', ax=ax[1])\n",
    "df_timeseries.daily_vaccinations_raw_israel.plot(kind='hist', ax=ax[2])\n",
    "\n",
    "#KDE plots (CAVEAT: negative vaccination numbers due to skewedness towards zero)\n",
    "df_timeseries.daily_vaccinations_raw.plot(kind='density', secondary_y=True, ax=ax[0])\n",
    "df_timeseries.daily_vaccinations_raw_germany.plot(kind='density', secondary_y=True, ax=ax[1])\n",
    "df_timeseries.daily_vaccinations_raw_israel.plot(kind='density', secondary_y=True, ax=ax[2])\n",
    "\n",
    "#Set title and axis labels\n",
    "ax[0].title.set_text('Worldwide')\n",
    "ax[1].title.set_text('Germany')\n",
    "ax[2].title.set_text('Israel')\n",
    "ax[0].set_xlabel('daily vaccinations (raw)', fontsize='12')\n",
    "ax[1].set_xlabel('daily vaccinations (raw)', fontsize='12')\n",
    "ax[2].set_xlabel('daily vaccinations (raw)', fontsize='12')\n",
    "ax[0].set_ylabel('Count', fontsize='12')\n",
    "ax[1].set_ylabel('')\n",
    "ax[2].set_ylabel('')\n",
    "\n",
    "plt.show();"
   ]
  },
  {
   "cell_type": "code",
   "execution_count": null,
   "id": "sudden-munich",
   "metadata": {
    "jupyter": {
     "source_hidden": true
    }
   },
   "outputs": [],
   "source": [
    "#Lag plots (1, 7 and 30 days)\n",
    "#Define subplots\n",
    "fig, ax = plt.subplots(nrows=3, ncols=3, figsize=(15,8), constrained_layout=True)\n",
    "\n",
    "#Lag plots to check for autocorrelation (linearity and outliers)\n",
    "pd.plotting.lag_plot(df_timeseries.daily_vaccinations_raw, lag=1, ax=ax[0,0])\n",
    "pd.plotting.lag_plot(df_timeseries.daily_vaccinations_raw_germany, lag=1, ax=ax[0,1])\n",
    "pd.plotting.lag_plot(df_timeseries.daily_vaccinations_raw_israel, lag=1, ax=ax[0,2])\n",
    "\n",
    "pd.plotting.lag_plot(df_timeseries.daily_vaccinations_raw, lag=7, ax=ax[1,0])\n",
    "pd.plotting.lag_plot(df_timeseries.daily_vaccinations_raw_germany, lag=7, ax=ax[1,1])\n",
    "pd.plotting.lag_plot(df_timeseries.daily_vaccinations_raw_israel, lag=7, ax=ax[1,2])\n",
    "\n",
    "pd.plotting.lag_plot(df_timeseries.daily_vaccinations_raw, lag=30, ax=ax[2,0])\n",
    "pd.plotting.lag_plot(df_timeseries.daily_vaccinations_raw_germany, lag=30, ax=ax[2,1])\n",
    "pd.plotting.lag_plot(df_timeseries.daily_vaccinations_raw_israel, lag=30, ax=ax[2,2])\n",
    "\n",
    "#Set title, axis labels and legends\n",
    "fig.suptitle('Daily Vaccinations (raw) - Lag Plots (1, 7 and 30 Days)', fontsize='14')\n",
    "ax[0,0].title.set_text('Worldwide')\n",
    "ax[0,1].title.set_text('Germany')\n",
    "ax[0,2].title.set_text('Israel')\n",
    "\n",
    "plt.show();"
   ]
  },
  {
   "cell_type": "markdown",
   "id": "floating-exchange",
   "metadata": {},
   "source": [
    "***\n",
    "\n",
    "### 2.3 Detrend to Achieve Stationarity\n",
    "\n",
    "In this section we decompose the 3 time series and then detrend to achieve stationarity. These are preparation processes for choosing suitable models and transforming the series into the required formats."
   ]
  },
  {
   "cell_type": "markdown",
   "id": "durable-definition",
   "metadata": {},
   "source": [
    "#### **TASK 1**: Worldwide Daily Vaccinations (raw)\n",
    "\n",
    "1) Time series decomposition\n",
    "2) Detrending and stationarity test\n",
    "3) Visualisation of detrended series and serial correlation plots\n",
    "\n",
    "**KEY FINDINGS**:\n",
    "\n",
    "1) The decomposition shows a positive trend with weekly seasonality and normally distributed residuals.\n",
    "2) After detrending through a combination of seasonal and simple differencing the series is stationary according to KPSS and ADF tests.\n",
    "3) The ACF and PACF plots for the detrended series show autocorrelation at lag 2 (and much less so at 10), and partial autocorrelation (correlation between a variable and its lags that is not explained by previous lags) at lags 1 and 3 (less so at 22 and 30)."
   ]
  },
  {
   "cell_type": "code",
   "execution_count": null,
   "id": "cloudy-worst",
   "metadata": {
    "jupyter": {
     "source_hidden": true
    }
   },
   "outputs": [],
   "source": [
    "#Seasonal decomposition and plot for Worldwide Daily Vaccinations (raw)\n",
    "decomposition = seasonal_decompose(df_timeseries.daily_vaccinations_raw, model='additive', period=7) #Account for weekly pattern\n",
    "plt.rc('figure', figsize=(12,7))\n",
    "resplot = decomposition.plot()"
   ]
  },
  {
   "cell_type": "code",
   "execution_count": null,
   "id": "nutritional-binding",
   "metadata": {
    "jupyter": {
     "source_hidden": true
    }
   },
   "outputs": [],
   "source": [
    "#Quick check on distribution of residuals\n",
    "decomposition.resid.plot(kind='hist')\n",
    "decomposition.resid.plot(kind='density', secondary_y=True, title='Distribution of Residuals (Worldwide)', figsize=(8,5));"
   ]
  },
  {
   "cell_type": "code",
   "execution_count": null,
   "id": "threatened-delivery",
   "metadata": {
    "jupyter": {
     "source_hidden": true
    }
   },
   "outputs": [],
   "source": [
    "#Stationarity through seasonal differencing and simple differencing to detrend\n",
    "df_worldwide = df_timeseries.daily_vaccinations_raw.diff(periods=7).diff(periods=1)\n",
    "\n",
    "#Drop rows with NaNs that were created during differencing process\n",
    "df_worldwide = df_worldwide.dropna(axis=0).copy()"
   ]
  },
  {
   "cell_type": "code",
   "execution_count": null,
   "id": "collective-fireplace",
   "metadata": {
    "jupyter": {
     "source_hidden": true
    }
   },
   "outputs": [],
   "source": [
    "#Check for stationarity\n",
    "print('====='*10)\n",
    "print(f'Detrended worldwide time series:')\n",
    "\n",
    "\n",
    "#Check if data is stationary around mean or trendline with KPSS (Kwiatkowski-Phillips-Schmidt-Shin-Tests)\n",
    "stats, p, lags, critical_values = kpss(df_worldwide, regression='ct', nlags='auto')\n",
    "\n",
    "print('====='*10)\n",
    "print(f'KPSS test statistics: {round(stats, 3)}')\n",
    "print(f'KPSS p-value: {round(p, 3)}')\n",
    "print(f'KPSS critical values: {critical_values}')\n",
    "\n",
    "if p < 0.05:\n",
    "    print('Timeseries is NOT stationary.')\n",
    "else:\n",
    "    print('Timeseries is stationary.')\n",
    "\n",
    "    \n",
    "#Check if data is stationary around mean or trendline with ADF (Augmented Dickey-Fuller-Test)\n",
    "result = adfuller(df_worldwide, regression='ct', autolag='AIC')\n",
    "\n",
    "print('====='*10)\n",
    "print(f'ADF test statistics: {round(result[0], 3)}')\n",
    "print(f'ADF p-value: {round(result[1], 3)}')\n",
    "print(f'ADF critical values: {result[4]}')\n",
    "\n",
    "if result[1] > 0.05:\n",
    "    print('Timeseries is NOT stationary.')\n",
    "else:\n",
    "    print('Timeseries is stationary.')"
   ]
  },
  {
   "cell_type": "code",
   "execution_count": null,
   "id": "floppy-festival",
   "metadata": {
    "jupyter": {
     "source_hidden": true
    }
   },
   "outputs": [],
   "source": [
    "#Interactive PlotlyExpress graph for worldwide daily vaccinations (raw) after differencing\n",
    "fig = px.line(df_worldwide.reset_index(), x='date', y='daily_vaccinations_raw',\n",
    "              title='Worldwide COVID-19 Daily Vaccinations (detrended)',\n",
    "              labels={'date': '', 'daily_vaccinations_raw': 'Count'})\n",
    "\n",
    "#Define range slider and time-span buttons\n",
    "fig.update_xaxes(\n",
    "                rangeslider_visible=True,\n",
    "                rangeselector=dict(\n",
    "                    buttons=list([\n",
    "                        dict(count=1, label='last 4 weeks', step='month', stepmode='backward'),\n",
    "                        dict(count=2, label='last 8 weeks', step='month', stepmode='backward'),\n",
    "                        dict(count=3, label='last 12 weeks', step='month', stepmode='backward'),\n",
    "                        dict(step='all')\n",
    "                        \n",
    "                    ])\n",
    "                )\n",
    ")\n",
    "\n",
    "\n",
    "fig.show();"
   ]
  },
  {
   "cell_type": "markdown",
   "id": "academic-terrain",
   "metadata": {},
   "source": [
    "![](./images/nb6_fig3.png)"
   ]
  },
  {
   "cell_type": "code",
   "execution_count": null,
   "id": "musical-concern",
   "metadata": {
    "jupyter": {
     "source_hidden": true
    }
   },
   "outputs": [],
   "source": [
    "#Autocorrelation plot for worldwide daily vaccinations after detrending\n",
    "acf = plot_acf(df_worldwide, lags=30, title='Autocorrelation - Worldwide Daily Vaccinations (detrended)')"
   ]
  },
  {
   "cell_type": "code",
   "execution_count": null,
   "id": "polar-setting",
   "metadata": {
    "jupyter": {
     "source_hidden": true
    }
   },
   "outputs": [],
   "source": [
    "#Partial Autocorrelation Plot for worldwide daily vaccinations after detrending\n",
    "pacf = plot_pacf(df_worldwide, lags=30, title='Partial Autocorrelation - Worldwide Daily Vaccinations (detrended)')"
   ]
  },
  {
   "cell_type": "markdown",
   "id": "closed-capital",
   "metadata": {},
   "source": [
    "#### **TASK 2**: Daily Vaccinations (raw) - Germany\n",
    "\n",
    "1) Time series decomposition\n",
    "2) Detrending and stationarity test\n",
    "3) Visualisation of detrended series and serial correlation plots\n",
    "\n",
    "**KEY FINDINGS**:\n",
    "\n",
    "1) The decomposition shows a positive trend with weekly seasonality and normally distributed residuals.\n",
    "2) After detrending through seasonal differencing the series is stationary according to KPSS and ADF tests. Detrending through simple differencing achieved stationarity, but autocorrelationw as still quite strong.\n",
    "3) The ACF and PACF plots for the detrended series show autocorrelation at laga 1 and 2, and a clear partial autocorrelation (correlation between a variable and its lags that is not explained by previous lags) at lags 1 and 30."
   ]
  },
  {
   "cell_type": "code",
   "execution_count": null,
   "id": "criminal-release",
   "metadata": {
    "jupyter": {
     "source_hidden": true
    }
   },
   "outputs": [],
   "source": [
    "#Generate new series for germany and drop empties at the start\n",
    "df_germany = df_timeseries.daily_vaccinations_raw_germany.dropna(axis=0).copy()\n",
    "\n",
    "#Seasonal decomposition and plot for Daily Vaccinations (raw) for Germany\n",
    "decomposition = seasonal_decompose(df_germany, model='additive', period=7) #Account for weekly pattern\n",
    "plt.rc('figure', figsize=(12,7))\n",
    "resplot = decomposition.plot()"
   ]
  },
  {
   "cell_type": "code",
   "execution_count": null,
   "id": "indian-letter",
   "metadata": {
    "jupyter": {
     "source_hidden": true
    }
   },
   "outputs": [],
   "source": [
    "#Quick check on distribution of residuals\n",
    "decomposition.resid.plot(kind='hist')\n",
    "decomposition.resid.plot(kind='density', secondary_y=True, title='Distribution of Residuals (Germany)', figsize=(8,5));"
   ]
  },
  {
   "cell_type": "code",
   "execution_count": null,
   "id": "digital-briefing",
   "metadata": {
    "jupyter": {
     "source_hidden": true
    }
   },
   "outputs": [],
   "source": [
    "#Stationarity through seasonal differencing\n",
    "df_germany = df_germany.diff(periods=7)\n",
    "\n",
    "#Drop rows with NaNs that were created during differencing process\n",
    "df_germany = df_germany.dropna(axis=0).copy()"
   ]
  },
  {
   "cell_type": "code",
   "execution_count": null,
   "id": "different-rachel",
   "metadata": {
    "jupyter": {
     "source_hidden": true
    }
   },
   "outputs": [],
   "source": [
    "#Check for stationarity\n",
    "print('====='*10)\n",
    "print(f'Detrended time series for Germany:')\n",
    "\n",
    "#Check if data is stationary around mean or trendline with KPSS (Kwiatkowski-Phillips-Schmidt-Shin-Tests)\n",
    "stats, p, lags, critical_values = kpss(df_germany, regression='ct', nlags='auto')\n",
    "\n",
    "print('====='*10)\n",
    "print(f'KPSS test statistics: {round(stats, 3)}')\n",
    "print(f'KPSS p-value: {round(p, 3)}')\n",
    "print(f'KPSS critical values: {critical_values}')\n",
    "\n",
    "if p < 0.05:\n",
    "    print('Timeseries is NOT stationary.')\n",
    "else:\n",
    "    print('Timeseries is stationary.')\n",
    "\n",
    "    \n",
    "#Check if data is stationary around mean or trendline with ADF (Augmented Dickey-Fuller-Test)\n",
    "result = adfuller(df_germany, regression='ct', autolag='AIC')\n",
    "\n",
    "print('====='*10)\n",
    "print(f'ADF test statistics: {round(result[0], 3)}')\n",
    "print(f'ADF p-value: {round(result[1], 3)}')\n",
    "print(f'ADF critical values: {result[4]}')\n",
    "\n",
    "if result[1] > 0.05:\n",
    "    print('Timeseries is NOT stationary.')\n",
    "else:\n",
    "    print('Timeseries is stationary.')"
   ]
  },
  {
   "cell_type": "code",
   "execution_count": null,
   "id": "willing-queensland",
   "metadata": {
    "jupyter": {
     "source_hidden": true
    }
   },
   "outputs": [],
   "source": [
    "#Interactive PlotlyExpress graph for detrended daily vaccinations (Germany - raw) after differencing\n",
    "fig = px.line(df_germany.reset_index(), x='date', y='daily_vaccinations_raw_germany',\n",
    "              title='COVID-19 Daily Vaccinations (Germany) (detrended)',\n",
    "              labels={'date': '', 'daily_vaccinations_raw_germany': 'Count'})\n",
    "\n",
    "#Define range slider and time-span buttons\n",
    "fig.update_xaxes(\n",
    "                rangeslider_visible=True,\n",
    "                rangeselector=dict(\n",
    "                    buttons=list([\n",
    "                        dict(count=1, label='last 4 weeks', step='month', stepmode='backward'),\n",
    "                        dict(count=2, label='last 8 weeks', step='month', stepmode='backward'),\n",
    "                        dict(count=3, label='last 12 weeks', step='month', stepmode='backward'),\n",
    "                        dict(step='all')\n",
    "                        \n",
    "                    ])\n",
    "                )\n",
    ")\n",
    "\n",
    "\n",
    "fig.show();"
   ]
  },
  {
   "cell_type": "markdown",
   "id": "incorporated-helen",
   "metadata": {},
   "source": [
    "![](./images/nb6_fig4.png)"
   ]
  },
  {
   "cell_type": "code",
   "execution_count": null,
   "id": "understood-hamburg",
   "metadata": {
    "jupyter": {
     "source_hidden": true
    }
   },
   "outputs": [],
   "source": [
    "#Autocorrelation Plot for daily vaccinations (Germany) after detrending\n",
    "acf = plot_acf(df_germany, lags=30, title='Autocorrelation Daily Vaccinations (Germany) (detrended)')"
   ]
  },
  {
   "cell_type": "code",
   "execution_count": null,
   "id": "regional-vinyl",
   "metadata": {
    "jupyter": {
     "source_hidden": true
    }
   },
   "outputs": [],
   "source": [
    "#Partial Autocorrelation Plot for daily vaccinations (Germany) after detrending\n",
    "pacf = plot_pacf(df_germany, lags=30, title='Partial Autocorrrelation Daily Vaccinations (Germany) (detrended)')"
   ]
  },
  {
   "cell_type": "markdown",
   "id": "tough-handle",
   "metadata": {},
   "source": [
    "#### **TASK 2**: Daily Vaccinations (raw) - Israel\n",
    "\n",
    "1) Time series decomposition\n",
    "2) Detrending and stationarity test\n",
    "3) Visualisation of detrended series and serial correlation plots\n",
    "\n",
    "**KEY FINDINGS**:\n",
    "\n",
    "1) The decomposition shows a positive trend with weekly seasonality and normally distributed residuals.\n",
    "2) After detrending through seasonal and simple differencing the series is stationary according to KPSS and ADF tests.\n",
    "3) The PACF plots for the detrended series show autocorrelation at laga 16 and 28."
   ]
  },
  {
   "cell_type": "code",
   "execution_count": null,
   "id": "effective-chuck",
   "metadata": {
    "jupyter": {
     "source_hidden": true
    }
   },
   "outputs": [],
   "source": [
    "#Generate new series for germany and drop empties at the start\n",
    "df_israel = df_timeseries.daily_vaccinations_raw_israel.dropna(axis=0).copy()\n",
    "\n",
    "#Seasonal decomposition and plot for Daily Vaccinations (raw) for Germany\n",
    "decomposition = seasonal_decompose(df_israel, model='additive', period=7) #Account for weekly pattern\n",
    "plt.rc('figure', figsize=(12,7))\n",
    "resplot = decomposition.plot()"
   ]
  },
  {
   "cell_type": "code",
   "execution_count": null,
   "id": "existing-poker",
   "metadata": {
    "jupyter": {
     "source_hidden": true
    }
   },
   "outputs": [],
   "source": [
    "#Quick check on distribution of residuals\n",
    "decomposition.resid.plot(kind='hist')\n",
    "decomposition.resid.plot(kind='density', secondary_y=True, title='Distribution of Residuals (Israel)', figsize=(8,5));"
   ]
  },
  {
   "cell_type": "code",
   "execution_count": null,
   "id": "desirable-boxing",
   "metadata": {
    "jupyter": {
     "source_hidden": true
    }
   },
   "outputs": [],
   "source": [
    "#Stationarity through seasonal differencing and simple differencing to detrend\n",
    "df_israel = df_israel.diff(periods=7).diff(periods=1)\n",
    "\n",
    "#Drop rows with NaNs that were created during differencing process\n",
    "df_israel = df_israel.dropna(axis=0).copy()"
   ]
  },
  {
   "cell_type": "code",
   "execution_count": null,
   "id": "virgin-landscape",
   "metadata": {
    "jupyter": {
     "source_hidden": true
    }
   },
   "outputs": [],
   "source": [
    "#Check for stationarity\n",
    "print('====='*10)\n",
    "print(f'Detrended time series for Israel:')\n",
    "\n",
    "#Check if data is stationary around mean or trendline with KPSS (Kwiatkowski-Phillips-Schmidt-Shin-Tests)\n",
    "stats, p, lags, critical_values = kpss(df_israel, regression='ct', nlags='auto')\n",
    "\n",
    "print('====='*10)\n",
    "print(f'KPSS test statistics: {round(stats, 3)}')\n",
    "print(f'KPSS p-value: {round(p, 3)}')\n",
    "print(f'KPSS critical values: {critical_values}')\n",
    "\n",
    "if p < 0.05:\n",
    "    print('Timeseries is NOT stationary.')\n",
    "else:\n",
    "    print('Timeseries is stationary.')\n",
    "\n",
    "    \n",
    "#Check if data is stationary around mean or trendline with ADF (Augmented Dickey-Fuller-Test)\n",
    "result = adfuller(df_israel, regression='ct', autolag='AIC')\n",
    "\n",
    "print('====='*10)\n",
    "print(f'ADF test statistics: {round(result[0], 3)}')\n",
    "print(f'ADF p-value: {round(result[1], 3)}')\n",
    "print(f'ADF critical values: {result[4]}')\n",
    "\n",
    "if result[1] > 0.05:\n",
    "    print('Timeseries is NOT stationary.')\n",
    "else:\n",
    "    print('Timeseries is stationary.')"
   ]
  },
  {
   "cell_type": "code",
   "execution_count": null,
   "id": "choice-grade",
   "metadata": {
    "jupyter": {
     "source_hidden": true
    }
   },
   "outputs": [],
   "source": [
    "#Interactive PlotlyExpress graph for detrended daily vaccinations (Israel - raw) after differencing\n",
    "fig = px.line(df_israel.reset_index(), x='date', y='daily_vaccinations_raw_israel',\n",
    "              title='COVID-19 Daily Vaccinations (Israel) (detrended)',\n",
    "              labels={'date': '', 'daily_vaccinations_raw_germany': 'Count'})\n",
    "\n",
    "#Define range slider and time-span buttons\n",
    "fig.update_xaxes(\n",
    "                rangeslider_visible=True,\n",
    "                rangeselector=dict(\n",
    "                    buttons=list([\n",
    "                        dict(count=1, label='last 4 weeks', step='month', stepmode='backward'),\n",
    "                        dict(count=2, label='last 8 weeks', step='month', stepmode='backward'),\n",
    "                        dict(count=3, label='last 8 weeks', step='month', stepmode='backward'),\n",
    "                        dict(step='all')\n",
    "                        \n",
    "                    ])\n",
    "                )\n",
    ")\n",
    "\n",
    "\n",
    "fig.show();"
   ]
  },
  {
   "cell_type": "markdown",
   "id": "nuclear-revelation",
   "metadata": {},
   "source": [
    "![](./images/nb6_fig5.png)"
   ]
  },
  {
   "cell_type": "code",
   "execution_count": null,
   "id": "municipal-composer",
   "metadata": {
    "jupyter": {
     "source_hidden": true
    }
   },
   "outputs": [],
   "source": [
    "#Autocorrelation Plot for daily vaccinations (Israel) after detrending\n",
    "acf = plot_acf(df_israel, lags=30, title='Autocorrrelation Daily Vaccinations (Israel) (detrended)')"
   ]
  },
  {
   "cell_type": "code",
   "execution_count": null,
   "id": "aboriginal-bidding",
   "metadata": {
    "jupyter": {
     "source_hidden": true
    }
   },
   "outputs": [],
   "source": [
    "#Partial Autocorrelation Plot for daily vaccinations (Israel) after detrending\n",
    "pacf = plot_pacf(df_israel, lags=30, title='Partial Autocorrrelation Daily Vaccinations (Israel) (detrended)')"
   ]
  },
  {
   "cell_type": "markdown",
   "id": "returning-singer",
   "metadata": {},
   "source": [
    "***"
   ]
  },
  {
   "cell_type": "code",
   "execution_count": null,
   "id": "conditional-imaging",
   "metadata": {
    "jupyter": {
     "source_hidden": true
    }
   },
   "outputs": [],
   "source": [
    "#Save 3 univariate timeseries dataframes after differencing for use in later notebooks\n",
    "#Global/worldwide\n",
    "df_worldwide.to_csv('data/df_worldwide.csv')\n",
    "\n",
    "#Germany\n",
    "df_germany.to_csv('data/df_germany.csv')\n",
    "\n",
    "#Israel\n",
    "df_israel.to_csv('data/df_israel.csv')"
   ]
  },
  {
   "cell_type": "markdown",
   "id": "advance-soldier",
   "metadata": {},
   "source": [
    "***\n",
    "***\n",
    "\n",
    "## 3. SUMMARY\n",
    "\n",
    "***\n",
    "\n",
    "### 3.1 Key Findings\n",
    "\n",
    "1) All 3 timeseries show a positive trend and a weekly seasonality.\n",
    "2) All 3 timeseries were successfully detrended to achieve stationarity.\n",
    "\n",
    "***Note:*** It is not clear whether the trends are linear or exponential, additional analysis would be required. Thinking about the process in general one could hope for a linear trend in the first months, then maybe an exponential trend for a while, before eventually becoming stationary as the world. population is vaccinated and requires re-vaccination (with then sufficient vaccine quantities available). And, looking at the detrended series it can be speculated that possibly trend stationarity may not be given for data in March. We will keep this in mind moving forward.\n",
    "\n",
    "***\n",
    "\n",
    "### 3.2 Next Steps\n",
    "\n",
    "In the next notebooks we will model the 3 timeseries with focus on Holt-Winter's triple exponential smoothing, seasonal ARIMA and FB Prophet.\n",
    "\n",
    "***REASONING:***\n",
    "Simple exponential smoothing and Winter's exponential smoothing will not be applied due to their specific requirements regarding trend and seasonality. Triple exponential smoothing tolerates both and is hence best suited for our timeseries. With our newly generated detrended time series we will further investigate an autoregressive SARIMA model. If successful we can advance to a SARIMAX or vector-autoregressive (VAR) model allowing for multivariate time series (i.e. lag observations from other variables). Alternatively, if facing challenges we can turn to FB Prophet, an additive regression model with changepoint analysis, which can handle non-stationary data and allows for the inclusion of additional regressors, such as holidays and other metadata (e.g. day of week). Another allternative would be a neural network (LSTM), however this would require a lot of data, which is currently not available with COVID-19 vaccinations only having started about 100 days ago. So, this will be placed on hold for now, since interpolation of the daily data would not suffice either, but might certainly be an option in the future. And, we might then also include FB Neural Prophet.\n",
    "\n",
    "***"
   ]
  },
  {
   "cell_type": "code",
   "execution_count": null,
   "id": "liable-milan",
   "metadata": {
    "jupyter": {
     "source_hidden": true
    }
   },
   "outputs": [],
   "source": []
  }
 ],
 "metadata": {
  "kernelspec": {
   "display_name": "Python 3",
   "language": "python",
   "name": "python3"
  },
  "language_info": {
   "codemirror_mode": {
    "name": "ipython",
    "version": 3
   },
   "file_extension": ".py",
   "mimetype": "text/x-python",
   "name": "python",
   "nbconvert_exporter": "python",
   "pygments_lexer": "ipython3",
   "version": "3.8.5"
  }
 },
 "nbformat": 4,
 "nbformat_minor": 5
}
